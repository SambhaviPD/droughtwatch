{
  "nbformat": 4,
  "nbformat_minor": 0,
  "metadata": {
    "accelerator": "GPU",
    "colab": {
      "name": "Drought Prediction - Iteration 1.ipynb",
      "provenance": [],
      "collapsed_sections": [],
      "machine_shape": "hm",
      "authorship_tag": "ABX9TyOAaRFyRdINwRZnvnUtDfjK",
      "include_colab_link": true
    },
    "kernelspec": {
      "display_name": "Python 3",
      "name": "python3"
    },
    "language_info": {
      "name": "python"
    }
  },
  "cells": [
    {
      "cell_type": "markdown",
      "metadata": {
        "id": "view-in-github",
        "colab_type": "text"
      },
      "source": [
        "<a href=\"https://colab.research.google.com/github/SambhaviPD/droughtwatch/blob/main/Drought_Prediction_Iteration_1.ipynb\" target=\"_parent\"><img src=\"https://colab.research.google.com/assets/colab-badge.svg\" alt=\"Open In Colab\"/></a>"
      ]
    },
    {
      "cell_type": "markdown",
      "metadata": {
        "id": "L5K3ySDNb3hV"
      },
      "source": [
        "# Drought Prediction : Public Benchmarking from Weights & Biases\n",
        "To know more about the project goal, please refer to: https://wandb.ai/site/articles/droughtwatch"
      ]
    },
    {
      "cell_type": "markdown",
      "metadata": {
        "id": "A6lQsK_tdS2q"
      },
      "source": [
        "#Import required libraries"
      ]
    },
    {
      "cell_type": "code",
      "metadata": {
        "id": "nKIUZh472vAp"
      },
      "source": [
        "import numpy as np\n",
        "import matplotlib.pyplot as plt\n",
        "import tensorflow as tf\n",
        "\n",
        "import random\n",
        "import glob\n",
        "import os\n",
        "import time\n",
        "import copy\n",
        "from pathlib import Path\n",
        "from itertools import chain\n",
        "from collections import Counter\n",
        "\n",
        "# pytorch related imports\n",
        "import random\n",
        "\n",
        "from __future__ import print_function\n",
        "from __future__ import division\n",
        "import torch\n",
        "import torch.nn as nn\n",
        "import torch.optim as optim\n",
        "import numpy as np\n",
        "import torchvision\n",
        "from torchvision import datasets, models, transforms\n",
        "from tqdm.notebook import tqdm"
      ],
      "execution_count": null,
      "outputs": []
    },
    {
      "cell_type": "code",
      "metadata": {
        "colab": {
          "base_uri": "https://localhost:8080/"
        },
        "id": "KTqy5kZkd_7R",
        "outputId": "961e731c-7b61-4b34-82b7-f74108c99b13"
      },
      "source": [
        "print(\"PyTorch version: \", torch.__version__)\n",
        "print(\"Torchvision version: \", torchvision.__version__)\n",
        "\n",
        "# Ensure deterministic behavior\n",
        "torch.backends.cudnn.deterministic = True\n",
        "random.seed(hash(\"setting random seeds\") % 2**32 - 1)\n",
        "np.random.seed(hash(\"improves reproducibility\") % 2**32 - 1)\n",
        "torch.manual_seed(hash(\"by removing stochasticity\") % 2**32 - 1)\n",
        "torch.cuda.manual_seed_all(hash(\"so runs are repeatable\") % 2**32 - 1)\n",
        "\n",
        "# Device configuration\n",
        "device = torch.device(\"cuda:0\" if torch.cuda.is_available() else \"cpu\")"
      ],
      "execution_count": null,
      "outputs": [
        {
          "output_type": "stream",
          "text": [
            "PyTorch version:  1.8.1+cu101\n",
            "Torchvision version:  0.9.1+cu101\n"
          ],
          "name": "stdout"
        }
      ]
    },
    {
      "cell_type": "markdown",
      "metadata": {
        "id": "yLY8jYN-eVse"
      },
      "source": [
        "# Clone the droughtwatch repo from wandb & download the data set."
      ]
    },
    {
      "cell_type": "code",
      "metadata": {
        "colab": {
          "base_uri": "https://localhost:8080/"
        },
        "id": "ymE4r_wd3PdY",
        "outputId": "a8f3052b-d0c4-447f-be2a-81ba1e00663f"
      },
      "source": [
        "# Initial setup per Readme in https://github.com/wandb/droughtwatch\n",
        "\n",
        "# clone the repository\n",
        "!git clone https://github.com/wandb/droughtwatch.git\n",
        "\n",
        "# install wandb\n",
        "!pip install wandb\n",
        "\n",
        "%cd droughtwatch\n",
        "\n",
        "# Download train and validation data\n",
        "!bash download_data.sh"
      ],
      "execution_count": null,
      "outputs": [
        {
          "output_type": "stream",
          "text": [
            "Cloning into 'droughtwatch'...\n",
            "remote: Enumerating objects: 113, done.\u001b[K\n",
            "remote: Counting objects: 100% (3/3), done.\u001b[K\n",
            "remote: Compressing objects: 100% (2/2), done.\u001b[K\n",
            "remote: Total 113 (delta 0), reused 1 (delta 0), pack-reused 110\u001b[K\n",
            "Receiving objects: 100% (113/113), 7.52 MiB | 23.33 MiB/s, done.\n",
            "Resolving deltas: 100% (55/55), done.\n",
            "Collecting wandb\n",
            "\u001b[?25l  Downloading https://files.pythonhosted.org/packages/67/5a/b037b50f9849212863a2fed313624d8f6f33ffa4ce89dc706e2a0e98c780/wandb-0.10.29-py2.py3-none-any.whl (2.1MB)\n",
            "\u001b[K     |████████████████████████████████| 2.1MB 7.8MB/s \n",
            "\u001b[?25hRequirement already satisfied: python-dateutil>=2.6.1 in /usr/local/lib/python3.7/dist-packages (from wandb) (2.8.1)\n",
            "Collecting shortuuid>=0.5.0\n",
            "  Downloading https://files.pythonhosted.org/packages/25/a6/2ecc1daa6a304e7f1b216f0896b26156b78e7c38e1211e9b798b4716c53d/shortuuid-1.0.1-py3-none-any.whl\n",
            "Collecting docker-pycreds>=0.4.0\n",
            "  Downloading https://files.pythonhosted.org/packages/f5/e8/f6bd1eee09314e7e6dee49cbe2c5e22314ccdb38db16c9fc72d2fa80d054/docker_pycreds-0.4.0-py2.py3-none-any.whl\n",
            "Requirement already satisfied: requests<3,>=2.0.0 in /usr/local/lib/python3.7/dist-packages (from wandb) (2.23.0)\n",
            "Collecting subprocess32>=3.5.3\n",
            "\u001b[?25l  Downloading https://files.pythonhosted.org/packages/32/c8/564be4d12629b912ea431f1a50eb8b3b9d00f1a0b1ceff17f266be190007/subprocess32-3.5.4.tar.gz (97kB)\n",
            "\u001b[K     |████████████████████████████████| 102kB 12.2MB/s \n",
            "\u001b[?25hRequirement already satisfied: psutil>=5.0.0 in /usr/local/lib/python3.7/dist-packages (from wandb) (5.4.8)\n",
            "Collecting sentry-sdk>=0.4.0\n",
            "\u001b[?25l  Downloading https://files.pythonhosted.org/packages/1c/4a/a54b254f67d8f4052338d54ebe90126f200693440a93ef76d254d581e3ec/sentry_sdk-1.1.0-py2.py3-none-any.whl (131kB)\n",
            "\u001b[K     |████████████████████████████████| 133kB 35.1MB/s \n",
            "\u001b[?25hCollecting pathtools\n",
            "  Downloading https://files.pythonhosted.org/packages/e7/7f/470d6fcdf23f9f3518f6b0b76be9df16dcc8630ad409947f8be2eb0ed13a/pathtools-0.1.2.tar.gz\n",
            "Requirement already satisfied: six>=1.13.0 in /usr/local/lib/python3.7/dist-packages (from wandb) (1.15.0)\n",
            "Collecting configparser>=3.8.1\n",
            "  Downloading https://files.pythonhosted.org/packages/fd/01/ff260a18caaf4457eb028c96eeb405c4a230ca06c8ec9c1379f813caa52e/configparser-5.0.2-py3-none-any.whl\n",
            "Requirement already satisfied: protobuf>=3.12.0 in /usr/local/lib/python3.7/dist-packages (from wandb) (3.12.4)\n",
            "Requirement already satisfied: Click>=7.0 in /usr/local/lib/python3.7/dist-packages (from wandb) (7.1.2)\n",
            "Requirement already satisfied: promise<3,>=2.0 in /usr/local/lib/python3.7/dist-packages (from wandb) (2.3)\n",
            "Requirement already satisfied: PyYAML in /usr/local/lib/python3.7/dist-packages (from wandb) (3.13)\n",
            "Collecting GitPython>=1.0.0\n",
            "\u001b[?25l  Downloading https://files.pythonhosted.org/packages/a6/99/98019716955ba243657daedd1de8f3a88ca1f5b75057c38e959db22fb87b/GitPython-3.1.14-py3-none-any.whl (159kB)\n",
            "\u001b[K     |████████████████████████████████| 163kB 32.6MB/s \n",
            "\u001b[?25hRequirement already satisfied: chardet<4,>=3.0.2 in /usr/local/lib/python3.7/dist-packages (from requests<3,>=2.0.0->wandb) (3.0.4)\n",
            "Requirement already satisfied: certifi>=2017.4.17 in /usr/local/lib/python3.7/dist-packages (from requests<3,>=2.0.0->wandb) (2020.12.5)\n",
            "Requirement already satisfied: urllib3!=1.25.0,!=1.25.1,<1.26,>=1.21.1 in /usr/local/lib/python3.7/dist-packages (from requests<3,>=2.0.0->wandb) (1.24.3)\n",
            "Requirement already satisfied: idna<3,>=2.5 in /usr/local/lib/python3.7/dist-packages (from requests<3,>=2.0.0->wandb) (2.10)\n",
            "Requirement already satisfied: setuptools in /usr/local/lib/python3.7/dist-packages (from protobuf>=3.12.0->wandb) (56.0.0)\n",
            "Collecting gitdb<5,>=4.0.1\n",
            "\u001b[?25l  Downloading https://files.pythonhosted.org/packages/ea/e8/f414d1a4f0bbc668ed441f74f44c116d9816833a48bf81d22b697090dba8/gitdb-4.0.7-py3-none-any.whl (63kB)\n",
            "\u001b[K     |████████████████████████████████| 71kB 10.2MB/s \n",
            "\u001b[?25hCollecting smmap<5,>=3.0.1\n",
            "  Downloading https://files.pythonhosted.org/packages/68/ee/d540eb5e5996eb81c26ceffac6ee49041d473bc5125f2aa995cf51ec1cf1/smmap-4.0.0-py2.py3-none-any.whl\n",
            "Building wheels for collected packages: subprocess32, pathtools\n",
            "  Building wheel for subprocess32 (setup.py) ... \u001b[?25l\u001b[?25hdone\n",
            "  Created wheel for subprocess32: filename=subprocess32-3.5.4-cp37-none-any.whl size=6489 sha256=74477711f18d259c8849ff638b8e97c598da8571e0d33a761e02875871bf14a8\n",
            "  Stored in directory: /root/.cache/pip/wheels/68/39/1a/5e402bdfdf004af1786c8b853fd92f8c4a04f22aad179654d1\n",
            "  Building wheel for pathtools (setup.py) ... \u001b[?25l\u001b[?25hdone\n",
            "  Created wheel for pathtools: filename=pathtools-0.1.2-cp37-none-any.whl size=8786 sha256=bb1e3958c147256f2d5260b7e70625c4fde49abbefe095ec5da99e4813c8997e\n",
            "  Stored in directory: /root/.cache/pip/wheels/0b/04/79/c3b0c3a0266a3cb4376da31e5bfe8bba0c489246968a68e843\n",
            "Successfully built subprocess32 pathtools\n",
            "Installing collected packages: shortuuid, docker-pycreds, subprocess32, sentry-sdk, pathtools, configparser, smmap, gitdb, GitPython, wandb\n",
            "Successfully installed GitPython-3.1.14 configparser-5.0.2 docker-pycreds-0.4.0 gitdb-4.0.7 pathtools-0.1.2 sentry-sdk-1.1.0 shortuuid-1.0.1 smmap-4.0.0 subprocess32-3.5.4 wandb-0.10.29\n",
            "/content/droughtwatch\n",
            "Downloading data\n",
            "  % Total    % Received % Xferd  Average Speed   Time    Time     Time  Current\n",
            "                                 Dload  Upload   Total   Spent    Left  Speed\n",
            "100 2050M  100 2050M    0     0  96.1M      0  0:00:21  0:00:21 --:--:--  118M\n",
            "Archive:  dw_data.zip\n",
            "   creating: droughtwatch_data/\n",
            "   creating: droughtwatch_data/val/\n",
            "  inflating: droughtwatch_data/val/part-r-00090  \n",
            "  inflating: droughtwatch_data/val/part-r-00061  \n",
            "  inflating: droughtwatch_data/val/part-r-00052  \n",
            "  inflating: droughtwatch_data/val/part-r-00043  \n",
            "  inflating: droughtwatch_data/val/part-r-00040  \n",
            "  inflating: droughtwatch_data/val/part-r-00042  \n",
            "  inflating: droughtwatch_data/val/part-r-00067  \n",
            "  inflating: droughtwatch_data/val/part-r-00026  \n",
            "  inflating: droughtwatch_data/val/part-r-00046  \n",
            "  inflating: droughtwatch_data/val/part-r-00023  \n",
            "  inflating: droughtwatch_data/val/part-r-00083  \n",
            "  inflating: droughtwatch_data/val/part-r-00011  \n",
            "  inflating: droughtwatch_data/val/part-r-00058  \n",
            "  inflating: droughtwatch_data/val/part-r-00012  \n",
            "  inflating: droughtwatch_data/val/part-r-00078  \n",
            "  inflating: droughtwatch_data/val/part-r-00082  \n",
            "  inflating: droughtwatch_data/val/part-r-00038  \n",
            "  inflating: droughtwatch_data/val/part-r-00071  \n",
            "  inflating: droughtwatch_data/val/part-r-00088  \n",
            "  inflating: droughtwatch_data/val/part-r-00029  \n",
            "  inflating: droughtwatch_data/val/part-r-00097  \n",
            "  inflating: droughtwatch_data/val/part-r-00096  \n",
            "  inflating: droughtwatch_data/val/part-r-00077  \n",
            "  inflating: droughtwatch_data/val/part-r-00016  \n",
            "  inflating: droughtwatch_data/val/part-r-00076  \n",
            "  inflating: droughtwatch_data/val/part-r-00057  \n",
            "  inflating: droughtwatch_data/val/part-r-00009  \n",
            "  inflating: droughtwatch_data/val/part-r-00054  \n",
            "  inflating: droughtwatch_data/val/part-r-00028  \n",
            "  inflating: droughtwatch_data/val/part-r-00014  \n",
            "  inflating: droughtwatch_data/val/part-r-00001  \n",
            "  inflating: droughtwatch_data/val/part-r-00080  \n",
            "  inflating: droughtwatch_data/val/part-r-00013  \n",
            "  inflating: droughtwatch_data/val/part-r-00004  \n",
            "  inflating: droughtwatch_data/val/part-r-00070  \n",
            "  inflating: droughtwatch_data/val/part-r-00037  \n",
            "  inflating: droughtwatch_data/val/part-r-00005  \n",
            "  inflating: droughtwatch_data/val/part-r-00010  \n",
            "  inflating: droughtwatch_data/val/part-r-00024  \n",
            "  inflating: droughtwatch_data/val/part-r-00075  \n",
            "  inflating: droughtwatch_data/val/part-r-00074  \n",
            "  inflating: droughtwatch_data/val/part-r-00017  \n",
            "  inflating: droughtwatch_data/val/part-r-00055  \n",
            "  inflating: droughtwatch_data/val/part-r-00091  \n",
            "  inflating: droughtwatch_data/val/part-r-00020  \n",
            "  inflating: droughtwatch_data/val/part-r-00095  \n",
            "  inflating: droughtwatch_data/val/part-r-00079  \n",
            "  inflating: droughtwatch_data/val/part-r-00047  \n",
            "  inflating: droughtwatch_data/val/part-r-00051  \n",
            "  inflating: droughtwatch_data/val/part-r-00073  \n",
            "  inflating: droughtwatch_data/val/part-r-00053  \n",
            "  inflating: droughtwatch_data/val/part-r-00060  \n",
            "  inflating: droughtwatch_data/val/part-r-00086  \n",
            "  inflating: droughtwatch_data/val/part-r-00048  \n",
            "  inflating: droughtwatch_data/val/part-r-00006  \n",
            "  inflating: droughtwatch_data/val/part-r-00059  \n",
            "  inflating: droughtwatch_data/val/part-r-00002  \n",
            "  inflating: droughtwatch_data/val/part-r-00094  \n",
            "  inflating: droughtwatch_data/val/part-r-00033  \n",
            "  inflating: droughtwatch_data/val/part-r-00066  \n",
            "  inflating: droughtwatch_data/val/part-r-00015  \n",
            "  inflating: droughtwatch_data/val/part-r-00000  \n",
            "  inflating: droughtwatch_data/val/part-r-00050  \n",
            "  inflating: droughtwatch_data/val/part-r-00093  \n",
            "  inflating: droughtwatch_data/val/part-r-00035  \n",
            "  inflating: droughtwatch_data/val/part-r-00098  \n",
            "  inflating: droughtwatch_data/val/part-r-00099  \n",
            "  inflating: droughtwatch_data/val/part-r-00084  \n",
            "  inflating: droughtwatch_data/val/part-r-00003  \n",
            "  inflating: droughtwatch_data/val/part-r-00032  \n",
            "  inflating: droughtwatch_data/val/part-r-00018  \n",
            "  inflating: droughtwatch_data/val/part-r-00062  \n",
            "  inflating: droughtwatch_data/val/part-r-00045  \n",
            "  inflating: droughtwatch_data/val/part-r-00089  \n",
            "  inflating: droughtwatch_data/val/part-r-00087  \n",
            "  inflating: droughtwatch_data/val/part-r-00027  \n",
            "  inflating: droughtwatch_data/val/part-r-00064  \n",
            "  inflating: droughtwatch_data/val/part-r-00085  \n",
            "  inflating: droughtwatch_data/val/part-r-00025  \n",
            " extracting: droughtwatch_data/val/_SUCCESS  \n",
            "  inflating: droughtwatch_data/val/part-r-00030  \n",
            "  inflating: droughtwatch_data/val/part-r-00065  \n",
            "  inflating: droughtwatch_data/val/part-r-00034  \n",
            "  inflating: droughtwatch_data/val/part-r-00031  \n",
            "  inflating: droughtwatch_data/val/part-r-00007  \n",
            "  inflating: droughtwatch_data/val/part-r-00008  \n",
            "  inflating: droughtwatch_data/val/part-r-00041  \n",
            "  inflating: droughtwatch_data/val/part-r-00063  \n",
            "  inflating: droughtwatch_data/val/part-r-00069  \n",
            "  inflating: droughtwatch_data/val/part-r-00021  \n",
            "  inflating: droughtwatch_data/val/part-r-00044  \n",
            "  inflating: droughtwatch_data/val/part-r-00081  \n",
            "  inflating: droughtwatch_data/val/part-r-00039  \n",
            "  inflating: droughtwatch_data/val/part-r-00068  \n",
            "  inflating: droughtwatch_data/val/part-r-00056  \n",
            "  inflating: droughtwatch_data/val/part-r-00072  \n",
            "  inflating: droughtwatch_data/val/part-r-00019  \n",
            "  inflating: droughtwatch_data/val/part-r-00036  \n",
            "  inflating: droughtwatch_data/val/part-r-00092  \n",
            "  inflating: droughtwatch_data/val/part-r-00049  \n",
            "  inflating: droughtwatch_data/val/part-r-00022  \n",
            "   creating: droughtwatch_data/train/\n",
            "  inflating: droughtwatch_data/train/part-r-01174  \n",
            "  inflating: droughtwatch_data/train/part-r-01012  \n",
            "  inflating: droughtwatch_data/train/part-r-00110  \n",
            "  inflating: droughtwatch_data/train/part-r-00132  \n",
            "  inflating: droughtwatch_data/train/part-r-01168  \n",
            "  inflating: droughtwatch_data/train/part-r-01011  \n",
            "  inflating: droughtwatch_data/train/part-r-01084  \n",
            "  inflating: droughtwatch_data/train/part-r-01138  \n",
            "  inflating: droughtwatch_data/train/part-r-00090  \n",
            "  inflating: droughtwatch_data/train/part-r-00167  \n",
            "  inflating: droughtwatch_data/train/part-r-00128  \n",
            "  inflating: droughtwatch_data/train/part-r-01060  \n",
            "  inflating: droughtwatch_data/train/part-r-00061  \n",
            "  inflating: droughtwatch_data/train/part-r-00116  \n",
            "  inflating: droughtwatch_data/train/part-r-00052  \n",
            "  inflating: droughtwatch_data/train/part-r-01091  \n",
            "  inflating: droughtwatch_data/train/part-r-01007  \n",
            "  inflating: droughtwatch_data/train/part-r-00043  \n",
            "  inflating: droughtwatch_data/train/part-r-01120  \n",
            "  inflating: droughtwatch_data/train/part-r-01025  \n",
            "  inflating: droughtwatch_data/train/part-r-01056  \n",
            "  inflating: droughtwatch_data/train/part-r-00040  \n",
            "  inflating: droughtwatch_data/train/part-r-00178  \n",
            "  inflating: droughtwatch_data/train/part-r-01136  \n",
            "  inflating: droughtwatch_data/train/part-r-00106  \n",
            "  inflating: droughtwatch_data/train/part-r-01066  \n",
            "  inflating: droughtwatch_data/train/part-r-01104  \n",
            "  inflating: droughtwatch_data/train/part-r-00042  \n",
            "  inflating: droughtwatch_data/train/part-r-01192  \n",
            "  inflating: droughtwatch_data/train/part-r-00136  \n",
            "  inflating: droughtwatch_data/train/part-r-00067  \n",
            "  inflating: droughtwatch_data/train/part-r-01181  \n",
            "  inflating: droughtwatch_data/train/part-r-00190  \n",
            "  inflating: droughtwatch_data/train/part-r-00196  \n",
            "  inflating: droughtwatch_data/train/part-r-00026  \n",
            "  inflating: droughtwatch_data/train/part-r-00177  \n",
            "  inflating: droughtwatch_data/train/part-r-01039  \n",
            "  inflating: droughtwatch_data/train/part-r-00046  \n",
            "  inflating: droughtwatch_data/train/part-r-01024  \n",
            "  inflating: droughtwatch_data/train/part-r-01102  \n",
            "  inflating: droughtwatch_data/train/part-r-00023  \n",
            "  inflating: droughtwatch_data/train/part-r-01188  \n",
            "  inflating: droughtwatch_data/train/part-r-00184  \n",
            "  inflating: droughtwatch_data/train/part-r-00137  \n",
            "  inflating: droughtwatch_data/train/part-r-01199  \n",
            "  inflating: droughtwatch_data/train/part-r-01115  \n",
            "  inflating: droughtwatch_data/train/part-r-00083  \n",
            "  inflating: droughtwatch_data/train/part-r-01014  \n",
            "  inflating: droughtwatch_data/train/part-r-00011  \n",
            "  inflating: droughtwatch_data/train/part-r-00144  \n",
            "  inflating: droughtwatch_data/train/part-r-00058  \n",
            "  inflating: droughtwatch_data/train/part-r-00115  \n",
            "  inflating: droughtwatch_data/train/part-r-01154  \n",
            "  inflating: droughtwatch_data/train/part-r-00012  \n",
            "  inflating: droughtwatch_data/train/part-r-00156  \n",
            "  inflating: droughtwatch_data/train/part-r-00078  \n",
            "  inflating: droughtwatch_data/train/part-r-01026  \n",
            "  inflating: droughtwatch_data/train/part-r-00082  \n",
            "  inflating: droughtwatch_data/train/part-r-01171  \n",
            "  inflating: droughtwatch_data/train/part-r-00153  \n",
            "  inflating: droughtwatch_data/train/part-r-00172  \n",
            "  inflating: droughtwatch_data/train/part-r-01037  \n",
            "  inflating: droughtwatch_data/train/part-r-00165  \n",
            "  inflating: droughtwatch_data/train/part-r-01022  \n",
            "  inflating: droughtwatch_data/train/part-r-00150  \n",
            "  inflating: droughtwatch_data/train/part-r-01095  \n",
            "  inflating: droughtwatch_data/train/part-r-00108  \n",
            "  inflating: droughtwatch_data/train/part-r-00038  \n",
            "  inflating: droughtwatch_data/train/part-r-00119  \n",
            "  inflating: droughtwatch_data/train/part-r-01170  \n",
            "  inflating: droughtwatch_data/train/part-r-01079  \n",
            "  inflating: droughtwatch_data/train/part-r-00071  \n",
            "  inflating: droughtwatch_data/train/part-r-01076  \n",
            "  inflating: droughtwatch_data/train/part-r-00088  \n",
            "  inflating: droughtwatch_data/train/part-r-01090  \n",
            "  inflating: droughtwatch_data/train/part-r-00112  \n",
            "  inflating: droughtwatch_data/train/part-r-00029  \n",
            "  inflating: droughtwatch_data/train/part-r-00097  \n",
            "  inflating: droughtwatch_data/train/part-r-01092  \n",
            "  inflating: droughtwatch_data/train/part-r-01054  \n",
            "  inflating: droughtwatch_data/train/part-r-01001  \n",
            "  inflating: droughtwatch_data/train/part-r-01198  \n",
            "  inflating: droughtwatch_data/train/part-r-00174  \n",
            "  inflating: droughtwatch_data/train/part-r-01109  \n",
            "  inflating: droughtwatch_data/train/part-r-01161  \n",
            "  inflating: droughtwatch_data/train/part-r-01125  \n",
            "  inflating: droughtwatch_data/train/part-r-01128  \n",
            "  inflating: droughtwatch_data/train/part-r-01019  \n",
            "  inflating: droughtwatch_data/train/part-r-00096  \n",
            "  inflating: droughtwatch_data/train/part-r-01195  \n",
            "  inflating: droughtwatch_data/train/part-r-00077  \n",
            "  inflating: droughtwatch_data/train/part-r-00016  \n",
            "  inflating: droughtwatch_data/train/part-r-00121  \n",
            "  inflating: droughtwatch_data/train/part-r-01087  \n",
            "  inflating: droughtwatch_data/train/part-r-00199  \n",
            "  inflating: droughtwatch_data/train/part-r-00185  \n",
            "  inflating: droughtwatch_data/train/part-r-01116  \n",
            "  inflating: droughtwatch_data/train/part-r-01101  \n",
            "  inflating: droughtwatch_data/train/part-r-01178  \n",
            "  inflating: droughtwatch_data/train/part-r-01035  \n",
            "  inflating: droughtwatch_data/train/part-r-01006  \n",
            "  inflating: droughtwatch_data/train/part-r-01183  \n",
            "  inflating: droughtwatch_data/train/part-r-00104  \n",
            "  inflating: droughtwatch_data/train/part-r-01155  \n",
            "  inflating: droughtwatch_data/train/part-r-01061  \n",
            "  inflating: droughtwatch_data/train/part-r-01008  \n",
            "  inflating: droughtwatch_data/train/part-r-01063  \n",
            "  inflating: droughtwatch_data/train/part-r-01137  \n",
            "  inflating: droughtwatch_data/train/part-r-01034  \n",
            "  inflating: droughtwatch_data/train/part-r-00171  \n",
            "  inflating: droughtwatch_data/train/part-r-01159  \n",
            "  inflating: droughtwatch_data/train/part-r-00109  \n",
            "  inflating: droughtwatch_data/train/part-r-00076  \n",
            "  inflating: droughtwatch_data/train/part-r-01082  \n",
            "  inflating: droughtwatch_data/train/part-r-01004  \n",
            "  inflating: droughtwatch_data/train/part-r-01145  \n",
            "  inflating: droughtwatch_data/train/part-r-00161  \n",
            "  inflating: droughtwatch_data/train/part-r-00101  \n",
            "  inflating: droughtwatch_data/train/part-r-00057  \n",
            "  inflating: droughtwatch_data/train/part-r-01182  \n",
            "  inflating: droughtwatch_data/train/part-r-01118  \n",
            "  inflating: droughtwatch_data/train/part-r-00168  \n",
            "  inflating: droughtwatch_data/train/part-r-00102  \n",
            "  inflating: droughtwatch_data/train/part-r-01085  \n",
            "  inflating: droughtwatch_data/train/part-r-00183  \n",
            "  inflating: droughtwatch_data/train/part-r-01187  \n",
            "  inflating: droughtwatch_data/train/part-r-00009  \n",
            "  inflating: droughtwatch_data/train/part-r-01114  \n",
            "  inflating: droughtwatch_data/train/part-r-01051  \n",
            "  inflating: droughtwatch_data/train/part-r-01185  \n",
            "  inflating: droughtwatch_data/train/part-r-01057  \n",
            "  inflating: droughtwatch_data/train/part-r-01119  \n",
            "  inflating: droughtwatch_data/train/part-r-00189  \n",
            "  inflating: droughtwatch_data/train/part-r-01081  \n",
            "  inflating: droughtwatch_data/train/part-r-00054  \n",
            "  inflating: droughtwatch_data/train/part-r-01144  \n",
            "  inflating: droughtwatch_data/train/part-r-00179  \n",
            "  inflating: droughtwatch_data/train/part-r-01196  \n",
            "  inflating: droughtwatch_data/train/part-r-01072  \n",
            "  inflating: droughtwatch_data/train/part-r-01172  \n",
            "  inflating: droughtwatch_data/train/part-r-01156  \n",
            "  inflating: droughtwatch_data/train/part-r-01176  \n",
            "  inflating: droughtwatch_data/train/part-r-00028  \n",
            "  inflating: droughtwatch_data/train/part-r-00014  \n",
            "  inflating: droughtwatch_data/train/part-r-00001  \n",
            "  inflating: droughtwatch_data/train/part-r-01062  \n",
            "  inflating: droughtwatch_data/train/part-r-01107  \n",
            "  inflating: droughtwatch_data/train/part-r-00145  \n",
            "  inflating: droughtwatch_data/train/part-r-00080  \n",
            "  inflating: droughtwatch_data/train/part-r-00124  \n",
            "  inflating: droughtwatch_data/train/part-r-01151  \n",
            "  inflating: droughtwatch_data/train/part-r-00176  \n",
            "  inflating: droughtwatch_data/train/part-r-00013  \n",
            "  inflating: droughtwatch_data/train/part-r-00004  \n",
            "  inflating: droughtwatch_data/train/part-r-00070  \n",
            "  inflating: droughtwatch_data/train/part-r-00157  \n",
            "  inflating: droughtwatch_data/train/part-r-01113  \n",
            "  inflating: droughtwatch_data/train/part-r-00037  \n",
            "  inflating: droughtwatch_data/train/part-r-01173  \n",
            "  inflating: droughtwatch_data/train/part-r-00005  \n",
            "  inflating: droughtwatch_data/train/part-r-01158  \n",
            "  inflating: droughtwatch_data/train/part-r-01164  \n",
            "  inflating: droughtwatch_data/train/part-r-01175  \n",
            "  inflating: droughtwatch_data/train/part-r-00148  \n",
            "  inflating: droughtwatch_data/train/part-r-01049  \n",
            "  inflating: droughtwatch_data/train/part-r-01106  \n",
            "  inflating: droughtwatch_data/train/part-r-01002  \n",
            "  inflating: droughtwatch_data/train/part-r-00142  \n",
            "  inflating: droughtwatch_data/train/part-r-00126  \n",
            "  inflating: droughtwatch_data/train/part-r-00010  \n",
            "  inflating: droughtwatch_data/train/part-r-00024  \n",
            "  inflating: droughtwatch_data/train/part-r-01184  \n",
            "  inflating: droughtwatch_data/train/part-r-01193  \n",
            "  inflating: droughtwatch_data/train/part-r-00075  \n",
            "  inflating: droughtwatch_data/train/part-r-00175  \n",
            "  inflating: droughtwatch_data/train/part-r-01160  \n",
            "  inflating: droughtwatch_data/train/part-r-01163  \n",
            "  inflating: droughtwatch_data/train/part-r-00074  \n",
            "  inflating: droughtwatch_data/train/part-r-01169  \n",
            "  inflating: droughtwatch_data/train/part-r-01110  \n",
            "  inflating: droughtwatch_data/train/part-r-00017  \n",
            "  inflating: droughtwatch_data/train/part-r-01099  \n",
            "  inflating: droughtwatch_data/train/part-r-00055  \n",
            "  inflating: droughtwatch_data/train/part-r-00166  \n",
            "  inflating: droughtwatch_data/train/part-r-00091  \n",
            "  inflating: droughtwatch_data/train/part-r-00020  \n",
            "  inflating: droughtwatch_data/train/part-r-01010  \n",
            "  inflating: droughtwatch_data/train/part-r-01179  \n",
            "  inflating: droughtwatch_data/train/part-r-01052  \n",
            "  inflating: droughtwatch_data/train/part-r-00133  \n",
            "  inflating: droughtwatch_data/train/part-r-00120  \n",
            "  inflating: droughtwatch_data/train/part-r-00095  \n",
            "  inflating: droughtwatch_data/train/part-r-01059  \n",
            "  inflating: droughtwatch_data/train/part-r-00134  \n",
            "  inflating: droughtwatch_data/train/part-r-01003  \n",
            "  inflating: droughtwatch_data/train/part-r-01157  \n",
            "  inflating: droughtwatch_data/train/part-r-00173  \n",
            "  inflating: droughtwatch_data/train/part-r-01141  \n",
            "  inflating: droughtwatch_data/train/part-r-00079  \n",
            "  inflating: droughtwatch_data/train/part-r-00047  \n",
            "  inflating: droughtwatch_data/train/part-r-00051  \n",
            "  inflating: droughtwatch_data/train/part-r-00073  \n",
            "  inflating: droughtwatch_data/train/part-r-01080  \n",
            "  inflating: droughtwatch_data/train/part-r-01015  \n",
            "  inflating: droughtwatch_data/train/part-r-00122  \n",
            "  inflating: droughtwatch_data/train/part-r-01027  \n",
            "  inflating: droughtwatch_data/train/part-r-00162  \n",
            "  inflating: droughtwatch_data/train/part-r-00053  \n",
            "  inflating: droughtwatch_data/train/part-r-00111  \n",
            "  inflating: droughtwatch_data/train/part-r-00152  \n",
            "  inflating: droughtwatch_data/train/part-r-00060  \n",
            "  inflating: droughtwatch_data/train/part-r-00086  \n",
            "  inflating: droughtwatch_data/train/part-r-01041  \n",
            "  inflating: droughtwatch_data/train/part-r-00048  \n",
            "  inflating: droughtwatch_data/train/part-r-01055  \n",
            "  inflating: droughtwatch_data/train/part-r-00006  \n",
            "  inflating: droughtwatch_data/train/part-r-00059  \n",
            "  inflating: droughtwatch_data/train/part-r-01140  \n",
            "  inflating: droughtwatch_data/train/part-r-01165  \n",
            "  inflating: droughtwatch_data/train/part-r-01065  \n",
            "  inflating: droughtwatch_data/train/part-r-01086  \n",
            "  inflating: droughtwatch_data/train/part-r-01048  \n",
            "  inflating: droughtwatch_data/train/part-r-01045  \n",
            "  inflating: droughtwatch_data/train/part-r-01126  \n",
            "  inflating: droughtwatch_data/train/part-r-00002  \n",
            "  inflating: droughtwatch_data/train/part-r-01009  \n",
            "  inflating: droughtwatch_data/train/part-r-01103  \n",
            "  inflating: droughtwatch_data/train/part-r-00131  \n",
            "  inflating: droughtwatch_data/train/part-r-00094  \n",
            "  inflating: droughtwatch_data/train/part-r-01098  \n",
            "  inflating: droughtwatch_data/train/part-r-00033  \n",
            "  inflating: droughtwatch_data/train/part-r-01177  \n",
            "  inflating: droughtwatch_data/train/part-r-01148  \n",
            "  inflating: droughtwatch_data/train/part-r-00123  \n",
            "  inflating: droughtwatch_data/train/part-r-00100  \n",
            "  inflating: droughtwatch_data/train/part-r-01197  \n",
            "  inflating: droughtwatch_data/train/part-r-00113  \n",
            "  inflating: droughtwatch_data/train/part-r-00066  \n",
            "  inflating: droughtwatch_data/train/part-r-01053  \n",
            "  inflating: droughtwatch_data/train/part-r-01071  \n",
            "  inflating: droughtwatch_data/train/part-r-00015  \n",
            "  inflating: droughtwatch_data/train/part-r-00000  \n",
            "  inflating: droughtwatch_data/train/part-r-01143  \n",
            "  inflating: droughtwatch_data/train/part-r-00140  \n",
            "  inflating: droughtwatch_data/train/part-r-00050  \n",
            "  inflating: droughtwatch_data/train/part-r-00093  \n",
            "  inflating: droughtwatch_data/train/part-r-01040  \n",
            "  inflating: droughtwatch_data/train/part-r-01097  \n",
            "  inflating: droughtwatch_data/train/part-r-01112  \n",
            "  inflating: droughtwatch_data/train/part-r-01149  \n",
            "  inflating: droughtwatch_data/train/part-r-01023  \n",
            "  inflating: droughtwatch_data/train/part-r-00035  \n",
            "  inflating: droughtwatch_data/train/part-r-01121  \n",
            "  inflating: droughtwatch_data/train/part-r-00118  \n",
            "  inflating: droughtwatch_data/train/part-r-00158  \n",
            "  inflating: droughtwatch_data/train/part-r-00146  \n",
            "  inflating: droughtwatch_data/train/part-r-00098  \n",
            "  inflating: droughtwatch_data/train/part-r-00192  \n",
            "  inflating: droughtwatch_data/train/part-r-01152  \n",
            "  inflating: droughtwatch_data/train/part-r-00125  \n",
            "  inflating: droughtwatch_data/train/part-r-00099  \n",
            "  inflating: droughtwatch_data/train/part-r-00084  \n",
            "  inflating: droughtwatch_data/train/part-r-01028  \n",
            "  inflating: droughtwatch_data/train/part-r-01046  \n",
            "  inflating: droughtwatch_data/train/part-r-01180  \n",
            "  inflating: droughtwatch_data/train/part-r-00003  \n",
            "  inflating: droughtwatch_data/train/part-r-01100  \n",
            "  inflating: droughtwatch_data/train/part-r-00180  \n",
            "  inflating: droughtwatch_data/train/part-r-00139  \n",
            "  inflating: droughtwatch_data/train/part-r-00160  \n",
            "  inflating: droughtwatch_data/train/part-r-01005  \n",
            "  inflating: droughtwatch_data/train/part-r-01075  \n",
            "  inflating: droughtwatch_data/train/part-r-00032  \n",
            "  inflating: droughtwatch_data/train/part-r-01067  \n",
            "  inflating: droughtwatch_data/train/part-r-00151  \n",
            "  inflating: droughtwatch_data/train/part-r-00018  \n",
            "  inflating: droughtwatch_data/train/part-r-00143  \n",
            "  inflating: droughtwatch_data/train/part-r-01133  \n",
            "  inflating: droughtwatch_data/train/part-r-01135  \n",
            "  inflating: droughtwatch_data/train/part-r-01017  \n",
            "  inflating: droughtwatch_data/train/part-r-00187  \n",
            "  inflating: droughtwatch_data/train/part-r-00129  \n",
            "  inflating: droughtwatch_data/train/part-r-01020  \n",
            "  inflating: droughtwatch_data/train/part-r-00062  \n",
            "  inflating: droughtwatch_data/train/part-r-00045  \n",
            "  inflating: droughtwatch_data/train/part-r-00147  \n",
            "  inflating: droughtwatch_data/train/part-r-01064  \n",
            "  inflating: droughtwatch_data/train/part-r-00089  \n",
            "  inflating: droughtwatch_data/train/part-r-01074  \n",
            "  inflating: droughtwatch_data/train/part-r-00135  \n",
            "  inflating: droughtwatch_data/train/part-r-01142  \n",
            "  inflating: droughtwatch_data/train/part-r-01036  \n",
            "  inflating: droughtwatch_data/train/part-r-01078  \n",
            "  inflating: droughtwatch_data/train/part-r-01050  \n",
            "  inflating: droughtwatch_data/train/part-r-01166  \n",
            "  inflating: droughtwatch_data/train/part-r-01134  \n",
            "  inflating: droughtwatch_data/train/part-r-00191  \n",
            "  inflating: droughtwatch_data/train/part-r-00182  \n",
            "  inflating: droughtwatch_data/train/part-r-01073  \n",
            "  inflating: droughtwatch_data/train/part-r-00087  \n",
            "  inflating: droughtwatch_data/train/part-r-01029  \n",
            "  inflating: droughtwatch_data/train/part-r-00027  \n",
            "  inflating: droughtwatch_data/train/part-r-01018  \n",
            "  inflating: droughtwatch_data/train/part-r-00198  \n",
            "  inflating: droughtwatch_data/train/part-r-00064  \n",
            "  inflating: droughtwatch_data/train/part-r-00149  \n",
            "  inflating: droughtwatch_data/train/part-r-00193  \n",
            "  inflating: droughtwatch_data/train/part-r-00154  \n",
            "  inflating: droughtwatch_data/train/part-r-01162  \n",
            "  inflating: droughtwatch_data/train/part-r-00085  \n",
            "  inflating: droughtwatch_data/train/part-r-00025  \n",
            "  inflating: droughtwatch_data/train/part-r-01117  \n",
            "  inflating: droughtwatch_data/train/part-r-00130  \n",
            "  inflating: droughtwatch_data/train/part-r-01124  \n",
            " extracting: droughtwatch_data/train/_SUCCESS  \n",
            "  inflating: droughtwatch_data/train/part-r-01189  \n",
            "  inflating: droughtwatch_data/train/part-r-01032  \n",
            "  inflating: droughtwatch_data/train/part-r-00030  \n",
            "  inflating: droughtwatch_data/train/part-r-01068  \n",
            "  inflating: droughtwatch_data/train/part-r-00065  \n",
            "  inflating: droughtwatch_data/train/part-r-01108  \n",
            "  inflating: droughtwatch_data/train/part-r-00141  \n",
            "  inflating: droughtwatch_data/train/part-r-00138  \n",
            "  inflating: droughtwatch_data/train/part-r-01096  \n",
            "  inflating: droughtwatch_data/train/part-r-01089  \n",
            "  inflating: droughtwatch_data/train/part-r-01167  \n",
            "  inflating: droughtwatch_data/train/part-r-01150  \n",
            "  inflating: droughtwatch_data/train/part-r-01038  \n",
            "  inflating: droughtwatch_data/train/part-r-01030  \n",
            "  inflating: droughtwatch_data/train/part-r-00034  \n",
            "  inflating: droughtwatch_data/train/part-r-01083  \n",
            "  inflating: droughtwatch_data/train/part-r-00031  \n",
            "  inflating: droughtwatch_data/train/part-r-00164  \n",
            "  inflating: droughtwatch_data/train/part-r-00197  \n",
            "  inflating: droughtwatch_data/train/part-r-00007  \n",
            "  inflating: droughtwatch_data/train/part-r-00103  \n",
            "  inflating: droughtwatch_data/train/part-r-01094  \n",
            "  inflating: droughtwatch_data/train/part-r-01058  \n",
            "  inflating: droughtwatch_data/train/part-r-01069  \n",
            "  inflating: droughtwatch_data/train/part-r-00105  \n",
            "  inflating: droughtwatch_data/train/part-r-01000  \n",
            "  inflating: droughtwatch_data/train/part-r-01093  \n",
            "  inflating: droughtwatch_data/train/part-r-01139  \n",
            "  inflating: droughtwatch_data/train/part-r-00008  \n",
            "  inflating: droughtwatch_data/train/part-r-00195  \n",
            "  inflating: droughtwatch_data/train/part-r-01033  \n",
            "  inflating: droughtwatch_data/train/part-r-01127  \n",
            "  inflating: droughtwatch_data/train/part-r-01147  \n",
            "  inflating: droughtwatch_data/train/part-r-00186  \n",
            "  inflating: droughtwatch_data/train/part-r-00155  \n",
            "  inflating: droughtwatch_data/train/part-r-00041  \n",
            "  inflating: droughtwatch_data/train/part-r-01043  \n",
            "  inflating: droughtwatch_data/train/part-r-00194  \n",
            "  inflating: droughtwatch_data/train/part-r-00114  \n",
            "  inflating: droughtwatch_data/train/part-r-01132  \n",
            "  inflating: droughtwatch_data/train/part-r-01153  \n",
            "  inflating: droughtwatch_data/train/part-r-00063  \n",
            "  inflating: droughtwatch_data/train/part-r-01131  \n",
            "  inflating: droughtwatch_data/train/part-r-00069  \n",
            "  inflating: droughtwatch_data/train/part-r-01194  \n",
            "  inflating: droughtwatch_data/train/part-r-01123  \n",
            "  inflating: droughtwatch_data/train/part-r-00021  \n",
            "  inflating: droughtwatch_data/train/part-r-00044  \n",
            "  inflating: droughtwatch_data/train/part-r-01191  \n",
            "  inflating: droughtwatch_data/train/part-r-01077  \n",
            "  inflating: droughtwatch_data/train/part-r-01122  \n",
            "  inflating: droughtwatch_data/train/part-r-00081  \n",
            "  inflating: droughtwatch_data/train/part-r-00039  \n",
            "  inflating: droughtwatch_data/train/part-r-01013  \n",
            "  inflating: droughtwatch_data/train/part-r-00181  \n",
            "  inflating: droughtwatch_data/train/part-r-01146  \n",
            "  inflating: droughtwatch_data/train/part-r-01044  \n",
            "  inflating: droughtwatch_data/train/part-r-00068  \n",
            "  inflating: droughtwatch_data/train/part-r-00188  \n",
            "  inflating: droughtwatch_data/train/part-r-01070  \n",
            "  inflating: droughtwatch_data/train/part-r-01021  \n",
            "  inflating: droughtwatch_data/train/part-r-01042  \n",
            "  inflating: droughtwatch_data/train/part-r-01047  \n",
            "  inflating: droughtwatch_data/train/part-r-00107  \n",
            "  inflating: droughtwatch_data/train/part-r-00169  \n",
            "  inflating: droughtwatch_data/train/part-r-00056  \n",
            "  inflating: droughtwatch_data/train/part-r-01190  \n",
            "  inflating: droughtwatch_data/train/part-r-00072  \n",
            "  inflating: droughtwatch_data/train/part-r-01088  \n",
            "  inflating: droughtwatch_data/train/part-r-01186  \n",
            "  inflating: droughtwatch_data/train/part-r-01130  \n",
            "  inflating: droughtwatch_data/train/part-r-00127  \n",
            "  inflating: droughtwatch_data/train/part-r-00159  \n",
            "  inflating: droughtwatch_data/train/part-r-00019  \n",
            "  inflating: droughtwatch_data/train/part-r-01111  \n",
            "  inflating: droughtwatch_data/train/part-r-01016  \n",
            "  inflating: droughtwatch_data/train/part-r-00036  \n",
            "  inflating: droughtwatch_data/train/part-r-01105  \n",
            "  inflating: droughtwatch_data/train/part-r-01031  \n",
            "  inflating: droughtwatch_data/train/part-r-00163  \n",
            "  inflating: droughtwatch_data/train/part-r-01129  \n",
            "  inflating: droughtwatch_data/train/part-r-00092  \n",
            "  inflating: droughtwatch_data/train/part-r-00117  \n",
            "  inflating: droughtwatch_data/train/part-r-00049  \n",
            "  inflating: droughtwatch_data/train/part-r-00170  \n",
            "  inflating: droughtwatch_data/train/part-r-00022  \n"
          ],
          "name": "stdout"
        }
      ]
    },
    {
      "cell_type": "markdown",
      "metadata": {
        "id": "ko-JGKje9AAJ"
      },
      "source": [
        "#Configure folder paths"
      ]
    },
    {
      "cell_type": "code",
      "metadata": {
        "id": "8nxIpfba6Rne"
      },
      "source": [
        "# Common configuration parameters\n",
        "train_data_path = 'data/train'\n",
        "val_data_path = 'data/val'\n",
        "test_data_path = 'data/test'\n",
        "data_path = 'data'\n",
        "folder_path = 'content/droughtwatch'"
      ],
      "execution_count": null,
      "outputs": []
    },
    {
      "cell_type": "markdown",
      "metadata": {
        "id": "W60HZ9XW9d5f"
      },
      "source": [
        "# Label names"
      ]
    },
    {
      "cell_type": "code",
      "metadata": {
        "id": "CyM6ZlGG9RR2"
      },
      "source": [
        "label_names = ['0', '1', '2', '3' ]"
      ],
      "execution_count": null,
      "outputs": []
    },
    {
      "cell_type": "code",
      "metadata": {
        "id": "dDg1o56b9kMP"
      },
      "source": [
        "# Create folder structure for train\n",
        "for label in label_names:\n",
        "  if not os.path.isdir(str(os.path.join(train_data_path, Path(label)))):\n",
        "    os.makedirs(str(os.path.join(train_data_path, Path(label))))\n",
        "  else:\n",
        "    print('{} already exists!'.format(str(os.path.join(train_data_path, Path(label)))))\n",
        "\n",
        "# Create folder structure for val\n",
        "for label in label_names:\n",
        "  if not os.path.isdir(str(os.path.join(val_data_path, Path(label)))):\n",
        "    os.makedirs(str(os.path.join(val_data_path, Path(label))))\n",
        "  else:\n",
        "    print('{} already exists!'.format(str(os.path.join(val_data_path, Path(label)))))"
      ],
      "execution_count": null,
      "outputs": []
    },
    {
      "cell_type": "markdown",
      "metadata": {
        "id": "twwhsiT4AIph"
      },
      "source": [
        "# Training folders path"
      ]
    },
    {
      "cell_type": "code",
      "metadata": {
        "id": "lM804D0sT_AZ"
      },
      "source": [
        "t0 = os.path.join(train_data_path, label_names[0])\n",
        "t1 = os.path.join(train_data_path, label_names[1])\n",
        "t2 = os.path.join(train_data_path, label_names[2])\n",
        "t3 = os.path.join(train_data_path, label_names[3])"
      ],
      "execution_count": null,
      "outputs": []
    },
    {
      "cell_type": "markdown",
      "metadata": {
        "id": "sUT1QzTdAmpH"
      },
      "source": [
        "# Validation folders path"
      ]
    },
    {
      "cell_type": "code",
      "metadata": {
        "id": "JWQmO7y9W2pJ"
      },
      "source": [
        "v0 = os.path.join(val_data_path, label_names[0])\n",
        "v1 = os.path.join(val_data_path, label_names[1])\n",
        "v2 = os.path.join(val_data_path, label_names[2])\n",
        "v3 = os.path.join(val_data_path, label_names[3])"
      ],
      "execution_count": null,
      "outputs": []
    },
    {
      "cell_type": "code",
      "metadata": {
        "id": "WB7SHt7s5fS1"
      },
      "source": [
        "# Data loading functions\n",
        "\n",
        "# Function that returns files starting with part-r pattern from folder_path\n",
        "def filelist(folder_path):\n",
        "  files = Path(folder_path).glob('**/part-r-*')\n",
        "  print('Number of TFRecordDatasets in {}: {}'.format(folder_path, len(os.listdir(folder_path))))\n",
        "  return files\n",
        "\n",
        "def load_data(data_path):\n",
        "  train = filelist(train_data_path)\n",
        "  val = filelist(val_data_path)\n",
        "  return train, val\n",
        "\n",
        "# Function that parses TFRecordDataset and returns individual records from the Dataset\n",
        "def parse_file(file):\n",
        "  filename = tf.data.TFRecordDataset(str(file))\n",
        "  # TO DO: change make_one_shot_iterator to tf.v2 version\n",
        "  iterator = tf.compat.v1.data.make_one_shot_iterator(filename)\n",
        "  \n",
        "  features = {\n",
        "    'B1': tf.io.FixedLenFeature([], tf.string),\n",
        "    'B2': tf.io.FixedLenFeature([], tf.string),\n",
        "    'B3': tf.io.FixedLenFeature([], tf.string),\n",
        "    'B4': tf.io.FixedLenFeature([], tf.string),\n",
        "    'B5': tf.io.FixedLenFeature([], tf.string),\n",
        "    'B6': tf.io.FixedLenFeature([], tf.string),\n",
        "    'B7': tf.io.FixedLenFeature([], tf.string),\n",
        "    'B8': tf.io.FixedLenFeature([], tf.string),\n",
        "    'B9': tf.io.FixedLenFeature([], tf.string),\n",
        "    'B10': tf.io.FixedLenFeature([], tf.string),\n",
        "    'B11': tf.io.FixedLenFeature([], tf.string),\n",
        "    'label': tf.io.FixedLenFeature([], tf.int64),\n",
        "  }\n",
        "\n",
        "  parsed_files = [tf.io.parse_single_example(data, features) for data in iterator]\n",
        "  return parsed_files"
      ],
      "execution_count": null,
      "outputs": []
    },
    {
      "cell_type": "markdown",
      "metadata": {
        "id": "gIRdENZ--4tX"
      },
      "source": [
        "# Insall WandB"
      ]
    },
    {
      "cell_type": "code",
      "metadata": {
        "id": "ttgICmgH-3A2"
      },
      "source": [
        "%%capture\n",
        "!pip install wandb --upgrade"
      ],
      "execution_count": null,
      "outputs": []
    },
    {
      "cell_type": "markdown",
      "metadata": {
        "id": "HBgrNvD_-_1v"
      },
      "source": [
        "# Import and Login to WandB"
      ]
    },
    {
      "cell_type": "code",
      "metadata": {
        "colab": {
          "base_uri": "https://localhost:8080/",
          "height": 67
        },
        "id": "ElIdz5lwNRmz",
        "outputId": "ba75c704-5924-4ba8-f450-be43fb963d52"
      },
      "source": [
        "import wandb\n",
        "\n",
        "wandb.login()"
      ],
      "execution_count": null,
      "outputs": [
        {
          "output_type": "display_data",
          "data": {
            "application/javascript": [
              "\n",
              "        window._wandbApiKey = new Promise((resolve, reject) => {\n",
              "            function loadScript(url) {\n",
              "            return new Promise(function(resolve, reject) {\n",
              "                let newScript = document.createElement(\"script\");\n",
              "                newScript.onerror = reject;\n",
              "                newScript.onload = resolve;\n",
              "                document.body.appendChild(newScript);\n",
              "                newScript.src = url;\n",
              "            });\n",
              "            }\n",
              "            loadScript(\"https://cdn.jsdelivr.net/npm/postmate/build/postmate.min.js\").then(() => {\n",
              "            const iframe = document.createElement('iframe')\n",
              "            iframe.style.cssText = \"width:0;height:0;border:none\"\n",
              "            document.body.appendChild(iframe)\n",
              "            const handshake = new Postmate({\n",
              "                container: iframe,\n",
              "                url: 'https://wandb.ai/authorize'\n",
              "            });\n",
              "            const timeout = setTimeout(() => reject(\"Couldn't auto authenticate\"), 5000)\n",
              "            handshake.then(function(child) {\n",
              "                child.on('authorize', data => {\n",
              "                    clearTimeout(timeout)\n",
              "                    resolve(data)\n",
              "                });\n",
              "            });\n",
              "            })\n",
              "        });\n",
              "    "
            ],
            "text/plain": [
              "<IPython.core.display.Javascript object>"
            ]
          },
          "metadata": {
            "tags": []
          }
        },
        {
          "output_type": "stream",
          "text": [
            "\u001b[34m\u001b[1mwandb\u001b[0m: Appending key for api.wandb.ai to your netrc file: /root/.netrc\n"
          ],
          "name": "stderr"
        },
        {
          "output_type": "execute_result",
          "data": {
            "text/plain": [
              "True"
            ]
          },
          "metadata": {
            "tags": []
          },
          "execution_count": 12
        }
      ]
    },
    {
      "cell_type": "code",
      "metadata": {
        "colab": {
          "base_uri": "https://localhost:8080/"
        },
        "id": "Uj3tnWe9ezNj",
        "outputId": "66468d14-ff0a-40dd-ed3e-0d9749f0b292"
      },
      "source": [
        "# Save TFRecordDataset records to .jpg files in order to proceed with\n",
        "# Pytorch's data loaders. TO DO: (1) Needto save the images to google drive\n",
        "# and mount the drive here and proceed rather than executing this\n",
        "# every time. For the moment proceeding as is.\n",
        "# (2) Need to see how to manipulate with TFRecordDataset itself. \n",
        "# Common configuration parameters\n",
        "train, val = load_data(data_path)\n",
        "train_files = []\n",
        "val_files = []\n",
        "\n",
        "#%cd 'data/train'\n",
        "for file in train:\n",
        "  #print(os.path.basename(file))\n",
        "  parsed_train_files = parse_file(file)\n",
        "  train_files.append(parsed_train_files)\n",
        "\n",
        "for file in val:\n",
        "  parsed_val_files = parse_file(file)\n",
        "  val_files.append(parsed_val_files)\n",
        "\n",
        "print(len(train_files))"
      ],
      "execution_count": null,
      "outputs": [
        {
          "output_type": "stream",
          "text": [
            "Number of TFRecordDatasets in data/train: 405\n",
            "Number of TFRecordDatasets in data/val: 105\n",
            "400\n"
          ],
          "name": "stdout"
        }
      ]
    },
    {
      "cell_type": "code",
      "metadata": {
        "colab": {
          "base_uri": "https://localhost:8080/",
          "height": 454
        },
        "id": "HdvQEcUpi1Xs",
        "outputId": "0f69ca65-ce50-4549-8318-0fb0ae30dfb6"
      },
      "source": [
        "# Temporary block\n",
        "# Fetch labels from parsed_files\n",
        "train_labels = np.array([])\n",
        "for records in train_files:\n",
        "  labels = tf.cast([ record['label'] for record in records], tf.int32).numpy()\n",
        "  if train_labels.size == 0:\n",
        "    train_labels = np.array([labels])\n",
        "  else:\n",
        "    train_labels = np.append(train_labels, [labels])\n",
        "\n",
        "# Calculate unique labels and count of each in entire train folder\n",
        "unique_elements, counts_elements = np.unique(train_labels, return_counts=True)\n",
        "print(\"Frequency of unique values:\")\n",
        "print(np.asarray((unique_elements, counts_elements)))\n",
        "\n",
        "# Plot a bar chart to show data split \n",
        "figure = plt.figure(figsize=(15, 6))\n",
        "plt.title('Forage Quality Analysis')\n",
        "plt.xlabel('How many cows can be fed?')\n",
        "plt.ylabel('Number of landsat images')\n",
        "plt.bar(unique_elements, counts_elements, color='green')\n",
        "\n",
        "# To display count of each label\n",
        "for index, data in enumerate(counts_elements):\n",
        "  plt.text(x=index, y=data+1, s=f'{data}', fontdict=dict(fontsize=15))\n",
        " \n",
        "figure.show()"
      ],
      "execution_count": null,
      "outputs": [
        {
          "output_type": "stream",
          "text": [
            "Frequency of unique values:\n",
            "[[    0     1     2     3]\n",
            " [51814 12851 13609  8043]]\n"
          ],
          "name": "stdout"
        },
        {
          "output_type": "display_data",
          "data": {
            "image/png": "[encoded data removed]",
            "text/plain": [
              "<Figure size 1080x432 with 1 Axes>"
            ]
          },
          "metadata": {
            "tags": [],
            "needs_background": "light"
          }
        }
      ]
    },
    {
      "cell_type": "code",
      "metadata": {
        "colab": {
          "base_uri": "https://localhost:8080/",
          "height": 454
        },
        "id": "LSLUoyIoE3ih",
        "outputId": "559277b0-082f-480e-def2-6e35aa9f9aea"
      },
      "source": [
        "# Temporary block\n",
        "# Fetch labels from parsed_files - validation data set\n",
        "val_labels = np.array([])\n",
        "for records in val_files:\n",
        "  labels = tf.cast([ record['label'] for record in records], tf.int32).numpy()\n",
        "  if val_labels.size == 0:\n",
        "    val_labels = np.array([labels])\n",
        "  else:\n",
        "    val_labels = np.append(val_labels, [labels])\n",
        "\n",
        "# Calculate unique labels and count of each in entire train folder\n",
        "unique_elements, counts_elements = np.unique(val_labels, return_counts=True)\n",
        "print(\"Frequency of unique values:\")\n",
        "print(np.asarray((unique_elements, counts_elements)))\n",
        "\n",
        "# Plot a bar chart to show data split \n",
        "figure = plt.figure(figsize=(15, 6))\n",
        "plt.title('Forage Quality Analysis of Validation analysis')\n",
        "plt.xlabel('How many cows can be fed?')\n",
        "plt.ylabel('Number of landsat images')\n",
        "plt.bar(unique_elements, counts_elements, color='blue')\n",
        "\n",
        "# To display count of each label\n",
        "for index, data in enumerate(counts_elements):\n",
        "  plt.text(x=index, y=data+1, s=f'{data}', fontdict=dict(fontsize=15))\n",
        " \n",
        "figure.show()"
      ],
      "execution_count": null,
      "outputs": [
        {
          "output_type": "stream",
          "text": [
            "Frequency of unique values:\n",
            "[[   0    1    2    3]\n",
            " [6443 1710 1673  952]]\n"
          ],
          "name": "stdout"
        },
        {
          "output_type": "display_data",
          "data": {
            "image/png": "[encoded data removed]",
            "text/plain": [
              "<Figure size 1080x432 with 1 Axes>"
            ]
          },
          "metadata": {
            "tags": [],
            "needs_background": "light"
          }
        }
      ]
    },
    {
      "cell_type": "code",
      "metadata": {
        "id": "QTWNr18Tf3Yv"
      },
      "source": [
        "# One off time\n",
        "def get_image_from_example(parsed_example, intensify=True):\n",
        "  rgbArray = np.zeros((65, 65, 3), 'uint8')\n",
        "  for i, band in enumerate(['B5', 'B6', 'B7']):\n",
        "    band_data = np.frombuffer(parsed_example[band].numpy(), dtype=np.uint8)\n",
        "    band_data = band_data.reshape(65, 65)\n",
        "    if intensify:\n",
        "      band_data = band_data/np.max(band_data)*255\n",
        "    else:\n",
        "      band_data = band_data*255\n",
        "    rgbArray[..., i] = band_data\n",
        "\n",
        "  label = tf.cast(parsed_example['label'], tf.int32).numpy()\n",
        "\n",
        "  return rgbArray, label"
      ],
      "execution_count": null,
      "outputs": []
    },
    {
      "cell_type": "markdown",
      "metadata": {
        "id": "su5GPLvKEXWc"
      },
      "source": [
        "# Move files from train folder to appropriate folder based on the label of each file"
      ]
    },
    {
      "cell_type": "code",
      "metadata": {
        "colab": {
          "base_uri": "https://localhost:8080/"
        },
        "id": "f6VvuFDjf-X_",
        "outputId": "5777f10c-c240-436e-d3a3-a2c0ebb5ec22"
      },
      "source": [
        "# One off time\n",
        "import shutil\n",
        "\n",
        "# Save files from train as images\n",
        "cnt = 0\n",
        "for records in train_files:\n",
        "  for record in records:\n",
        "    img, label = get_image_from_example(record)\n",
        "    filename = 'image-' + str(cnt) + '-label '+ str(label) + '.jpg'\n",
        "    plt.imsave(filename, img, cmap='gray')\n",
        "    # Move files to appropriate folders based on their labels\n",
        "    if label == 0:\n",
        "      shutil.move(filename, t0)\n",
        "    elif label == 1:\n",
        "      shutil.move(filename, t1)\n",
        "    elif label == 2:\n",
        "      shutil.move(filename, t2)\n",
        "    elif label == 3:\n",
        "      shutil.move(filename, t3)\n",
        "    else:\n",
        "      print('Incorrect label')\n",
        "    cnt += 1"
      ],
      "execution_count": null,
      "outputs": [
        {
          "output_type": "stream",
          "text": [
            "/usr/local/lib/python3.7/dist-packages/ipykernel_launcher.py:8: RuntimeWarning: invalid value encountered in true_divide\n",
            "  \n"
          ],
          "name": "stderr"
        }
      ]
    },
    {
      "cell_type": "markdown",
      "metadata": {
        "id": "O3kjNMInEiuh"
      },
      "source": [
        "#Move files from val folder to appropriate folder based on the label of each file"
      ]
    },
    {
      "cell_type": "code",
      "metadata": {
        "colab": {
          "base_uri": "https://localhost:8080/"
        },
        "id": "Xgtxh_QZgHC4",
        "outputId": "9d219df7-2500-4f41-d8bc-99ac30a6bb18"
      },
      "source": [
        "# Save files from val as images\n",
        "cnt = 0\n",
        "for records in val_files:\n",
        "  for record in records:\n",
        "    img, label = get_image_from_example(record)\n",
        "    filename = 'image-' + str(cnt) + '-label '+ str(label) + '.jpg'\n",
        "    plt.imsave(filename, img, cmap='gray')\n",
        "    # Move files to appropriate folders based on their labels\n",
        "    if label == 0:\n",
        "      shutil.move(filename, v0)\n",
        "    elif label == 1:\n",
        "      shutil.move(filename, v1)\n",
        "    elif label == 2:\n",
        "      shutil.move(filename, v2)\n",
        "    elif label == 3:\n",
        "      shutil.move(filename, v3)\n",
        "    else:\n",
        "      print('Incorrect label')\n",
        "    cnt += 1"
      ],
      "execution_count": null,
      "outputs": [
        {
          "output_type": "stream",
          "text": [
            "/usr/local/lib/python3.7/dist-packages/ipykernel_launcher.py:8: RuntimeWarning: invalid value encountered in true_divide\n",
            "  \n"
          ],
          "name": "stderr"
        }
      ]
    },
    {
      "cell_type": "code",
      "metadata": {
        "id": "Fm3Lm3jeW1AU"
      },
      "source": [
        "config = dict(\n",
        "    num_epochs = 50,\n",
        "    classes = 5,\n",
        "    kernels = [16,16],\n",
        "    batch_size = 64,\n",
        "    learning_rate = 0.0003,\n",
        "    dataset = 'droughtwatch-TFRecordDataset',\n",
        "    architecture = 'resnet152-transfer-learning',\n",
        "    feature_extract = True,\n",
        "    momentum = 0.9,\n",
        "    model_name = 'resnet-152',\n",
        "    use_pretrained = True,\n",
        ")"
      ],
      "execution_count": null,
      "outputs": []
    },
    {
      "cell_type": "code",
      "metadata": {
        "id": "K5r8Y7vLX0c8"
      },
      "source": [
        "# Define model pipeline\n",
        "def model_pipeline(hyperparameters):\n",
        "  # tell wandb to get started\n",
        "  with wandb.init(project=\"droughtwatch-iteration 2\", config=hyperparameters):\n",
        "    # access all hyperparameters through wandb.config, so that logging matches execution\n",
        "    config = wandb.config\n",
        "\n",
        "    # make the model, data and optimization parameters\n",
        "    model, dataloaders, criterion = make(config)\n",
        "\n",
        "    # final step for finetuning and feature extracting is to create \n",
        "    # an optimizer that only updates the desired parameters\n",
        "    optimizer = create_optimizer(model, config.feature_extract, config.learning_rate, config.momentum)\n",
        "\n",
        "    # and use them to train model\n",
        "    train(model, dataloaders, criterion, optimizer, config)\n",
        "\n",
        "    # and test it's final performance\n",
        "    #test(model, dataloaders['val'])\n",
        "\n",
        "  return model"
      ],
      "execution_count": null,
      "outputs": []
    },
    {
      "cell_type": "code",
      "metadata": {
        "id": "8M7XOmk0geA9"
      },
      "source": [
        "def make(config):\n",
        "  # make the model - TO DO: will change model details in a bit\n",
        "  # model = ConvNet(config.kernels, config.classes).to(device)\n",
        "  model_ft, input_size = initialize_model(config.model_name, config.classes, config.feature_extract, \n",
        "                                          use_pretrained=config.use_pretrained)\n",
        "  # Make the data\n",
        "  dataloaders = get_data(input_size, config.batch_size)\n",
        "\n",
        "  # Make the loss and optimizer\n",
        "  criterion = nn.CrossEntropyLoss()\n",
        "\n",
        "  return model_ft, dataloaders, criterion"
      ],
      "execution_count": null,
      "outputs": []
    },
    {
      "cell_type": "code",
      "metadata": {
        "id": "unAyYehWsSPJ"
      },
      "source": [
        "def initialize_model(model_name, num_classes, feature_extract, use_pretrained=True):\n",
        "  model_ft = None\n",
        "  input_size = 0\n",
        "\n",
        "  if model_name == \"densenet\":\n",
        "    model_ft = models.densenet121(pretrained=use_pretrained)\n",
        "    set_parameter_requires_grad(model_ft, feature_extract)\n",
        "    num_ftrs = model_ft.classifier.in_features\n",
        "    print('num_ftrs: ', num_ftrs)\n",
        "    model_ft.classifier = nn.Linear(num_ftrs, num_classes)\n",
        "    input_size = 224\n",
        "  elif model_name == \"squeezenet\":\n",
        "    \"\"\" Squeezenet\n",
        "    \"\"\"\n",
        "    model_ft = models.squeezenet1_0(pretrained=use_pretrained)\n",
        "    set_parameter_requires_grad(model_ft, feature_extract)\n",
        "    model_ft.classifier[1] = nn.Conv2d(512, num_classes, kernel_size=(1,1), stride=(1,1))\n",
        "    model_ft.num_classes = num_classes\n",
        "    input_size = 224\n",
        "  elif model_name == \"resnet-152\":\n",
        "    # Resnet-152\n",
        "    model_ft = models.resnet152(pretrained=use_pretrained)\n",
        "    set_parameter_requires_grad(model_ft, feature_extract)\n",
        "    num_ftrs = model_ft.fc.in_features\n",
        "    model_ft.fc = nn.Linear(num_ftrs, num_classes)\n",
        "    input_size = 224\n",
        "  else:\n",
        "    print(\"Invalid model name, exiting...\")\n",
        "    exit()\n",
        "\n",
        "  return model_ft, input_size"
      ],
      "execution_count": null,
      "outputs": []
    },
    {
      "cell_type": "code",
      "metadata": {
        "id": "4PiC0VlDiUYu"
      },
      "source": [
        "def get_data(input_size, batch_size):\n",
        "  # Data Augmentation and normalization for Training\n",
        "  # Just normalization for Validation\n",
        "  data_transforms = {\n",
        "      'train': transforms.Compose([\n",
        "          transforms.RandomResizedCrop(input_size),\n",
        "          transforms.RandomHorizontalFlip(),\n",
        "          transforms.ToTensor(),\n",
        "          transforms.Normalize([0.485, 0.456, 0.406], [0.229, 0.224, 0.225])\n",
        "      ]),\n",
        "      'val': transforms.Compose([\n",
        "          transforms.Resize(input_size),\n",
        "          transforms.CenterCrop(input_size),\n",
        "          transforms.ToTensor(),\n",
        "          transforms.Normalize([0.485, 0.456, 0.406], [0.229, 0.224, 0.225])\n",
        "      ]),\n",
        "  }\n",
        "\n",
        "  print('Initializing Datasets and DataLoaders...')\n",
        "\n",
        "  # Create training and validation datasets\n",
        "  image_datasets = {x: datasets.ImageFolder(os.path.join(data_path, x), data_transforms[x]) for x in ['train', 'val']}\n",
        "\n",
        "  # Create training and validation dataloaders\n",
        "  dataloaders = {x: torch.utils.data.DataLoader(image_datasets[x], batch_size=batch_size,\n",
        "                                                shuffle=True, num_workers=0) for x in ['train', 'val']}\n",
        "\n",
        "  print(dataloaders)    \n",
        "  print(type(dataloaders))                                         \n",
        "\n",
        "  return dataloaders"
      ],
      "execution_count": null,
      "outputs": []
    },
    {
      "cell_type": "code",
      "metadata": {
        "id": "uxR1HkmOrX0h"
      },
      "source": [
        "def set_parameter_requires_grad(model, feature_extracting):\n",
        "  if feature_extracting:\n",
        "    for param in model.parameters():\n",
        "      param.set_parameter_requires_grad = False"
      ],
      "execution_count": null,
      "outputs": []
    },
    {
      "cell_type": "code",
      "metadata": {
        "id": "va5Lhpqy-9w7"
      },
      "source": [
        "def create_optimizer(model_ft, feature_extract, learning_rate, momentum):\n",
        "  # Gather the parameters to be optimized/updated in this run. If we are\n",
        "  # finetuning we will be updating all parameters. However, if we are\n",
        "  # doing feature extract method, we will only update the parameters\n",
        "  # that we have just initialized, i.e. the parameters with requires_grad\n",
        "  # is True.\n",
        "  \n",
        "  # Send the model to device\n",
        "  model_ft = model_ft.to(device)\n",
        "  params_to_update = model_ft.parameters()\n",
        "  print('Params to learn')\n",
        "  if feature_extract:\n",
        "    params_to_update = []\n",
        "    for name, param in model_ft.named_parameters():\n",
        "      if param.requires_grad == True:\n",
        "        params_to_update.append(param)\n",
        "        print('\\t', name)\n",
        "  else:\n",
        "    for name, param in model_ft.named_parameters():\n",
        "      if param.requires_grad == True:\n",
        "        print('\\t', name)\n",
        "\n",
        "  # Observe that all parameters are optimized\n",
        "  optimizer_ft = optim.SGD(params_to_update, lr=learning_rate, momentum=momentum)\n",
        "\n",
        "  return optimizer_ft"
      ],
      "execution_count": null,
      "outputs": []
    },
    {
      "cell_type": "code",
      "metadata": {
        "id": "GiuckZqRRRlQ"
      },
      "source": [
        "# Method to handle training and validation of a given model\n",
        "def train(model, dataloaders, criterion, optimizer, config):\n",
        "  # tell wandb to watch what the model gets upto: gradients, weights and more!\n",
        "  # wandb.watch(model, criterion, log=\"all\", log_freq=10)\n",
        "\n",
        "  val_acc_history = []\n",
        "\n",
        "  best_model_wts = copy.deepcopy(model.state_dict())\n",
        "  best_acc = 0.0\n",
        "\n",
        "  for epoch in range(config.num_epochs):\n",
        "    print(\"Epoch - {} / {}\".format(epoch, config.num_epochs - 1))\n",
        "    print('-' * 10)\n",
        "\n",
        "    # Each epoch has a training and validation phase\n",
        "    for phase in [\"train\", \"val\"]:\n",
        "      if phase == \"train\":\n",
        "        model.train()\n",
        "      else:\n",
        "        model.eval()\n",
        "\n",
        "      running_loss = 0.0\n",
        "      running_corrects = 0\n",
        "\n",
        "      # Iterate over data\n",
        "      print('phase: {}, device: {}'.format(phase, device))\n",
        "      for inputs, labels in dataloaders[phase]:\n",
        "        inputs = inputs.to(device)\n",
        "        labels = labels.to(device)\n",
        "\n",
        "        # zero the parameter gradients\n",
        "        optimizer.zero_grad()\n",
        "\n",
        "        # forward\n",
        "        # track history if only in train\n",
        "        with torch.set_grad_enabled(phase==\"train\"):\n",
        "          # get model outputs and calculate loss\n",
        "          outputs = model(inputs)\n",
        "          loss = criterion(outputs, labels)\n",
        "\n",
        "          _, preds = torch.max(outputs, 1)\n",
        "\n",
        "          # backward and optimize only for training phase\n",
        "          if phase == \"train\":\n",
        "            loss.backward()\n",
        "            optimizer.step()\n",
        "\n",
        "        # statistics\n",
        "        running_loss += loss.item() * inputs.size(0)\n",
        "        running_corrects += torch.sum(preds == labels.data)\n",
        "\n",
        "      epoch_loss = running_loss / len(dataloaders[phase].dataset)\n",
        "      epoch_acc = running_corrects.double() / len(dataloaders[phase].dataset)\n",
        "\n",
        "      print('{} Loss: {:.4f} Acc: {:.4f}'.format(phase, epoch_loss, epoch_acc))\n",
        "      \n",
        "      # Report metrics to wandb\n",
        "      if phase == \"train\":\n",
        "        wandb.log({\"epoch\": epoch, \"train_loss\": epoch_loss, \"train_acc\": epoch_acc})\n",
        "      if phase == \"val\":\n",
        "        wandb.log({\"epoch\": epoch, \"val_loss\":epoch_loss, \"val_acc\": epoch_acc})\n",
        "\n",
        "      # deep copy the model\n",
        "      if phase == \"val\" and epoch_acc > best_acc:\n",
        "        best_acc = epoch_acc\n",
        "        best_model_wts = copy.deepcopy(model.state_dict())\n",
        "      if phase == \"val\":\n",
        "        val_acc_history.append(epoch_acc)\n",
        "\n",
        "      print()\n",
        "\n",
        "  print(\"Best Val Accuracy: {:.4f}\".format(best_acc))\n",
        "\n",
        "  # load best model weights\n",
        "  model.load_state_dict(best_model_wts)\n",
        "\n",
        "  # Save the model\n",
        "  torch.save(model.state_dict(best_model_wts), \"resnet-152-weights-75epoch.pt\")\n",
        "\n",
        "  return model, val_acc_history"
      ],
      "execution_count": null,
      "outputs": []
    },
    {
      "cell_type": "markdown",
      "metadata": {
        "id": "BMwiBNE5dPfO"
      },
      "source": [
        "# Predict method\n",
        "ToDo: Need to add images for test"
      ]
    },
    {
      "cell_type": "code",
      "metadata": {
        "id": "FOhpw5G6bSvR"
      },
      "source": [
        "from sklearn.metrics import confusion_matrix\n",
        "import pandas as pd\n",
        "import matplotlib.pyplot as plt\n",
        "import seaborn as sns\n",
        "\n",
        "%matplotlib inline\n",
        "\n",
        "def test(model, dataloaders):\n",
        "  model.eval()\n",
        "\n",
        "  # Run the model on some test examples\n",
        "  with torch.no_grad():\n",
        "    correct, total = 0, 0\n",
        "    for images, labels in dataloaders['test']:\n",
        "      images, labels = images.to(device), labels.to(device)\n",
        "      outputs = model(images)\n",
        "      _, predicted = torch.max(outputs.data, 1)\n",
        "      total += labels.size(0)\n",
        "      correct += (predicted == labels).sum().item()\n",
        "\n",
        "      print(f\"Accuracy of the model on the {total} \" +\n",
        "            f\"test images: {100 * correct/total}%\")\n",
        "      \n",
        "      wandb.log({\"test accuracy\": correct/total})\n",
        "\n",
        "  # Plot the confusion matrix\n",
        "  truelabels = []\n",
        "  predictions = []\n",
        "  for images, labels in dataloaders[\"test\"]:\n",
        "    images, labels = images.to(device), labels.to(device)\n",
        "    for label in labels.cpu().data.numpy():\n",
        "      truelabels.append(label)\n",
        "    for prediction in model(images).data.cpu().numpy().argmax(1):\n",
        "      predictions.append(prediction)\n",
        "\n",
        "  cm = confusion_matrix(truelabels, predictions)\n",
        "  tick_marks = np.arange(len(labels))\n",
        "\n",
        "  df_cm = pd.DataFrame(cm, index = flower_labels, columns = flower_labels)\n",
        "  plt.figure(figsize = (7,7))\n",
        "  sns.heatmap(df_cm, annot=True, cmap=plt.cm.summer, fmt='g')\n",
        "  plt.xlabel(\"Predicted value\", fontsize = 20)\n",
        "  plt.ylabel(\"True value\", fontsize = 20)\n",
        "  plt.show()"
      ],
      "execution_count": null,
      "outputs": []
    },
    {
      "cell_type": "code",
      "metadata": {
        "colab": {
          "base_uri": "https://localhost:8080/",
          "height": 178
        },
        "id": "K7FHedfiAIYN",
        "outputId": "29aff099-d0fe-42a1-cada-2b2a11c8789e"
      },
      "source": [
        "# Build, train and analyze the model with the pipeline\n",
        "model = model_pipeline(config)"
      ],
      "execution_count": null,
      "outputs": [
        {
          "output_type": "error",
          "ename": "NameError",
          "evalue": "ignored",
          "traceback": [
            "\u001b[0;31m---------------------------------------------------------------------------\u001b[0m",
            "\u001b[0;31mNameError\u001b[0m                                 Traceback (most recent call last)",
            "\u001b[0;32m<ipython-input-1-78fbf03a599a>\u001b[0m in \u001b[0;36m<module>\u001b[0;34m()\u001b[0m\n\u001b[1;32m      1\u001b[0m \u001b[0;31m# Build, train and analyze the model with the pipeline\u001b[0m\u001b[0;34m\u001b[0m\u001b[0;34m\u001b[0m\u001b[0;34m\u001b[0m\u001b[0m\n\u001b[0;32m----> 2\u001b[0;31m \u001b[0mmodel\u001b[0m \u001b[0;34m=\u001b[0m \u001b[0mmodel_pipeline\u001b[0m\u001b[0;34m(\u001b[0m\u001b[0mconfig\u001b[0m\u001b[0;34m)\u001b[0m\u001b[0;34m\u001b[0m\u001b[0;34m\u001b[0m\u001b[0m\n\u001b[0m",
            "\u001b[0;31mNameError\u001b[0m: name 'model_pipeline' is not defined"
          ]
        }
      ]
    }
  ]
}