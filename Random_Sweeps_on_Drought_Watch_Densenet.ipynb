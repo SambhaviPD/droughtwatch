{
  "nbformat": 4,
  "nbformat_minor": 0,
  "metadata": {
    "colab": {
      "name": "Random Sweeps on Drought Watch - Densenet.ipynb",
      "provenance": [],
      "collapsed_sections": [],
      "machine_shape": "hm",
      "authorship_tag": "ABX9TyPzMkJKhgHryzQcDV5KjDUa",
      "include_colab_link": true
    },
    "kernelspec": {
      "name": "python3",
      "display_name": "Python 3"
    },
    "language_info": {
      "name": "python"
    },
    "accelerator": "GPU",
    "widgets": {
      "application/vnd.jupyter.widget-state+json": {
        "065ed76ed42e45dd95818acdc7e5bf17": {
          "model_module": "@jupyter-widgets/controls",
          "model_name": "HBoxModel",
          "state": {
            "_view_name": "HBoxView",
            "_dom_classes": [],
            "_model_name": "HBoxModel",
            "_view_module": "@jupyter-widgets/controls",
            "_model_module_version": "1.5.0",
            "_view_count": null,
            "_view_module_version": "1.5.0",
            "box_style": "",
            "layout": "IPY_MODEL_7ba4be5f53aa4390bbb5317debfc3c17",
            "_model_module": "@jupyter-widgets/controls",
            "children": [
              "IPY_MODEL_310f42aec11e4c209c6e217cba52e621",
              "IPY_MODEL_acf5c7e1d6744b718f624bd66717e1b6"
            ]
          }
        },
        "7ba4be5f53aa4390bbb5317debfc3c17": {
          "model_module": "@jupyter-widgets/base",
          "model_name": "LayoutModel",
          "state": {
            "_view_name": "LayoutView",
            "grid_template_rows": null,
            "right": null,
            "justify_content": null,
            "_view_module": "@jupyter-widgets/base",
            "overflow": null,
            "_model_module_version": "1.2.0",
            "_view_count": null,
            "flex_flow": null,
            "width": null,
            "min_width": null,
            "border": null,
            "align_items": null,
            "bottom": null,
            "_model_module": "@jupyter-widgets/base",
            "top": null,
            "grid_column": null,
            "overflow_y": null,
            "overflow_x": null,
            "grid_auto_flow": null,
            "grid_area": null,
            "grid_template_columns": null,
            "flex": null,
            "_model_name": "LayoutModel",
            "justify_items": null,
            "grid_row": null,
            "max_height": null,
            "align_content": null,
            "visibility": null,
            "align_self": null,
            "height": null,
            "min_height": null,
            "padding": null,
            "grid_auto_rows": null,
            "grid_gap": null,
            "max_width": null,
            "order": null,
            "_view_module_version": "1.2.0",
            "grid_template_areas": null,
            "object_position": null,
            "object_fit": null,
            "grid_auto_columns": null,
            "margin": null,
            "display": null,
            "left": null
          }
        },
        "310f42aec11e4c209c6e217cba52e621": {
          "model_module": "@jupyter-widgets/controls",
          "model_name": "FloatProgressModel",
          "state": {
            "_view_name": "ProgressView",
            "style": "IPY_MODEL_5b9aff31850d48ce9286d37614e94071",
            "_dom_classes": [],
            "description": "100%",
            "_model_name": "FloatProgressModel",
            "bar_style": "success",
            "max": 32342954,
            "_view_module": "@jupyter-widgets/controls",
            "_model_module_version": "1.5.0",
            "value": 32342954,
            "_view_count": null,
            "_view_module_version": "1.5.0",
            "orientation": "horizontal",
            "min": 0,
            "description_tooltip": null,
            "_model_module": "@jupyter-widgets/controls",
            "layout": "IPY_MODEL_f2ba7568d73b49ca92a642fbea4c6b2f"
          }
        },
        "acf5c7e1d6744b718f624bd66717e1b6": {
          "model_module": "@jupyter-widgets/controls",
          "model_name": "HTMLModel",
          "state": {
            "_view_name": "HTMLView",
            "style": "IPY_MODEL_a42364abb6a04826a0f716542ebc3c65",
            "_dom_classes": [],
            "description": "",
            "_model_name": "HTMLModel",
            "placeholder": "​",
            "_view_module": "@jupyter-widgets/controls",
            "_model_module_version": "1.5.0",
            "value": " 30.8M/30.8M [00:00&lt;00:00, 116MB/s]",
            "_view_count": null,
            "_view_module_version": "1.5.0",
            "description_tooltip": null,
            "_model_module": "@jupyter-widgets/controls",
            "layout": "IPY_MODEL_8f873b8c005049fcae7a7083b251612f"
          }
        },
        "5b9aff31850d48ce9286d37614e94071": {
          "model_module": "@jupyter-widgets/controls",
          "model_name": "ProgressStyleModel",
          "state": {
            "_view_name": "StyleView",
            "_model_name": "ProgressStyleModel",
            "description_width": "initial",
            "_view_module": "@jupyter-widgets/base",
            "_model_module_version": "1.5.0",
            "_view_count": null,
            "_view_module_version": "1.2.0",
            "bar_color": null,
            "_model_module": "@jupyter-widgets/controls"
          }
        },
        "f2ba7568d73b49ca92a642fbea4c6b2f": {
          "model_module": "@jupyter-widgets/base",
          "model_name": "LayoutModel",
          "state": {
            "_view_name": "LayoutView",
            "grid_template_rows": null,
            "right": null,
            "justify_content": null,
            "_view_module": "@jupyter-widgets/base",
            "overflow": null,
            "_model_module_version": "1.2.0",
            "_view_count": null,
            "flex_flow": null,
            "width": null,
            "min_width": null,
            "border": null,
            "align_items": null,
            "bottom": null,
            "_model_module": "@jupyter-widgets/base",
            "top": null,
            "grid_column": null,
            "overflow_y": null,
            "overflow_x": null,
            "grid_auto_flow": null,
            "grid_area": null,
            "grid_template_columns": null,
            "flex": null,
            "_model_name": "LayoutModel",
            "justify_items": null,
            "grid_row": null,
            "max_height": null,
            "align_content": null,
            "visibility": null,
            "align_self": null,
            "height": null,
            "min_height": null,
            "padding": null,
            "grid_auto_rows": null,
            "grid_gap": null,
            "max_width": null,
            "order": null,
            "_view_module_version": "1.2.0",
            "grid_template_areas": null,
            "object_position": null,
            "object_fit": null,
            "grid_auto_columns": null,
            "margin": null,
            "display": null,
            "left": null
          }
        },
        "a42364abb6a04826a0f716542ebc3c65": {
          "model_module": "@jupyter-widgets/controls",
          "model_name": "DescriptionStyleModel",
          "state": {
            "_view_name": "StyleView",
            "_model_name": "DescriptionStyleModel",
            "description_width": "",
            "_view_module": "@jupyter-widgets/base",
            "_model_module_version": "1.5.0",
            "_view_count": null,
            "_view_module_version": "1.2.0",
            "_model_module": "@jupyter-widgets/controls"
          }
        },
        "8f873b8c005049fcae7a7083b251612f": {
          "model_module": "@jupyter-widgets/base",
          "model_name": "LayoutModel",
          "state": {
            "_view_name": "LayoutView",
            "grid_template_rows": null,
            "right": null,
            "justify_content": null,
            "_view_module": "@jupyter-widgets/base",
            "overflow": null,
            "_model_module_version": "1.2.0",
            "_view_count": null,
            "flex_flow": null,
            "width": null,
            "min_width": null,
            "border": null,
            "align_items": null,
            "bottom": null,
            "_model_module": "@jupyter-widgets/base",
            "top": null,
            "grid_column": null,
            "overflow_y": null,
            "overflow_x": null,
            "grid_auto_flow": null,
            "grid_area": null,
            "grid_template_columns": null,
            "flex": null,
            "_model_name": "LayoutModel",
            "justify_items": null,
            "grid_row": null,
            "max_height": null,
            "align_content": null,
            "visibility": null,
            "align_self": null,
            "height": null,
            "min_height": null,
            "padding": null,
            "grid_auto_rows": null,
            "grid_gap": null,
            "max_width": null,
            "order": null,
            "_view_module_version": "1.2.0",
            "grid_template_areas": null,
            "object_position": null,
            "object_fit": null,
            "grid_auto_columns": null,
            "margin": null,
            "display": null,
            "left": null
          }
        },
        "4d71e94b461843b2a46a7790e39130c4": {
          "model_module": "@jupyter-widgets/controls",
          "model_name": "VBoxModel",
          "state": {
            "_view_name": "VBoxView",
            "_dom_classes": [],
            "_model_name": "VBoxModel",
            "_view_module": "@jupyter-widgets/controls",
            "_model_module_version": "1.5.0",
            "_view_count": null,
            "_view_module_version": "1.5.0",
            "box_style": "",
            "layout": "IPY_MODEL_a7e141cfecd2479c9e71db102677e5d3",
            "_model_module": "@jupyter-widgets/controls",
            "children": [
              "IPY_MODEL_59ec2333d97b43158492e54b5984c619",
              "IPY_MODEL_54aa96698abb4a498b488e4c7d6d9f39"
            ]
          }
        },
        "a7e141cfecd2479c9e71db102677e5d3": {
          "model_module": "@jupyter-widgets/base",
          "model_name": "LayoutModel",
          "state": {
            "_view_name": "LayoutView",
            "grid_template_rows": null,
            "right": null,
            "justify_content": null,
            "_view_module": "@jupyter-widgets/base",
            "overflow": null,
            "_model_module_version": "1.2.0",
            "_view_count": null,
            "flex_flow": null,
            "width": null,
            "min_width": null,
            "border": null,
            "align_items": null,
            "bottom": null,
            "_model_module": "@jupyter-widgets/base",
            "top": null,
            "grid_column": null,
            "overflow_y": null,
            "overflow_x": null,
            "grid_auto_flow": null,
            "grid_area": null,
            "grid_template_columns": null,
            "flex": null,
            "_model_name": "LayoutModel",
            "justify_items": null,
            "grid_row": null,
            "max_height": null,
            "align_content": null,
            "visibility": null,
            "align_self": null,
            "height": null,
            "min_height": null,
            "padding": null,
            "grid_auto_rows": null,
            "grid_gap": null,
            "max_width": null,
            "order": null,
            "_view_module_version": "1.2.0",
            "grid_template_areas": null,
            "object_position": null,
            "object_fit": null,
            "grid_auto_columns": null,
            "margin": null,
            "display": null,
            "left": null
          }
        },
        "59ec2333d97b43158492e54b5984c619": {
          "model_module": "@jupyter-widgets/controls",
          "model_name": "LabelModel",
          "state": {
            "_view_name": "LabelView",
            "style": "IPY_MODEL_82109c12a25b48889b7b2696e687873b",
            "_dom_classes": [],
            "description": "",
            "_model_name": "LabelModel",
            "placeholder": "​",
            "_view_module": "@jupyter-widgets/controls",
            "_model_module_version": "1.5.0",
            "value": " 0.01MB of 0.01MB uploaded (0.00MB deduped)\r",
            "_view_count": null,
            "_view_module_version": "1.5.0",
            "description_tooltip": null,
            "_model_module": "@jupyter-widgets/controls",
            "layout": "IPY_MODEL_8489e8968bb94fa5b3a77ccd2777d811"
          }
        },
        "54aa96698abb4a498b488e4c7d6d9f39": {
          "model_module": "@jupyter-widgets/controls",
          "model_name": "FloatProgressModel",
          "state": {
            "_view_name": "ProgressView",
            "style": "IPY_MODEL_ddc6372d2ca84e69998b1a35296f1fc6",
            "_dom_classes": [],
            "description": "",
            "_model_name": "FloatProgressModel",
            "bar_style": "",
            "max": 1,
            "_view_module": "@jupyter-widgets/controls",
            "_model_module_version": "1.5.0",
            "value": 1,
            "_view_count": null,
            "_view_module_version": "1.5.0",
            "orientation": "horizontal",
            "min": 0,
            "description_tooltip": null,
            "_model_module": "@jupyter-widgets/controls",
            "layout": "IPY_MODEL_31546a657c124bf8ab891164b0283915"
          }
        },
        "82109c12a25b48889b7b2696e687873b": {
          "model_module": "@jupyter-widgets/controls",
          "model_name": "DescriptionStyleModel",
          "state": {
            "_view_name": "StyleView",
            "_model_name": "DescriptionStyleModel",
            "description_width": "",
            "_view_module": "@jupyter-widgets/base",
            "_model_module_version": "1.5.0",
            "_view_count": null,
            "_view_module_version": "1.2.0",
            "_model_module": "@jupyter-widgets/controls"
          }
        },
        "8489e8968bb94fa5b3a77ccd2777d811": {
          "model_module": "@jupyter-widgets/base",
          "model_name": "LayoutModel",
          "state": {
            "_view_name": "LayoutView",
            "grid_template_rows": null,
            "right": null,
            "justify_content": null,
            "_view_module": "@jupyter-widgets/base",
            "overflow": null,
            "_model_module_version": "1.2.0",
            "_view_count": null,
            "flex_flow": null,
            "width": null,
            "min_width": null,
            "border": null,
            "align_items": null,
            "bottom": null,
            "_model_module": "@jupyter-widgets/base",
            "top": null,
            "grid_column": null,
            "overflow_y": null,
            "overflow_x": null,
            "grid_auto_flow": null,
            "grid_area": null,
            "grid_template_columns": null,
            "flex": null,
            "_model_name": "LayoutModel",
            "justify_items": null,
            "grid_row": null,
            "max_height": null,
            "align_content": null,
            "visibility": null,
            "align_self": null,
            "height": null,
            "min_height": null,
            "padding": null,
            "grid_auto_rows": null,
            "grid_gap": null,
            "max_width": null,
            "order": null,
            "_view_module_version": "1.2.0",
            "grid_template_areas": null,
            "object_position": null,
            "object_fit": null,
            "grid_auto_columns": null,
            "margin": null,
            "display": null,
            "left": null
          }
        },
        "ddc6372d2ca84e69998b1a35296f1fc6": {
          "model_module": "@jupyter-widgets/controls",
          "model_name": "ProgressStyleModel",
          "state": {
            "_view_name": "StyleView",
            "_model_name": "ProgressStyleModel",
            "description_width": "",
            "_view_module": "@jupyter-widgets/base",
            "_model_module_version": "1.5.0",
            "_view_count": null,
            "_view_module_version": "1.2.0",
            "bar_color": null,
            "_model_module": "@jupyter-widgets/controls"
          }
        },
        "31546a657c124bf8ab891164b0283915": {
          "model_module": "@jupyter-widgets/base",
          "model_name": "LayoutModel",
          "state": {
            "_view_name": "LayoutView",
            "grid_template_rows": null,
            "right": null,
            "justify_content": null,
            "_view_module": "@jupyter-widgets/base",
            "overflow": null,
            "_model_module_version": "1.2.0",
            "_view_count": null,
            "flex_flow": null,
            "width": null,
            "min_width": null,
            "border": null,
            "align_items": null,
            "bottom": null,
            "_model_module": "@jupyter-widgets/base",
            "top": null,
            "grid_column": null,
            "overflow_y": null,
            "overflow_x": null,
            "grid_auto_flow": null,
            "grid_area": null,
            "grid_template_columns": null,
            "flex": null,
            "_model_name": "LayoutModel",
            "justify_items": null,
            "grid_row": null,
            "max_height": null,
            "align_content": null,
            "visibility": null,
            "align_self": null,
            "height": null,
            "min_height": null,
            "padding": null,
            "grid_auto_rows": null,
            "grid_gap": null,
            "max_width": null,
            "order": null,
            "_view_module_version": "1.2.0",
            "grid_template_areas": null,
            "object_position": null,
            "object_fit": null,
            "grid_auto_columns": null,
            "margin": null,
            "display": null,
            "left": null
          }
        },
        "68ce904c07564132976358ef6b62a377": {
          "model_module": "@jupyter-widgets/controls",
          "model_name": "VBoxModel",
          "state": {
            "_view_name": "VBoxView",
            "_dom_classes": [],
            "_model_name": "VBoxModel",
            "_view_module": "@jupyter-widgets/controls",
            "_model_module_version": "1.5.0",
            "_view_count": null,
            "_view_module_version": "1.5.0",
            "box_style": "",
            "layout": "IPY_MODEL_8515f0e8a0ad4fecb393fd953ca52637",
            "_model_module": "@jupyter-widgets/controls",
            "children": [
              "IPY_MODEL_43b1f1aa690d4bef953d7d51dd091506",
              "IPY_MODEL_7261075af3bc4cff8e7a8cb5df394b17"
            ]
          }
        },
        "8515f0e8a0ad4fecb393fd953ca52637": {
          "model_module": "@jupyter-widgets/base",
          "model_name": "LayoutModel",
          "state": {
            "_view_name": "LayoutView",
            "grid_template_rows": null,
            "right": null,
            "justify_content": null,
            "_view_module": "@jupyter-widgets/base",
            "overflow": null,
            "_model_module_version": "1.2.0",
            "_view_count": null,
            "flex_flow": null,
            "width": null,
            "min_width": null,
            "border": null,
            "align_items": null,
            "bottom": null,
            "_model_module": "@jupyter-widgets/base",
            "top": null,
            "grid_column": null,
            "overflow_y": null,
            "overflow_x": null,
            "grid_auto_flow": null,
            "grid_area": null,
            "grid_template_columns": null,
            "flex": null,
            "_model_name": "LayoutModel",
            "justify_items": null,
            "grid_row": null,
            "max_height": null,
            "align_content": null,
            "visibility": null,
            "align_self": null,
            "height": null,
            "min_height": null,
            "padding": null,
            "grid_auto_rows": null,
            "grid_gap": null,
            "max_width": null,
            "order": null,
            "_view_module_version": "1.2.0",
            "grid_template_areas": null,
            "object_position": null,
            "object_fit": null,
            "grid_auto_columns": null,
            "margin": null,
            "display": null,
            "left": null
          }
        },
        "43b1f1aa690d4bef953d7d51dd091506": {
          "model_module": "@jupyter-widgets/controls",
          "model_name": "LabelModel",
          "state": {
            "_view_name": "LabelView",
            "style": "IPY_MODEL_d237a337a2cf4f2094786e08ee8f63ec",
            "_dom_classes": [],
            "description": "",
            "_model_name": "LabelModel",
            "placeholder": "​",
            "_view_module": "@jupyter-widgets/controls",
            "_model_module_version": "1.5.0",
            "value": " 0.01MB of 0.01MB uploaded (0.00MB deduped)\r",
            "_view_count": null,
            "_view_module_version": "1.5.0",
            "description_tooltip": null,
            "_model_module": "@jupyter-widgets/controls",
            "layout": "IPY_MODEL_e04ced73ff2749a892f01a9e4c1c8426"
          }
        },
        "7261075af3bc4cff8e7a8cb5df394b17": {
          "model_module": "@jupyter-widgets/controls",
          "model_name": "FloatProgressModel",
          "state": {
            "_view_name": "ProgressView",
            "style": "IPY_MODEL_418b6449a8184660b2931264e86de235",
            "_dom_classes": [],
            "description": "",
            "_model_name": "FloatProgressModel",
            "bar_style": "",
            "max": 1,
            "_view_module": "@jupyter-widgets/controls",
            "_model_module_version": "1.5.0",
            "value": 1,
            "_view_count": null,
            "_view_module_version": "1.5.0",
            "orientation": "horizontal",
            "min": 0,
            "description_tooltip": null,
            "_model_module": "@jupyter-widgets/controls",
            "layout": "IPY_MODEL_2c1e035f8f0c43278ec00d6b95d33d6e"
          }
        },
        "d237a337a2cf4f2094786e08ee8f63ec": {
          "model_module": "@jupyter-widgets/controls",
          "model_name": "DescriptionStyleModel",
          "state": {
            "_view_name": "StyleView",
            "_model_name": "DescriptionStyleModel",
            "description_width": "",
            "_view_module": "@jupyter-widgets/base",
            "_model_module_version": "1.5.0",
            "_view_count": null,
            "_view_module_version": "1.2.0",
            "_model_module": "@jupyter-widgets/controls"
          }
        },
        "e04ced73ff2749a892f01a9e4c1c8426": {
          "model_module": "@jupyter-widgets/base",
          "model_name": "LayoutModel",
          "state": {
            "_view_name": "LayoutView",
            "grid_template_rows": null,
            "right": null,
            "justify_content": null,
            "_view_module": "@jupyter-widgets/base",
            "overflow": null,
            "_model_module_version": "1.2.0",
            "_view_count": null,
            "flex_flow": null,
            "width": null,
            "min_width": null,
            "border": null,
            "align_items": null,
            "bottom": null,
            "_model_module": "@jupyter-widgets/base",
            "top": null,
            "grid_column": null,
            "overflow_y": null,
            "overflow_x": null,
            "grid_auto_flow": null,
            "grid_area": null,
            "grid_template_columns": null,
            "flex": null,
            "_model_name": "LayoutModel",
            "justify_items": null,
            "grid_row": null,
            "max_height": null,
            "align_content": null,
            "visibility": null,
            "align_self": null,
            "height": null,
            "min_height": null,
            "padding": null,
            "grid_auto_rows": null,
            "grid_gap": null,
            "max_width": null,
            "order": null,
            "_view_module_version": "1.2.0",
            "grid_template_areas": null,
            "object_position": null,
            "object_fit": null,
            "grid_auto_columns": null,
            "margin": null,
            "display": null,
            "left": null
          }
        },
        "418b6449a8184660b2931264e86de235": {
          "model_module": "@jupyter-widgets/controls",
          "model_name": "ProgressStyleModel",
          "state": {
            "_view_name": "StyleView",
            "_model_name": "ProgressStyleModel",
            "description_width": "",
            "_view_module": "@jupyter-widgets/base",
            "_model_module_version": "1.5.0",
            "_view_count": null,
            "_view_module_version": "1.2.0",
            "bar_color": null,
            "_model_module": "@jupyter-widgets/controls"
          }
        },
        "2c1e035f8f0c43278ec00d6b95d33d6e": {
          "model_module": "@jupyter-widgets/base",
          "model_name": "LayoutModel",
          "state": {
            "_view_name": "LayoutView",
            "grid_template_rows": null,
            "right": null,
            "justify_content": null,
            "_view_module": "@jupyter-widgets/base",
            "overflow": null,
            "_model_module_version": "1.2.0",
            "_view_count": null,
            "flex_flow": null,
            "width": null,
            "min_width": null,
            "border": null,
            "align_items": null,
            "bottom": null,
            "_model_module": "@jupyter-widgets/base",
            "top": null,
            "grid_column": null,
            "overflow_y": null,
            "overflow_x": null,
            "grid_auto_flow": null,
            "grid_area": null,
            "grid_template_columns": null,
            "flex": null,
            "_model_name": "LayoutModel",
            "justify_items": null,
            "grid_row": null,
            "max_height": null,
            "align_content": null,
            "visibility": null,
            "align_self": null,
            "height": null,
            "min_height": null,
            "padding": null,
            "grid_auto_rows": null,
            "grid_gap": null,
            "max_width": null,
            "order": null,
            "_view_module_version": "1.2.0",
            "grid_template_areas": null,
            "object_position": null,
            "object_fit": null,
            "grid_auto_columns": null,
            "margin": null,
            "display": null,
            "left": null
          }
        },
        "3e4c8f0ec4104bfd95b5c26907f15d52": {
          "model_module": "@jupyter-widgets/controls",
          "model_name": "VBoxModel",
          "state": {
            "_view_name": "VBoxView",
            "_dom_classes": [],
            "_model_name": "VBoxModel",
            "_view_module": "@jupyter-widgets/controls",
            "_model_module_version": "1.5.0",
            "_view_count": null,
            "_view_module_version": "1.5.0",
            "box_style": "",
            "layout": "IPY_MODEL_cd6df04fce1c45378e4bf54b619d4e2b",
            "_model_module": "@jupyter-widgets/controls",
            "children": [
              "IPY_MODEL_0d009299c51e4ac7b8c552f4d1d5e3fa",
              "IPY_MODEL_09399cb237e34e08aa3fb2a0b037c240"
            ]
          }
        },
        "cd6df04fce1c45378e4bf54b619d4e2b": {
          "model_module": "@jupyter-widgets/base",
          "model_name": "LayoutModel",
          "state": {
            "_view_name": "LayoutView",
            "grid_template_rows": null,
            "right": null,
            "justify_content": null,
            "_view_module": "@jupyter-widgets/base",
            "overflow": null,
            "_model_module_version": "1.2.0",
            "_view_count": null,
            "flex_flow": null,
            "width": null,
            "min_width": null,
            "border": null,
            "align_items": null,
            "bottom": null,
            "_model_module": "@jupyter-widgets/base",
            "top": null,
            "grid_column": null,
            "overflow_y": null,
            "overflow_x": null,
            "grid_auto_flow": null,
            "grid_area": null,
            "grid_template_columns": null,
            "flex": null,
            "_model_name": "LayoutModel",
            "justify_items": null,
            "grid_row": null,
            "max_height": null,
            "align_content": null,
            "visibility": null,
            "align_self": null,
            "height": null,
            "min_height": null,
            "padding": null,
            "grid_auto_rows": null,
            "grid_gap": null,
            "max_width": null,
            "order": null,
            "_view_module_version": "1.2.0",
            "grid_template_areas": null,
            "object_position": null,
            "object_fit": null,
            "grid_auto_columns": null,
            "margin": null,
            "display": null,
            "left": null
          }
        },
        "0d009299c51e4ac7b8c552f4d1d5e3fa": {
          "model_module": "@jupyter-widgets/controls",
          "model_name": "LabelModel",
          "state": {
            "_view_name": "LabelView",
            "style": "IPY_MODEL_bf7d7b2166e24346b3d4d29cb4d78ed0",
            "_dom_classes": [],
            "description": "",
            "_model_name": "LabelModel",
            "placeholder": "​",
            "_view_module": "@jupyter-widgets/controls",
            "_model_module_version": "1.5.0",
            "value": " 0.01MB of 0.01MB uploaded (0.00MB deduped)\r",
            "_view_count": null,
            "_view_module_version": "1.5.0",
            "description_tooltip": null,
            "_model_module": "@jupyter-widgets/controls",
            "layout": "IPY_MODEL_3a586a66fb844db8977941b28e7993aa"
          }
        },
        "09399cb237e34e08aa3fb2a0b037c240": {
          "model_module": "@jupyter-widgets/controls",
          "model_name": "FloatProgressModel",
          "state": {
            "_view_name": "ProgressView",
            "style": "IPY_MODEL_9bae02bbb21f438c8dc206406009bc63",
            "_dom_classes": [],
            "description": "",
            "_model_name": "FloatProgressModel",
            "bar_style": "",
            "max": 1,
            "_view_module": "@jupyter-widgets/controls",
            "_model_module_version": "1.5.0",
            "value": 1,
            "_view_count": null,
            "_view_module_version": "1.5.0",
            "orientation": "horizontal",
            "min": 0,
            "description_tooltip": null,
            "_model_module": "@jupyter-widgets/controls",
            "layout": "IPY_MODEL_a5dc9ce8ba3f4740a0bc35b294733739"
          }
        },
        "bf7d7b2166e24346b3d4d29cb4d78ed0": {
          "model_module": "@jupyter-widgets/controls",
          "model_name": "DescriptionStyleModel",
          "state": {
            "_view_name": "StyleView",
            "_model_name": "DescriptionStyleModel",
            "description_width": "",
            "_view_module": "@jupyter-widgets/base",
            "_model_module_version": "1.5.0",
            "_view_count": null,
            "_view_module_version": "1.2.0",
            "_model_module": "@jupyter-widgets/controls"
          }
        },
        "3a586a66fb844db8977941b28e7993aa": {
          "model_module": "@jupyter-widgets/base",
          "model_name": "LayoutModel",
          "state": {
            "_view_name": "LayoutView",
            "grid_template_rows": null,
            "right": null,
            "justify_content": null,
            "_view_module": "@jupyter-widgets/base",
            "overflow": null,
            "_model_module_version": "1.2.0",
            "_view_count": null,
            "flex_flow": null,
            "width": null,
            "min_width": null,
            "border": null,
            "align_items": null,
            "bottom": null,
            "_model_module": "@jupyter-widgets/base",
            "top": null,
            "grid_column": null,
            "overflow_y": null,
            "overflow_x": null,
            "grid_auto_flow": null,
            "grid_area": null,
            "grid_template_columns": null,
            "flex": null,
            "_model_name": "LayoutModel",
            "justify_items": null,
            "grid_row": null,
            "max_height": null,
            "align_content": null,
            "visibility": null,
            "align_self": null,
            "height": null,
            "min_height": null,
            "padding": null,
            "grid_auto_rows": null,
            "grid_gap": null,
            "max_width": null,
            "order": null,
            "_view_module_version": "1.2.0",
            "grid_template_areas": null,
            "object_position": null,
            "object_fit": null,
            "grid_auto_columns": null,
            "margin": null,
            "display": null,
            "left": null
          }
        },
        "9bae02bbb21f438c8dc206406009bc63": {
          "model_module": "@jupyter-widgets/controls",
          "model_name": "ProgressStyleModel",
          "state": {
            "_view_name": "StyleView",
            "_model_name": "ProgressStyleModel",
            "description_width": "",
            "_view_module": "@jupyter-widgets/base",
            "_model_module_version": "1.5.0",
            "_view_count": null,
            "_view_module_version": "1.2.0",
            "bar_color": null,
            "_model_module": "@jupyter-widgets/controls"
          }
        },
        "a5dc9ce8ba3f4740a0bc35b294733739": {
          "model_module": "@jupyter-widgets/base",
          "model_name": "LayoutModel",
          "state": {
            "_view_name": "LayoutView",
            "grid_template_rows": null,
            "right": null,
            "justify_content": null,
            "_view_module": "@jupyter-widgets/base",
            "overflow": null,
            "_model_module_version": "1.2.0",
            "_view_count": null,
            "flex_flow": null,
            "width": null,
            "min_width": null,
            "border": null,
            "align_items": null,
            "bottom": null,
            "_model_module": "@jupyter-widgets/base",
            "top": null,
            "grid_column": null,
            "overflow_y": null,
            "overflow_x": null,
            "grid_auto_flow": null,
            "grid_area": null,
            "grid_template_columns": null,
            "flex": null,
            "_model_name": "LayoutModel",
            "justify_items": null,
            "grid_row": null,
            "max_height": null,
            "align_content": null,
            "visibility": null,
            "align_self": null,
            "height": null,
            "min_height": null,
            "padding": null,
            "grid_auto_rows": null,
            "grid_gap": null,
            "max_width": null,
            "order": null,
            "_view_module_version": "1.2.0",
            "grid_template_areas": null,
            "object_position": null,
            "object_fit": null,
            "grid_auto_columns": null,
            "margin": null,
            "display": null,
            "left": null
          }
        },
        "5d28f85a9d1e4c71be54b74dded38277": {
          "model_module": "@jupyter-widgets/controls",
          "model_name": "VBoxModel",
          "state": {
            "_view_name": "VBoxView",
            "_dom_classes": [],
            "_model_name": "VBoxModel",
            "_view_module": "@jupyter-widgets/controls",
            "_model_module_version": "1.5.0",
            "_view_count": null,
            "_view_module_version": "1.5.0",
            "box_style": "",
            "layout": "IPY_MODEL_6724d26730954950a483451d7215382e",
            "_model_module": "@jupyter-widgets/controls",
            "children": [
              "IPY_MODEL_6de487dae9d74e089f607c636ba935a3",
              "IPY_MODEL_c240c292a4b64c7785b13cd346d6d2e5"
            ]
          }
        },
        "6724d26730954950a483451d7215382e": {
          "model_module": "@jupyter-widgets/base",
          "model_name": "LayoutModel",
          "state": {
            "_view_name": "LayoutView",
            "grid_template_rows": null,
            "right": null,
            "justify_content": null,
            "_view_module": "@jupyter-widgets/base",
            "overflow": null,
            "_model_module_version": "1.2.0",
            "_view_count": null,
            "flex_flow": null,
            "width": null,
            "min_width": null,
            "border": null,
            "align_items": null,
            "bottom": null,
            "_model_module": "@jupyter-widgets/base",
            "top": null,
            "grid_column": null,
            "overflow_y": null,
            "overflow_x": null,
            "grid_auto_flow": null,
            "grid_area": null,
            "grid_template_columns": null,
            "flex": null,
            "_model_name": "LayoutModel",
            "justify_items": null,
            "grid_row": null,
            "max_height": null,
            "align_content": null,
            "visibility": null,
            "align_self": null,
            "height": null,
            "min_height": null,
            "padding": null,
            "grid_auto_rows": null,
            "grid_gap": null,
            "max_width": null,
            "order": null,
            "_view_module_version": "1.2.0",
            "grid_template_areas": null,
            "object_position": null,
            "object_fit": null,
            "grid_auto_columns": null,
            "margin": null,
            "display": null,
            "left": null
          }
        },
        "6de487dae9d74e089f607c636ba935a3": {
          "model_module": "@jupyter-widgets/controls",
          "model_name": "LabelModel",
          "state": {
            "_view_name": "LabelView",
            "style": "IPY_MODEL_283453b04a7941e1bf4a1988f721fa7f",
            "_dom_classes": [],
            "description": "",
            "_model_name": "LabelModel",
            "placeholder": "​",
            "_view_module": "@jupyter-widgets/controls",
            "_model_module_version": "1.5.0",
            "value": " 0.01MB of 0.01MB uploaded (0.00MB deduped)\r",
            "_view_count": null,
            "_view_module_version": "1.5.0",
            "description_tooltip": null,
            "_model_module": "@jupyter-widgets/controls",
            "layout": "IPY_MODEL_f371434e996b4f7e86c8caff6c7293a2"
          }
        },
        "c240c292a4b64c7785b13cd346d6d2e5": {
          "model_module": "@jupyter-widgets/controls",
          "model_name": "FloatProgressModel",
          "state": {
            "_view_name": "ProgressView",
            "style": "IPY_MODEL_6eeaaaf4240149be80d0e79be8c4f3d4",
            "_dom_classes": [],
            "description": "",
            "_model_name": "FloatProgressModel",
            "bar_style": "",
            "max": 1,
            "_view_module": "@jupyter-widgets/controls",
            "_model_module_version": "1.5.0",
            "value": 1,
            "_view_count": null,
            "_view_module_version": "1.5.0",
            "orientation": "horizontal",
            "min": 0,
            "description_tooltip": null,
            "_model_module": "@jupyter-widgets/controls",
            "layout": "IPY_MODEL_c5d51b92281f4c87923d3e75eb819571"
          }
        },
        "283453b04a7941e1bf4a1988f721fa7f": {
          "model_module": "@jupyter-widgets/controls",
          "model_name": "DescriptionStyleModel",
          "state": {
            "_view_name": "StyleView",
            "_model_name": "DescriptionStyleModel",
            "description_width": "",
            "_view_module": "@jupyter-widgets/base",
            "_model_module_version": "1.5.0",
            "_view_count": null,
            "_view_module_version": "1.2.0",
            "_model_module": "@jupyter-widgets/controls"
          }
        },
        "f371434e996b4f7e86c8caff6c7293a2": {
          "model_module": "@jupyter-widgets/base",
          "model_name": "LayoutModel",
          "state": {
            "_view_name": "LayoutView",
            "grid_template_rows": null,
            "right": null,
            "justify_content": null,
            "_view_module": "@jupyter-widgets/base",
            "overflow": null,
            "_model_module_version": "1.2.0",
            "_view_count": null,
            "flex_flow": null,
            "width": null,
            "min_width": null,
            "border": null,
            "align_items": null,
            "bottom": null,
            "_model_module": "@jupyter-widgets/base",
            "top": null,
            "grid_column": null,
            "overflow_y": null,
            "overflow_x": null,
            "grid_auto_flow": null,
            "grid_area": null,
            "grid_template_columns": null,
            "flex": null,
            "_model_name": "LayoutModel",
            "justify_items": null,
            "grid_row": null,
            "max_height": null,
            "align_content": null,
            "visibility": null,
            "align_self": null,
            "height": null,
            "min_height": null,
            "padding": null,
            "grid_auto_rows": null,
            "grid_gap": null,
            "max_width": null,
            "order": null,
            "_view_module_version": "1.2.0",
            "grid_template_areas": null,
            "object_position": null,
            "object_fit": null,
            "grid_auto_columns": null,
            "margin": null,
            "display": null,
            "left": null
          }
        },
        "6eeaaaf4240149be80d0e79be8c4f3d4": {
          "model_module": "@jupyter-widgets/controls",
          "model_name": "ProgressStyleModel",
          "state": {
            "_view_name": "StyleView",
            "_model_name": "ProgressStyleModel",
            "description_width": "",
            "_view_module": "@jupyter-widgets/base",
            "_model_module_version": "1.5.0",
            "_view_count": null,
            "_view_module_version": "1.2.0",
            "bar_color": null,
            "_model_module": "@jupyter-widgets/controls"
          }
        },
        "c5d51b92281f4c87923d3e75eb819571": {
          "model_module": "@jupyter-widgets/base",
          "model_name": "LayoutModel",
          "state": {
            "_view_name": "LayoutView",
            "grid_template_rows": null,
            "right": null,
            "justify_content": null,
            "_view_module": "@jupyter-widgets/base",
            "overflow": null,
            "_model_module_version": "1.2.0",
            "_view_count": null,
            "flex_flow": null,
            "width": null,
            "min_width": null,
            "border": null,
            "align_items": null,
            "bottom": null,
            "_model_module": "@jupyter-widgets/base",
            "top": null,
            "grid_column": null,
            "overflow_y": null,
            "overflow_x": null,
            "grid_auto_flow": null,
            "grid_area": null,
            "grid_template_columns": null,
            "flex": null,
            "_model_name": "LayoutModel",
            "justify_items": null,
            "grid_row": null,
            "max_height": null,
            "align_content": null,
            "visibility": null,
            "align_self": null,
            "height": null,
            "min_height": null,
            "padding": null,
            "grid_auto_rows": null,
            "grid_gap": null,
            "max_width": null,
            "order": null,
            "_view_module_version": "1.2.0",
            "grid_template_areas": null,
            "object_position": null,
            "object_fit": null,
            "grid_auto_columns": null,
            "margin": null,
            "display": null,
            "left": null
          }
        },
        "4ea1249790914eaca25025f7f456bd0c": {
          "model_module": "@jupyter-widgets/controls",
          "model_name": "VBoxModel",
          "state": {
            "_view_name": "VBoxView",
            "_dom_classes": [],
            "_model_name": "VBoxModel",
            "_view_module": "@jupyter-widgets/controls",
            "_model_module_version": "1.5.0",
            "_view_count": null,
            "_view_module_version": "1.5.0",
            "box_style": "",
            "layout": "IPY_MODEL_8b1042f646054e7792c34d016d63d74c",
            "_model_module": "@jupyter-widgets/controls",
            "children": [
              "IPY_MODEL_729d00b1b9714a93a7c31504892d30e7",
              "IPY_MODEL_4a8d605f9ed04b1b90d9e80378f3975e"
            ]
          }
        },
        "8b1042f646054e7792c34d016d63d74c": {
          "model_module": "@jupyter-widgets/base",
          "model_name": "LayoutModel",
          "state": {
            "_view_name": "LayoutView",
            "grid_template_rows": null,
            "right": null,
            "justify_content": null,
            "_view_module": "@jupyter-widgets/base",
            "overflow": null,
            "_model_module_version": "1.2.0",
            "_view_count": null,
            "flex_flow": null,
            "width": null,
            "min_width": null,
            "border": null,
            "align_items": null,
            "bottom": null,
            "_model_module": "@jupyter-widgets/base",
            "top": null,
            "grid_column": null,
            "overflow_y": null,
            "overflow_x": null,
            "grid_auto_flow": null,
            "grid_area": null,
            "grid_template_columns": null,
            "flex": null,
            "_model_name": "LayoutModel",
            "justify_items": null,
            "grid_row": null,
            "max_height": null,
            "align_content": null,
            "visibility": null,
            "align_self": null,
            "height": null,
            "min_height": null,
            "padding": null,
            "grid_auto_rows": null,
            "grid_gap": null,
            "max_width": null,
            "order": null,
            "_view_module_version": "1.2.0",
            "grid_template_areas": null,
            "object_position": null,
            "object_fit": null,
            "grid_auto_columns": null,
            "margin": null,
            "display": null,
            "left": null
          }
        },
        "729d00b1b9714a93a7c31504892d30e7": {
          "model_module": "@jupyter-widgets/controls",
          "model_name": "LabelModel",
          "state": {
            "_view_name": "LabelView",
            "style": "IPY_MODEL_15abff938d4c4ac5ad5c713e9e5adc2f",
            "_dom_classes": [],
            "description": "",
            "_model_name": "LabelModel",
            "placeholder": "​",
            "_view_module": "@jupyter-widgets/controls",
            "_model_module_version": "1.5.0",
            "value": " 0.01MB of 0.01MB uploaded (0.00MB deduped)\r",
            "_view_count": null,
            "_view_module_version": "1.5.0",
            "description_tooltip": null,
            "_model_module": "@jupyter-widgets/controls",
            "layout": "IPY_MODEL_f58c06f1dedb48c5b68f8117f3346509"
          }
        },
        "4a8d605f9ed04b1b90d9e80378f3975e": {
          "model_module": "@jupyter-widgets/controls",
          "model_name": "FloatProgressModel",
          "state": {
            "_view_name": "ProgressView",
            "style": "IPY_MODEL_66a7a188d49a4b66bc235e0a04788612",
            "_dom_classes": [],
            "description": "",
            "_model_name": "FloatProgressModel",
            "bar_style": "",
            "max": 1,
            "_view_module": "@jupyter-widgets/controls",
            "_model_module_version": "1.5.0",
            "value": 1,
            "_view_count": null,
            "_view_module_version": "1.5.0",
            "orientation": "horizontal",
            "min": 0,
            "description_tooltip": null,
            "_model_module": "@jupyter-widgets/controls",
            "layout": "IPY_MODEL_5f4f9bf3b91f45a297c1d3c6c52c7aad"
          }
        },
        "15abff938d4c4ac5ad5c713e9e5adc2f": {
          "model_module": "@jupyter-widgets/controls",
          "model_name": "DescriptionStyleModel",
          "state": {
            "_view_name": "StyleView",
            "_model_name": "DescriptionStyleModel",
            "description_width": "",
            "_view_module": "@jupyter-widgets/base",
            "_model_module_version": "1.5.0",
            "_view_count": null,
            "_view_module_version": "1.2.0",
            "_model_module": "@jupyter-widgets/controls"
          }
        },
        "f58c06f1dedb48c5b68f8117f3346509": {
          "model_module": "@jupyter-widgets/base",
          "model_name": "LayoutModel",
          "state": {
            "_view_name": "LayoutView",
            "grid_template_rows": null,
            "right": null,
            "justify_content": null,
            "_view_module": "@jupyter-widgets/base",
            "overflow": null,
            "_model_module_version": "1.2.0",
            "_view_count": null,
            "flex_flow": null,
            "width": null,
            "min_width": null,
            "border": null,
            "align_items": null,
            "bottom": null,
            "_model_module": "@jupyter-widgets/base",
            "top": null,
            "grid_column": null,
            "overflow_y": null,
            "overflow_x": null,
            "grid_auto_flow": null,
            "grid_area": null,
            "grid_template_columns": null,
            "flex": null,
            "_model_name": "LayoutModel",
            "justify_items": null,
            "grid_row": null,
            "max_height": null,
            "align_content": null,
            "visibility": null,
            "align_self": null,
            "height": null,
            "min_height": null,
            "padding": null,
            "grid_auto_rows": null,
            "grid_gap": null,
            "max_width": null,
            "order": null,
            "_view_module_version": "1.2.0",
            "grid_template_areas": null,
            "object_position": null,
            "object_fit": null,
            "grid_auto_columns": null,
            "margin": null,
            "display": null,
            "left": null
          }
        },
        "66a7a188d49a4b66bc235e0a04788612": {
          "model_module": "@jupyter-widgets/controls",
          "model_name": "ProgressStyleModel",
          "state": {
            "_view_name": "StyleView",
            "_model_name": "ProgressStyleModel",
            "description_width": "",
            "_view_module": "@jupyter-widgets/base",
            "_model_module_version": "1.5.0",
            "_view_count": null,
            "_view_module_version": "1.2.0",
            "bar_color": null,
            "_model_module": "@jupyter-widgets/controls"
          }
        },
        "5f4f9bf3b91f45a297c1d3c6c52c7aad": {
          "model_module": "@jupyter-widgets/base",
          "model_name": "LayoutModel",
          "state": {
            "_view_name": "LayoutView",
            "grid_template_rows": null,
            "right": null,
            "justify_content": null,
            "_view_module": "@jupyter-widgets/base",
            "overflow": null,
            "_model_module_version": "1.2.0",
            "_view_count": null,
            "flex_flow": null,
            "width": null,
            "min_width": null,
            "border": null,
            "align_items": null,
            "bottom": null,
            "_model_module": "@jupyter-widgets/base",
            "top": null,
            "grid_column": null,
            "overflow_y": null,
            "overflow_x": null,
            "grid_auto_flow": null,
            "grid_area": null,
            "grid_template_columns": null,
            "flex": null,
            "_model_name": "LayoutModel",
            "justify_items": null,
            "grid_row": null,
            "max_height": null,
            "align_content": null,
            "visibility": null,
            "align_self": null,
            "height": null,
            "min_height": null,
            "padding": null,
            "grid_auto_rows": null,
            "grid_gap": null,
            "max_width": null,
            "order": null,
            "_view_module_version": "1.2.0",
            "grid_template_areas": null,
            "object_position": null,
            "object_fit": null,
            "grid_auto_columns": null,
            "margin": null,
            "display": null,
            "left": null
          }
        },
        "820e70ebc58748dcbfb7147ed1a20ddf": {
          "model_module": "@jupyter-widgets/controls",
          "model_name": "VBoxModel",
          "state": {
            "_view_name": "VBoxView",
            "_dom_classes": [],
            "_model_name": "VBoxModel",
            "_view_module": "@jupyter-widgets/controls",
            "_model_module_version": "1.5.0",
            "_view_count": null,
            "_view_module_version": "1.5.0",
            "box_style": "",
            "layout": "IPY_MODEL_9ef297bee65a40789d8252e8fa3a779d",
            "_model_module": "@jupyter-widgets/controls",
            "children": [
              "IPY_MODEL_9854558eb5d44b13bb9cc59574cd0eae",
              "IPY_MODEL_bf4e990decb1483eab6e4fbcf7fad863"
            ]
          }
        },
        "9ef297bee65a40789d8252e8fa3a779d": {
          "model_module": "@jupyter-widgets/base",
          "model_name": "LayoutModel",
          "state": {
            "_view_name": "LayoutView",
            "grid_template_rows": null,
            "right": null,
            "justify_content": null,
            "_view_module": "@jupyter-widgets/base",
            "overflow": null,
            "_model_module_version": "1.2.0",
            "_view_count": null,
            "flex_flow": null,
            "width": null,
            "min_width": null,
            "border": null,
            "align_items": null,
            "bottom": null,
            "_model_module": "@jupyter-widgets/base",
            "top": null,
            "grid_column": null,
            "overflow_y": null,
            "overflow_x": null,
            "grid_auto_flow": null,
            "grid_area": null,
            "grid_template_columns": null,
            "flex": null,
            "_model_name": "LayoutModel",
            "justify_items": null,
            "grid_row": null,
            "max_height": null,
            "align_content": null,
            "visibility": null,
            "align_self": null,
            "height": null,
            "min_height": null,
            "padding": null,
            "grid_auto_rows": null,
            "grid_gap": null,
            "max_width": null,
            "order": null,
            "_view_module_version": "1.2.0",
            "grid_template_areas": null,
            "object_position": null,
            "object_fit": null,
            "grid_auto_columns": null,
            "margin": null,
            "display": null,
            "left": null
          }
        },
        "9854558eb5d44b13bb9cc59574cd0eae": {
          "model_module": "@jupyter-widgets/controls",
          "model_name": "LabelModel",
          "state": {
            "_view_name": "LabelView",
            "style": "IPY_MODEL_00a974b995a9414da4cf45abaa86f3fd",
            "_dom_classes": [],
            "description": "",
            "_model_name": "LabelModel",
            "placeholder": "​",
            "_view_module": "@jupyter-widgets/controls",
            "_model_module_version": "1.5.0",
            "value": " 0.01MB of 0.01MB uploaded (0.00MB deduped)\r",
            "_view_count": null,
            "_view_module_version": "1.5.0",
            "description_tooltip": null,
            "_model_module": "@jupyter-widgets/controls",
            "layout": "IPY_MODEL_b7545f98f7604ce6aef24c474fbab38f"
          }
        },
        "bf4e990decb1483eab6e4fbcf7fad863": {
          "model_module": "@jupyter-widgets/controls",
          "model_name": "FloatProgressModel",
          "state": {
            "_view_name": "ProgressView",
            "style": "IPY_MODEL_60bf4d7d79ab422f8dbb12dd7b5da751",
            "_dom_classes": [],
            "description": "",
            "_model_name": "FloatProgressModel",
            "bar_style": "",
            "max": 1,
            "_view_module": "@jupyter-widgets/controls",
            "_model_module_version": "1.5.0",
            "value": 1,
            "_view_count": null,
            "_view_module_version": "1.5.0",
            "orientation": "horizontal",
            "min": 0,
            "description_tooltip": null,
            "_model_module": "@jupyter-widgets/controls",
            "layout": "IPY_MODEL_ef94e10125144677b109075616d742c9"
          }
        },
        "00a974b995a9414da4cf45abaa86f3fd": {
          "model_module": "@jupyter-widgets/controls",
          "model_name": "DescriptionStyleModel",
          "state": {
            "_view_name": "StyleView",
            "_model_name": "DescriptionStyleModel",
            "description_width": "",
            "_view_module": "@jupyter-widgets/base",
            "_model_module_version": "1.5.0",
            "_view_count": null,
            "_view_module_version": "1.2.0",
            "_model_module": "@jupyter-widgets/controls"
          }
        },
        "b7545f98f7604ce6aef24c474fbab38f": {
          "model_module": "@jupyter-widgets/base",
          "model_name": "LayoutModel",
          "state": {
            "_view_name": "LayoutView",
            "grid_template_rows": null,
            "right": null,
            "justify_content": null,
            "_view_module": "@jupyter-widgets/base",
            "overflow": null,
            "_model_module_version": "1.2.0",
            "_view_count": null,
            "flex_flow": null,
            "width": null,
            "min_width": null,
            "border": null,
            "align_items": null,
            "bottom": null,
            "_model_module": "@jupyter-widgets/base",
            "top": null,
            "grid_column": null,
            "overflow_y": null,
            "overflow_x": null,
            "grid_auto_flow": null,
            "grid_area": null,
            "grid_template_columns": null,
            "flex": null,
            "_model_name": "LayoutModel",
            "justify_items": null,
            "grid_row": null,
            "max_height": null,
            "align_content": null,
            "visibility": null,
            "align_self": null,
            "height": null,
            "min_height": null,
            "padding": null,
            "grid_auto_rows": null,
            "grid_gap": null,
            "max_width": null,
            "order": null,
            "_view_module_version": "1.2.0",
            "grid_template_areas": null,
            "object_position": null,
            "object_fit": null,
            "grid_auto_columns": null,
            "margin": null,
            "display": null,
            "left": null
          }
        },
        "60bf4d7d79ab422f8dbb12dd7b5da751": {
          "model_module": "@jupyter-widgets/controls",
          "model_name": "ProgressStyleModel",
          "state": {
            "_view_name": "StyleView",
            "_model_name": "ProgressStyleModel",
            "description_width": "",
            "_view_module": "@jupyter-widgets/base",
            "_model_module_version": "1.5.0",
            "_view_count": null,
            "_view_module_version": "1.2.0",
            "bar_color": null,
            "_model_module": "@jupyter-widgets/controls"
          }
        },
        "ef94e10125144677b109075616d742c9": {
          "model_module": "@jupyter-widgets/base",
          "model_name": "LayoutModel",
          "state": {
            "_view_name": "LayoutView",
            "grid_template_rows": null,
            "right": null,
            "justify_content": null,
            "_view_module": "@jupyter-widgets/base",
            "overflow": null,
            "_model_module_version": "1.2.0",
            "_view_count": null,
            "flex_flow": null,
            "width": null,
            "min_width": null,
            "border": null,
            "align_items": null,
            "bottom": null,
            "_model_module": "@jupyter-widgets/base",
            "top": null,
            "grid_column": null,
            "overflow_y": null,
            "overflow_x": null,
            "grid_auto_flow": null,
            "grid_area": null,
            "grid_template_columns": null,
            "flex": null,
            "_model_name": "LayoutModel",
            "justify_items": null,
            "grid_row": null,
            "max_height": null,
            "align_content": null,
            "visibility": null,
            "align_self": null,
            "height": null,
            "min_height": null,
            "padding": null,
            "grid_auto_rows": null,
            "grid_gap": null,
            "max_width": null,
            "order": null,
            "_view_module_version": "1.2.0",
            "grid_template_areas": null,
            "object_position": null,
            "object_fit": null,
            "grid_auto_columns": null,
            "margin": null,
            "display": null,
            "left": null
          }
        },
        "e240f0c110814e799b3d1e79537ff89c": {
          "model_module": "@jupyter-widgets/controls",
          "model_name": "VBoxModel",
          "state": {
            "_view_name": "VBoxView",
            "_dom_classes": [],
            "_model_name": "VBoxModel",
            "_view_module": "@jupyter-widgets/controls",
            "_model_module_version": "1.5.0",
            "_view_count": null,
            "_view_module_version": "1.5.0",
            "box_style": "",
            "layout": "IPY_MODEL_4971f193e6db416394f393aa9c5fe20a",
            "_model_module": "@jupyter-widgets/controls",
            "children": [
              "IPY_MODEL_4427b4c684ea49f4a73b33e5c1aabac6",
              "IPY_MODEL_3056f976695247d69af6c321991f157a"
            ]
          }
        },
        "4971f193e6db416394f393aa9c5fe20a": {
          "model_module": "@jupyter-widgets/base",
          "model_name": "LayoutModel",
          "state": {
            "_view_name": "LayoutView",
            "grid_template_rows": null,
            "right": null,
            "justify_content": null,
            "_view_module": "@jupyter-widgets/base",
            "overflow": null,
            "_model_module_version": "1.2.0",
            "_view_count": null,
            "flex_flow": null,
            "width": null,
            "min_width": null,
            "border": null,
            "align_items": null,
            "bottom": null,
            "_model_module": "@jupyter-widgets/base",
            "top": null,
            "grid_column": null,
            "overflow_y": null,
            "overflow_x": null,
            "grid_auto_flow": null,
            "grid_area": null,
            "grid_template_columns": null,
            "flex": null,
            "_model_name": "LayoutModel",
            "justify_items": null,
            "grid_row": null,
            "max_height": null,
            "align_content": null,
            "visibility": null,
            "align_self": null,
            "height": null,
            "min_height": null,
            "padding": null,
            "grid_auto_rows": null,
            "grid_gap": null,
            "max_width": null,
            "order": null,
            "_view_module_version": "1.2.0",
            "grid_template_areas": null,
            "object_position": null,
            "object_fit": null,
            "grid_auto_columns": null,
            "margin": null,
            "display": null,
            "left": null
          }
        },
        "4427b4c684ea49f4a73b33e5c1aabac6": {
          "model_module": "@jupyter-widgets/controls",
          "model_name": "LabelModel",
          "state": {
            "_view_name": "LabelView",
            "style": "IPY_MODEL_47e977b014914cb1aa5d00f9d120905b",
            "_dom_classes": [],
            "description": "",
            "_model_name": "LabelModel",
            "placeholder": "​",
            "_view_module": "@jupyter-widgets/controls",
            "_model_module_version": "1.5.0",
            "value": " 0.01MB of 0.01MB uploaded (0.00MB deduped)\r",
            "_view_count": null,
            "_view_module_version": "1.5.0",
            "description_tooltip": null,
            "_model_module": "@jupyter-widgets/controls",
            "layout": "IPY_MODEL_cb2fef94f8d2453db7a37548d7b4c68d"
          }
        },
        "3056f976695247d69af6c321991f157a": {
          "model_module": "@jupyter-widgets/controls",
          "model_name": "FloatProgressModel",
          "state": {
            "_view_name": "ProgressView",
            "style": "IPY_MODEL_91a636e4a707402cb894ea55cdad0eae",
            "_dom_classes": [],
            "description": "",
            "_model_name": "FloatProgressModel",
            "bar_style": "",
            "max": 1,
            "_view_module": "@jupyter-widgets/controls",
            "_model_module_version": "1.5.0",
            "value": 1,
            "_view_count": null,
            "_view_module_version": "1.5.0",
            "orientation": "horizontal",
            "min": 0,
            "description_tooltip": null,
            "_model_module": "@jupyter-widgets/controls",
            "layout": "IPY_MODEL_c5b18fe48edd45bdaf666bcb7df24cd9"
          }
        },
        "47e977b014914cb1aa5d00f9d120905b": {
          "model_module": "@jupyter-widgets/controls",
          "model_name": "DescriptionStyleModel",
          "state": {
            "_view_name": "StyleView",
            "_model_name": "DescriptionStyleModel",
            "description_width": "",
            "_view_module": "@jupyter-widgets/base",
            "_model_module_version": "1.5.0",
            "_view_count": null,
            "_view_module_version": "1.2.0",
            "_model_module": "@jupyter-widgets/controls"
          }
        },
        "cb2fef94f8d2453db7a37548d7b4c68d": {
          "model_module": "@jupyter-widgets/base",
          "model_name": "LayoutModel",
          "state": {
            "_view_name": "LayoutView",
            "grid_template_rows": null,
            "right": null,
            "justify_content": null,
            "_view_module": "@jupyter-widgets/base",
            "overflow": null,
            "_model_module_version": "1.2.0",
            "_view_count": null,
            "flex_flow": null,
            "width": null,
            "min_width": null,
            "border": null,
            "align_items": null,
            "bottom": null,
            "_model_module": "@jupyter-widgets/base",
            "top": null,
            "grid_column": null,
            "overflow_y": null,
            "overflow_x": null,
            "grid_auto_flow": null,
            "grid_area": null,
            "grid_template_columns": null,
            "flex": null,
            "_model_name": "LayoutModel",
            "justify_items": null,
            "grid_row": null,
            "max_height": null,
            "align_content": null,
            "visibility": null,
            "align_self": null,
            "height": null,
            "min_height": null,
            "padding": null,
            "grid_auto_rows": null,
            "grid_gap": null,
            "max_width": null,
            "order": null,
            "_view_module_version": "1.2.0",
            "grid_template_areas": null,
            "object_position": null,
            "object_fit": null,
            "grid_auto_columns": null,
            "margin": null,
            "display": null,
            "left": null
          }
        },
        "91a636e4a707402cb894ea55cdad0eae": {
          "model_module": "@jupyter-widgets/controls",
          "model_name": "ProgressStyleModel",
          "state": {
            "_view_name": "StyleView",
            "_model_name": "ProgressStyleModel",
            "description_width": "",
            "_view_module": "@jupyter-widgets/base",
            "_model_module_version": "1.5.0",
            "_view_count": null,
            "_view_module_version": "1.2.0",
            "bar_color": null,
            "_model_module": "@jupyter-widgets/controls"
          }
        },
        "c5b18fe48edd45bdaf666bcb7df24cd9": {
          "model_module": "@jupyter-widgets/base",
          "model_name": "LayoutModel",
          "state": {
            "_view_name": "LayoutView",
            "grid_template_rows": null,
            "right": null,
            "justify_content": null,
            "_view_module": "@jupyter-widgets/base",
            "overflow": null,
            "_model_module_version": "1.2.0",
            "_view_count": null,
            "flex_flow": null,
            "width": null,
            "min_width": null,
            "border": null,
            "align_items": null,
            "bottom": null,
            "_model_module": "@jupyter-widgets/base",
            "top": null,
            "grid_column": null,
            "overflow_y": null,
            "overflow_x": null,
            "grid_auto_flow": null,
            "grid_area": null,
            "grid_template_columns": null,
            "flex": null,
            "_model_name": "LayoutModel",
            "justify_items": null,
            "grid_row": null,
            "max_height": null,
            "align_content": null,
            "visibility": null,
            "align_self": null,
            "height": null,
            "min_height": null,
            "padding": null,
            "grid_auto_rows": null,
            "grid_gap": null,
            "max_width": null,
            "order": null,
            "_view_module_version": "1.2.0",
            "grid_template_areas": null,
            "object_position": null,
            "object_fit": null,
            "grid_auto_columns": null,
            "margin": null,
            "display": null,
            "left": null
          }
        },
        "3e1f35aa0f964d28bf61c897526777cb": {
          "model_module": "@jupyter-widgets/controls",
          "model_name": "VBoxModel",
          "state": {
            "_view_name": "VBoxView",
            "_dom_classes": [],
            "_model_name": "VBoxModel",
            "_view_module": "@jupyter-widgets/controls",
            "_model_module_version": "1.5.0",
            "_view_count": null,
            "_view_module_version": "1.5.0",
            "box_style": "",
            "layout": "IPY_MODEL_6afa1b6079c3465fae9a9a4e4311e8e5",
            "_model_module": "@jupyter-widgets/controls",
            "children": [
              "IPY_MODEL_6525b3dc607843e2ae92d098e47b1672",
              "IPY_MODEL_4f5e502d4be44d0e806d9860ba3be78f"
            ]
          }
        },
        "6afa1b6079c3465fae9a9a4e4311e8e5": {
          "model_module": "@jupyter-widgets/base",
          "model_name": "LayoutModel",
          "state": {
            "_view_name": "LayoutView",
            "grid_template_rows": null,
            "right": null,
            "justify_content": null,
            "_view_module": "@jupyter-widgets/base",
            "overflow": null,
            "_model_module_version": "1.2.0",
            "_view_count": null,
            "flex_flow": null,
            "width": null,
            "min_width": null,
            "border": null,
            "align_items": null,
            "bottom": null,
            "_model_module": "@jupyter-widgets/base",
            "top": null,
            "grid_column": null,
            "overflow_y": null,
            "overflow_x": null,
            "grid_auto_flow": null,
            "grid_area": null,
            "grid_template_columns": null,
            "flex": null,
            "_model_name": "LayoutModel",
            "justify_items": null,
            "grid_row": null,
            "max_height": null,
            "align_content": null,
            "visibility": null,
            "align_self": null,
            "height": null,
            "min_height": null,
            "padding": null,
            "grid_auto_rows": null,
            "grid_gap": null,
            "max_width": null,
            "order": null,
            "_view_module_version": "1.2.0",
            "grid_template_areas": null,
            "object_position": null,
            "object_fit": null,
            "grid_auto_columns": null,
            "margin": null,
            "display": null,
            "left": null
          }
        },
        "6525b3dc607843e2ae92d098e47b1672": {
          "model_module": "@jupyter-widgets/controls",
          "model_name": "LabelModel",
          "state": {
            "_view_name": "LabelView",
            "style": "IPY_MODEL_93b45d646ec2468ab8955b0b5390fe9e",
            "_dom_classes": [],
            "description": "",
            "_model_name": "LabelModel",
            "placeholder": "​",
            "_view_module": "@jupyter-widgets/controls",
            "_model_module_version": "1.5.0",
            "value": " 0.01MB of 0.01MB uploaded (0.00MB deduped)\r",
            "_view_count": null,
            "_view_module_version": "1.5.0",
            "description_tooltip": null,
            "_model_module": "@jupyter-widgets/controls",
            "layout": "IPY_MODEL_c5dadd7194d145ff91cf8108e6df6cfe"
          }
        },
        "4f5e502d4be44d0e806d9860ba3be78f": {
          "model_module": "@jupyter-widgets/controls",
          "model_name": "FloatProgressModel",
          "state": {
            "_view_name": "ProgressView",
            "style": "IPY_MODEL_dd9bf06050b9499881ef3543f0f30662",
            "_dom_classes": [],
            "description": "",
            "_model_name": "FloatProgressModel",
            "bar_style": "",
            "max": 1,
            "_view_module": "@jupyter-widgets/controls",
            "_model_module_version": "1.5.0",
            "value": 1,
            "_view_count": null,
            "_view_module_version": "1.5.0",
            "orientation": "horizontal",
            "min": 0,
            "description_tooltip": null,
            "_model_module": "@jupyter-widgets/controls",
            "layout": "IPY_MODEL_13902bc53b92496381068374cada2b8e"
          }
        },
        "93b45d646ec2468ab8955b0b5390fe9e": {
          "model_module": "@jupyter-widgets/controls",
          "model_name": "DescriptionStyleModel",
          "state": {
            "_view_name": "StyleView",
            "_model_name": "DescriptionStyleModel",
            "description_width": "",
            "_view_module": "@jupyter-widgets/base",
            "_model_module_version": "1.5.0",
            "_view_count": null,
            "_view_module_version": "1.2.0",
            "_model_module": "@jupyter-widgets/controls"
          }
        },
        "c5dadd7194d145ff91cf8108e6df6cfe": {
          "model_module": "@jupyter-widgets/base",
          "model_name": "LayoutModel",
          "state": {
            "_view_name": "LayoutView",
            "grid_template_rows": null,
            "right": null,
            "justify_content": null,
            "_view_module": "@jupyter-widgets/base",
            "overflow": null,
            "_model_module_version": "1.2.0",
            "_view_count": null,
            "flex_flow": null,
            "width": null,
            "min_width": null,
            "border": null,
            "align_items": null,
            "bottom": null,
            "_model_module": "@jupyter-widgets/base",
            "top": null,
            "grid_column": null,
            "overflow_y": null,
            "overflow_x": null,
            "grid_auto_flow": null,
            "grid_area": null,
            "grid_template_columns": null,
            "flex": null,
            "_model_name": "LayoutModel",
            "justify_items": null,
            "grid_row": null,
            "max_height": null,
            "align_content": null,
            "visibility": null,
            "align_self": null,
            "height": null,
            "min_height": null,
            "padding": null,
            "grid_auto_rows": null,
            "grid_gap": null,
            "max_width": null,
            "order": null,
            "_view_module_version": "1.2.0",
            "grid_template_areas": null,
            "object_position": null,
            "object_fit": null,
            "grid_auto_columns": null,
            "margin": null,
            "display": null,
            "left": null
          }
        },
        "dd9bf06050b9499881ef3543f0f30662": {
          "model_module": "@jupyter-widgets/controls",
          "model_name": "ProgressStyleModel",
          "state": {
            "_view_name": "StyleView",
            "_model_name": "ProgressStyleModel",
            "description_width": "",
            "_view_module": "@jupyter-widgets/base",
            "_model_module_version": "1.5.0",
            "_view_count": null,
            "_view_module_version": "1.2.0",
            "bar_color": null,
            "_model_module": "@jupyter-widgets/controls"
          }
        },
        "13902bc53b92496381068374cada2b8e": {
          "model_module": "@jupyter-widgets/base",
          "model_name": "LayoutModel",
          "state": {
            "_view_name": "LayoutView",
            "grid_template_rows": null,
            "right": null,
            "justify_content": null,
            "_view_module": "@jupyter-widgets/base",
            "overflow": null,
            "_model_module_version": "1.2.0",
            "_view_count": null,
            "flex_flow": null,
            "width": null,
            "min_width": null,
            "border": null,
            "align_items": null,
            "bottom": null,
            "_model_module": "@jupyter-widgets/base",
            "top": null,
            "grid_column": null,
            "overflow_y": null,
            "overflow_x": null,
            "grid_auto_flow": null,
            "grid_area": null,
            "grid_template_columns": null,
            "flex": null,
            "_model_name": "LayoutModel",
            "justify_items": null,
            "grid_row": null,
            "max_height": null,
            "align_content": null,
            "visibility": null,
            "align_self": null,
            "height": null,
            "min_height": null,
            "padding": null,
            "grid_auto_rows": null,
            "grid_gap": null,
            "max_width": null,
            "order": null,
            "_view_module_version": "1.2.0",
            "grid_template_areas": null,
            "object_position": null,
            "object_fit": null,
            "grid_auto_columns": null,
            "margin": null,
            "display": null,
            "left": null
          }
        },
        "d0431f4d902e4956a2188cf6d958ddd4": {
          "model_module": "@jupyter-widgets/controls",
          "model_name": "VBoxModel",
          "state": {
            "_view_name": "VBoxView",
            "_dom_classes": [],
            "_model_name": "VBoxModel",
            "_view_module": "@jupyter-widgets/controls",
            "_model_module_version": "1.5.0",
            "_view_count": null,
            "_view_module_version": "1.5.0",
            "box_style": "",
            "layout": "IPY_MODEL_27d05dd3c2644dc59ef8a6b13e60a7f0",
            "_model_module": "@jupyter-widgets/controls",
            "children": [
              "IPY_MODEL_f41d776a47934c1c86b86725f2a0a587",
              "IPY_MODEL_f37ece26ba394398bf719ed3e0fcc1aa"
            ]
          }
        },
        "27d05dd3c2644dc59ef8a6b13e60a7f0": {
          "model_module": "@jupyter-widgets/base",
          "model_name": "LayoutModel",
          "state": {
            "_view_name": "LayoutView",
            "grid_template_rows": null,
            "right": null,
            "justify_content": null,
            "_view_module": "@jupyter-widgets/base",
            "overflow": null,
            "_model_module_version": "1.2.0",
            "_view_count": null,
            "flex_flow": null,
            "width": null,
            "min_width": null,
            "border": null,
            "align_items": null,
            "bottom": null,
            "_model_module": "@jupyter-widgets/base",
            "top": null,
            "grid_column": null,
            "overflow_y": null,
            "overflow_x": null,
            "grid_auto_flow": null,
            "grid_area": null,
            "grid_template_columns": null,
            "flex": null,
            "_model_name": "LayoutModel",
            "justify_items": null,
            "grid_row": null,
            "max_height": null,
            "align_content": null,
            "visibility": null,
            "align_self": null,
            "height": null,
            "min_height": null,
            "padding": null,
            "grid_auto_rows": null,
            "grid_gap": null,
            "max_width": null,
            "order": null,
            "_view_module_version": "1.2.0",
            "grid_template_areas": null,
            "object_position": null,
            "object_fit": null,
            "grid_auto_columns": null,
            "margin": null,
            "display": null,
            "left": null
          }
        },
        "f41d776a47934c1c86b86725f2a0a587": {
          "model_module": "@jupyter-widgets/controls",
          "model_name": "LabelModel",
          "state": {
            "_view_name": "LabelView",
            "style": "IPY_MODEL_291635c2e5de43569450c7168e595247",
            "_dom_classes": [],
            "description": "",
            "_model_name": "LabelModel",
            "placeholder": "​",
            "_view_module": "@jupyter-widgets/controls",
            "_model_module_version": "1.5.0",
            "value": " 0.01MB of 0.01MB uploaded (0.00MB deduped)\r",
            "_view_count": null,
            "_view_module_version": "1.5.0",
            "description_tooltip": null,
            "_model_module": "@jupyter-widgets/controls",
            "layout": "IPY_MODEL_e19b2fc771324a7787150eda52452734"
          }
        },
        "f37ece26ba394398bf719ed3e0fcc1aa": {
          "model_module": "@jupyter-widgets/controls",
          "model_name": "FloatProgressModel",
          "state": {
            "_view_name": "ProgressView",
            "style": "IPY_MODEL_d108947539e1464d8a4567abe1a3b888",
            "_dom_classes": [],
            "description": "",
            "_model_name": "FloatProgressModel",
            "bar_style": "",
            "max": 1,
            "_view_module": "@jupyter-widgets/controls",
            "_model_module_version": "1.5.0",
            "value": 1,
            "_view_count": null,
            "_view_module_version": "1.5.0",
            "orientation": "horizontal",
            "min": 0,
            "description_tooltip": null,
            "_model_module": "@jupyter-widgets/controls",
            "layout": "IPY_MODEL_137c3e21abf14aef9b2ba674c318061c"
          }
        },
        "291635c2e5de43569450c7168e595247": {
          "model_module": "@jupyter-widgets/controls",
          "model_name": "DescriptionStyleModel",
          "state": {
            "_view_name": "StyleView",
            "_model_name": "DescriptionStyleModel",
            "description_width": "",
            "_view_module": "@jupyter-widgets/base",
            "_model_module_version": "1.5.0",
            "_view_count": null,
            "_view_module_version": "1.2.0",
            "_model_module": "@jupyter-widgets/controls"
          }
        },
        "e19b2fc771324a7787150eda52452734": {
          "model_module": "@jupyter-widgets/base",
          "model_name": "LayoutModel",
          "state": {
            "_view_name": "LayoutView",
            "grid_template_rows": null,
            "right": null,
            "justify_content": null,
            "_view_module": "@jupyter-widgets/base",
            "overflow": null,
            "_model_module_version": "1.2.0",
            "_view_count": null,
            "flex_flow": null,
            "width": null,
            "min_width": null,
            "border": null,
            "align_items": null,
            "bottom": null,
            "_model_module": "@jupyter-widgets/base",
            "top": null,
            "grid_column": null,
            "overflow_y": null,
            "overflow_x": null,
            "grid_auto_flow": null,
            "grid_area": null,
            "grid_template_columns": null,
            "flex": null,
            "_model_name": "LayoutModel",
            "justify_items": null,
            "grid_row": null,
            "max_height": null,
            "align_content": null,
            "visibility": null,
            "align_self": null,
            "height": null,
            "min_height": null,
            "padding": null,
            "grid_auto_rows": null,
            "grid_gap": null,
            "max_width": null,
            "order": null,
            "_view_module_version": "1.2.0",
            "grid_template_areas": null,
            "object_position": null,
            "object_fit": null,
            "grid_auto_columns": null,
            "margin": null,
            "display": null,
            "left": null
          }
        },
        "d108947539e1464d8a4567abe1a3b888": {
          "model_module": "@jupyter-widgets/controls",
          "model_name": "ProgressStyleModel",
          "state": {
            "_view_name": "StyleView",
            "_model_name": "ProgressStyleModel",
            "description_width": "",
            "_view_module": "@jupyter-widgets/base",
            "_model_module_version": "1.5.0",
            "_view_count": null,
            "_view_module_version": "1.2.0",
            "bar_color": null,
            "_model_module": "@jupyter-widgets/controls"
          }
        },
        "137c3e21abf14aef9b2ba674c318061c": {
          "model_module": "@jupyter-widgets/base",
          "model_name": "LayoutModel",
          "state": {
            "_view_name": "LayoutView",
            "grid_template_rows": null,
            "right": null,
            "justify_content": null,
            "_view_module": "@jupyter-widgets/base",
            "overflow": null,
            "_model_module_version": "1.2.0",
            "_view_count": null,
            "flex_flow": null,
            "width": null,
            "min_width": null,
            "border": null,
            "align_items": null,
            "bottom": null,
            "_model_module": "@jupyter-widgets/base",
            "top": null,
            "grid_column": null,
            "overflow_y": null,
            "overflow_x": null,
            "grid_auto_flow": null,
            "grid_area": null,
            "grid_template_columns": null,
            "flex": null,
            "_model_name": "LayoutModel",
            "justify_items": null,
            "grid_row": null,
            "max_height": null,
            "align_content": null,
            "visibility": null,
            "align_self": null,
            "height": null,
            "min_height": null,
            "padding": null,
            "grid_auto_rows": null,
            "grid_gap": null,
            "max_width": null,
            "order": null,
            "_view_module_version": "1.2.0",
            "grid_template_areas": null,
            "object_position": null,
            "object_fit": null,
            "grid_auto_columns": null,
            "margin": null,
            "display": null,
            "left": null
          }
        },
        "08918784e8164fdeb0bc7535a21ad6a1": {
          "model_module": "@jupyter-widgets/controls",
          "model_name": "VBoxModel",
          "state": {
            "_view_name": "VBoxView",
            "_dom_classes": [],
            "_model_name": "VBoxModel",
            "_view_module": "@jupyter-widgets/controls",
            "_model_module_version": "1.5.0",
            "_view_count": null,
            "_view_module_version": "1.5.0",
            "box_style": "",
            "layout": "IPY_MODEL_8e47f4c8af58437483610da13150e938",
            "_model_module": "@jupyter-widgets/controls",
            "children": [
              "IPY_MODEL_0a47b3f06b05470795b82e9fdd3369c7",
              "IPY_MODEL_8abb40e6df414aeaa5eb37317a663081"
            ]
          }
        },
        "8e47f4c8af58437483610da13150e938": {
          "model_module": "@jupyter-widgets/base",
          "model_name": "LayoutModel",
          "state": {
            "_view_name": "LayoutView",
            "grid_template_rows": null,
            "right": null,
            "justify_content": null,
            "_view_module": "@jupyter-widgets/base",
            "overflow": null,
            "_model_module_version": "1.2.0",
            "_view_count": null,
            "flex_flow": null,
            "width": null,
            "min_width": null,
            "border": null,
            "align_items": null,
            "bottom": null,
            "_model_module": "@jupyter-widgets/base",
            "top": null,
            "grid_column": null,
            "overflow_y": null,
            "overflow_x": null,
            "grid_auto_flow": null,
            "grid_area": null,
            "grid_template_columns": null,
            "flex": null,
            "_model_name": "LayoutModel",
            "justify_items": null,
            "grid_row": null,
            "max_height": null,
            "align_content": null,
            "visibility": null,
            "align_self": null,
            "height": null,
            "min_height": null,
            "padding": null,
            "grid_auto_rows": null,
            "grid_gap": null,
            "max_width": null,
            "order": null,
            "_view_module_version": "1.2.0",
            "grid_template_areas": null,
            "object_position": null,
            "object_fit": null,
            "grid_auto_columns": null,
            "margin": null,
            "display": null,
            "left": null
          }
        },
        "0a47b3f06b05470795b82e9fdd3369c7": {
          "model_module": "@jupyter-widgets/controls",
          "model_name": "LabelModel",
          "state": {
            "_view_name": "LabelView",
            "style": "IPY_MODEL_0250b8ac0a464e788fa5b4c867cd8241",
            "_dom_classes": [],
            "description": "",
            "_model_name": "LabelModel",
            "placeholder": "​",
            "_view_module": "@jupyter-widgets/controls",
            "_model_module_version": "1.5.0",
            "value": " 0.01MB of 0.01MB uploaded (0.00MB deduped)\r",
            "_view_count": null,
            "_view_module_version": "1.5.0",
            "description_tooltip": null,
            "_model_module": "@jupyter-widgets/controls",
            "layout": "IPY_MODEL_7ed1ba7cfdcb4ad089c5418d95888bfd"
          }
        },
        "8abb40e6df414aeaa5eb37317a663081": {
          "model_module": "@jupyter-widgets/controls",
          "model_name": "FloatProgressModel",
          "state": {
            "_view_name": "ProgressView",
            "style": "IPY_MODEL_1dddda38b95844c99121a48801001fde",
            "_dom_classes": [],
            "description": "",
            "_model_name": "FloatProgressModel",
            "bar_style": "",
            "max": 1,
            "_view_module": "@jupyter-widgets/controls",
            "_model_module_version": "1.5.0",
            "value": 1,
            "_view_count": null,
            "_view_module_version": "1.5.0",
            "orientation": "horizontal",
            "min": 0,
            "description_tooltip": null,
            "_model_module": "@jupyter-widgets/controls",
            "layout": "IPY_MODEL_f7303ac496654c5fb2e344b988545481"
          }
        },
        "0250b8ac0a464e788fa5b4c867cd8241": {
          "model_module": "@jupyter-widgets/controls",
          "model_name": "DescriptionStyleModel",
          "state": {
            "_view_name": "StyleView",
            "_model_name": "DescriptionStyleModel",
            "description_width": "",
            "_view_module": "@jupyter-widgets/base",
            "_model_module_version": "1.5.0",
            "_view_count": null,
            "_view_module_version": "1.2.0",
            "_model_module": "@jupyter-widgets/controls"
          }
        },
        "7ed1ba7cfdcb4ad089c5418d95888bfd": {
          "model_module": "@jupyter-widgets/base",
          "model_name": "LayoutModel",
          "state": {
            "_view_name": "LayoutView",
            "grid_template_rows": null,
            "right": null,
            "justify_content": null,
            "_view_module": "@jupyter-widgets/base",
            "overflow": null,
            "_model_module_version": "1.2.0",
            "_view_count": null,
            "flex_flow": null,
            "width": null,
            "min_width": null,
            "border": null,
            "align_items": null,
            "bottom": null,
            "_model_module": "@jupyter-widgets/base",
            "top": null,
            "grid_column": null,
            "overflow_y": null,
            "overflow_x": null,
            "grid_auto_flow": null,
            "grid_area": null,
            "grid_template_columns": null,
            "flex": null,
            "_model_name": "LayoutModel",
            "justify_items": null,
            "grid_row": null,
            "max_height": null,
            "align_content": null,
            "visibility": null,
            "align_self": null,
            "height": null,
            "min_height": null,
            "padding": null,
            "grid_auto_rows": null,
            "grid_gap": null,
            "max_width": null,
            "order": null,
            "_view_module_version": "1.2.0",
            "grid_template_areas": null,
            "object_position": null,
            "object_fit": null,
            "grid_auto_columns": null,
            "margin": null,
            "display": null,
            "left": null
          }
        },
        "1dddda38b95844c99121a48801001fde": {
          "model_module": "@jupyter-widgets/controls",
          "model_name": "ProgressStyleModel",
          "state": {
            "_view_name": "StyleView",
            "_model_name": "ProgressStyleModel",
            "description_width": "",
            "_view_module": "@jupyter-widgets/base",
            "_model_module_version": "1.5.0",
            "_view_count": null,
            "_view_module_version": "1.2.0",
            "bar_color": null,
            "_model_module": "@jupyter-widgets/controls"
          }
        },
        "f7303ac496654c5fb2e344b988545481": {
          "model_module": "@jupyter-widgets/base",
          "model_name": "LayoutModel",
          "state": {
            "_view_name": "LayoutView",
            "grid_template_rows": null,
            "right": null,
            "justify_content": null,
            "_view_module": "@jupyter-widgets/base",
            "overflow": null,
            "_model_module_version": "1.2.0",
            "_view_count": null,
            "flex_flow": null,
            "width": null,
            "min_width": null,
            "border": null,
            "align_items": null,
            "bottom": null,
            "_model_module": "@jupyter-widgets/base",
            "top": null,
            "grid_column": null,
            "overflow_y": null,
            "overflow_x": null,
            "grid_auto_flow": null,
            "grid_area": null,
            "grid_template_columns": null,
            "flex": null,
            "_model_name": "LayoutModel",
            "justify_items": null,
            "grid_row": null,
            "max_height": null,
            "align_content": null,
            "visibility": null,
            "align_self": null,
            "height": null,
            "min_height": null,
            "padding": null,
            "grid_auto_rows": null,
            "grid_gap": null,
            "max_width": null,
            "order": null,
            "_view_module_version": "1.2.0",
            "grid_template_areas": null,
            "object_position": null,
            "object_fit": null,
            "grid_auto_columns": null,
            "margin": null,
            "display": null,
            "left": null
          }
        },
        "68c9348a26014a2298b5f0fe1da86edf": {
          "model_module": "@jupyter-widgets/controls",
          "model_name": "VBoxModel",
          "state": {
            "_view_name": "VBoxView",
            "_dom_classes": [],
            "_model_name": "VBoxModel",
            "_view_module": "@jupyter-widgets/controls",
            "_model_module_version": "1.5.0",
            "_view_count": null,
            "_view_module_version": "1.5.0",
            "box_style": "",
            "layout": "IPY_MODEL_6aaed7f682a7462aa4de88396a4bf3c9",
            "_model_module": "@jupyter-widgets/controls",
            "children": [
              "IPY_MODEL_8d2fe39105e84d8c90de384739750f34",
              "IPY_MODEL_6ec0364f495849b0bbea868b680dd29b"
            ]
          }
        },
        "6aaed7f682a7462aa4de88396a4bf3c9": {
          "model_module": "@jupyter-widgets/base",
          "model_name": "LayoutModel",
          "state": {
            "_view_name": "LayoutView",
            "grid_template_rows": null,
            "right": null,
            "justify_content": null,
            "_view_module": "@jupyter-widgets/base",
            "overflow": null,
            "_model_module_version": "1.2.0",
            "_view_count": null,
            "flex_flow": null,
            "width": null,
            "min_width": null,
            "border": null,
            "align_items": null,
            "bottom": null,
            "_model_module": "@jupyter-widgets/base",
            "top": null,
            "grid_column": null,
            "overflow_y": null,
            "overflow_x": null,
            "grid_auto_flow": null,
            "grid_area": null,
            "grid_template_columns": null,
            "flex": null,
            "_model_name": "LayoutModel",
            "justify_items": null,
            "grid_row": null,
            "max_height": null,
            "align_content": null,
            "visibility": null,
            "align_self": null,
            "height": null,
            "min_height": null,
            "padding": null,
            "grid_auto_rows": null,
            "grid_gap": null,
            "max_width": null,
            "order": null,
            "_view_module_version": "1.2.0",
            "grid_template_areas": null,
            "object_position": null,
            "object_fit": null,
            "grid_auto_columns": null,
            "margin": null,
            "display": null,
            "left": null
          }
        },
        "8d2fe39105e84d8c90de384739750f34": {
          "model_module": "@jupyter-widgets/controls",
          "model_name": "LabelModel",
          "state": {
            "_view_name": "LabelView",
            "style": "IPY_MODEL_f832b3f49ba54f8dbdd8ed943fa68dc3",
            "_dom_classes": [],
            "description": "",
            "_model_name": "LabelModel",
            "placeholder": "​",
            "_view_module": "@jupyter-widgets/controls",
            "_model_module_version": "1.5.0",
            "value": " 0.01MB of 0.01MB uploaded (0.00MB deduped)\r",
            "_view_count": null,
            "_view_module_version": "1.5.0",
            "description_tooltip": null,
            "_model_module": "@jupyter-widgets/controls",
            "layout": "IPY_MODEL_a44e728de5804fdea356546f5255349c"
          }
        },
        "6ec0364f495849b0bbea868b680dd29b": {
          "model_module": "@jupyter-widgets/controls",
          "model_name": "FloatProgressModel",
          "state": {
            "_view_name": "ProgressView",
            "style": "IPY_MODEL_ea448c4b8ad140a8bea40b30288685d7",
            "_dom_classes": [],
            "description": "",
            "_model_name": "FloatProgressModel",
            "bar_style": "",
            "max": 1,
            "_view_module": "@jupyter-widgets/controls",
            "_model_module_version": "1.5.0",
            "value": 1,
            "_view_count": null,
            "_view_module_version": "1.5.0",
            "orientation": "horizontal",
            "min": 0,
            "description_tooltip": null,
            "_model_module": "@jupyter-widgets/controls",
            "layout": "IPY_MODEL_695f6a751d324fcaa76d82c9a2ccd9da"
          }
        },
        "f832b3f49ba54f8dbdd8ed943fa68dc3": {
          "model_module": "@jupyter-widgets/controls",
          "model_name": "DescriptionStyleModel",
          "state": {
            "_view_name": "StyleView",
            "_model_name": "DescriptionStyleModel",
            "description_width": "",
            "_view_module": "@jupyter-widgets/base",
            "_model_module_version": "1.5.0",
            "_view_count": null,
            "_view_module_version": "1.2.0",
            "_model_module": "@jupyter-widgets/controls"
          }
        },
        "a44e728de5804fdea356546f5255349c": {
          "model_module": "@jupyter-widgets/base",
          "model_name": "LayoutModel",
          "state": {
            "_view_name": "LayoutView",
            "grid_template_rows": null,
            "right": null,
            "justify_content": null,
            "_view_module": "@jupyter-widgets/base",
            "overflow": null,
            "_model_module_version": "1.2.0",
            "_view_count": null,
            "flex_flow": null,
            "width": null,
            "min_width": null,
            "border": null,
            "align_items": null,
            "bottom": null,
            "_model_module": "@jupyter-widgets/base",
            "top": null,
            "grid_column": null,
            "overflow_y": null,
            "overflow_x": null,
            "grid_auto_flow": null,
            "grid_area": null,
            "grid_template_columns": null,
            "flex": null,
            "_model_name": "LayoutModel",
            "justify_items": null,
            "grid_row": null,
            "max_height": null,
            "align_content": null,
            "visibility": null,
            "align_self": null,
            "height": null,
            "min_height": null,
            "padding": null,
            "grid_auto_rows": null,
            "grid_gap": null,
            "max_width": null,
            "order": null,
            "_view_module_version": "1.2.0",
            "grid_template_areas": null,
            "object_position": null,
            "object_fit": null,
            "grid_auto_columns": null,
            "margin": null,
            "display": null,
            "left": null
          }
        },
        "ea448c4b8ad140a8bea40b30288685d7": {
          "model_module": "@jupyter-widgets/controls",
          "model_name": "ProgressStyleModel",
          "state": {
            "_view_name": "StyleView",
            "_model_name": "ProgressStyleModel",
            "description_width": "",
            "_view_module": "@jupyter-widgets/base",
            "_model_module_version": "1.5.0",
            "_view_count": null,
            "_view_module_version": "1.2.0",
            "bar_color": null,
            "_model_module": "@jupyter-widgets/controls"
          }
        },
        "695f6a751d324fcaa76d82c9a2ccd9da": {
          "model_module": "@jupyter-widgets/base",
          "model_name": "LayoutModel",
          "state": {
            "_view_name": "LayoutView",
            "grid_template_rows": null,
            "right": null,
            "justify_content": null,
            "_view_module": "@jupyter-widgets/base",
            "overflow": null,
            "_model_module_version": "1.2.0",
            "_view_count": null,
            "flex_flow": null,
            "width": null,
            "min_width": null,
            "border": null,
            "align_items": null,
            "bottom": null,
            "_model_module": "@jupyter-widgets/base",
            "top": null,
            "grid_column": null,
            "overflow_y": null,
            "overflow_x": null,
            "grid_auto_flow": null,
            "grid_area": null,
            "grid_template_columns": null,
            "flex": null,
            "_model_name": "LayoutModel",
            "justify_items": null,
            "grid_row": null,
            "max_height": null,
            "align_content": null,
            "visibility": null,
            "align_self": null,
            "height": null,
            "min_height": null,
            "padding": null,
            "grid_auto_rows": null,
            "grid_gap": null,
            "max_width": null,
            "order": null,
            "_view_module_version": "1.2.0",
            "grid_template_areas": null,
            "object_position": null,
            "object_fit": null,
            "grid_auto_columns": null,
            "margin": null,
            "display": null,
            "left": null
          }
        },
        "d44f789b3e7644dc8d624b7808a09cac": {
          "model_module": "@jupyter-widgets/controls",
          "model_name": "VBoxModel",
          "state": {
            "_view_name": "VBoxView",
            "_dom_classes": [],
            "_model_name": "VBoxModel",
            "_view_module": "@jupyter-widgets/controls",
            "_model_module_version": "1.5.0",
            "_view_count": null,
            "_view_module_version": "1.5.0",
            "box_style": "",
            "layout": "IPY_MODEL_017955ad134349128c06087bf4a5d5ed",
            "_model_module": "@jupyter-widgets/controls",
            "children": [
              "IPY_MODEL_6934246a46ae440faaa4e91ac2c78fbc",
              "IPY_MODEL_12b0b993e4f84d549afad1ed862f8186"
            ]
          }
        },
        "017955ad134349128c06087bf4a5d5ed": {
          "model_module": "@jupyter-widgets/base",
          "model_name": "LayoutModel",
          "state": {
            "_view_name": "LayoutView",
            "grid_template_rows": null,
            "right": null,
            "justify_content": null,
            "_view_module": "@jupyter-widgets/base",
            "overflow": null,
            "_model_module_version": "1.2.0",
            "_view_count": null,
            "flex_flow": null,
            "width": null,
            "min_width": null,
            "border": null,
            "align_items": null,
            "bottom": null,
            "_model_module": "@jupyter-widgets/base",
            "top": null,
            "grid_column": null,
            "overflow_y": null,
            "overflow_x": null,
            "grid_auto_flow": null,
            "grid_area": null,
            "grid_template_columns": null,
            "flex": null,
            "_model_name": "LayoutModel",
            "justify_items": null,
            "grid_row": null,
            "max_height": null,
            "align_content": null,
            "visibility": null,
            "align_self": null,
            "height": null,
            "min_height": null,
            "padding": null,
            "grid_auto_rows": null,
            "grid_gap": null,
            "max_width": null,
            "order": null,
            "_view_module_version": "1.2.0",
            "grid_template_areas": null,
            "object_position": null,
            "object_fit": null,
            "grid_auto_columns": null,
            "margin": null,
            "display": null,
            "left": null
          }
        },
        "6934246a46ae440faaa4e91ac2c78fbc": {
          "model_module": "@jupyter-widgets/controls",
          "model_name": "LabelModel",
          "state": {
            "_view_name": "LabelView",
            "style": "IPY_MODEL_0988183b30e14428a4b8a08e10529948",
            "_dom_classes": [],
            "description": "",
            "_model_name": "LabelModel",
            "placeholder": "​",
            "_view_module": "@jupyter-widgets/controls",
            "_model_module_version": "1.5.0",
            "value": " 0.01MB of 0.01MB uploaded (0.00MB deduped)\r",
            "_view_count": null,
            "_view_module_version": "1.5.0",
            "description_tooltip": null,
            "_model_module": "@jupyter-widgets/controls",
            "layout": "IPY_MODEL_a08c3b93eab34a78ba9dd775121cc841"
          }
        },
        "12b0b993e4f84d549afad1ed862f8186": {
          "model_module": "@jupyter-widgets/controls",
          "model_name": "FloatProgressModel",
          "state": {
            "_view_name": "ProgressView",
            "style": "IPY_MODEL_2dff873a7a824d0796df65297a89bd1f",
            "_dom_classes": [],
            "description": "",
            "_model_name": "FloatProgressModel",
            "bar_style": "",
            "max": 1,
            "_view_module": "@jupyter-widgets/controls",
            "_model_module_version": "1.5.0",
            "value": 1,
            "_view_count": null,
            "_view_module_version": "1.5.0",
            "orientation": "horizontal",
            "min": 0,
            "description_tooltip": null,
            "_model_module": "@jupyter-widgets/controls",
            "layout": "IPY_MODEL_285d4b82fac04086abb2a1bd76125e78"
          }
        },
        "0988183b30e14428a4b8a08e10529948": {
          "model_module": "@jupyter-widgets/controls",
          "model_name": "DescriptionStyleModel",
          "state": {
            "_view_name": "StyleView",
            "_model_name": "DescriptionStyleModel",
            "description_width": "",
            "_view_module": "@jupyter-widgets/base",
            "_model_module_version": "1.5.0",
            "_view_count": null,
            "_view_module_version": "1.2.0",
            "_model_module": "@jupyter-widgets/controls"
          }
        },
        "a08c3b93eab34a78ba9dd775121cc841": {
          "model_module": "@jupyter-widgets/base",
          "model_name": "LayoutModel",
          "state": {
            "_view_name": "LayoutView",
            "grid_template_rows": null,
            "right": null,
            "justify_content": null,
            "_view_module": "@jupyter-widgets/base",
            "overflow": null,
            "_model_module_version": "1.2.0",
            "_view_count": null,
            "flex_flow": null,
            "width": null,
            "min_width": null,
            "border": null,
            "align_items": null,
            "bottom": null,
            "_model_module": "@jupyter-widgets/base",
            "top": null,
            "grid_column": null,
            "overflow_y": null,
            "overflow_x": null,
            "grid_auto_flow": null,
            "grid_area": null,
            "grid_template_columns": null,
            "flex": null,
            "_model_name": "LayoutModel",
            "justify_items": null,
            "grid_row": null,
            "max_height": null,
            "align_content": null,
            "visibility": null,
            "align_self": null,
            "height": null,
            "min_height": null,
            "padding": null,
            "grid_auto_rows": null,
            "grid_gap": null,
            "max_width": null,
            "order": null,
            "_view_module_version": "1.2.0",
            "grid_template_areas": null,
            "object_position": null,
            "object_fit": null,
            "grid_auto_columns": null,
            "margin": null,
            "display": null,
            "left": null
          }
        },
        "2dff873a7a824d0796df65297a89bd1f": {
          "model_module": "@jupyter-widgets/controls",
          "model_name": "ProgressStyleModel",
          "state": {
            "_view_name": "StyleView",
            "_model_name": "ProgressStyleModel",
            "description_width": "",
            "_view_module": "@jupyter-widgets/base",
            "_model_module_version": "1.5.0",
            "_view_count": null,
            "_view_module_version": "1.2.0",
            "bar_color": null,
            "_model_module": "@jupyter-widgets/controls"
          }
        },
        "285d4b82fac04086abb2a1bd76125e78": {
          "model_module": "@jupyter-widgets/base",
          "model_name": "LayoutModel",
          "state": {
            "_view_name": "LayoutView",
            "grid_template_rows": null,
            "right": null,
            "justify_content": null,
            "_view_module": "@jupyter-widgets/base",
            "overflow": null,
            "_model_module_version": "1.2.0",
            "_view_count": null,
            "flex_flow": null,
            "width": null,
            "min_width": null,
            "border": null,
            "align_items": null,
            "bottom": null,
            "_model_module": "@jupyter-widgets/base",
            "top": null,
            "grid_column": null,
            "overflow_y": null,
            "overflow_x": null,
            "grid_auto_flow": null,
            "grid_area": null,
            "grid_template_columns": null,
            "flex": null,
            "_model_name": "LayoutModel",
            "justify_items": null,
            "grid_row": null,
            "max_height": null,
            "align_content": null,
            "visibility": null,
            "align_self": null,
            "height": null,
            "min_height": null,
            "padding": null,
            "grid_auto_rows": null,
            "grid_gap": null,
            "max_width": null,
            "order": null,
            "_view_module_version": "1.2.0",
            "grid_template_areas": null,
            "object_position": null,
            "object_fit": null,
            "grid_auto_columns": null,
            "margin": null,
            "display": null,
            "left": null
          }
        },
        "6f30df6b614249eaa672c1a0c31406df": {
          "model_module": "@jupyter-widgets/controls",
          "model_name": "VBoxModel",
          "state": {
            "_view_name": "VBoxView",
            "_dom_classes": [],
            "_model_name": "VBoxModel",
            "_view_module": "@jupyter-widgets/controls",
            "_model_module_version": "1.5.0",
            "_view_count": null,
            "_view_module_version": "1.5.0",
            "box_style": "",
            "layout": "IPY_MODEL_a9d800b6dafc483babee25e7c2b8061a",
            "_model_module": "@jupyter-widgets/controls",
            "children": [
              "IPY_MODEL_0c7d9aa57c6f4f3da5e1ca832882233d",
              "IPY_MODEL_974da8335fbe45ad95cd9f35a73611c1"
            ]
          }
        },
        "a9d800b6dafc483babee25e7c2b8061a": {
          "model_module": "@jupyter-widgets/base",
          "model_name": "LayoutModel",
          "state": {
            "_view_name": "LayoutView",
            "grid_template_rows": null,
            "right": null,
            "justify_content": null,
            "_view_module": "@jupyter-widgets/base",
            "overflow": null,
            "_model_module_version": "1.2.0",
            "_view_count": null,
            "flex_flow": null,
            "width": null,
            "min_width": null,
            "border": null,
            "align_items": null,
            "bottom": null,
            "_model_module": "@jupyter-widgets/base",
            "top": null,
            "grid_column": null,
            "overflow_y": null,
            "overflow_x": null,
            "grid_auto_flow": null,
            "grid_area": null,
            "grid_template_columns": null,
            "flex": null,
            "_model_name": "LayoutModel",
            "justify_items": null,
            "grid_row": null,
            "max_height": null,
            "align_content": null,
            "visibility": null,
            "align_self": null,
            "height": null,
            "min_height": null,
            "padding": null,
            "grid_auto_rows": null,
            "grid_gap": null,
            "max_width": null,
            "order": null,
            "_view_module_version": "1.2.0",
            "grid_template_areas": null,
            "object_position": null,
            "object_fit": null,
            "grid_auto_columns": null,
            "margin": null,
            "display": null,
            "left": null
          }
        },
        "0c7d9aa57c6f4f3da5e1ca832882233d": {
          "model_module": "@jupyter-widgets/controls",
          "model_name": "LabelModel",
          "state": {
            "_view_name": "LabelView",
            "style": "IPY_MODEL_0b1f83245114466c9d93930c86d45662",
            "_dom_classes": [],
            "description": "",
            "_model_name": "LabelModel",
            "placeholder": "​",
            "_view_module": "@jupyter-widgets/controls",
            "_model_module_version": "1.5.0",
            "value": " 0.01MB of 0.01MB uploaded (0.00MB deduped)\r",
            "_view_count": null,
            "_view_module_version": "1.5.0",
            "description_tooltip": null,
            "_model_module": "@jupyter-widgets/controls",
            "layout": "IPY_MODEL_5bd9237df37e496eb7ad1134413189fb"
          }
        },
        "974da8335fbe45ad95cd9f35a73611c1": {
          "model_module": "@jupyter-widgets/controls",
          "model_name": "FloatProgressModel",
          "state": {
            "_view_name": "ProgressView",
            "style": "IPY_MODEL_de12f0e2c450492e85b9c41f9da5c89c",
            "_dom_classes": [],
            "description": "",
            "_model_name": "FloatProgressModel",
            "bar_style": "",
            "max": 1,
            "_view_module": "@jupyter-widgets/controls",
            "_model_module_version": "1.5.0",
            "value": 1,
            "_view_count": null,
            "_view_module_version": "1.5.0",
            "orientation": "horizontal",
            "min": 0,
            "description_tooltip": null,
            "_model_module": "@jupyter-widgets/controls",
            "layout": "IPY_MODEL_00969d0269e64a65b855ea0eb337fe7d"
          }
        },
        "0b1f83245114466c9d93930c86d45662": {
          "model_module": "@jupyter-widgets/controls",
          "model_name": "DescriptionStyleModel",
          "state": {
            "_view_name": "StyleView",
            "_model_name": "DescriptionStyleModel",
            "description_width": "",
            "_view_module": "@jupyter-widgets/base",
            "_model_module_version": "1.5.0",
            "_view_count": null,
            "_view_module_version": "1.2.0",
            "_model_module": "@jupyter-widgets/controls"
          }
        },
        "5bd9237df37e496eb7ad1134413189fb": {
          "model_module": "@jupyter-widgets/base",
          "model_name": "LayoutModel",
          "state": {
            "_view_name": "LayoutView",
            "grid_template_rows": null,
            "right": null,
            "justify_content": null,
            "_view_module": "@jupyter-widgets/base",
            "overflow": null,
            "_model_module_version": "1.2.0",
            "_view_count": null,
            "flex_flow": null,
            "width": null,
            "min_width": null,
            "border": null,
            "align_items": null,
            "bottom": null,
            "_model_module": "@jupyter-widgets/base",
            "top": null,
            "grid_column": null,
            "overflow_y": null,
            "overflow_x": null,
            "grid_auto_flow": null,
            "grid_area": null,
            "grid_template_columns": null,
            "flex": null,
            "_model_name": "LayoutModel",
            "justify_items": null,
            "grid_row": null,
            "max_height": null,
            "align_content": null,
            "visibility": null,
            "align_self": null,
            "height": null,
            "min_height": null,
            "padding": null,
            "grid_auto_rows": null,
            "grid_gap": null,
            "max_width": null,
            "order": null,
            "_view_module_version": "1.2.0",
            "grid_template_areas": null,
            "object_position": null,
            "object_fit": null,
            "grid_auto_columns": null,
            "margin": null,
            "display": null,
            "left": null
          }
        },
        "de12f0e2c450492e85b9c41f9da5c89c": {
          "model_module": "@jupyter-widgets/controls",
          "model_name": "ProgressStyleModel",
          "state": {
            "_view_name": "StyleView",
            "_model_name": "ProgressStyleModel",
            "description_width": "",
            "_view_module": "@jupyter-widgets/base",
            "_model_module_version": "1.5.0",
            "_view_count": null,
            "_view_module_version": "1.2.0",
            "bar_color": null,
            "_model_module": "@jupyter-widgets/controls"
          }
        },
        "00969d0269e64a65b855ea0eb337fe7d": {
          "model_module": "@jupyter-widgets/base",
          "model_name": "LayoutModel",
          "state": {
            "_view_name": "LayoutView",
            "grid_template_rows": null,
            "right": null,
            "justify_content": null,
            "_view_module": "@jupyter-widgets/base",
            "overflow": null,
            "_model_module_version": "1.2.0",
            "_view_count": null,
            "flex_flow": null,
            "width": null,
            "min_width": null,
            "border": null,
            "align_items": null,
            "bottom": null,
            "_model_module": "@jupyter-widgets/base",
            "top": null,
            "grid_column": null,
            "overflow_y": null,
            "overflow_x": null,
            "grid_auto_flow": null,
            "grid_area": null,
            "grid_template_columns": null,
            "flex": null,
            "_model_name": "LayoutModel",
            "justify_items": null,
            "grid_row": null,
            "max_height": null,
            "align_content": null,
            "visibility": null,
            "align_self": null,
            "height": null,
            "min_height": null,
            "padding": null,
            "grid_auto_rows": null,
            "grid_gap": null,
            "max_width": null,
            "order": null,
            "_view_module_version": "1.2.0",
            "grid_template_areas": null,
            "object_position": null,
            "object_fit": null,
            "grid_auto_columns": null,
            "margin": null,
            "display": null,
            "left": null
          }
        },
        "d65910f3916545b086f2840b21b70c01": {
          "model_module": "@jupyter-widgets/controls",
          "model_name": "VBoxModel",
          "state": {
            "_view_name": "VBoxView",
            "_dom_classes": [],
            "_model_name": "VBoxModel",
            "_view_module": "@jupyter-widgets/controls",
            "_model_module_version": "1.5.0",
            "_view_count": null,
            "_view_module_version": "1.5.0",
            "box_style": "",
            "layout": "IPY_MODEL_ee2c645a91a14f769a0b2bea05553bf5",
            "_model_module": "@jupyter-widgets/controls",
            "children": [
              "IPY_MODEL_63d9c612feb64a2e91d6cc959a84090b",
              "IPY_MODEL_f5e63fb24a1048f0853f77f27babb883"
            ]
          }
        },
        "ee2c645a91a14f769a0b2bea05553bf5": {
          "model_module": "@jupyter-widgets/base",
          "model_name": "LayoutModel",
          "state": {
            "_view_name": "LayoutView",
            "grid_template_rows": null,
            "right": null,
            "justify_content": null,
            "_view_module": "@jupyter-widgets/base",
            "overflow": null,
            "_model_module_version": "1.2.0",
            "_view_count": null,
            "flex_flow": null,
            "width": null,
            "min_width": null,
            "border": null,
            "align_items": null,
            "bottom": null,
            "_model_module": "@jupyter-widgets/base",
            "top": null,
            "grid_column": null,
            "overflow_y": null,
            "overflow_x": null,
            "grid_auto_flow": null,
            "grid_area": null,
            "grid_template_columns": null,
            "flex": null,
            "_model_name": "LayoutModel",
            "justify_items": null,
            "grid_row": null,
            "max_height": null,
            "align_content": null,
            "visibility": null,
            "align_self": null,
            "height": null,
            "min_height": null,
            "padding": null,
            "grid_auto_rows": null,
            "grid_gap": null,
            "max_width": null,
            "order": null,
            "_view_module_version": "1.2.0",
            "grid_template_areas": null,
            "object_position": null,
            "object_fit": null,
            "grid_auto_columns": null,
            "margin": null,
            "display": null,
            "left": null
          }
        },
        "63d9c612feb64a2e91d6cc959a84090b": {
          "model_module": "@jupyter-widgets/controls",
          "model_name": "LabelModel",
          "state": {
            "_view_name": "LabelView",
            "style": "IPY_MODEL_7df0e280696e4ecaa079eec8e8bae098",
            "_dom_classes": [],
            "description": "",
            "_model_name": "LabelModel",
            "placeholder": "​",
            "_view_module": "@jupyter-widgets/controls",
            "_model_module_version": "1.5.0",
            "value": " 0.01MB of 0.01MB uploaded (0.00MB deduped)\r",
            "_view_count": null,
            "_view_module_version": "1.5.0",
            "description_tooltip": null,
            "_model_module": "@jupyter-widgets/controls",
            "layout": "IPY_MODEL_1df78338cb344ce48cf0abb937bafd50"
          }
        },
        "f5e63fb24a1048f0853f77f27babb883": {
          "model_module": "@jupyter-widgets/controls",
          "model_name": "FloatProgressModel",
          "state": {
            "_view_name": "ProgressView",
            "style": "IPY_MODEL_87cc6641216b4545a963fab3d01214b0",
            "_dom_classes": [],
            "description": "",
            "_model_name": "FloatProgressModel",
            "bar_style": "",
            "max": 1,
            "_view_module": "@jupyter-widgets/controls",
            "_model_module_version": "1.5.0",
            "value": 1,
            "_view_count": null,
            "_view_module_version": "1.5.0",
            "orientation": "horizontal",
            "min": 0,
            "description_tooltip": null,
            "_model_module": "@jupyter-widgets/controls",
            "layout": "IPY_MODEL_06149939ea6144e88de533584353d99d"
          }
        },
        "7df0e280696e4ecaa079eec8e8bae098": {
          "model_module": "@jupyter-widgets/controls",
          "model_name": "DescriptionStyleModel",
          "state": {
            "_view_name": "StyleView",
            "_model_name": "DescriptionStyleModel",
            "description_width": "",
            "_view_module": "@jupyter-widgets/base",
            "_model_module_version": "1.5.0",
            "_view_count": null,
            "_view_module_version": "1.2.0",
            "_model_module": "@jupyter-widgets/controls"
          }
        },
        "1df78338cb344ce48cf0abb937bafd50": {
          "model_module": "@jupyter-widgets/base",
          "model_name": "LayoutModel",
          "state": {
            "_view_name": "LayoutView",
            "grid_template_rows": null,
            "right": null,
            "justify_content": null,
            "_view_module": "@jupyter-widgets/base",
            "overflow": null,
            "_model_module_version": "1.2.0",
            "_view_count": null,
            "flex_flow": null,
            "width": null,
            "min_width": null,
            "border": null,
            "align_items": null,
            "bottom": null,
            "_model_module": "@jupyter-widgets/base",
            "top": null,
            "grid_column": null,
            "overflow_y": null,
            "overflow_x": null,
            "grid_auto_flow": null,
            "grid_area": null,
            "grid_template_columns": null,
            "flex": null,
            "_model_name": "LayoutModel",
            "justify_items": null,
            "grid_row": null,
            "max_height": null,
            "align_content": null,
            "visibility": null,
            "align_self": null,
            "height": null,
            "min_height": null,
            "padding": null,
            "grid_auto_rows": null,
            "grid_gap": null,
            "max_width": null,
            "order": null,
            "_view_module_version": "1.2.0",
            "grid_template_areas": null,
            "object_position": null,
            "object_fit": null,
            "grid_auto_columns": null,
            "margin": null,
            "display": null,
            "left": null
          }
        },
        "87cc6641216b4545a963fab3d01214b0": {
          "model_module": "@jupyter-widgets/controls",
          "model_name": "ProgressStyleModel",
          "state": {
            "_view_name": "StyleView",
            "_model_name": "ProgressStyleModel",
            "description_width": "",
            "_view_module": "@jupyter-widgets/base",
            "_model_module_version": "1.5.0",
            "_view_count": null,
            "_view_module_version": "1.2.0",
            "bar_color": null,
            "_model_module": "@jupyter-widgets/controls"
          }
        },
        "06149939ea6144e88de533584353d99d": {
          "model_module": "@jupyter-widgets/base",
          "model_name": "LayoutModel",
          "state": {
            "_view_name": "LayoutView",
            "grid_template_rows": null,
            "right": null,
            "justify_content": null,
            "_view_module": "@jupyter-widgets/base",
            "overflow": null,
            "_model_module_version": "1.2.0",
            "_view_count": null,
            "flex_flow": null,
            "width": null,
            "min_width": null,
            "border": null,
            "align_items": null,
            "bottom": null,
            "_model_module": "@jupyter-widgets/base",
            "top": null,
            "grid_column": null,
            "overflow_y": null,
            "overflow_x": null,
            "grid_auto_flow": null,
            "grid_area": null,
            "grid_template_columns": null,
            "flex": null,
            "_model_name": "LayoutModel",
            "justify_items": null,
            "grid_row": null,
            "max_height": null,
            "align_content": null,
            "visibility": null,
            "align_self": null,
            "height": null,
            "min_height": null,
            "padding": null,
            "grid_auto_rows": null,
            "grid_gap": null,
            "max_width": null,
            "order": null,
            "_view_module_version": "1.2.0",
            "grid_template_areas": null,
            "object_position": null,
            "object_fit": null,
            "grid_auto_columns": null,
            "margin": null,
            "display": null,
            "left": null
          }
        },
        "8d80544a419c40cf94f53844c02e3697": {
          "model_module": "@jupyter-widgets/controls",
          "model_name": "VBoxModel",
          "state": {
            "_view_name": "VBoxView",
            "_dom_classes": [],
            "_model_name": "VBoxModel",
            "_view_module": "@jupyter-widgets/controls",
            "_model_module_version": "1.5.0",
            "_view_count": null,
            "_view_module_version": "1.5.0",
            "box_style": "",
            "layout": "IPY_MODEL_4d4d7ef04c4c4dcc9c9f6200c5bf1fe0",
            "_model_module": "@jupyter-widgets/controls",
            "children": [
              "IPY_MODEL_c0b54018a2e2423bba48e88b7d687f41",
              "IPY_MODEL_6d9372cdaa9943608bd49346953a9093"
            ]
          }
        },
        "4d4d7ef04c4c4dcc9c9f6200c5bf1fe0": {
          "model_module": "@jupyter-widgets/base",
          "model_name": "LayoutModel",
          "state": {
            "_view_name": "LayoutView",
            "grid_template_rows": null,
            "right": null,
            "justify_content": null,
            "_view_module": "@jupyter-widgets/base",
            "overflow": null,
            "_model_module_version": "1.2.0",
            "_view_count": null,
            "flex_flow": null,
            "width": null,
            "min_width": null,
            "border": null,
            "align_items": null,
            "bottom": null,
            "_model_module": "@jupyter-widgets/base",
            "top": null,
            "grid_column": null,
            "overflow_y": null,
            "overflow_x": null,
            "grid_auto_flow": null,
            "grid_area": null,
            "grid_template_columns": null,
            "flex": null,
            "_model_name": "LayoutModel",
            "justify_items": null,
            "grid_row": null,
            "max_height": null,
            "align_content": null,
            "visibility": null,
            "align_self": null,
            "height": null,
            "min_height": null,
            "padding": null,
            "grid_auto_rows": null,
            "grid_gap": null,
            "max_width": null,
            "order": null,
            "_view_module_version": "1.2.0",
            "grid_template_areas": null,
            "object_position": null,
            "object_fit": null,
            "grid_auto_columns": null,
            "margin": null,
            "display": null,
            "left": null
          }
        },
        "c0b54018a2e2423bba48e88b7d687f41": {
          "model_module": "@jupyter-widgets/controls",
          "model_name": "LabelModel",
          "state": {
            "_view_name": "LabelView",
            "style": "IPY_MODEL_34d48d49f9d14364bc44c98b2cbb7ce2",
            "_dom_classes": [],
            "description": "",
            "_model_name": "LabelModel",
            "placeholder": "​",
            "_view_module": "@jupyter-widgets/controls",
            "_model_module_version": "1.5.0",
            "value": " 0.01MB of 0.01MB uploaded (0.00MB deduped)\r",
            "_view_count": null,
            "_view_module_version": "1.5.0",
            "description_tooltip": null,
            "_model_module": "@jupyter-widgets/controls",
            "layout": "IPY_MODEL_93b114e61c294fac843e5ad4e3aaf4ef"
          }
        },
        "6d9372cdaa9943608bd49346953a9093": {
          "model_module": "@jupyter-widgets/controls",
          "model_name": "FloatProgressModel",
          "state": {
            "_view_name": "ProgressView",
            "style": "IPY_MODEL_93f7bb4996d341058bcb14c0d3a066fe",
            "_dom_classes": [],
            "description": "",
            "_model_name": "FloatProgressModel",
            "bar_style": "",
            "max": 1,
            "_view_module": "@jupyter-widgets/controls",
            "_model_module_version": "1.5.0",
            "value": 1,
            "_view_count": null,
            "_view_module_version": "1.5.0",
            "orientation": "horizontal",
            "min": 0,
            "description_tooltip": null,
            "_model_module": "@jupyter-widgets/controls",
            "layout": "IPY_MODEL_1d439c45b23a42f6b7c6a7cfedf214f1"
          }
        },
        "34d48d49f9d14364bc44c98b2cbb7ce2": {
          "model_module": "@jupyter-widgets/controls",
          "model_name": "DescriptionStyleModel",
          "state": {
            "_view_name": "StyleView",
            "_model_name": "DescriptionStyleModel",
            "description_width": "",
            "_view_module": "@jupyter-widgets/base",
            "_model_module_version": "1.5.0",
            "_view_count": null,
            "_view_module_version": "1.2.0",
            "_model_module": "@jupyter-widgets/controls"
          }
        },
        "93b114e61c294fac843e5ad4e3aaf4ef": {
          "model_module": "@jupyter-widgets/base",
          "model_name": "LayoutModel",
          "state": {
            "_view_name": "LayoutView",
            "grid_template_rows": null,
            "right": null,
            "justify_content": null,
            "_view_module": "@jupyter-widgets/base",
            "overflow": null,
            "_model_module_version": "1.2.0",
            "_view_count": null,
            "flex_flow": null,
            "width": null,
            "min_width": null,
            "border": null,
            "align_items": null,
            "bottom": null,
            "_model_module": "@jupyter-widgets/base",
            "top": null,
            "grid_column": null,
            "overflow_y": null,
            "overflow_x": null,
            "grid_auto_flow": null,
            "grid_area": null,
            "grid_template_columns": null,
            "flex": null,
            "_model_name": "LayoutModel",
            "justify_items": null,
            "grid_row": null,
            "max_height": null,
            "align_content": null,
            "visibility": null,
            "align_self": null,
            "height": null,
            "min_height": null,
            "padding": null,
            "grid_auto_rows": null,
            "grid_gap": null,
            "max_width": null,
            "order": null,
            "_view_module_version": "1.2.0",
            "grid_template_areas": null,
            "object_position": null,
            "object_fit": null,
            "grid_auto_columns": null,
            "margin": null,
            "display": null,
            "left": null
          }
        },
        "93f7bb4996d341058bcb14c0d3a066fe": {
          "model_module": "@jupyter-widgets/controls",
          "model_name": "ProgressStyleModel",
          "state": {
            "_view_name": "StyleView",
            "_model_name": "ProgressStyleModel",
            "description_width": "",
            "_view_module": "@jupyter-widgets/base",
            "_model_module_version": "1.5.0",
            "_view_count": null,
            "_view_module_version": "1.2.0",
            "bar_color": null,
            "_model_module": "@jupyter-widgets/controls"
          }
        },
        "1d439c45b23a42f6b7c6a7cfedf214f1": {
          "model_module": "@jupyter-widgets/base",
          "model_name": "LayoutModel",
          "state": {
            "_view_name": "LayoutView",
            "grid_template_rows": null,
            "right": null,
            "justify_content": null,
            "_view_module": "@jupyter-widgets/base",
            "overflow": null,
            "_model_module_version": "1.2.0",
            "_view_count": null,
            "flex_flow": null,
            "width": null,
            "min_width": null,
            "border": null,
            "align_items": null,
            "bottom": null,
            "_model_module": "@jupyter-widgets/base",
            "top": null,
            "grid_column": null,
            "overflow_y": null,
            "overflow_x": null,
            "grid_auto_flow": null,
            "grid_area": null,
            "grid_template_columns": null,
            "flex": null,
            "_model_name": "LayoutModel",
            "justify_items": null,
            "grid_row": null,
            "max_height": null,
            "align_content": null,
            "visibility": null,
            "align_self": null,
            "height": null,
            "min_height": null,
            "padding": null,
            "grid_auto_rows": null,
            "grid_gap": null,
            "max_width": null,
            "order": null,
            "_view_module_version": "1.2.0",
            "grid_template_areas": null,
            "object_position": null,
            "object_fit": null,
            "grid_auto_columns": null,
            "margin": null,
            "display": null,
            "left": null
          }
        },
        "dba45c34d9c247eaa775a6fe68ec471a": {
          "model_module": "@jupyter-widgets/controls",
          "model_name": "VBoxModel",
          "state": {
            "_view_name": "VBoxView",
            "_dom_classes": [],
            "_model_name": "VBoxModel",
            "_view_module": "@jupyter-widgets/controls",
            "_model_module_version": "1.5.0",
            "_view_count": null,
            "_view_module_version": "1.5.0",
            "box_style": "",
            "layout": "IPY_MODEL_b71d872c228d4c528a1356af4afa4bbc",
            "_model_module": "@jupyter-widgets/controls",
            "children": [
              "IPY_MODEL_aeacdfc2b5c34d25a88ae8179fefad6f",
              "IPY_MODEL_0c7bdc7ad1e840e0990d2d4b064009ea"
            ]
          }
        },
        "b71d872c228d4c528a1356af4afa4bbc": {
          "model_module": "@jupyter-widgets/base",
          "model_name": "LayoutModel",
          "state": {
            "_view_name": "LayoutView",
            "grid_template_rows": null,
            "right": null,
            "justify_content": null,
            "_view_module": "@jupyter-widgets/base",
            "overflow": null,
            "_model_module_version": "1.2.0",
            "_view_count": null,
            "flex_flow": null,
            "width": null,
            "min_width": null,
            "border": null,
            "align_items": null,
            "bottom": null,
            "_model_module": "@jupyter-widgets/base",
            "top": null,
            "grid_column": null,
            "overflow_y": null,
            "overflow_x": null,
            "grid_auto_flow": null,
            "grid_area": null,
            "grid_template_columns": null,
            "flex": null,
            "_model_name": "LayoutModel",
            "justify_items": null,
            "grid_row": null,
            "max_height": null,
            "align_content": null,
            "visibility": null,
            "align_self": null,
            "height": null,
            "min_height": null,
            "padding": null,
            "grid_auto_rows": null,
            "grid_gap": null,
            "max_width": null,
            "order": null,
            "_view_module_version": "1.2.0",
            "grid_template_areas": null,
            "object_position": null,
            "object_fit": null,
            "grid_auto_columns": null,
            "margin": null,
            "display": null,
            "left": null
          }
        },
        "aeacdfc2b5c34d25a88ae8179fefad6f": {
          "model_module": "@jupyter-widgets/controls",
          "model_name": "LabelModel",
          "state": {
            "_view_name": "LabelView",
            "style": "IPY_MODEL_21381153dfb346a58469ea7c885642b7",
            "_dom_classes": [],
            "description": "",
            "_model_name": "LabelModel",
            "placeholder": "​",
            "_view_module": "@jupyter-widgets/controls",
            "_model_module_version": "1.5.0",
            "value": " 0.01MB of 0.01MB uploaded (0.00MB deduped)\r",
            "_view_count": null,
            "_view_module_version": "1.5.0",
            "description_tooltip": null,
            "_model_module": "@jupyter-widgets/controls",
            "layout": "IPY_MODEL_a4604dc95c594c1b91361fa1f4671462"
          }
        },
        "0c7bdc7ad1e840e0990d2d4b064009ea": {
          "model_module": "@jupyter-widgets/controls",
          "model_name": "FloatProgressModel",
          "state": {
            "_view_name": "ProgressView",
            "style": "IPY_MODEL_59c552df8c584960a46603d8e78aecac",
            "_dom_classes": [],
            "description": "",
            "_model_name": "FloatProgressModel",
            "bar_style": "",
            "max": 1,
            "_view_module": "@jupyter-widgets/controls",
            "_model_module_version": "1.5.0",
            "value": 1,
            "_view_count": null,
            "_view_module_version": "1.5.0",
            "orientation": "horizontal",
            "min": 0,
            "description_tooltip": null,
            "_model_module": "@jupyter-widgets/controls",
            "layout": "IPY_MODEL_bac3e43399dc408988387ad743e0be78"
          }
        },
        "21381153dfb346a58469ea7c885642b7": {
          "model_module": "@jupyter-widgets/controls",
          "model_name": "DescriptionStyleModel",
          "state": {
            "_view_name": "StyleView",
            "_model_name": "DescriptionStyleModel",
            "description_width": "",
            "_view_module": "@jupyter-widgets/base",
            "_model_module_version": "1.5.0",
            "_view_count": null,
            "_view_module_version": "1.2.0",
            "_model_module": "@jupyter-widgets/controls"
          }
        },
        "a4604dc95c594c1b91361fa1f4671462": {
          "model_module": "@jupyter-widgets/base",
          "model_name": "LayoutModel",
          "state": {
            "_view_name": "LayoutView",
            "grid_template_rows": null,
            "right": null,
            "justify_content": null,
            "_view_module": "@jupyter-widgets/base",
            "overflow": null,
            "_model_module_version": "1.2.0",
            "_view_count": null,
            "flex_flow": null,
            "width": null,
            "min_width": null,
            "border": null,
            "align_items": null,
            "bottom": null,
            "_model_module": "@jupyter-widgets/base",
            "top": null,
            "grid_column": null,
            "overflow_y": null,
            "overflow_x": null,
            "grid_auto_flow": null,
            "grid_area": null,
            "grid_template_columns": null,
            "flex": null,
            "_model_name": "LayoutModel",
            "justify_items": null,
            "grid_row": null,
            "max_height": null,
            "align_content": null,
            "visibility": null,
            "align_self": null,
            "height": null,
            "min_height": null,
            "padding": null,
            "grid_auto_rows": null,
            "grid_gap": null,
            "max_width": null,
            "order": null,
            "_view_module_version": "1.2.0",
            "grid_template_areas": null,
            "object_position": null,
            "object_fit": null,
            "grid_auto_columns": null,
            "margin": null,
            "display": null,
            "left": null
          }
        },
        "59c552df8c584960a46603d8e78aecac": {
          "model_module": "@jupyter-widgets/controls",
          "model_name": "ProgressStyleModel",
          "state": {
            "_view_name": "StyleView",
            "_model_name": "ProgressStyleModel",
            "description_width": "",
            "_view_module": "@jupyter-widgets/base",
            "_model_module_version": "1.5.0",
            "_view_count": null,
            "_view_module_version": "1.2.0",
            "bar_color": null,
            "_model_module": "@jupyter-widgets/controls"
          }
        },
        "bac3e43399dc408988387ad743e0be78": {
          "model_module": "@jupyter-widgets/base",
          "model_name": "LayoutModel",
          "state": {
            "_view_name": "LayoutView",
            "grid_template_rows": null,
            "right": null,
            "justify_content": null,
            "_view_module": "@jupyter-widgets/base",
            "overflow": null,
            "_model_module_version": "1.2.0",
            "_view_count": null,
            "flex_flow": null,
            "width": null,
            "min_width": null,
            "border": null,
            "align_items": null,
            "bottom": null,
            "_model_module": "@jupyter-widgets/base",
            "top": null,
            "grid_column": null,
            "overflow_y": null,
            "overflow_x": null,
            "grid_auto_flow": null,
            "grid_area": null,
            "grid_template_columns": null,
            "flex": null,
            "_model_name": "LayoutModel",
            "justify_items": null,
            "grid_row": null,
            "max_height": null,
            "align_content": null,
            "visibility": null,
            "align_self": null,
            "height": null,
            "min_height": null,
            "padding": null,
            "grid_auto_rows": null,
            "grid_gap": null,
            "max_width": null,
            "order": null,
            "_view_module_version": "1.2.0",
            "grid_template_areas": null,
            "object_position": null,
            "object_fit": null,
            "grid_auto_columns": null,
            "margin": null,
            "display": null,
            "left": null
          }
        },
        "6ab384a2062e4cafb4a13aea2bfccde2": {
          "model_module": "@jupyter-widgets/controls",
          "model_name": "VBoxModel",
          "state": {
            "_view_name": "VBoxView",
            "_dom_classes": [],
            "_model_name": "VBoxModel",
            "_view_module": "@jupyter-widgets/controls",
            "_model_module_version": "1.5.0",
            "_view_count": null,
            "_view_module_version": "1.5.0",
            "box_style": "",
            "layout": "IPY_MODEL_bf89798da486427785edfc3eb30bafbf",
            "_model_module": "@jupyter-widgets/controls",
            "children": [
              "IPY_MODEL_65e7f0d36f6649cb8444fec8d4f0e56a",
              "IPY_MODEL_f24a226f53aa41358affb5050c7c714e"
            ]
          }
        },
        "bf89798da486427785edfc3eb30bafbf": {
          "model_module": "@jupyter-widgets/base",
          "model_name": "LayoutModel",
          "state": {
            "_view_name": "LayoutView",
            "grid_template_rows": null,
            "right": null,
            "justify_content": null,
            "_view_module": "@jupyter-widgets/base",
            "overflow": null,
            "_model_module_version": "1.2.0",
            "_view_count": null,
            "flex_flow": null,
            "width": null,
            "min_width": null,
            "border": null,
            "align_items": null,
            "bottom": null,
            "_model_module": "@jupyter-widgets/base",
            "top": null,
            "grid_column": null,
            "overflow_y": null,
            "overflow_x": null,
            "grid_auto_flow": null,
            "grid_area": null,
            "grid_template_columns": null,
            "flex": null,
            "_model_name": "LayoutModel",
            "justify_items": null,
            "grid_row": null,
            "max_height": null,
            "align_content": null,
            "visibility": null,
            "align_self": null,
            "height": null,
            "min_height": null,
            "padding": null,
            "grid_auto_rows": null,
            "grid_gap": null,
            "max_width": null,
            "order": null,
            "_view_module_version": "1.2.0",
            "grid_template_areas": null,
            "object_position": null,
            "object_fit": null,
            "grid_auto_columns": null,
            "margin": null,
            "display": null,
            "left": null
          }
        },
        "65e7f0d36f6649cb8444fec8d4f0e56a": {
          "model_module": "@jupyter-widgets/controls",
          "model_name": "LabelModel",
          "state": {
            "_view_name": "LabelView",
            "style": "IPY_MODEL_5e8e7eb1c48f4e70b74a142818ba6669",
            "_dom_classes": [],
            "description": "",
            "_model_name": "LabelModel",
            "placeholder": "​",
            "_view_module": "@jupyter-widgets/controls",
            "_model_module_version": "1.5.0",
            "value": " 0.01MB of 0.01MB uploaded (0.00MB deduped)\r",
            "_view_count": null,
            "_view_module_version": "1.5.0",
            "description_tooltip": null,
            "_model_module": "@jupyter-widgets/controls",
            "layout": "IPY_MODEL_957b588a74624ea0b91c0d5b27771fd6"
          }
        },
        "f24a226f53aa41358affb5050c7c714e": {
          "model_module": "@jupyter-widgets/controls",
          "model_name": "FloatProgressModel",
          "state": {
            "_view_name": "ProgressView",
            "style": "IPY_MODEL_888bf1df263546e6a936deb90ab230b3",
            "_dom_classes": [],
            "description": "",
            "_model_name": "FloatProgressModel",
            "bar_style": "",
            "max": 1,
            "_view_module": "@jupyter-widgets/controls",
            "_model_module_version": "1.5.0",
            "value": 1,
            "_view_count": null,
            "_view_module_version": "1.5.0",
            "orientation": "horizontal",
            "min": 0,
            "description_tooltip": null,
            "_model_module": "@jupyter-widgets/controls",
            "layout": "IPY_MODEL_49d9cf6f391d4575ac1ff79fffc35200"
          }
        },
        "5e8e7eb1c48f4e70b74a142818ba6669": {
          "model_module": "@jupyter-widgets/controls",
          "model_name": "DescriptionStyleModel",
          "state": {
            "_view_name": "StyleView",
            "_model_name": "DescriptionStyleModel",
            "description_width": "",
            "_view_module": "@jupyter-widgets/base",
            "_model_module_version": "1.5.0",
            "_view_count": null,
            "_view_module_version": "1.2.0",
            "_model_module": "@jupyter-widgets/controls"
          }
        },
        "957b588a74624ea0b91c0d5b27771fd6": {
          "model_module": "@jupyter-widgets/base",
          "model_name": "LayoutModel",
          "state": {
            "_view_name": "LayoutView",
            "grid_template_rows": null,
            "right": null,
            "justify_content": null,
            "_view_module": "@jupyter-widgets/base",
            "overflow": null,
            "_model_module_version": "1.2.0",
            "_view_count": null,
            "flex_flow": null,
            "width": null,
            "min_width": null,
            "border": null,
            "align_items": null,
            "bottom": null,
            "_model_module": "@jupyter-widgets/base",
            "top": null,
            "grid_column": null,
            "overflow_y": null,
            "overflow_x": null,
            "grid_auto_flow": null,
            "grid_area": null,
            "grid_template_columns": null,
            "flex": null,
            "_model_name": "LayoutModel",
            "justify_items": null,
            "grid_row": null,
            "max_height": null,
            "align_content": null,
            "visibility": null,
            "align_self": null,
            "height": null,
            "min_height": null,
            "padding": null,
            "grid_auto_rows": null,
            "grid_gap": null,
            "max_width": null,
            "order": null,
            "_view_module_version": "1.2.0",
            "grid_template_areas": null,
            "object_position": null,
            "object_fit": null,
            "grid_auto_columns": null,
            "margin": null,
            "display": null,
            "left": null
          }
        },
        "888bf1df263546e6a936deb90ab230b3": {
          "model_module": "@jupyter-widgets/controls",
          "model_name": "ProgressStyleModel",
          "state": {
            "_view_name": "StyleView",
            "_model_name": "ProgressStyleModel",
            "description_width": "",
            "_view_module": "@jupyter-widgets/base",
            "_model_module_version": "1.5.0",
            "_view_count": null,
            "_view_module_version": "1.2.0",
            "bar_color": null,
            "_model_module": "@jupyter-widgets/controls"
          }
        },
        "49d9cf6f391d4575ac1ff79fffc35200": {
          "model_module": "@jupyter-widgets/base",
          "model_name": "LayoutModel",
          "state": {
            "_view_name": "LayoutView",
            "grid_template_rows": null,
            "right": null,
            "justify_content": null,
            "_view_module": "@jupyter-widgets/base",
            "overflow": null,
            "_model_module_version": "1.2.0",
            "_view_count": null,
            "flex_flow": null,
            "width": null,
            "min_width": null,
            "border": null,
            "align_items": null,
            "bottom": null,
            "_model_module": "@jupyter-widgets/base",
            "top": null,
            "grid_column": null,
            "overflow_y": null,
            "overflow_x": null,
            "grid_auto_flow": null,
            "grid_area": null,
            "grid_template_columns": null,
            "flex": null,
            "_model_name": "LayoutModel",
            "justify_items": null,
            "grid_row": null,
            "max_height": null,
            "align_content": null,
            "visibility": null,
            "align_self": null,
            "height": null,
            "min_height": null,
            "padding": null,
            "grid_auto_rows": null,
            "grid_gap": null,
            "max_width": null,
            "order": null,
            "_view_module_version": "1.2.0",
            "grid_template_areas": null,
            "object_position": null,
            "object_fit": null,
            "grid_auto_columns": null,
            "margin": null,
            "display": null,
            "left": null
          }
        },
        "dc886947aed44930bef7663a1ad60933": {
          "model_module": "@jupyter-widgets/controls",
          "model_name": "VBoxModel",
          "state": {
            "_view_name": "VBoxView",
            "_dom_classes": [],
            "_model_name": "VBoxModel",
            "_view_module": "@jupyter-widgets/controls",
            "_model_module_version": "1.5.0",
            "_view_count": null,
            "_view_module_version": "1.5.0",
            "box_style": "",
            "layout": "IPY_MODEL_9bdcbb3b66804fba81001cb2de68239c",
            "_model_module": "@jupyter-widgets/controls",
            "children": [
              "IPY_MODEL_63892dff9811416c93aeab6f9775bc46",
              "IPY_MODEL_01d2dd6b2124483499710cd0f204781b"
            ]
          }
        },
        "9bdcbb3b66804fba81001cb2de68239c": {
          "model_module": "@jupyter-widgets/base",
          "model_name": "LayoutModel",
          "state": {
            "_view_name": "LayoutView",
            "grid_template_rows": null,
            "right": null,
            "justify_content": null,
            "_view_module": "@jupyter-widgets/base",
            "overflow": null,
            "_model_module_version": "1.2.0",
            "_view_count": null,
            "flex_flow": null,
            "width": null,
            "min_width": null,
            "border": null,
            "align_items": null,
            "bottom": null,
            "_model_module": "@jupyter-widgets/base",
            "top": null,
            "grid_column": null,
            "overflow_y": null,
            "overflow_x": null,
            "grid_auto_flow": null,
            "grid_area": null,
            "grid_template_columns": null,
            "flex": null,
            "_model_name": "LayoutModel",
            "justify_items": null,
            "grid_row": null,
            "max_height": null,
            "align_content": null,
            "visibility": null,
            "align_self": null,
            "height": null,
            "min_height": null,
            "padding": null,
            "grid_auto_rows": null,
            "grid_gap": null,
            "max_width": null,
            "order": null,
            "_view_module_version": "1.2.0",
            "grid_template_areas": null,
            "object_position": null,
            "object_fit": null,
            "grid_auto_columns": null,
            "margin": null,
            "display": null,
            "left": null
          }
        },
        "63892dff9811416c93aeab6f9775bc46": {
          "model_module": "@jupyter-widgets/controls",
          "model_name": "LabelModel",
          "state": {
            "_view_name": "LabelView",
            "style": "IPY_MODEL_aa0cadae49824123957064c3a09d6be1",
            "_dom_classes": [],
            "description": "",
            "_model_name": "LabelModel",
            "placeholder": "​",
            "_view_module": "@jupyter-widgets/controls",
            "_model_module_version": "1.5.0",
            "value": " 0.01MB of 0.01MB uploaded (0.00MB deduped)\r",
            "_view_count": null,
            "_view_module_version": "1.5.0",
            "description_tooltip": null,
            "_model_module": "@jupyter-widgets/controls",
            "layout": "IPY_MODEL_39b3f4332c084b8097ef4e7394fa6cdd"
          }
        },
        "01d2dd6b2124483499710cd0f204781b": {
          "model_module": "@jupyter-widgets/controls",
          "model_name": "FloatProgressModel",
          "state": {
            "_view_name": "ProgressView",
            "style": "IPY_MODEL_932fab873049452a997ea5d84f3473c8",
            "_dom_classes": [],
            "description": "",
            "_model_name": "FloatProgressModel",
            "bar_style": "",
            "max": 1,
            "_view_module": "@jupyter-widgets/controls",
            "_model_module_version": "1.5.0",
            "value": 1,
            "_view_count": null,
            "_view_module_version": "1.5.0",
            "orientation": "horizontal",
            "min": 0,
            "description_tooltip": null,
            "_model_module": "@jupyter-widgets/controls",
            "layout": "IPY_MODEL_b0e373fc5af1400897bb17d5dec675dc"
          }
        },
        "aa0cadae49824123957064c3a09d6be1": {
          "model_module": "@jupyter-widgets/controls",
          "model_name": "DescriptionStyleModel",
          "state": {
            "_view_name": "StyleView",
            "_model_name": "DescriptionStyleModel",
            "description_width": "",
            "_view_module": "@jupyter-widgets/base",
            "_model_module_version": "1.5.0",
            "_view_count": null,
            "_view_module_version": "1.2.0",
            "_model_module": "@jupyter-widgets/controls"
          }
        },
        "39b3f4332c084b8097ef4e7394fa6cdd": {
          "model_module": "@jupyter-widgets/base",
          "model_name": "LayoutModel",
          "state": {
            "_view_name": "LayoutView",
            "grid_template_rows": null,
            "right": null,
            "justify_content": null,
            "_view_module": "@jupyter-widgets/base",
            "overflow": null,
            "_model_module_version": "1.2.0",
            "_view_count": null,
            "flex_flow": null,
            "width": null,
            "min_width": null,
            "border": null,
            "align_items": null,
            "bottom": null,
            "_model_module": "@jupyter-widgets/base",
            "top": null,
            "grid_column": null,
            "overflow_y": null,
            "overflow_x": null,
            "grid_auto_flow": null,
            "grid_area": null,
            "grid_template_columns": null,
            "flex": null,
            "_model_name": "LayoutModel",
            "justify_items": null,
            "grid_row": null,
            "max_height": null,
            "align_content": null,
            "visibility": null,
            "align_self": null,
            "height": null,
            "min_height": null,
            "padding": null,
            "grid_auto_rows": null,
            "grid_gap": null,
            "max_width": null,
            "order": null,
            "_view_module_version": "1.2.0",
            "grid_template_areas": null,
            "object_position": null,
            "object_fit": null,
            "grid_auto_columns": null,
            "margin": null,
            "display": null,
            "left": null
          }
        },
        "932fab873049452a997ea5d84f3473c8": {
          "model_module": "@jupyter-widgets/controls",
          "model_name": "ProgressStyleModel",
          "state": {
            "_view_name": "StyleView",
            "_model_name": "ProgressStyleModel",
            "description_width": "",
            "_view_module": "@jupyter-widgets/base",
            "_model_module_version": "1.5.0",
            "_view_count": null,
            "_view_module_version": "1.2.0",
            "bar_color": null,
            "_model_module": "@jupyter-widgets/controls"
          }
        },
        "b0e373fc5af1400897bb17d5dec675dc": {
          "model_module": "@jupyter-widgets/base",
          "model_name": "LayoutModel",
          "state": {
            "_view_name": "LayoutView",
            "grid_template_rows": null,
            "right": null,
            "justify_content": null,
            "_view_module": "@jupyter-widgets/base",
            "overflow": null,
            "_model_module_version": "1.2.0",
            "_view_count": null,
            "flex_flow": null,
            "width": null,
            "min_width": null,
            "border": null,
            "align_items": null,
            "bottom": null,
            "_model_module": "@jupyter-widgets/base",
            "top": null,
            "grid_column": null,
            "overflow_y": null,
            "overflow_x": null,
            "grid_auto_flow": null,
            "grid_area": null,
            "grid_template_columns": null,
            "flex": null,
            "_model_name": "LayoutModel",
            "justify_items": null,
            "grid_row": null,
            "max_height": null,
            "align_content": null,
            "visibility": null,
            "align_self": null,
            "height": null,
            "min_height": null,
            "padding": null,
            "grid_auto_rows": null,
            "grid_gap": null,
            "max_width": null,
            "order": null,
            "_view_module_version": "1.2.0",
            "grid_template_areas": null,
            "object_position": null,
            "object_fit": null,
            "grid_auto_columns": null,
            "margin": null,
            "display": null,
            "left": null
          }
        },
        "1ad67cf80f3c43a98cb8c3b15101dba4": {
          "model_module": "@jupyter-widgets/controls",
          "model_name": "VBoxModel",
          "state": {
            "_view_name": "VBoxView",
            "_dom_classes": [],
            "_model_name": "VBoxModel",
            "_view_module": "@jupyter-widgets/controls",
            "_model_module_version": "1.5.0",
            "_view_count": null,
            "_view_module_version": "1.5.0",
            "box_style": "",
            "layout": "IPY_MODEL_47bb93bd4c364dd59dcdc90ad32c828b",
            "_model_module": "@jupyter-widgets/controls",
            "children": [
              "IPY_MODEL_3aeaada3cb19413da83bed66645afbff",
              "IPY_MODEL_09abdbf3bbeb4707a95efe69fac4017c"
            ]
          }
        },
        "47bb93bd4c364dd59dcdc90ad32c828b": {
          "model_module": "@jupyter-widgets/base",
          "model_name": "LayoutModel",
          "state": {
            "_view_name": "LayoutView",
            "grid_template_rows": null,
            "right": null,
            "justify_content": null,
            "_view_module": "@jupyter-widgets/base",
            "overflow": null,
            "_model_module_version": "1.2.0",
            "_view_count": null,
            "flex_flow": null,
            "width": null,
            "min_width": null,
            "border": null,
            "align_items": null,
            "bottom": null,
            "_model_module": "@jupyter-widgets/base",
            "top": null,
            "grid_column": null,
            "overflow_y": null,
            "overflow_x": null,
            "grid_auto_flow": null,
            "grid_area": null,
            "grid_template_columns": null,
            "flex": null,
            "_model_name": "LayoutModel",
            "justify_items": null,
            "grid_row": null,
            "max_height": null,
            "align_content": null,
            "visibility": null,
            "align_self": null,
            "height": null,
            "min_height": null,
            "padding": null,
            "grid_auto_rows": null,
            "grid_gap": null,
            "max_width": null,
            "order": null,
            "_view_module_version": "1.2.0",
            "grid_template_areas": null,
            "object_position": null,
            "object_fit": null,
            "grid_auto_columns": null,
            "margin": null,
            "display": null,
            "left": null
          }
        },
        "3aeaada3cb19413da83bed66645afbff": {
          "model_module": "@jupyter-widgets/controls",
          "model_name": "LabelModel",
          "state": {
            "_view_name": "LabelView",
            "style": "IPY_MODEL_6f82d8e19bc04ae481a15d31ce892fda",
            "_dom_classes": [],
            "description": "",
            "_model_name": "LabelModel",
            "placeholder": "​",
            "_view_module": "@jupyter-widgets/controls",
            "_model_module_version": "1.5.0",
            "value": " 0.01MB of 0.01MB uploaded (0.00MB deduped)\r",
            "_view_count": null,
            "_view_module_version": "1.5.0",
            "description_tooltip": null,
            "_model_module": "@jupyter-widgets/controls",
            "layout": "IPY_MODEL_e6f04d9d257b45d7a7e25cc9eda844e3"
          }
        },
        "09abdbf3bbeb4707a95efe69fac4017c": {
          "model_module": "@jupyter-widgets/controls",
          "model_name": "FloatProgressModel",
          "state": {
            "_view_name": "ProgressView",
            "style": "IPY_MODEL_0f8454168b724cf190be5d4b7dcbc56e",
            "_dom_classes": [],
            "description": "",
            "_model_name": "FloatProgressModel",
            "bar_style": "",
            "max": 1,
            "_view_module": "@jupyter-widgets/controls",
            "_model_module_version": "1.5.0",
            "value": 1,
            "_view_count": null,
            "_view_module_version": "1.5.0",
            "orientation": "horizontal",
            "min": 0,
            "description_tooltip": null,
            "_model_module": "@jupyter-widgets/controls",
            "layout": "IPY_MODEL_5e7b0f24cf8e46ab87a0aaf9ff698dae"
          }
        },
        "6f82d8e19bc04ae481a15d31ce892fda": {
          "model_module": "@jupyter-widgets/controls",
          "model_name": "DescriptionStyleModel",
          "state": {
            "_view_name": "StyleView",
            "_model_name": "DescriptionStyleModel",
            "description_width": "",
            "_view_module": "@jupyter-widgets/base",
            "_model_module_version": "1.5.0",
            "_view_count": null,
            "_view_module_version": "1.2.0",
            "_model_module": "@jupyter-widgets/controls"
          }
        },
        "e6f04d9d257b45d7a7e25cc9eda844e3": {
          "model_module": "@jupyter-widgets/base",
          "model_name": "LayoutModel",
          "state": {
            "_view_name": "LayoutView",
            "grid_template_rows": null,
            "right": null,
            "justify_content": null,
            "_view_module": "@jupyter-widgets/base",
            "overflow": null,
            "_model_module_version": "1.2.0",
            "_view_count": null,
            "flex_flow": null,
            "width": null,
            "min_width": null,
            "border": null,
            "align_items": null,
            "bottom": null,
            "_model_module": "@jupyter-widgets/base",
            "top": null,
            "grid_column": null,
            "overflow_y": null,
            "overflow_x": null,
            "grid_auto_flow": null,
            "grid_area": null,
            "grid_template_columns": null,
            "flex": null,
            "_model_name": "LayoutModel",
            "justify_items": null,
            "grid_row": null,
            "max_height": null,
            "align_content": null,
            "visibility": null,
            "align_self": null,
            "height": null,
            "min_height": null,
            "padding": null,
            "grid_auto_rows": null,
            "grid_gap": null,
            "max_width": null,
            "order": null,
            "_view_module_version": "1.2.0",
            "grid_template_areas": null,
            "object_position": null,
            "object_fit": null,
            "grid_auto_columns": null,
            "margin": null,
            "display": null,
            "left": null
          }
        },
        "0f8454168b724cf190be5d4b7dcbc56e": {
          "model_module": "@jupyter-widgets/controls",
          "model_name": "ProgressStyleModel",
          "state": {
            "_view_name": "StyleView",
            "_model_name": "ProgressStyleModel",
            "description_width": "",
            "_view_module": "@jupyter-widgets/base",
            "_model_module_version": "1.5.0",
            "_view_count": null,
            "_view_module_version": "1.2.0",
            "bar_color": null,
            "_model_module": "@jupyter-widgets/controls"
          }
        },
        "5e7b0f24cf8e46ab87a0aaf9ff698dae": {
          "model_module": "@jupyter-widgets/base",
          "model_name": "LayoutModel",
          "state": {
            "_view_name": "LayoutView",
            "grid_template_rows": null,
            "right": null,
            "justify_content": null,
            "_view_module": "@jupyter-widgets/base",
            "overflow": null,
            "_model_module_version": "1.2.0",
            "_view_count": null,
            "flex_flow": null,
            "width": null,
            "min_width": null,
            "border": null,
            "align_items": null,
            "bottom": null,
            "_model_module": "@jupyter-widgets/base",
            "top": null,
            "grid_column": null,
            "overflow_y": null,
            "overflow_x": null,
            "grid_auto_flow": null,
            "grid_area": null,
            "grid_template_columns": null,
            "flex": null,
            "_model_name": "LayoutModel",
            "justify_items": null,
            "grid_row": null,
            "max_height": null,
            "align_content": null,
            "visibility": null,
            "align_self": null,
            "height": null,
            "min_height": null,
            "padding": null,
            "grid_auto_rows": null,
            "grid_gap": null,
            "max_width": null,
            "order": null,
            "_view_module_version": "1.2.0",
            "grid_template_areas": null,
            "object_position": null,
            "object_fit": null,
            "grid_auto_columns": null,
            "margin": null,
            "display": null,
            "left": null
          }
        },
        "0b4cc989215c4973895c406542263bc1": {
          "model_module": "@jupyter-widgets/controls",
          "model_name": "VBoxModel",
          "state": {
            "_view_name": "VBoxView",
            "_dom_classes": [],
            "_model_name": "VBoxModel",
            "_view_module": "@jupyter-widgets/controls",
            "_model_module_version": "1.5.0",
            "_view_count": null,
            "_view_module_version": "1.5.0",
            "box_style": "",
            "layout": "IPY_MODEL_92cafddf33de48b5b508bc2fc97a48d4",
            "_model_module": "@jupyter-widgets/controls",
            "children": [
              "IPY_MODEL_17a2acc2e79a4350a82cfd601370bd98",
              "IPY_MODEL_ba8c51b16b7f4aa4abfb34c4588f011f"
            ]
          }
        },
        "92cafddf33de48b5b508bc2fc97a48d4": {
          "model_module": "@jupyter-widgets/base",
          "model_name": "LayoutModel",
          "state": {
            "_view_name": "LayoutView",
            "grid_template_rows": null,
            "right": null,
            "justify_content": null,
            "_view_module": "@jupyter-widgets/base",
            "overflow": null,
            "_model_module_version": "1.2.0",
            "_view_count": null,
            "flex_flow": null,
            "width": null,
            "min_width": null,
            "border": null,
            "align_items": null,
            "bottom": null,
            "_model_module": "@jupyter-widgets/base",
            "top": null,
            "grid_column": null,
            "overflow_y": null,
            "overflow_x": null,
            "grid_auto_flow": null,
            "grid_area": null,
            "grid_template_columns": null,
            "flex": null,
            "_model_name": "LayoutModel",
            "justify_items": null,
            "grid_row": null,
            "max_height": null,
            "align_content": null,
            "visibility": null,
            "align_self": null,
            "height": null,
            "min_height": null,
            "padding": null,
            "grid_auto_rows": null,
            "grid_gap": null,
            "max_width": null,
            "order": null,
            "_view_module_version": "1.2.0",
            "grid_template_areas": null,
            "object_position": null,
            "object_fit": null,
            "grid_auto_columns": null,
            "margin": null,
            "display": null,
            "left": null
          }
        },
        "17a2acc2e79a4350a82cfd601370bd98": {
          "model_module": "@jupyter-widgets/controls",
          "model_name": "LabelModel",
          "state": {
            "_view_name": "LabelView",
            "style": "IPY_MODEL_62fd0e825eb54bceac7e53f50d9f511c",
            "_dom_classes": [],
            "description": "",
            "_model_name": "LabelModel",
            "placeholder": "​",
            "_view_module": "@jupyter-widgets/controls",
            "_model_module_version": "1.5.0",
            "value": " 0.01MB of 0.01MB uploaded (0.00MB deduped)\r",
            "_view_count": null,
            "_view_module_version": "1.5.0",
            "description_tooltip": null,
            "_model_module": "@jupyter-widgets/controls",
            "layout": "IPY_MODEL_93183eb128d84e08874c0548894374a4"
          }
        },
        "ba8c51b16b7f4aa4abfb34c4588f011f": {
          "model_module": "@jupyter-widgets/controls",
          "model_name": "FloatProgressModel",
          "state": {
            "_view_name": "ProgressView",
            "style": "IPY_MODEL_7a4e879e1d744d309bd4816adda5839a",
            "_dom_classes": [],
            "description": "",
            "_model_name": "FloatProgressModel",
            "bar_style": "",
            "max": 1,
            "_view_module": "@jupyter-widgets/controls",
            "_model_module_version": "1.5.0",
            "value": 1,
            "_view_count": null,
            "_view_module_version": "1.5.0",
            "orientation": "horizontal",
            "min": 0,
            "description_tooltip": null,
            "_model_module": "@jupyter-widgets/controls",
            "layout": "IPY_MODEL_653e9825e0ef4f108ba382e8d49c237c"
          }
        },
        "62fd0e825eb54bceac7e53f50d9f511c": {
          "model_module": "@jupyter-widgets/controls",
          "model_name": "DescriptionStyleModel",
          "state": {
            "_view_name": "StyleView",
            "_model_name": "DescriptionStyleModel",
            "description_width": "",
            "_view_module": "@jupyter-widgets/base",
            "_model_module_version": "1.5.0",
            "_view_count": null,
            "_view_module_version": "1.2.0",
            "_model_module": "@jupyter-widgets/controls"
          }
        },
        "93183eb128d84e08874c0548894374a4": {
          "model_module": "@jupyter-widgets/base",
          "model_name": "LayoutModel",
          "state": {
            "_view_name": "LayoutView",
            "grid_template_rows": null,
            "right": null,
            "justify_content": null,
            "_view_module": "@jupyter-widgets/base",
            "overflow": null,
            "_model_module_version": "1.2.0",
            "_view_count": null,
            "flex_flow": null,
            "width": null,
            "min_width": null,
            "border": null,
            "align_items": null,
            "bottom": null,
            "_model_module": "@jupyter-widgets/base",
            "top": null,
            "grid_column": null,
            "overflow_y": null,
            "overflow_x": null,
            "grid_auto_flow": null,
            "grid_area": null,
            "grid_template_columns": null,
            "flex": null,
            "_model_name": "LayoutModel",
            "justify_items": null,
            "grid_row": null,
            "max_height": null,
            "align_content": null,
            "visibility": null,
            "align_self": null,
            "height": null,
            "min_height": null,
            "padding": null,
            "grid_auto_rows": null,
            "grid_gap": null,
            "max_width": null,
            "order": null,
            "_view_module_version": "1.2.0",
            "grid_template_areas": null,
            "object_position": null,
            "object_fit": null,
            "grid_auto_columns": null,
            "margin": null,
            "display": null,
            "left": null
          }
        },
        "7a4e879e1d744d309bd4816adda5839a": {
          "model_module": "@jupyter-widgets/controls",
          "model_name": "ProgressStyleModel",
          "state": {
            "_view_name": "StyleView",
            "_model_name": "ProgressStyleModel",
            "description_width": "",
            "_view_module": "@jupyter-widgets/base",
            "_model_module_version": "1.5.0",
            "_view_count": null,
            "_view_module_version": "1.2.0",
            "bar_color": null,
            "_model_module": "@jupyter-widgets/controls"
          }
        },
        "653e9825e0ef4f108ba382e8d49c237c": {
          "model_module": "@jupyter-widgets/base",
          "model_name": "LayoutModel",
          "state": {
            "_view_name": "LayoutView",
            "grid_template_rows": null,
            "right": null,
            "justify_content": null,
            "_view_module": "@jupyter-widgets/base",
            "overflow": null,
            "_model_module_version": "1.2.0",
            "_view_count": null,
            "flex_flow": null,
            "width": null,
            "min_width": null,
            "border": null,
            "align_items": null,
            "bottom": null,
            "_model_module": "@jupyter-widgets/base",
            "top": null,
            "grid_column": null,
            "overflow_y": null,
            "overflow_x": null,
            "grid_auto_flow": null,
            "grid_area": null,
            "grid_template_columns": null,
            "flex": null,
            "_model_name": "LayoutModel",
            "justify_items": null,
            "grid_row": null,
            "max_height": null,
            "align_content": null,
            "visibility": null,
            "align_self": null,
            "height": null,
            "min_height": null,
            "padding": null,
            "grid_auto_rows": null,
            "grid_gap": null,
            "max_width": null,
            "order": null,
            "_view_module_version": "1.2.0",
            "grid_template_areas": null,
            "object_position": null,
            "object_fit": null,
            "grid_auto_columns": null,
            "margin": null,
            "display": null,
            "left": null
          }
        }
      }
    }
  },
  "cells": [
    {
      "cell_type": "markdown",
      "metadata": {
        "id": "view-in-github",
        "colab_type": "text"
      },
      "source": [
        "<a href=\"https://colab.research.google.com/github/SambhaviPD/droughtwatch/blob/main/Random_Sweeps_on_Drought_Watch_Densenet.ipynb\" target=\"_parent\"><img src=\"https://colab.research.google.com/assets/colab-badge.svg\" alt=\"Open In Colab\"/></a>"
      ]
    },
    {
      "cell_type": "markdown",
      "metadata": {
        "id": "qwqMM9hyS0nH"
      },
      "source": [
        "#Install wandb"
      ]
    },
    {
      "cell_type": "code",
      "metadata": {
        "colab": {
          "base_uri": "https://localhost:8080/"
        },
        "id": "npsgrVqYSn2x",
        "outputId": "f0b465f2-b619-4505-f9cc-d01fc69243fa"
      },
      "source": [
        "!pip install wandb --upgrade"
      ],
      "execution_count": null,
      "outputs": [
        {
          "output_type": "stream",
          "text": [
            "Collecting wandb\n",
            "\u001b[?25l  Downloading https://files.pythonhosted.org/packages/98/5f/45439b4767334b868e1c8c35b1b0ba3747d8c21be77b79f09eed7aa3c72b/wandb-0.10.30-py2.py3-none-any.whl (1.8MB)\n",
            "\u001b[K     |████████████████████████████████| 1.8MB 11.2MB/s \n",
            "\u001b[?25hRequirement already satisfied, skipping upgrade: protobuf>=3.12.0 in /usr/local/lib/python3.7/dist-packages (from wandb) (3.12.4)\n",
            "Collecting subprocess32>=3.5.3\n",
            "\u001b[?25l  Downloading https://files.pythonhosted.org/packages/32/c8/564be4d12629b912ea431f1a50eb8b3b9d00f1a0b1ceff17f266be190007/subprocess32-3.5.4.tar.gz (97kB)\n",
            "\u001b[K     |████████████████████████████████| 102kB 9.9MB/s \n",
            "\u001b[?25hRequirement already satisfied, skipping upgrade: PyYAML in /usr/local/lib/python3.7/dist-packages (from wandb) (3.13)\n",
            "Collecting pathtools\n",
            "  Downloading https://files.pythonhosted.org/packages/e7/7f/470d6fcdf23f9f3518f6b0b76be9df16dcc8630ad409947f8be2eb0ed13a/pathtools-0.1.2.tar.gz\n",
            "Requirement already satisfied, skipping upgrade: Click>=7.0 in /usr/local/lib/python3.7/dist-packages (from wandb) (7.1.2)\n",
            "Collecting shortuuid>=0.5.0\n",
            "  Downloading https://files.pythonhosted.org/packages/25/a6/2ecc1daa6a304e7f1b216f0896b26156b78e7c38e1211e9b798b4716c53d/shortuuid-1.0.1-py3-none-any.whl\n",
            "Requirement already satisfied, skipping upgrade: psutil>=5.0.0 in /usr/local/lib/python3.7/dist-packages (from wandb) (5.4.8)\n",
            "Requirement already satisfied, skipping upgrade: requests<3,>=2.0.0 in /usr/local/lib/python3.7/dist-packages (from wandb) (2.23.0)\n",
            "Collecting GitPython>=1.0.0\n",
            "\u001b[?25l  Downloading https://files.pythonhosted.org/packages/a6/99/98019716955ba243657daedd1de8f3a88ca1f5b75057c38e959db22fb87b/GitPython-3.1.14-py3-none-any.whl (159kB)\n",
            "\u001b[K     |████████████████████████████████| 163kB 35.4MB/s \n",
            "\u001b[?25hRequirement already satisfied, skipping upgrade: python-dateutil>=2.6.1 in /usr/local/lib/python3.7/dist-packages (from wandb) (2.8.1)\n",
            "Collecting configparser>=3.8.1\n",
            "  Downloading https://files.pythonhosted.org/packages/fd/01/ff260a18caaf4457eb028c96eeb405c4a230ca06c8ec9c1379f813caa52e/configparser-5.0.2-py3-none-any.whl\n",
            "Requirement already satisfied, skipping upgrade: six>=1.13.0 in /usr/local/lib/python3.7/dist-packages (from wandb) (1.15.0)\n",
            "Collecting docker-pycreds>=0.4.0\n",
            "  Downloading https://files.pythonhosted.org/packages/f5/e8/f6bd1eee09314e7e6dee49cbe2c5e22314ccdb38db16c9fc72d2fa80d054/docker_pycreds-0.4.0-py2.py3-none-any.whl\n",
            "Collecting sentry-sdk>=0.4.0\n",
            "\u001b[?25l  Downloading https://files.pythonhosted.org/packages/1c/4a/a54b254f67d8f4052338d54ebe90126f200693440a93ef76d254d581e3ec/sentry_sdk-1.1.0-py2.py3-none-any.whl (131kB)\n",
            "\u001b[K     |████████████████████████████████| 133kB 42.7MB/s \n",
            "\u001b[?25hRequirement already satisfied, skipping upgrade: promise<3,>=2.0 in /usr/local/lib/python3.7/dist-packages (from wandb) (2.3)\n",
            "Requirement already satisfied, skipping upgrade: setuptools in /usr/local/lib/python3.7/dist-packages (from protobuf>=3.12.0->wandb) (56.1.0)\n",
            "Requirement already satisfied, skipping upgrade: urllib3!=1.25.0,!=1.25.1,<1.26,>=1.21.1 in /usr/local/lib/python3.7/dist-packages (from requests<3,>=2.0.0->wandb) (1.24.3)\n",
            "Requirement already satisfied, skipping upgrade: chardet<4,>=3.0.2 in /usr/local/lib/python3.7/dist-packages (from requests<3,>=2.0.0->wandb) (3.0.4)\n",
            "Requirement already satisfied, skipping upgrade: certifi>=2017.4.17 in /usr/local/lib/python3.7/dist-packages (from requests<3,>=2.0.0->wandb) (2020.12.5)\n",
            "Requirement already satisfied, skipping upgrade: idna<3,>=2.5 in /usr/local/lib/python3.7/dist-packages (from requests<3,>=2.0.0->wandb) (2.10)\n",
            "Collecting gitdb<5,>=4.0.1\n",
            "\u001b[?25l  Downloading https://files.pythonhosted.org/packages/ea/e8/f414d1a4f0bbc668ed441f74f44c116d9816833a48bf81d22b697090dba8/gitdb-4.0.7-py3-none-any.whl (63kB)\n",
            "\u001b[K     |████████████████████████████████| 71kB 7.3MB/s \n",
            "\u001b[?25hCollecting smmap<5,>=3.0.1\n",
            "  Downloading https://files.pythonhosted.org/packages/68/ee/d540eb5e5996eb81c26ceffac6ee49041d473bc5125f2aa995cf51ec1cf1/smmap-4.0.0-py2.py3-none-any.whl\n",
            "Building wheels for collected packages: subprocess32, pathtools\n",
            "  Building wheel for subprocess32 (setup.py) ... \u001b[?25l\u001b[?25hdone\n",
            "  Created wheel for subprocess32: filename=subprocess32-3.5.4-cp37-none-any.whl size=6489 sha256=98fe1308231cfacd21c70321c4db894787b0b13fab7822deb8f8400e6006d108\n",
            "  Stored in directory: /root/.cache/pip/wheels/68/39/1a/5e402bdfdf004af1786c8b853fd92f8c4a04f22aad179654d1\n",
            "  Building wheel for pathtools (setup.py) ... \u001b[?25l\u001b[?25hdone\n",
            "  Created wheel for pathtools: filename=pathtools-0.1.2-cp37-none-any.whl size=8786 sha256=a1313cc9bfcd92cb629d0f30a833e0cd6372c1058190f438cb08b298219442e9\n",
            "  Stored in directory: /root/.cache/pip/wheels/0b/04/79/c3b0c3a0266a3cb4376da31e5bfe8bba0c489246968a68e843\n",
            "Successfully built subprocess32 pathtools\n",
            "Installing collected packages: subprocess32, pathtools, shortuuid, smmap, gitdb, GitPython, configparser, docker-pycreds, sentry-sdk, wandb\n",
            "Successfully installed GitPython-3.1.14 configparser-5.0.2 docker-pycreds-0.4.0 gitdb-4.0.7 pathtools-0.1.2 sentry-sdk-1.1.0 shortuuid-1.0.1 smmap-4.0.0 subprocess32-3.5.4 wandb-0.10.30\n"
          ],
          "name": "stdout"
        }
      ]
    },
    {
      "cell_type": "code",
      "metadata": {
        "colab": {
          "base_uri": "https://localhost:8080/",
          "height": 67
        },
        "id": "v3wIZw_eSxne",
        "outputId": "bcf74131-2097-4a87-cb54-c0b90da30287"
      },
      "source": [
        "import wandb\n",
        "\n",
        "wandb.login()"
      ],
      "execution_count": null,
      "outputs": [
        {
          "output_type": "display_data",
          "data": {
            "application/javascript": [
              "\n",
              "        window._wandbApiKey = new Promise((resolve, reject) => {\n",
              "            function loadScript(url) {\n",
              "            return new Promise(function(resolve, reject) {\n",
              "                let newScript = document.createElement(\"script\");\n",
              "                newScript.onerror = reject;\n",
              "                newScript.onload = resolve;\n",
              "                document.body.appendChild(newScript);\n",
              "                newScript.src = url;\n",
              "            });\n",
              "            }\n",
              "            loadScript(\"https://cdn.jsdelivr.net/npm/postmate/build/postmate.min.js\").then(() => {\n",
              "            const iframe = document.createElement('iframe')\n",
              "            iframe.style.cssText = \"width:0;height:0;border:none\"\n",
              "            document.body.appendChild(iframe)\n",
              "            const handshake = new Postmate({\n",
              "                container: iframe,\n",
              "                url: 'https://wandb.ai/authorize'\n",
              "            });\n",
              "            const timeout = setTimeout(() => reject(\"Couldn't auto authenticate\"), 5000)\n",
              "            handshake.then(function(child) {\n",
              "                child.on('authorize', data => {\n",
              "                    clearTimeout(timeout)\n",
              "                    resolve(data)\n",
              "                });\n",
              "            });\n",
              "            })\n",
              "        });\n",
              "    "
            ],
            "text/plain": [
              "<IPython.core.display.Javascript object>"
            ]
          },
          "metadata": {
            "tags": []
          }
        },
        {
          "output_type": "stream",
          "text": [
            "\u001b[34m\u001b[1mwandb\u001b[0m: Appending key for api.wandb.ai to your netrc file: /root/.netrc\n"
          ],
          "name": "stderr"
        },
        {
          "output_type": "execute_result",
          "data": {
            "text/plain": [
              "True"
            ]
          },
          "metadata": {
            "tags": []
          },
          "execution_count": 2
        }
      ]
    },
    {
      "cell_type": "markdown",
      "metadata": {
        "id": "oNM8QGOCcG0t"
      },
      "source": [
        "# Entire logic of downloading dataset and all process required for train"
      ]
    },
    {
      "cell_type": "code",
      "metadata": {
        "id": "SjEl6u1kcFvA"
      },
      "source": [
        "import numpy as np\n",
        "import matplotlib.pyplot as plt\n",
        "import tensorflow as tf\n",
        "\n",
        "import random\n",
        "import glob\n",
        "import os\n",
        "import time\n",
        "import copy\n",
        "from pathlib import Path\n",
        "from itertools import chain\n",
        "from collections import Counter\n",
        "\n",
        "# pytorch related imports\n",
        "import random\n",
        "\n",
        "from __future__ import print_function\n",
        "from __future__ import division\n",
        "import torch\n",
        "import torch.nn as nn\n",
        "import torch.optim as optim\n",
        "import numpy as np\n",
        "import torchvision\n",
        "from torchvision import datasets, models, transforms\n",
        "from tqdm.notebook import tqdm"
      ],
      "execution_count": null,
      "outputs": []
    },
    {
      "cell_type": "code",
      "metadata": {
        "colab": {
          "base_uri": "https://localhost:8080/"
        },
        "id": "IRgAggqderWk",
        "outputId": "41c92422-ba8f-4edb-b47c-fa788c310eb5"
      },
      "source": [
        "print(\"PyTorch version: \", torch.__version__)\n",
        "print(\"Torchvision version: \", torchvision.__version__)\n",
        "\n",
        "# Ensure deterministic behavior\n",
        "torch.backends.cudnn.deterministic = True\n",
        "random.seed(hash(\"setting random seeds\") % 2**32 - 1)\n",
        "np.random.seed(hash(\"improves reproducibility\") % 2**32 - 1)\n",
        "torch.manual_seed(hash(\"by removing stochasticity\") % 2**32 - 1)\n",
        "torch.cuda.manual_seed_all(hash(\"so runs are repeatable\") % 2**32 - 1)\n",
        "\n",
        "# Device configuration\n",
        "device = torch.device(\"cuda:0\" if torch.cuda.is_available() else \"cpu\")"
      ],
      "execution_count": null,
      "outputs": [
        {
          "output_type": "stream",
          "text": [
            "PyTorch version:  1.8.1+cu101\n",
            "Torchvision version:  0.9.1+cu101\n"
          ],
          "name": "stdout"
        }
      ]
    },
    {
      "cell_type": "code",
      "metadata": {
        "colab": {
          "base_uri": "https://localhost:8080/"
        },
        "id": "30eyqStweuKF",
        "outputId": "e3f34e27-cf4c-48a0-8cdb-d807dee89ee1"
      },
      "source": [
        "# Initial setup per Readme in https://github.com/wandb/droughtwatch\n",
        "\n",
        "# clone the repository\n",
        "!git clone https://github.com/wandb/droughtwatch.git\n",
        "\n",
        "# install wandb\n",
        "!pip install wandb\n",
        "\n",
        "%cd droughtwatch\n",
        "\n",
        "# Download train and validation data\n",
        "!bash download_data.sh"
      ],
      "execution_count": null,
      "outputs": [
        {
          "output_type": "stream",
          "text": [
            "Cloning into 'droughtwatch'...\n",
            "remote: Enumerating objects: 113, done.\u001b[K\n",
            "remote: Counting objects: 100% (3/3), done.\u001b[K\n",
            "remote: Compressing objects: 100% (2/2), done.\u001b[K\n",
            "remote: Total 113 (delta 0), reused 1 (delta 0), pack-reused 110\u001b[K\n",
            "Receiving objects: 100% (113/113), 7.52 MiB | 20.21 MiB/s, done.\n",
            "Resolving deltas: 100% (55/55), done.\n",
            "Requirement already satisfied: wandb in /usr/local/lib/python3.7/dist-packages (0.10.30)\n",
            "Requirement already satisfied: psutil>=5.0.0 in /usr/local/lib/python3.7/dist-packages (from wandb) (5.4.8)\n",
            "Requirement already satisfied: shortuuid>=0.5.0 in /usr/local/lib/python3.7/dist-packages (from wandb) (1.0.1)\n",
            "Requirement already satisfied: requests<3,>=2.0.0 in /usr/local/lib/python3.7/dist-packages (from wandb) (2.23.0)\n",
            "Requirement already satisfied: six>=1.13.0 in /usr/local/lib/python3.7/dist-packages (from wandb) (1.15.0)\n",
            "Requirement already satisfied: sentry-sdk>=0.4.0 in /usr/local/lib/python3.7/dist-packages (from wandb) (1.1.0)\n",
            "Requirement already satisfied: python-dateutil>=2.6.1 in /usr/local/lib/python3.7/dist-packages (from wandb) (2.8.1)\n",
            "Requirement already satisfied: protobuf>=3.12.0 in /usr/local/lib/python3.7/dist-packages (from wandb) (3.12.4)\n",
            "Requirement already satisfied: docker-pycreds>=0.4.0 in /usr/local/lib/python3.7/dist-packages (from wandb) (0.4.0)\n",
            "Requirement already satisfied: pathtools in /usr/local/lib/python3.7/dist-packages (from wandb) (0.1.2)\n",
            "Requirement already satisfied: GitPython>=1.0.0 in /usr/local/lib/python3.7/dist-packages (from wandb) (3.1.14)\n",
            "Requirement already satisfied: Click>=7.0 in /usr/local/lib/python3.7/dist-packages (from wandb) (7.1.2)\n",
            "Requirement already satisfied: PyYAML in /usr/local/lib/python3.7/dist-packages (from wandb) (3.13)\n",
            "Requirement already satisfied: subprocess32>=3.5.3 in /usr/local/lib/python3.7/dist-packages (from wandb) (3.5.4)\n",
            "Requirement already satisfied: configparser>=3.8.1 in /usr/local/lib/python3.7/dist-packages (from wandb) (5.0.2)\n",
            "Requirement already satisfied: promise<3,>=2.0 in /usr/local/lib/python3.7/dist-packages (from wandb) (2.3)\n",
            "Requirement already satisfied: certifi>=2017.4.17 in /usr/local/lib/python3.7/dist-packages (from requests<3,>=2.0.0->wandb) (2020.12.5)\n",
            "Requirement already satisfied: idna<3,>=2.5 in /usr/local/lib/python3.7/dist-packages (from requests<3,>=2.0.0->wandb) (2.10)\n",
            "Requirement already satisfied: chardet<4,>=3.0.2 in /usr/local/lib/python3.7/dist-packages (from requests<3,>=2.0.0->wandb) (3.0.4)\n",
            "Requirement already satisfied: urllib3!=1.25.0,!=1.25.1,<1.26,>=1.21.1 in /usr/local/lib/python3.7/dist-packages (from requests<3,>=2.0.0->wandb) (1.24.3)\n",
            "Requirement already satisfied: setuptools in /usr/local/lib/python3.7/dist-packages (from protobuf>=3.12.0->wandb) (56.1.0)\n",
            "Requirement already satisfied: gitdb<5,>=4.0.1 in /usr/local/lib/python3.7/dist-packages (from GitPython>=1.0.0->wandb) (4.0.7)\n",
            "Requirement already satisfied: smmap<5,>=3.0.1 in /usr/local/lib/python3.7/dist-packages (from gitdb<5,>=4.0.1->GitPython>=1.0.0->wandb) (4.0.0)\n",
            "/content/droughtwatch\n",
            "Downloading data\n",
            "  % Total    % Received % Xferd  Average Speed   Time    Time     Time  Current\n",
            "                                 Dload  Upload   Total   Spent    Left  Speed\n",
            "100 2050M  100 2050M    0     0  49.7M      0  0:00:41  0:00:41 --:--:-- 62.3M\n",
            "Archive:  dw_data.zip\n",
            "   creating: droughtwatch_data/\n",
            "   creating: droughtwatch_data/val/\n",
            "  inflating: droughtwatch_data/val/part-r-00090  \n",
            "  inflating: droughtwatch_data/val/part-r-00061  \n",
            "  inflating: droughtwatch_data/val/part-r-00052  \n",
            "  inflating: droughtwatch_data/val/part-r-00043  \n",
            "  inflating: droughtwatch_data/val/part-r-00040  \n",
            "  inflating: droughtwatch_data/val/part-r-00042  \n",
            "  inflating: droughtwatch_data/val/part-r-00067  \n",
            "  inflating: droughtwatch_data/val/part-r-00026  \n",
            "  inflating: droughtwatch_data/val/part-r-00046  \n",
            "  inflating: droughtwatch_data/val/part-r-00023  \n",
            "  inflating: droughtwatch_data/val/part-r-00083  \n",
            "  inflating: droughtwatch_data/val/part-r-00011  \n",
            "  inflating: droughtwatch_data/val/part-r-00058  \n",
            "  inflating: droughtwatch_data/val/part-r-00012  \n",
            "  inflating: droughtwatch_data/val/part-r-00078  \n",
            "  inflating: droughtwatch_data/val/part-r-00082  \n",
            "  inflating: droughtwatch_data/val/part-r-00038  \n",
            "  inflating: droughtwatch_data/val/part-r-00071  \n",
            "  inflating: droughtwatch_data/val/part-r-00088  \n",
            "  inflating: droughtwatch_data/val/part-r-00029  \n",
            "  inflating: droughtwatch_data/val/part-r-00097  \n",
            "  inflating: droughtwatch_data/val/part-r-00096  \n",
            "  inflating: droughtwatch_data/val/part-r-00077  \n",
            "  inflating: droughtwatch_data/val/part-r-00016  \n",
            "  inflating: droughtwatch_data/val/part-r-00076  \n",
            "  inflating: droughtwatch_data/val/part-r-00057  \n",
            "  inflating: droughtwatch_data/val/part-r-00009  \n",
            "  inflating: droughtwatch_data/val/part-r-00054  \n",
            "  inflating: droughtwatch_data/val/part-r-00028  \n",
            "  inflating: droughtwatch_data/val/part-r-00014  \n",
            "  inflating: droughtwatch_data/val/part-r-00001  \n",
            "  inflating: droughtwatch_data/val/part-r-00080  \n",
            "  inflating: droughtwatch_data/val/part-r-00013  \n",
            "  inflating: droughtwatch_data/val/part-r-00004  \n",
            "  inflating: droughtwatch_data/val/part-r-00070  \n",
            "  inflating: droughtwatch_data/val/part-r-00037  \n",
            "  inflating: droughtwatch_data/val/part-r-00005  \n",
            "  inflating: droughtwatch_data/val/part-r-00010  \n",
            "  inflating: droughtwatch_data/val/part-r-00024  \n",
            "  inflating: droughtwatch_data/val/part-r-00075  \n",
            "  inflating: droughtwatch_data/val/part-r-00074  \n",
            "  inflating: droughtwatch_data/val/part-r-00017  \n",
            "  inflating: droughtwatch_data/val/part-r-00055  \n",
            "  inflating: droughtwatch_data/val/part-r-00091  \n",
            "  inflating: droughtwatch_data/val/part-r-00020  \n",
            "  inflating: droughtwatch_data/val/part-r-00095  \n",
            "  inflating: droughtwatch_data/val/part-r-00079  \n",
            "  inflating: droughtwatch_data/val/part-r-00047  \n",
            "  inflating: droughtwatch_data/val/part-r-00051  \n",
            "  inflating: droughtwatch_data/val/part-r-00073  \n",
            "  inflating: droughtwatch_data/val/part-r-00053  \n",
            "  inflating: droughtwatch_data/val/part-r-00060  \n",
            "  inflating: droughtwatch_data/val/part-r-00086  \n",
            "  inflating: droughtwatch_data/val/part-r-00048  \n",
            "  inflating: droughtwatch_data/val/part-r-00006  \n",
            "  inflating: droughtwatch_data/val/part-r-00059  \n",
            "  inflating: droughtwatch_data/val/part-r-00002  \n",
            "  inflating: droughtwatch_data/val/part-r-00094  \n",
            "  inflating: droughtwatch_data/val/part-r-00033  \n",
            "  inflating: droughtwatch_data/val/part-r-00066  \n",
            "  inflating: droughtwatch_data/val/part-r-00015  \n",
            "  inflating: droughtwatch_data/val/part-r-00000  \n",
            "  inflating: droughtwatch_data/val/part-r-00050  \n",
            "  inflating: droughtwatch_data/val/part-r-00093  \n",
            "  inflating: droughtwatch_data/val/part-r-00035  \n",
            "  inflating: droughtwatch_data/val/part-r-00098  \n",
            "  inflating: droughtwatch_data/val/part-r-00099  \n",
            "  inflating: droughtwatch_data/val/part-r-00084  \n",
            "  inflating: droughtwatch_data/val/part-r-00003  \n",
            "  inflating: droughtwatch_data/val/part-r-00032  \n",
            "  inflating: droughtwatch_data/val/part-r-00018  \n",
            "  inflating: droughtwatch_data/val/part-r-00062  \n",
            "  inflating: droughtwatch_data/val/part-r-00045  \n",
            "  inflating: droughtwatch_data/val/part-r-00089  \n",
            "  inflating: droughtwatch_data/val/part-r-00087  \n",
            "  inflating: droughtwatch_data/val/part-r-00027  \n",
            "  inflating: droughtwatch_data/val/part-r-00064  \n",
            "  inflating: droughtwatch_data/val/part-r-00085  \n",
            "  inflating: droughtwatch_data/val/part-r-00025  \n",
            " extracting: droughtwatch_data/val/_SUCCESS  \n",
            "  inflating: droughtwatch_data/val/part-r-00030  \n",
            "  inflating: droughtwatch_data/val/part-r-00065  \n",
            "  inflating: droughtwatch_data/val/part-r-00034  \n",
            "  inflating: droughtwatch_data/val/part-r-00031  \n",
            "  inflating: droughtwatch_data/val/part-r-00007  \n",
            "  inflating: droughtwatch_data/val/part-r-00008  \n",
            "  inflating: droughtwatch_data/val/part-r-00041  \n",
            "  inflating: droughtwatch_data/val/part-r-00063  \n",
            "  inflating: droughtwatch_data/val/part-r-00069  \n",
            "  inflating: droughtwatch_data/val/part-r-00021  \n",
            "  inflating: droughtwatch_data/val/part-r-00044  \n",
            "  inflating: droughtwatch_data/val/part-r-00081  \n",
            "  inflating: droughtwatch_data/val/part-r-00039  \n",
            "  inflating: droughtwatch_data/val/part-r-00068  \n",
            "  inflating: droughtwatch_data/val/part-r-00056  \n",
            "  inflating: droughtwatch_data/val/part-r-00072  \n",
            "  inflating: droughtwatch_data/val/part-r-00019  \n",
            "  inflating: droughtwatch_data/val/part-r-00036  \n",
            "  inflating: droughtwatch_data/val/part-r-00092  \n",
            "  inflating: droughtwatch_data/val/part-r-00049  \n",
            "  inflating: droughtwatch_data/val/part-r-00022  \n",
            "   creating: droughtwatch_data/train/\n",
            "  inflating: droughtwatch_data/train/part-r-01174  \n",
            "  inflating: droughtwatch_data/train/part-r-01012  \n",
            "  inflating: droughtwatch_data/train/part-r-00110  \n",
            "  inflating: droughtwatch_data/train/part-r-00132  \n",
            "  inflating: droughtwatch_data/train/part-r-01168  \n",
            "  inflating: droughtwatch_data/train/part-r-01011  \n",
            "  inflating: droughtwatch_data/train/part-r-01084  \n",
            "  inflating: droughtwatch_data/train/part-r-01138  \n",
            "  inflating: droughtwatch_data/train/part-r-00090  \n",
            "  inflating: droughtwatch_data/train/part-r-00167  \n",
            "  inflating: droughtwatch_data/train/part-r-00128  \n",
            "  inflating: droughtwatch_data/train/part-r-01060  \n",
            "  inflating: droughtwatch_data/train/part-r-00061  \n",
            "  inflating: droughtwatch_data/train/part-r-00116  \n",
            "  inflating: droughtwatch_data/train/part-r-00052  \n",
            "  inflating: droughtwatch_data/train/part-r-01091  \n",
            "  inflating: droughtwatch_data/train/part-r-01007  \n",
            "  inflating: droughtwatch_data/train/part-r-00043  \n",
            "  inflating: droughtwatch_data/train/part-r-01120  \n",
            "  inflating: droughtwatch_data/train/part-r-01025  \n",
            "  inflating: droughtwatch_data/train/part-r-01056  \n",
            "  inflating: droughtwatch_data/train/part-r-00040  \n",
            "  inflating: droughtwatch_data/train/part-r-00178  \n",
            "  inflating: droughtwatch_data/train/part-r-01136  \n",
            "  inflating: droughtwatch_data/train/part-r-00106  \n",
            "  inflating: droughtwatch_data/train/part-r-01066  \n",
            "  inflating: droughtwatch_data/train/part-r-01104  \n",
            "  inflating: droughtwatch_data/train/part-r-00042  \n",
            "  inflating: droughtwatch_data/train/part-r-01192  \n",
            "  inflating: droughtwatch_data/train/part-r-00136  \n",
            "  inflating: droughtwatch_data/train/part-r-00067  \n",
            "  inflating: droughtwatch_data/train/part-r-01181  \n",
            "  inflating: droughtwatch_data/train/part-r-00190  \n",
            "  inflating: droughtwatch_data/train/part-r-00196  \n",
            "  inflating: droughtwatch_data/train/part-r-00026  \n",
            "  inflating: droughtwatch_data/train/part-r-00177  \n",
            "  inflating: droughtwatch_data/train/part-r-01039  \n",
            "  inflating: droughtwatch_data/train/part-r-00046  \n",
            "  inflating: droughtwatch_data/train/part-r-01024  \n",
            "  inflating: droughtwatch_data/train/part-r-01102  \n",
            "  inflating: droughtwatch_data/train/part-r-00023  \n",
            "  inflating: droughtwatch_data/train/part-r-01188  \n",
            "  inflating: droughtwatch_data/train/part-r-00184  \n",
            "  inflating: droughtwatch_data/train/part-r-00137  \n",
            "  inflating: droughtwatch_data/train/part-r-01199  \n",
            "  inflating: droughtwatch_data/train/part-r-01115  \n",
            "  inflating: droughtwatch_data/train/part-r-00083  \n",
            "  inflating: droughtwatch_data/train/part-r-01014  \n",
            "  inflating: droughtwatch_data/train/part-r-00011  \n",
            "  inflating: droughtwatch_data/train/part-r-00144  \n",
            "  inflating: droughtwatch_data/train/part-r-00058  \n",
            "  inflating: droughtwatch_data/train/part-r-00115  \n",
            "  inflating: droughtwatch_data/train/part-r-01154  \n",
            "  inflating: droughtwatch_data/train/part-r-00012  \n",
            "  inflating: droughtwatch_data/train/part-r-00156  \n",
            "  inflating: droughtwatch_data/train/part-r-00078  \n",
            "  inflating: droughtwatch_data/train/part-r-01026  \n",
            "  inflating: droughtwatch_data/train/part-r-00082  \n",
            "  inflating: droughtwatch_data/train/part-r-01171  \n",
            "  inflating: droughtwatch_data/train/part-r-00153  \n",
            "  inflating: droughtwatch_data/train/part-r-00172  \n",
            "  inflating: droughtwatch_data/train/part-r-01037  \n",
            "  inflating: droughtwatch_data/train/part-r-00165  \n",
            "  inflating: droughtwatch_data/train/part-r-01022  \n",
            "  inflating: droughtwatch_data/train/part-r-00150  \n",
            "  inflating: droughtwatch_data/train/part-r-01095  \n",
            "  inflating: droughtwatch_data/train/part-r-00108  \n",
            "  inflating: droughtwatch_data/train/part-r-00038  \n",
            "  inflating: droughtwatch_data/train/part-r-00119  \n",
            "  inflating: droughtwatch_data/train/part-r-01170  \n",
            "  inflating: droughtwatch_data/train/part-r-01079  \n",
            "  inflating: droughtwatch_data/train/part-r-00071  \n",
            "  inflating: droughtwatch_data/train/part-r-01076  \n",
            "  inflating: droughtwatch_data/train/part-r-00088  \n",
            "  inflating: droughtwatch_data/train/part-r-01090  \n",
            "  inflating: droughtwatch_data/train/part-r-00112  \n",
            "  inflating: droughtwatch_data/train/part-r-00029  \n",
            "  inflating: droughtwatch_data/train/part-r-00097  \n",
            "  inflating: droughtwatch_data/train/part-r-01092  \n",
            "  inflating: droughtwatch_data/train/part-r-01054  \n",
            "  inflating: droughtwatch_data/train/part-r-01001  \n",
            "  inflating: droughtwatch_data/train/part-r-01198  \n",
            "  inflating: droughtwatch_data/train/part-r-00174  \n",
            "  inflating: droughtwatch_data/train/part-r-01109  \n",
            "  inflating: droughtwatch_data/train/part-r-01161  \n",
            "  inflating: droughtwatch_data/train/part-r-01125  \n",
            "  inflating: droughtwatch_data/train/part-r-01128  \n",
            "  inflating: droughtwatch_data/train/part-r-01019  \n",
            "  inflating: droughtwatch_data/train/part-r-00096  \n",
            "  inflating: droughtwatch_data/train/part-r-01195  \n",
            "  inflating: droughtwatch_data/train/part-r-00077  \n",
            "  inflating: droughtwatch_data/train/part-r-00016  \n",
            "  inflating: droughtwatch_data/train/part-r-00121  \n",
            "  inflating: droughtwatch_data/train/part-r-01087  \n",
            "  inflating: droughtwatch_data/train/part-r-00199  \n",
            "  inflating: droughtwatch_data/train/part-r-00185  \n",
            "  inflating: droughtwatch_data/train/part-r-01116  \n",
            "  inflating: droughtwatch_data/train/part-r-01101  \n",
            "  inflating: droughtwatch_data/train/part-r-01178  \n",
            "  inflating: droughtwatch_data/train/part-r-01035  \n",
            "  inflating: droughtwatch_data/train/part-r-01006  \n",
            "  inflating: droughtwatch_data/train/part-r-01183  \n",
            "  inflating: droughtwatch_data/train/part-r-00104  \n",
            "  inflating: droughtwatch_data/train/part-r-01155  \n",
            "  inflating: droughtwatch_data/train/part-r-01061  \n",
            "  inflating: droughtwatch_data/train/part-r-01008  \n",
            "  inflating: droughtwatch_data/train/part-r-01063  \n",
            "  inflating: droughtwatch_data/train/part-r-01137  \n",
            "  inflating: droughtwatch_data/train/part-r-01034  \n",
            "  inflating: droughtwatch_data/train/part-r-00171  \n",
            "  inflating: droughtwatch_data/train/part-r-01159  \n",
            "  inflating: droughtwatch_data/train/part-r-00109  \n",
            "  inflating: droughtwatch_data/train/part-r-00076  \n",
            "  inflating: droughtwatch_data/train/part-r-01082  \n",
            "  inflating: droughtwatch_data/train/part-r-01004  \n",
            "  inflating: droughtwatch_data/train/part-r-01145  \n",
            "  inflating: droughtwatch_data/train/part-r-00161  \n",
            "  inflating: droughtwatch_data/train/part-r-00101  \n",
            "  inflating: droughtwatch_data/train/part-r-00057  \n",
            "  inflating: droughtwatch_data/train/part-r-01182  \n",
            "  inflating: droughtwatch_data/train/part-r-01118  \n",
            "  inflating: droughtwatch_data/train/part-r-00168  \n",
            "  inflating: droughtwatch_data/train/part-r-00102  \n",
            "  inflating: droughtwatch_data/train/part-r-01085  \n",
            "  inflating: droughtwatch_data/train/part-r-00183  \n",
            "  inflating: droughtwatch_data/train/part-r-01187  \n",
            "  inflating: droughtwatch_data/train/part-r-00009  \n",
            "  inflating: droughtwatch_data/train/part-r-01114  \n",
            "  inflating: droughtwatch_data/train/part-r-01051  \n",
            "  inflating: droughtwatch_data/train/part-r-01185  \n",
            "  inflating: droughtwatch_data/train/part-r-01057  \n",
            "  inflating: droughtwatch_data/train/part-r-01119  \n",
            "  inflating: droughtwatch_data/train/part-r-00189  \n",
            "  inflating: droughtwatch_data/train/part-r-01081  \n",
            "  inflating: droughtwatch_data/train/part-r-00054  \n",
            "  inflating: droughtwatch_data/train/part-r-01144  \n",
            "  inflating: droughtwatch_data/train/part-r-00179  \n",
            "  inflating: droughtwatch_data/train/part-r-01196  \n",
            "  inflating: droughtwatch_data/train/part-r-01072  \n",
            "  inflating: droughtwatch_data/train/part-r-01172  \n",
            "  inflating: droughtwatch_data/train/part-r-01156  \n",
            "  inflating: droughtwatch_data/train/part-r-01176  \n",
            "  inflating: droughtwatch_data/train/part-r-00028  \n",
            "  inflating: droughtwatch_data/train/part-r-00014  \n",
            "  inflating: droughtwatch_data/train/part-r-00001  \n",
            "  inflating: droughtwatch_data/train/part-r-01062  \n",
            "  inflating: droughtwatch_data/train/part-r-01107  \n",
            "  inflating: droughtwatch_data/train/part-r-00145  \n",
            "  inflating: droughtwatch_data/train/part-r-00080  \n",
            "  inflating: droughtwatch_data/train/part-r-00124  \n",
            "  inflating: droughtwatch_data/train/part-r-01151  \n",
            "  inflating: droughtwatch_data/train/part-r-00176  \n",
            "  inflating: droughtwatch_data/train/part-r-00013  \n",
            "  inflating: droughtwatch_data/train/part-r-00004  \n",
            "  inflating: droughtwatch_data/train/part-r-00070  \n",
            "  inflating: droughtwatch_data/train/part-r-00157  \n",
            "  inflating: droughtwatch_data/train/part-r-01113  \n",
            "  inflating: droughtwatch_data/train/part-r-00037  \n",
            "  inflating: droughtwatch_data/train/part-r-01173  \n",
            "  inflating: droughtwatch_data/train/part-r-00005  \n",
            "  inflating: droughtwatch_data/train/part-r-01158  \n",
            "  inflating: droughtwatch_data/train/part-r-01164  \n",
            "  inflating: droughtwatch_data/train/part-r-01175  \n",
            "  inflating: droughtwatch_data/train/part-r-00148  \n",
            "  inflating: droughtwatch_data/train/part-r-01049  \n",
            "  inflating: droughtwatch_data/train/part-r-01106  \n",
            "  inflating: droughtwatch_data/train/part-r-01002  \n",
            "  inflating: droughtwatch_data/train/part-r-00142  \n",
            "  inflating: droughtwatch_data/train/part-r-00126  \n",
            "  inflating: droughtwatch_data/train/part-r-00010  \n",
            "  inflating: droughtwatch_data/train/part-r-00024  \n",
            "  inflating: droughtwatch_data/train/part-r-01184  \n",
            "  inflating: droughtwatch_data/train/part-r-01193  \n",
            "  inflating: droughtwatch_data/train/part-r-00075  \n",
            "  inflating: droughtwatch_data/train/part-r-00175  \n",
            "  inflating: droughtwatch_data/train/part-r-01160  \n",
            "  inflating: droughtwatch_data/train/part-r-01163  \n",
            "  inflating: droughtwatch_data/train/part-r-00074  \n",
            "  inflating: droughtwatch_data/train/part-r-01169  \n",
            "  inflating: droughtwatch_data/train/part-r-01110  \n",
            "  inflating: droughtwatch_data/train/part-r-00017  \n",
            "  inflating: droughtwatch_data/train/part-r-01099  \n",
            "  inflating: droughtwatch_data/train/part-r-00055  \n",
            "  inflating: droughtwatch_data/train/part-r-00166  \n",
            "  inflating: droughtwatch_data/train/part-r-00091  \n",
            "  inflating: droughtwatch_data/train/part-r-00020  \n",
            "  inflating: droughtwatch_data/train/part-r-01010  \n",
            "  inflating: droughtwatch_data/train/part-r-01179  \n",
            "  inflating: droughtwatch_data/train/part-r-01052  \n",
            "  inflating: droughtwatch_data/train/part-r-00133  \n",
            "  inflating: droughtwatch_data/train/part-r-00120  \n",
            "  inflating: droughtwatch_data/train/part-r-00095  \n",
            "  inflating: droughtwatch_data/train/part-r-01059  \n",
            "  inflating: droughtwatch_data/train/part-r-00134  \n",
            "  inflating: droughtwatch_data/train/part-r-01003  \n",
            "  inflating: droughtwatch_data/train/part-r-01157  \n",
            "  inflating: droughtwatch_data/train/part-r-00173  \n",
            "  inflating: droughtwatch_data/train/part-r-01141  \n",
            "  inflating: droughtwatch_data/train/part-r-00079  \n",
            "  inflating: droughtwatch_data/train/part-r-00047  \n",
            "  inflating: droughtwatch_data/train/part-r-00051  \n",
            "  inflating: droughtwatch_data/train/part-r-00073  \n",
            "  inflating: droughtwatch_data/train/part-r-01080  \n",
            "  inflating: droughtwatch_data/train/part-r-01015  \n",
            "  inflating: droughtwatch_data/train/part-r-00122  \n",
            "  inflating: droughtwatch_data/train/part-r-01027  \n",
            "  inflating: droughtwatch_data/train/part-r-00162  \n",
            "  inflating: droughtwatch_data/train/part-r-00053  \n",
            "  inflating: droughtwatch_data/train/part-r-00111  \n",
            "  inflating: droughtwatch_data/train/part-r-00152  \n",
            "  inflating: droughtwatch_data/train/part-r-00060  \n",
            "  inflating: droughtwatch_data/train/part-r-00086  \n",
            "  inflating: droughtwatch_data/train/part-r-01041  \n",
            "  inflating: droughtwatch_data/train/part-r-00048  \n",
            "  inflating: droughtwatch_data/train/part-r-01055  \n",
            "  inflating: droughtwatch_data/train/part-r-00006  \n",
            "  inflating: droughtwatch_data/train/part-r-00059  \n",
            "  inflating: droughtwatch_data/train/part-r-01140  \n",
            "  inflating: droughtwatch_data/train/part-r-01165  \n",
            "  inflating: droughtwatch_data/train/part-r-01065  \n",
            "  inflating: droughtwatch_data/train/part-r-01086  \n",
            "  inflating: droughtwatch_data/train/part-r-01048  \n",
            "  inflating: droughtwatch_data/train/part-r-01045  \n",
            "  inflating: droughtwatch_data/train/part-r-01126  \n",
            "  inflating: droughtwatch_data/train/part-r-00002  \n",
            "  inflating: droughtwatch_data/train/part-r-01009  \n",
            "  inflating: droughtwatch_data/train/part-r-01103  \n",
            "  inflating: droughtwatch_data/train/part-r-00131  \n",
            "  inflating: droughtwatch_data/train/part-r-00094  \n",
            "  inflating: droughtwatch_data/train/part-r-01098  \n",
            "  inflating: droughtwatch_data/train/part-r-00033  \n",
            "  inflating: droughtwatch_data/train/part-r-01177  \n",
            "  inflating: droughtwatch_data/train/part-r-01148  \n",
            "  inflating: droughtwatch_data/train/part-r-00123  \n",
            "  inflating: droughtwatch_data/train/part-r-00100  \n",
            "  inflating: droughtwatch_data/train/part-r-01197  \n",
            "  inflating: droughtwatch_data/train/part-r-00113  \n",
            "  inflating: droughtwatch_data/train/part-r-00066  \n",
            "  inflating: droughtwatch_data/train/part-r-01053  \n",
            "  inflating: droughtwatch_data/train/part-r-01071  \n",
            "  inflating: droughtwatch_data/train/part-r-00015  \n",
            "  inflating: droughtwatch_data/train/part-r-00000  \n",
            "  inflating: droughtwatch_data/train/part-r-01143  \n",
            "  inflating: droughtwatch_data/train/part-r-00140  \n",
            "  inflating: droughtwatch_data/train/part-r-00050  \n",
            "  inflating: droughtwatch_data/train/part-r-00093  \n",
            "  inflating: droughtwatch_data/train/part-r-01040  \n",
            "  inflating: droughtwatch_data/train/part-r-01097  \n",
            "  inflating: droughtwatch_data/train/part-r-01112  \n",
            "  inflating: droughtwatch_data/train/part-r-01149  \n",
            "  inflating: droughtwatch_data/train/part-r-01023  \n",
            "  inflating: droughtwatch_data/train/part-r-00035  \n",
            "  inflating: droughtwatch_data/train/part-r-01121  \n",
            "  inflating: droughtwatch_data/train/part-r-00118  \n",
            "  inflating: droughtwatch_data/train/part-r-00158  \n",
            "  inflating: droughtwatch_data/train/part-r-00146  \n",
            "  inflating: droughtwatch_data/train/part-r-00098  \n",
            "  inflating: droughtwatch_data/train/part-r-00192  \n",
            "  inflating: droughtwatch_data/train/part-r-01152  \n",
            "  inflating: droughtwatch_data/train/part-r-00125  \n",
            "  inflating: droughtwatch_data/train/part-r-00099  \n",
            "  inflating: droughtwatch_data/train/part-r-00084  \n",
            "  inflating: droughtwatch_data/train/part-r-01028  \n",
            "  inflating: droughtwatch_data/train/part-r-01046  \n",
            "  inflating: droughtwatch_data/train/part-r-01180  \n",
            "  inflating: droughtwatch_data/train/part-r-00003  \n",
            "  inflating: droughtwatch_data/train/part-r-01100  \n",
            "  inflating: droughtwatch_data/train/part-r-00180  \n",
            "  inflating: droughtwatch_data/train/part-r-00139  \n",
            "  inflating: droughtwatch_data/train/part-r-00160  \n",
            "  inflating: droughtwatch_data/train/part-r-01005  \n",
            "  inflating: droughtwatch_data/train/part-r-01075  \n",
            "  inflating: droughtwatch_data/train/part-r-00032  \n",
            "  inflating: droughtwatch_data/train/part-r-01067  \n",
            "  inflating: droughtwatch_data/train/part-r-00151  \n",
            "  inflating: droughtwatch_data/train/part-r-00018  \n",
            "  inflating: droughtwatch_data/train/part-r-00143  \n",
            "  inflating: droughtwatch_data/train/part-r-01133  \n",
            "  inflating: droughtwatch_data/train/part-r-01135  \n",
            "  inflating: droughtwatch_data/train/part-r-01017  \n",
            "  inflating: droughtwatch_data/train/part-r-00187  \n",
            "  inflating: droughtwatch_data/train/part-r-00129  \n",
            "  inflating: droughtwatch_data/train/part-r-01020  \n",
            "  inflating: droughtwatch_data/train/part-r-00062  \n",
            "  inflating: droughtwatch_data/train/part-r-00045  \n",
            "  inflating: droughtwatch_data/train/part-r-00147  \n",
            "  inflating: droughtwatch_data/train/part-r-01064  \n",
            "  inflating: droughtwatch_data/train/part-r-00089  \n",
            "  inflating: droughtwatch_data/train/part-r-01074  \n",
            "  inflating: droughtwatch_data/train/part-r-00135  \n",
            "  inflating: droughtwatch_data/train/part-r-01142  \n",
            "  inflating: droughtwatch_data/train/part-r-01036  \n",
            "  inflating: droughtwatch_data/train/part-r-01078  \n",
            "  inflating: droughtwatch_data/train/part-r-01050  \n",
            "  inflating: droughtwatch_data/train/part-r-01166  \n",
            "  inflating: droughtwatch_data/train/part-r-01134  \n",
            "  inflating: droughtwatch_data/train/part-r-00191  \n",
            "  inflating: droughtwatch_data/train/part-r-00182  \n",
            "  inflating: droughtwatch_data/train/part-r-01073  \n",
            "  inflating: droughtwatch_data/train/part-r-00087  \n",
            "  inflating: droughtwatch_data/train/part-r-01029  \n",
            "  inflating: droughtwatch_data/train/part-r-00027  \n",
            "  inflating: droughtwatch_data/train/part-r-01018  \n",
            "  inflating: droughtwatch_data/train/part-r-00198  \n",
            "  inflating: droughtwatch_data/train/part-r-00064  \n",
            "  inflating: droughtwatch_data/train/part-r-00149  \n",
            "  inflating: droughtwatch_data/train/part-r-00193  \n",
            "  inflating: droughtwatch_data/train/part-r-00154  \n",
            "  inflating: droughtwatch_data/train/part-r-01162  \n",
            "  inflating: droughtwatch_data/train/part-r-00085  \n",
            "  inflating: droughtwatch_data/train/part-r-00025  \n",
            "  inflating: droughtwatch_data/train/part-r-01117  \n",
            "  inflating: droughtwatch_data/train/part-r-00130  \n",
            "  inflating: droughtwatch_data/train/part-r-01124  \n",
            " extracting: droughtwatch_data/train/_SUCCESS  \n",
            "  inflating: droughtwatch_data/train/part-r-01189  \n",
            "  inflating: droughtwatch_data/train/part-r-01032  \n",
            "  inflating: droughtwatch_data/train/part-r-00030  \n",
            "  inflating: droughtwatch_data/train/part-r-01068  \n",
            "  inflating: droughtwatch_data/train/part-r-00065  \n",
            "  inflating: droughtwatch_data/train/part-r-01108  \n",
            "  inflating: droughtwatch_data/train/part-r-00141  \n",
            "  inflating: droughtwatch_data/train/part-r-00138  \n",
            "  inflating: droughtwatch_data/train/part-r-01096  \n",
            "  inflating: droughtwatch_data/train/part-r-01089  \n",
            "  inflating: droughtwatch_data/train/part-r-01167  \n",
            "  inflating: droughtwatch_data/train/part-r-01150  \n",
            "  inflating: droughtwatch_data/train/part-r-01038  \n",
            "  inflating: droughtwatch_data/train/part-r-01030  \n",
            "  inflating: droughtwatch_data/train/part-r-00034  \n",
            "  inflating: droughtwatch_data/train/part-r-01083  \n",
            "  inflating: droughtwatch_data/train/part-r-00031  \n",
            "  inflating: droughtwatch_data/train/part-r-00164  \n",
            "  inflating: droughtwatch_data/train/part-r-00197  \n",
            "  inflating: droughtwatch_data/train/part-r-00007  \n",
            "  inflating: droughtwatch_data/train/part-r-00103  \n",
            "  inflating: droughtwatch_data/train/part-r-01094  \n",
            "  inflating: droughtwatch_data/train/part-r-01058  \n",
            "  inflating: droughtwatch_data/train/part-r-01069  \n",
            "  inflating: droughtwatch_data/train/part-r-00105  \n",
            "  inflating: droughtwatch_data/train/part-r-01000  \n",
            "  inflating: droughtwatch_data/train/part-r-01093  \n",
            "  inflating: droughtwatch_data/train/part-r-01139  \n",
            "  inflating: droughtwatch_data/train/part-r-00008  \n",
            "  inflating: droughtwatch_data/train/part-r-00195  \n",
            "  inflating: droughtwatch_data/train/part-r-01033  \n",
            "  inflating: droughtwatch_data/train/part-r-01127  \n",
            "  inflating: droughtwatch_data/train/part-r-01147  \n",
            "  inflating: droughtwatch_data/train/part-r-00186  \n",
            "  inflating: droughtwatch_data/train/part-r-00155  \n",
            "  inflating: droughtwatch_data/train/part-r-00041  \n",
            "  inflating: droughtwatch_data/train/part-r-01043  \n",
            "  inflating: droughtwatch_data/train/part-r-00194  \n",
            "  inflating: droughtwatch_data/train/part-r-00114  \n",
            "  inflating: droughtwatch_data/train/part-r-01132  \n",
            "  inflating: droughtwatch_data/train/part-r-01153  \n",
            "  inflating: droughtwatch_data/train/part-r-00063  \n",
            "  inflating: droughtwatch_data/train/part-r-01131  \n",
            "  inflating: droughtwatch_data/train/part-r-00069  \n",
            "  inflating: droughtwatch_data/train/part-r-01194  \n",
            "  inflating: droughtwatch_data/train/part-r-01123  \n",
            "  inflating: droughtwatch_data/train/part-r-00021  \n",
            "  inflating: droughtwatch_data/train/part-r-00044  \n",
            "  inflating: droughtwatch_data/train/part-r-01191  \n",
            "  inflating: droughtwatch_data/train/part-r-01077  \n",
            "  inflating: droughtwatch_data/train/part-r-01122  \n",
            "  inflating: droughtwatch_data/train/part-r-00081  \n",
            "  inflating: droughtwatch_data/train/part-r-00039  \n",
            "  inflating: droughtwatch_data/train/part-r-01013  \n",
            "  inflating: droughtwatch_data/train/part-r-00181  \n",
            "  inflating: droughtwatch_data/train/part-r-01146  \n",
            "  inflating: droughtwatch_data/train/part-r-01044  \n",
            "  inflating: droughtwatch_data/train/part-r-00068  \n",
            "  inflating: droughtwatch_data/train/part-r-00188  \n",
            "  inflating: droughtwatch_data/train/part-r-01070  \n",
            "  inflating: droughtwatch_data/train/part-r-01021  \n",
            "  inflating: droughtwatch_data/train/part-r-01042  \n",
            "  inflating: droughtwatch_data/train/part-r-01047  \n",
            "  inflating: droughtwatch_data/train/part-r-00107  \n",
            "  inflating: droughtwatch_data/train/part-r-00169  \n",
            "  inflating: droughtwatch_data/train/part-r-00056  \n",
            "  inflating: droughtwatch_data/train/part-r-01190  \n",
            "  inflating: droughtwatch_data/train/part-r-00072  \n",
            "  inflating: droughtwatch_data/train/part-r-01088  \n",
            "  inflating: droughtwatch_data/train/part-r-01186  \n",
            "  inflating: droughtwatch_data/train/part-r-01130  \n",
            "  inflating: droughtwatch_data/train/part-r-00127  \n",
            "  inflating: droughtwatch_data/train/part-r-00159  \n",
            "  inflating: droughtwatch_data/train/part-r-00019  \n",
            "  inflating: droughtwatch_data/train/part-r-01111  \n",
            "  inflating: droughtwatch_data/train/part-r-01016  \n",
            "  inflating: droughtwatch_data/train/part-r-00036  \n",
            "  inflating: droughtwatch_data/train/part-r-01105  \n",
            "  inflating: droughtwatch_data/train/part-r-01031  \n",
            "  inflating: droughtwatch_data/train/part-r-00163  \n",
            "  inflating: droughtwatch_data/train/part-r-01129  \n",
            "  inflating: droughtwatch_data/train/part-r-00092  \n",
            "  inflating: droughtwatch_data/train/part-r-00117  \n",
            "  inflating: droughtwatch_data/train/part-r-00049  \n",
            "  inflating: droughtwatch_data/train/part-r-00170  \n",
            "  inflating: droughtwatch_data/train/part-r-00022  \n"
          ],
          "name": "stdout"
        }
      ]
    },
    {
      "cell_type": "code",
      "metadata": {
        "id": "MX_E_CQaewfk"
      },
      "source": [
        "# Common configuration parameters\n",
        "train_data_path = 'data/train'\n",
        "val_data_path = 'data/val'\n",
        "test_data_path = 'data/test'\n",
        "data_path = 'data'\n",
        "folder_path = 'content/droughtwatch'"
      ],
      "execution_count": null,
      "outputs": []
    },
    {
      "cell_type": "code",
      "metadata": {
        "id": "rPegvC2Te1vO"
      },
      "source": [
        "label_names = ['0', '1', '2', '3' ]"
      ],
      "execution_count": null,
      "outputs": []
    },
    {
      "cell_type": "code",
      "metadata": {
        "id": "S74d7jcie7Js"
      },
      "source": [
        "# Create folder structure for train\n",
        "for label in label_names:\n",
        "  if not os.path.isdir(str(os.path.join(train_data_path, Path(label)))):\n",
        "    os.makedirs(str(os.path.join(train_data_path, Path(label))))\n",
        "  else:\n",
        "    print('{} already exists!'.format(str(os.path.join(train_data_path, Path(label)))))\n",
        "\n",
        "# Create folder structure for val\n",
        "for label in label_names:\n",
        "  if not os.path.isdir(str(os.path.join(val_data_path, Path(label)))):\n",
        "    os.makedirs(str(os.path.join(val_data_path, Path(label))))\n",
        "  else:\n",
        "    print('{} already exists!'.format(str(os.path.join(val_data_path, Path(label)))))"
      ],
      "execution_count": null,
      "outputs": []
    },
    {
      "cell_type": "code",
      "metadata": {
        "id": "TcicYGOde8At"
      },
      "source": [
        "t0 = os.path.join(train_data_path, label_names[0])\n",
        "t1 = os.path.join(train_data_path, label_names[1])\n",
        "t2 = os.path.join(train_data_path, label_names[2])\n",
        "t3 = os.path.join(train_data_path, label_names[3])"
      ],
      "execution_count": null,
      "outputs": []
    },
    {
      "cell_type": "code",
      "metadata": {
        "id": "6pflq11ie-A0"
      },
      "source": [
        "v0 = os.path.join(val_data_path, label_names[0])\n",
        "v1 = os.path.join(val_data_path, label_names[1])\n",
        "v2 = os.path.join(val_data_path, label_names[2])\n",
        "v3 = os.path.join(val_data_path, label_names[3])"
      ],
      "execution_count": null,
      "outputs": []
    },
    {
      "cell_type": "code",
      "metadata": {
        "id": "tsB5B99BfADE"
      },
      "source": [
        "# Data loading functions\n",
        "\n",
        "# Function that returns files starting with part-r pattern from folder_path\n",
        "def filelist(folder_path):\n",
        "  files = Path(folder_path).glob('**/part-r-*')\n",
        "  print('Number of TFRecordDatasets in {}: {}'.format(folder_path, len(os.listdir(folder_path))))\n",
        "  return files\n",
        "\n",
        "def load_data(data_path):\n",
        "  train = filelist(train_data_path)\n",
        "  val = filelist(val_data_path)\n",
        "  return train, val\n",
        "\n",
        "# Function that parses TFRecordDataset and returns individual records from the Dataset\n",
        "def parse_file(file):\n",
        "  filename = tf.data.TFRecordDataset(str(file))\n",
        "  # TO DO: change make_one_shot_iterator to tf.v2 version\n",
        "  iterator = tf.compat.v1.data.make_one_shot_iterator(filename)\n",
        "  \n",
        "  features = {\n",
        "    'B1': tf.io.FixedLenFeature([], tf.string),\n",
        "    'B2': tf.io.FixedLenFeature([], tf.string),\n",
        "    'B3': tf.io.FixedLenFeature([], tf.string),\n",
        "    'B4': tf.io.FixedLenFeature([], tf.string),\n",
        "    'B5': tf.io.FixedLenFeature([], tf.string),\n",
        "    'B6': tf.io.FixedLenFeature([], tf.string),\n",
        "    'B7': tf.io.FixedLenFeature([], tf.string),\n",
        "    'B8': tf.io.FixedLenFeature([], tf.string),\n",
        "    'B9': tf.io.FixedLenFeature([], tf.string),\n",
        "    'B10': tf.io.FixedLenFeature([], tf.string),\n",
        "    'B11': tf.io.FixedLenFeature([], tf.string),\n",
        "    'label': tf.io.FixedLenFeature([], tf.int64),\n",
        "  }\n",
        "\n",
        "  parsed_files = [tf.io.parse_single_example(data, features) for data in iterator]\n",
        "  return parsed_files"
      ],
      "execution_count": null,
      "outputs": []
    },
    {
      "cell_type": "code",
      "metadata": {
        "colab": {
          "base_uri": "https://localhost:8080/"
        },
        "id": "Eys8l09HfDZ0",
        "outputId": "1ec7e20c-16c1-4af3-f9b7-2b898ba1044c"
      },
      "source": [
        "# Save TFRecordDataset records to .jpg files in order to proceed with\n",
        "# Pytorch's data loaders. TO DO: (1) Needto save the images to google drive\n",
        "# and mount the drive here and proceed rather than executing this\n",
        "# every time. For the moment proceeding as is.\n",
        "# (2) Need to see how to manipulate with TFRecordDataset itself. \n",
        "# Common configuration parameters\n",
        "train, val = load_data(data_path)\n",
        "train_files = []\n",
        "val_files = []\n",
        "\n",
        "#%cd 'data/train'\n",
        "for file in train:\n",
        "  #print(os.path.basename(file))\n",
        "  parsed_train_files = parse_file(file)\n",
        "  train_files.append(parsed_train_files)\n",
        "\n",
        "for file in val:\n",
        "  parsed_val_files = parse_file(file)\n",
        "  val_files.append(parsed_val_files)\n",
        "\n",
        "print(len(train_files))"
      ],
      "execution_count": null,
      "outputs": [
        {
          "output_type": "stream",
          "text": [
            "Number of TFRecordDatasets in data/train: 405\n",
            "Number of TFRecordDatasets in data/val: 105\n",
            "400\n"
          ],
          "name": "stdout"
        }
      ]
    },
    {
      "cell_type": "code",
      "metadata": {
        "colab": {
          "base_uri": "https://localhost:8080/",
          "height": 454
        },
        "id": "NANLNW4-fHmt",
        "outputId": "c6ef42f6-c055-4f2a-fb8f-78bd88f1c4ba"
      },
      "source": [
        "# Fetch labels from parsed_files\n",
        "train_labels = np.array([])\n",
        "for records in train_files:\n",
        "  labels = tf.cast([ record['label'] for record in records], tf.int32).numpy()\n",
        "  if train_labels.size == 0:\n",
        "    train_labels = np.array([labels])\n",
        "  else:\n",
        "    train_labels = np.append(train_labels, [labels])\n",
        "\n",
        "# Calculate unique labels and count of each in entire train folder\n",
        "unique_elements, counts_elements = np.unique(train_labels, return_counts=True)\n",
        "print(\"Frequency of unique values:\")\n",
        "print(np.asarray((unique_elements, counts_elements)))\n",
        "\n",
        "# Plot a bar chart to show data split \n",
        "figure = plt.figure(figsize=(15, 6))\n",
        "plt.title('Forage Quality Analysis')\n",
        "plt.xlabel('How many cows can be fed?')\n",
        "plt.ylabel('Number of landsat images')\n",
        "plt.bar(unique_elements, counts_elements, color='green')\n",
        "\n",
        "# To display count of each label\n",
        "for index, data in enumerate(counts_elements):\n",
        "  plt.text(x=index, y=data+1, s=f'{data}', fontdict=dict(fontsize=15))\n",
        " \n",
        "figure.show()"
      ],
      "execution_count": null,
      "outputs": [
        {
          "output_type": "stream",
          "text": [
            "Frequency of unique values:\n",
            "[[    0     1     2     3]\n",
            " [51814 12851 13609  8043]]\n"
          ],
          "name": "stdout"
        },
        {
          "output_type": "display_data",
          "data": {
            "image/png": "[encoded data removed]",
            "text/plain": [
              "<Figure size 1080x432 with 1 Axes>"
            ]
          },
          "metadata": {
            "tags": [],
            "needs_background": "light"
          }
        }
      ]
    },
    {
      "cell_type": "code",
      "metadata": {
        "colab": {
          "base_uri": "https://localhost:8080/",
          "height": 454
        },
        "id": "K2b0t32ZfNuN",
        "outputId": "a2bd34b6-4496-4e85-d5b7-49097cb185ee"
      },
      "source": [
        "# Fetch labels from parsed_files - validation data set\n",
        "val_labels = np.array([])\n",
        "for records in val_files:\n",
        "  labels = tf.cast([ record['label'] for record in records], tf.int32).numpy()\n",
        "  if val_labels.size == 0:\n",
        "    val_labels = np.array([labels])\n",
        "  else:\n",
        "    val_labels = np.append(val_labels, [labels])\n",
        "\n",
        "# Calculate unique labels and count of each in entire train folder\n",
        "unique_elements, counts_elements = np.unique(val_labels, return_counts=True)\n",
        "print(\"Frequency of unique values:\")\n",
        "print(np.asarray((unique_elements, counts_elements)))\n",
        "\n",
        "# Plot a bar chart to show data split \n",
        "figure = plt.figure(figsize=(15, 6))\n",
        "plt.title('Forage Quality Analysis of Validation analysis')\n",
        "plt.xlabel('How many cows can be fed?')\n",
        "plt.ylabel('Number of landsat images')\n",
        "plt.bar(unique_elements, counts_elements, color='blue')\n",
        "\n",
        "# To display count of each label\n",
        "for index, data in enumerate(counts_elements):\n",
        "  plt.text(x=index, y=data+1, s=f'{data}', fontdict=dict(fontsize=15))\n",
        " \n",
        "figure.show()"
      ],
      "execution_count": null,
      "outputs": [
        {
          "output_type": "stream",
          "text": [
            "Frequency of unique values:\n",
            "[[   0    1    2    3]\n",
            " [6443 1710 1673  952]]\n"
          ],
          "name": "stdout"
        },
        {
          "output_type": "display_data",
          "data": {
            "image/png": "[encoded data removed]",
            "text/plain": [
              "<Figure size 1080x432 with 1 Axes>"
            ]
          },
          "metadata": {
            "tags": [],
            "needs_background": "light"
          }
        }
      ]
    },
    {
      "cell_type": "code",
      "metadata": {
        "id": "wQRbS6YRfOgF"
      },
      "source": [
        "def get_image_from_example(parsed_example, intensify=True):\n",
        "  rgbArray = np.zeros((65, 65, 3), 'uint8')\n",
        "  for i, band in enumerate(['B5', 'B6', 'B7']):\n",
        "    band_data = np.frombuffer(parsed_example[band].numpy(), dtype=np.uint8)\n",
        "    band_data = band_data.reshape(65, 65)\n",
        "    if intensify:\n",
        "      band_data = band_data/np.max(band_data)*255\n",
        "    else:\n",
        "      band_data = band_data*255\n",
        "    rgbArray[..., i] = band_data\n",
        "\n",
        "  label = tf.cast(parsed_example['label'], tf.int32).numpy()\n",
        "\n",
        "  return rgbArray, label"
      ],
      "execution_count": null,
      "outputs": []
    },
    {
      "cell_type": "code",
      "metadata": {
        "colab": {
          "base_uri": "https://localhost:8080/"
        },
        "id": "Aa5-AgAAfQ4d",
        "outputId": "e7e48036-659d-42b6-d6ca-79a0da7f252d"
      },
      "source": [
        "# One off time\n",
        "import shutil\n",
        "\n",
        "# Save files from train as images\n",
        "cnt = 0\n",
        "for records in train_files:\n",
        "  for record in records:\n",
        "    img, label = get_image_from_example(record)\n",
        "    filename = 'image-' + str(cnt) + '-label '+ str(label) + '.jpg'\n",
        "    plt.imsave(filename, img, cmap='gray')\n",
        "    # Move files to appropriate folders based on their labels\n",
        "    if label == 0:\n",
        "      shutil.move(filename, t0)\n",
        "    elif label == 1:\n",
        "      shutil.move(filename, t1)\n",
        "    elif label == 2:\n",
        "      shutil.move(filename, t2)\n",
        "    elif label == 3:\n",
        "      shutil.move(filename, t3)\n",
        "    else:\n",
        "      print('Incorrect label')\n",
        "    cnt += 1"
      ],
      "execution_count": null,
      "outputs": [
        {
          "output_type": "stream",
          "text": [
            "/usr/local/lib/python3.7/dist-packages/ipykernel_launcher.py:7: RuntimeWarning: invalid value encountered in true_divide\n",
            "  import sys\n"
          ],
          "name": "stderr"
        }
      ]
    },
    {
      "cell_type": "code",
      "metadata": {
        "colab": {
          "base_uri": "https://localhost:8080/"
        },
        "id": "gPp52m_qfTfF",
        "outputId": "77e1cb3c-d31c-40f8-8ce0-758df8656c8e"
      },
      "source": [
        "# Save files from val as images\n",
        "cnt = 0\n",
        "for records in val_files:\n",
        "  for record in records:\n",
        "    img, label = get_image_from_example(record)\n",
        "    filename = 'image-' + str(cnt) + '-label '+ str(label) + '.jpg'\n",
        "    plt.imsave(filename, img, cmap='gray')\n",
        "    # Move files to appropriate folders based on their labels\n",
        "    if label == 0:\n",
        "      shutil.move(filename, v0)\n",
        "    elif label == 1:\n",
        "      shutil.move(filename, v1)\n",
        "    elif label == 2:\n",
        "      shutil.move(filename, v2)\n",
        "    elif label == 3:\n",
        "      shutil.move(filename, v3)\n",
        "    else:\n",
        "      print('Incorrect label')\n",
        "    cnt += 1"
      ],
      "execution_count": null,
      "outputs": [
        {
          "output_type": "stream",
          "text": [
            "/usr/local/lib/python3.7/dist-packages/ipykernel_launcher.py:7: RuntimeWarning: invalid value encountered in true_divide\n",
            "  import sys\n"
          ],
          "name": "stderr"
        }
      ]
    },
    {
      "cell_type": "code",
      "metadata": {
        "id": "9nlPXblLr_70"
      },
      "source": [
        "def make(config):\n",
        "  # make the model - TO DO: will change model details in a bit\n",
        "  # model = ConvNet(config.kernels, config.classes).to(device)\n",
        "  model_ft, input_size = initialize_model(\"densenet\", config.classes, feature_extract=True, \n",
        "                                          use_pretrained=True)\n",
        "  # Make the data\n",
        "  dataloaders = get_data(input_size, config.batch_size)\n",
        "\n",
        "  # Make the loss and optimizer\n",
        "  criterion = nn.CrossEntropyLoss()\n",
        "\n",
        "  return model_ft, dataloaders, criterion"
      ],
      "execution_count": null,
      "outputs": []
    },
    {
      "cell_type": "code",
      "metadata": {
        "id": "NZ03lP7msKRK"
      },
      "source": [
        "def initialize_model(model_name, num_classes, feature_extract, use_pretrained):\n",
        "  model_ft = None\n",
        "  input_size = 0\n",
        "\n",
        "  model_ft = models.densenet121(pretrained=use_pretrained)\n",
        "  set_parameter_requires_grad(model_ft, feature_extract)\n",
        "  num_ftrs = model_ft.classifier.in_features\n",
        "  print('num_ftrs: ', num_ftrs)\n",
        "  model_ft.classifier = nn.Linear(num_ftrs, num_classes)\n",
        "  input_size = 224\n",
        "  \n",
        "  return model_ft, input_size"
      ],
      "execution_count": null,
      "outputs": []
    },
    {
      "cell_type": "code",
      "metadata": {
        "id": "c7XvTfAAsV06"
      },
      "source": [
        "def get_data(input_size, batch_size):\n",
        "  # Data Augmentation and normalization for Training\n",
        "  # Just normalization for Validation\n",
        "  data_transforms = {\n",
        "      'train': transforms.Compose([\n",
        "          transforms.RandomResizedCrop(input_size),\n",
        "          transforms.RandomHorizontalFlip(),\n",
        "          transforms.ToTensor(),\n",
        "          transforms.Normalize([0.485, 0.456, 0.406], [0.229, 0.224, 0.225])\n",
        "      ]),\n",
        "      'val': transforms.Compose([\n",
        "          transforms.Resize(input_size),\n",
        "          transforms.CenterCrop(input_size),\n",
        "          transforms.ToTensor(),\n",
        "          transforms.Normalize([0.485, 0.456, 0.406], [0.229, 0.224, 0.225])\n",
        "      ]),\n",
        "  }\n",
        "\n",
        "  print('Initializing Datasets and DataLoaders...')\n",
        "\n",
        "  # Create training and validation datasets\n",
        "  image_datasets = {x: datasets.ImageFolder(os.path.join(data_path, x), data_transforms[x]) for x in ['train', 'val']}\n",
        "\n",
        "  # Create training and validation dataloaders\n",
        "  dataloaders = {x: torch.utils.data.DataLoader(image_datasets[x], batch_size=batch_size,\n",
        "                                                shuffle=True, num_workers=0) for x in ['train', 'val']}\n",
        "\n",
        "  print(dataloaders)    \n",
        "  print(type(dataloaders))                                         \n",
        "\n",
        "  return dataloaders"
      ],
      "execution_count": null,
      "outputs": []
    },
    {
      "cell_type": "code",
      "metadata": {
        "id": "XHRQ1ZEPsWoq"
      },
      "source": [
        "def set_parameter_requires_grad(model, feature_extracting):\n",
        "  if feature_extracting:\n",
        "    for param in model.parameters():\n",
        "      param.set_parameter_requires_grad = False"
      ],
      "execution_count": null,
      "outputs": []
    },
    {
      "cell_type": "code",
      "metadata": {
        "id": "z67V-6lnsae6"
      },
      "source": [
        "def create_optimizer(model_ft, optimizer, feature_extract, learning_rate):\n",
        "  # Gather the parameters to be optimized/updated in this run. If we are\n",
        "  # finetuning we will be updating all parameters. However, if we are\n",
        "  # doing feature extract method, we will only update the parameters\n",
        "  # that we have just initialized, i.e. the parameters with requires_grad\n",
        "  # is True.\n",
        "  \n",
        "  # Send the model to device\n",
        "  model_ft = model_ft.to(device)\n",
        "  params_to_update = model_ft.parameters()\n",
        "  print('Params to learn')\n",
        "  if feature_extract:\n",
        "    params_to_update = []\n",
        "    for name, param in model_ft.named_parameters():\n",
        "      if param.requires_grad == True:\n",
        "        params_to_update.append(param)\n",
        "        #print('\\t', name)\n",
        "  else:\n",
        "    for name, param in model_ft.named_parameters():\n",
        "      if param.requires_grad == True:\n",
        "        print('\\t', name)\n",
        "\n",
        "  # Observe that all parameters are optimized\n",
        "  if optimizer == 'sgd':\n",
        "    optimizer_ft = optim.SGD(params_to_update, lr=learning_rate, momentum=0.9)\n",
        "  \n",
        "  elif optimizer == 'adam':\n",
        "    optimizer_ft = optim.Adam(params_to_update, lr=learning_rate)\n",
        "\n",
        "  return optimizer_ft"
      ],
      "execution_count": null,
      "outputs": []
    },
    {
      "cell_type": "code",
      "metadata": {
        "id": "ODWFTsHZfWCc"
      },
      "source": [
        "# Method to handle training and validation of a given model\n",
        "def train(config=None):\n",
        "  # tell wandb to watch what the model gets upto: gradients, weights and more!\n",
        "  # wandb.watch(model, criterion, log=\"all\", log_freq=10)\n",
        "  with wandb.init(project=\"sweep-densenet121\", config=None):\n",
        "    # If called by wandb.agent, as below,\n",
        "    # this config will be set by Sweep Controller\n",
        "    config = wandb.config\n",
        "\n",
        "    # make the model, data and optimization parameters\n",
        "    model, dataloaders, criterion = make(config)\n",
        "\n",
        "    # final step for finetuning and feature extracting is to create \n",
        "    # an optimizer that only updates the desired parameters\n",
        "    optimizer = create_optimizer(model, config.optimizer, True, config.learning_rate)\n",
        "\n",
        "    val_acc_history = []\n",
        "\n",
        "    best_model_wts = copy.deepcopy(model.state_dict())\n",
        "    best_acc = 0.0\n",
        "\n",
        "    for epoch in range(config.num_epochs):\n",
        "      print(\"Epoch - {} / {}\".format(epoch, config.num_epochs - 1))\n",
        "      print('-' * 10)\n",
        "\n",
        "      # Each epoch has a training and validation phase\n",
        "      for phase in [\"train\", \"val\"]:\n",
        "        if phase == \"train\":\n",
        "          model.train()\n",
        "        else:\n",
        "          model.eval()\n",
        "\n",
        "        running_loss = 0.0\n",
        "        running_corrects = 0\n",
        "\n",
        "        # Iterate over data\n",
        "        print('phase: {}, device: {}'.format(phase, device))\n",
        "        for inputs, labels in dataloaders[phase]:\n",
        "          inputs = inputs.to(device)\n",
        "          labels = labels.to(device)\n",
        "\n",
        "          # zero the parameter gradients\n",
        "          optimizer.zero_grad()\n",
        "\n",
        "          # forward\n",
        "          # track history if only in train\n",
        "          with torch.set_grad_enabled(phase==\"train\"):\n",
        "            # get model outputs and calculate loss\n",
        "            outputs = model(inputs)\n",
        "            loss = criterion(outputs, labels)\n",
        "\n",
        "            _, preds = torch.max(outputs, 1)\n",
        "\n",
        "            # backward and optimize only for training phase\n",
        "            if phase == \"train\":\n",
        "              loss.backward()\n",
        "              optimizer.step()\n",
        "\n",
        "          # statistics\n",
        "          running_loss += loss.item() * inputs.size(0)\n",
        "          running_corrects += torch.sum(preds == labels.data)\n",
        "\n",
        "        epoch_loss = running_loss / len(dataloaders[phase].dataset)\n",
        "        epoch_acc = running_corrects.double() / len(dataloaders[phase].dataset)\n",
        "\n",
        "        print('{} Loss: {:.4f} Acc: {:.4f}'.format(phase, epoch_loss, epoch_acc))\n",
        "        \n",
        "        # Report metrics to wandb\n",
        "        if phase == \"train\":\n",
        "          wandb.log({\"epoch\": epoch, \"train_loss\": epoch_loss, \"train_acc\": epoch_acc})\n",
        "        if phase == \"val\":\n",
        "          wandb.log({\"epoch\": epoch, \"val_loss\":epoch_loss, \"val_acc\": epoch_acc})\n",
        "\n",
        "        # deep copy the model\n",
        "        if phase == \"val\" and epoch_acc > best_acc:\n",
        "          best_acc = epoch_acc\n",
        "          best_model_wts = copy.deepcopy(model.state_dict())\n",
        "        if phase == \"val\":\n",
        "          val_acc_history.append(epoch_acc)\n",
        "\n",
        "        print()\n",
        "\n",
        "    print(\"Best Val Accuracy: {:.4f}\".format(best_acc))\n",
        "\n",
        "    # load best model weights\n",
        "    model.load_state_dict(best_model_wts)\n",
        "\n",
        "    # Save the model\n",
        "    torch.save(model.state_dict(best_model_wts), \"sweeps-densenet121.pt\")\n",
        "\n",
        "    return model, val_acc_history"
      ],
      "execution_count": null,
      "outputs": []
    },
    {
      "cell_type": "markdown",
      "metadata": {
        "id": "V__QLKBse2eT"
      },
      "source": [
        "# End of methods related to train"
      ]
    },
    {
      "cell_type": "markdown",
      "metadata": {
        "id": "Gjw639dUUiXF"
      },
      "source": [
        "#Configure the sweep, to start with choose random. Other options are grid and bayesian search."
      ]
    },
    {
      "cell_type": "code",
      "metadata": {
        "id": "OeXKPFbjUbCO"
      },
      "source": [
        "sweep_config = {\n",
        "    'method' : 'random'\n",
        "}"
      ],
      "execution_count": null,
      "outputs": []
    },
    {
      "cell_type": "markdown",
      "metadata": {
        "id": "QkXCYDZnV8F9"
      },
      "source": [
        "#Define the metric"
      ]
    },
    {
      "cell_type": "code",
      "metadata": {
        "id": "fyj4GfRoUo22"
      },
      "source": [
        "metric = {\n",
        "    'val_metrics' : {\n",
        "        'loss' : 'val_loss',\n",
        "        'accuracy' : 'val_acc',\n",
        "    },\n",
        "    'train_metrics' : {\n",
        "        'loss' : 'train_loss',\n",
        "        'accuracy' : 'train_acc',\n",
        "    },\n",
        "}\n",
        "\n",
        "sweep_config['metric'] = metric"
      ],
      "execution_count": null,
      "outputs": []
    },
    {
      "cell_type": "markdown",
      "metadata": {
        "id": "UYARJXAhWCYF"
      },
      "source": [
        "#Define parameters"
      ]
    },
    {
      "cell_type": "code",
      "metadata": {
        "id": "DJQWFIXSVa25"
      },
      "source": [
        "parameters_dict = {\n",
        "    'optimizer' : {\n",
        "        'values' : ['adam', 'sgd']\n",
        "    },\n",
        "    'fc_layer_size' : {\n",
        "        'values' : [128, 256, 512]\n",
        "    },\n",
        "    'dropout' : {\n",
        "        'values' : [0.3, 0.4, 0.5]\n",
        "    },\n",
        "}\n",
        "\n",
        "sweep_config['parameters'] = parameters_dict"
      ],
      "execution_count": null,
      "outputs": []
    },
    {
      "cell_type": "code",
      "metadata": {
        "id": "x2o8ptVhWK4V"
      },
      "source": [
        "parameters_dict.update({\n",
        "    'num_epochs' : {\n",
        "        'value' : 5\n",
        "    }\n",
        "})"
      ],
      "execution_count": null,
      "outputs": []
    },
    {
      "cell_type": "code",
      "metadata": {
        "id": "3s-vBq-yXCTn"
      },
      "source": [
        "import math\n",
        "\n",
        "parameters_dict.update({\n",
        "    'learning_rate' : {\n",
        "        # a flat distribution between 0 and 0.1\n",
        "        'distribution' : 'uniform',\n",
        "        'min' : 0.0003,\n",
        "        'max' : 0.0005\n",
        "    },\n",
        "    'batch_size' : {\n",
        "        # integers between 32 and 256\n",
        "        # with evenly distributed logarithms\n",
        "        'distribution' : 'q_log_uniform',\n",
        "        'q' : 1,\n",
        "        'min' : math.log(32),\n",
        "        'max' : math.log(128),\n",
        "        #'values' : [32, 64, 128]\n",
        "    },\n",
        "    'classes' : {\n",
        "        'value' : 5,\n",
        "    },\n",
        "})"
      ],
      "execution_count": null,
      "outputs": []
    },
    {
      "cell_type": "code",
      "metadata": {
        "colab": {
          "base_uri": "https://localhost:8080/"
        },
        "id": "-W9V9faTASuW",
        "outputId": "d4598721-f637-48ef-a79f-42054d93bc0d"
      },
      "source": [
        "sweep_config"
      ],
      "execution_count": null,
      "outputs": [
        {
          "output_type": "execute_result",
          "data": {
            "text/plain": [
              "{'method': 'random',\n",
              " 'metric': {'train_metrics': {'accuracy': 'train_acc', 'loss': 'train_loss'},\n",
              "  'val_metrics': {'accuracy': 'val_acc', 'loss': 'val_loss'}},\n",
              " 'parameters': {'batch_size': {'distribution': 'q_log_uniform',\n",
              "   'max': 4.852030263919617,\n",
              "   'min': 3.4657359027997265,\n",
              "   'q': 1},\n",
              "  'classes': {'value': 5},\n",
              "  'dropout': {'values': [0.3, 0.4, 0.5]},\n",
              "  'fc_layer_size': {'values': [128, 256, 512]},\n",
              "  'learning_rate': {'distribution': 'uniform', 'max': 0.0005, 'min': 0.0003},\n",
              "  'num_epochs': {'value': 5},\n",
              "  'optimizer': {'values': ['adam', 'sgd']}}}"
            ]
          },
          "metadata": {
            "tags": []
          },
          "execution_count": 29
        }
      ]
    },
    {
      "cell_type": "code",
      "metadata": {
        "colab": {
          "base_uri": "https://localhost:8080/"
        },
        "id": "jZin-H0M0tNQ",
        "outputId": "079a19ec-f130-406f-b452-8ed6c1bfe35a"
      },
      "source": [
        "sweep_id = wandb.sweep(sweep_config, project=\"sweeps-densenet121\")"
      ],
      "execution_count": null,
      "outputs": [
        {
          "output_type": "stream",
          "text": [
            "Create sweep with ID: w06m6wsq\n",
            "Sweep URL: https://wandb.ai/prettycold/sweeps-densenet121/sweeps/w06m6wsq\n"
          ],
          "name": "stdout"
        }
      ]
    },
    {
      "cell_type": "code",
      "metadata": {
        "id": "l-sJxlvmZy1c",
        "colab": {
          "base_uri": "https://localhost:8080/",
          "height": 1000,
          "referenced_widgets": [
            "065ed76ed42e45dd95818acdc7e5bf17",
            "7ba4be5f53aa4390bbb5317debfc3c17",
            "310f42aec11e4c209c6e217cba52e621",
            "acf5c7e1d6744b718f624bd66717e1b6",
            "5b9aff31850d48ce9286d37614e94071",
            "f2ba7568d73b49ca92a642fbea4c6b2f",
            "a42364abb6a04826a0f716542ebc3c65",
            "8f873b8c005049fcae7a7083b251612f",
            "4d71e94b461843b2a46a7790e39130c4",
            "a7e141cfecd2479c9e71db102677e5d3",
            "59ec2333d97b43158492e54b5984c619",
            "54aa96698abb4a498b488e4c7d6d9f39",
            "82109c12a25b48889b7b2696e687873b",
            "8489e8968bb94fa5b3a77ccd2777d811",
            "ddc6372d2ca84e69998b1a35296f1fc6",
            "31546a657c124bf8ab891164b0283915",
            "68ce904c07564132976358ef6b62a377",
            "8515f0e8a0ad4fecb393fd953ca52637",
            "43b1f1aa690d4bef953d7d51dd091506",
            "7261075af3bc4cff8e7a8cb5df394b17",
            "d237a337a2cf4f2094786e08ee8f63ec",
            "e04ced73ff2749a892f01a9e4c1c8426",
            "418b6449a8184660b2931264e86de235",
            "2c1e035f8f0c43278ec00d6b95d33d6e",
            "3e4c8f0ec4104bfd95b5c26907f15d52",
            "cd6df04fce1c45378e4bf54b619d4e2b",
            "0d009299c51e4ac7b8c552f4d1d5e3fa",
            "09399cb237e34e08aa3fb2a0b037c240",
            "bf7d7b2166e24346b3d4d29cb4d78ed0",
            "3a586a66fb844db8977941b28e7993aa",
            "9bae02bbb21f438c8dc206406009bc63",
            "a5dc9ce8ba3f4740a0bc35b294733739",
            "5d28f85a9d1e4c71be54b74dded38277",
            "6724d26730954950a483451d7215382e",
            "6de487dae9d74e089f607c636ba935a3",
            "c240c292a4b64c7785b13cd346d6d2e5",
            "283453b04a7941e1bf4a1988f721fa7f",
            "f371434e996b4f7e86c8caff6c7293a2",
            "6eeaaaf4240149be80d0e79be8c4f3d4",
            "c5d51b92281f4c87923d3e75eb819571",
            "4ea1249790914eaca25025f7f456bd0c",
            "8b1042f646054e7792c34d016d63d74c",
            "729d00b1b9714a93a7c31504892d30e7",
            "4a8d605f9ed04b1b90d9e80378f3975e",
            "15abff938d4c4ac5ad5c713e9e5adc2f",
            "f58c06f1dedb48c5b68f8117f3346509",
            "66a7a188d49a4b66bc235e0a04788612",
            "5f4f9bf3b91f45a297c1d3c6c52c7aad",
            "820e70ebc58748dcbfb7147ed1a20ddf",
            "9ef297bee65a40789d8252e8fa3a779d",
            "9854558eb5d44b13bb9cc59574cd0eae",
            "bf4e990decb1483eab6e4fbcf7fad863",
            "00a974b995a9414da4cf45abaa86f3fd",
            "b7545f98f7604ce6aef24c474fbab38f",
            "60bf4d7d79ab422f8dbb12dd7b5da751",
            "ef94e10125144677b109075616d742c9",
            "e240f0c110814e799b3d1e79537ff89c",
            "4971f193e6db416394f393aa9c5fe20a",
            "4427b4c684ea49f4a73b33e5c1aabac6",
            "3056f976695247d69af6c321991f157a",
            "47e977b014914cb1aa5d00f9d120905b",
            "cb2fef94f8d2453db7a37548d7b4c68d",
            "91a636e4a707402cb894ea55cdad0eae",
            "c5b18fe48edd45bdaf666bcb7df24cd9",
            "3e1f35aa0f964d28bf61c897526777cb",
            "6afa1b6079c3465fae9a9a4e4311e8e5",
            "6525b3dc607843e2ae92d098e47b1672",
            "4f5e502d4be44d0e806d9860ba3be78f",
            "93b45d646ec2468ab8955b0b5390fe9e",
            "c5dadd7194d145ff91cf8108e6df6cfe",
            "dd9bf06050b9499881ef3543f0f30662",
            "13902bc53b92496381068374cada2b8e",
            "d0431f4d902e4956a2188cf6d958ddd4",
            "27d05dd3c2644dc59ef8a6b13e60a7f0",
            "f41d776a47934c1c86b86725f2a0a587",
            "f37ece26ba394398bf719ed3e0fcc1aa",
            "291635c2e5de43569450c7168e595247",
            "e19b2fc771324a7787150eda52452734",
            "d108947539e1464d8a4567abe1a3b888",
            "137c3e21abf14aef9b2ba674c318061c",
            "08918784e8164fdeb0bc7535a21ad6a1",
            "8e47f4c8af58437483610da13150e938",
            "0a47b3f06b05470795b82e9fdd3369c7",
            "8abb40e6df414aeaa5eb37317a663081",
            "0250b8ac0a464e788fa5b4c867cd8241",
            "7ed1ba7cfdcb4ad089c5418d95888bfd",
            "1dddda38b95844c99121a48801001fde",
            "f7303ac496654c5fb2e344b988545481",
            "68c9348a26014a2298b5f0fe1da86edf",
            "6aaed7f682a7462aa4de88396a4bf3c9",
            "8d2fe39105e84d8c90de384739750f34",
            "6ec0364f495849b0bbea868b680dd29b",
            "f832b3f49ba54f8dbdd8ed943fa68dc3",
            "a44e728de5804fdea356546f5255349c",
            "ea448c4b8ad140a8bea40b30288685d7",
            "695f6a751d324fcaa76d82c9a2ccd9da",
            "d44f789b3e7644dc8d624b7808a09cac",
            "017955ad134349128c06087bf4a5d5ed",
            "6934246a46ae440faaa4e91ac2c78fbc",
            "12b0b993e4f84d549afad1ed862f8186",
            "0988183b30e14428a4b8a08e10529948",
            "a08c3b93eab34a78ba9dd775121cc841",
            "2dff873a7a824d0796df65297a89bd1f",
            "285d4b82fac04086abb2a1bd76125e78",
            "6f30df6b614249eaa672c1a0c31406df",
            "a9d800b6dafc483babee25e7c2b8061a",
            "0c7d9aa57c6f4f3da5e1ca832882233d",
            "974da8335fbe45ad95cd9f35a73611c1",
            "0b1f83245114466c9d93930c86d45662",
            "5bd9237df37e496eb7ad1134413189fb",
            "de12f0e2c450492e85b9c41f9da5c89c",
            "00969d0269e64a65b855ea0eb337fe7d",
            "d65910f3916545b086f2840b21b70c01",
            "ee2c645a91a14f769a0b2bea05553bf5",
            "63d9c612feb64a2e91d6cc959a84090b",
            "f5e63fb24a1048f0853f77f27babb883",
            "7df0e280696e4ecaa079eec8e8bae098",
            "1df78338cb344ce48cf0abb937bafd50",
            "87cc6641216b4545a963fab3d01214b0",
            "06149939ea6144e88de533584353d99d",
            "8d80544a419c40cf94f53844c02e3697",
            "4d4d7ef04c4c4dcc9c9f6200c5bf1fe0",
            "c0b54018a2e2423bba48e88b7d687f41",
            "6d9372cdaa9943608bd49346953a9093",
            "34d48d49f9d14364bc44c98b2cbb7ce2",
            "93b114e61c294fac843e5ad4e3aaf4ef",
            "93f7bb4996d341058bcb14c0d3a066fe",
            "1d439c45b23a42f6b7c6a7cfedf214f1",
            "dba45c34d9c247eaa775a6fe68ec471a",
            "b71d872c228d4c528a1356af4afa4bbc",
            "aeacdfc2b5c34d25a88ae8179fefad6f",
            "0c7bdc7ad1e840e0990d2d4b064009ea",
            "21381153dfb346a58469ea7c885642b7",
            "a4604dc95c594c1b91361fa1f4671462",
            "59c552df8c584960a46603d8e78aecac",
            "bac3e43399dc408988387ad743e0be78",
            "6ab384a2062e4cafb4a13aea2bfccde2",
            "bf89798da486427785edfc3eb30bafbf",
            "65e7f0d36f6649cb8444fec8d4f0e56a",
            "f24a226f53aa41358affb5050c7c714e",
            "5e8e7eb1c48f4e70b74a142818ba6669",
            "957b588a74624ea0b91c0d5b27771fd6",
            "888bf1df263546e6a936deb90ab230b3",
            "49d9cf6f391d4575ac1ff79fffc35200",
            "dc886947aed44930bef7663a1ad60933",
            "9bdcbb3b66804fba81001cb2de68239c",
            "63892dff9811416c93aeab6f9775bc46",
            "01d2dd6b2124483499710cd0f204781b",
            "aa0cadae49824123957064c3a09d6be1",
            "39b3f4332c084b8097ef4e7394fa6cdd",
            "932fab873049452a997ea5d84f3473c8",
            "b0e373fc5af1400897bb17d5dec675dc",
            "1ad67cf80f3c43a98cb8c3b15101dba4",
            "47bb93bd4c364dd59dcdc90ad32c828b",
            "3aeaada3cb19413da83bed66645afbff",
            "09abdbf3bbeb4707a95efe69fac4017c",
            "6f82d8e19bc04ae481a15d31ce892fda",
            "e6f04d9d257b45d7a7e25cc9eda844e3",
            "0f8454168b724cf190be5d4b7dcbc56e",
            "5e7b0f24cf8e46ab87a0aaf9ff698dae",
            "0b4cc989215c4973895c406542263bc1",
            "92cafddf33de48b5b508bc2fc97a48d4",
            "17a2acc2e79a4350a82cfd601370bd98",
            "ba8c51b16b7f4aa4abfb34c4588f011f",
            "62fd0e825eb54bceac7e53f50d9f511c",
            "93183eb128d84e08874c0548894374a4",
            "7a4e879e1d744d309bd4816adda5839a",
            "653e9825e0ef4f108ba382e8d49c237c"
          ]
        },
        "outputId": "48603aaa-e389-49e8-d51d-31d145a7c67a"
      },
      "source": [
        "wandb.agent(sweep_id, train, count=20)"
      ],
      "execution_count": null,
      "outputs": [
        {
          "output_type": "stream",
          "text": [
            "\u001b[34m\u001b[1mwandb\u001b[0m: Agent Starting Run: le0nqdtv with config:\n",
            "\u001b[34m\u001b[1mwandb\u001b[0m: \tbatch_size: 35\n",
            "\u001b[34m\u001b[1mwandb\u001b[0m: \tclasses: 5\n",
            "\u001b[34m\u001b[1mwandb\u001b[0m: \tdropout: 0.5\n",
            "\u001b[34m\u001b[1mwandb\u001b[0m: \tfc_layer_size: 256\n",
            "\u001b[34m\u001b[1mwandb\u001b[0m: \tlearning_rate: 0.0003811701030074672\n",
            "\u001b[34m\u001b[1mwandb\u001b[0m: \tnum_epochs: 5\n",
            "\u001b[34m\u001b[1mwandb\u001b[0m: \toptimizer: sgd\n",
            "\u001b[34m\u001b[1mwandb\u001b[0m: Currently logged in as: \u001b[33mprettycold\u001b[0m (use `wandb login --relogin` to force relogin)\n",
            "\u001b[34m\u001b[1mwandb\u001b[0m: \u001b[33mWARNING\u001b[0m Ignored wandb.init() arg project when running a sweep\n"
          ],
          "name": "stderr"
        },
        {
          "output_type": "display_data",
          "data": {
            "text/html": [
              "\n",
              "                Tracking run with wandb version 0.10.30<br/>\n",
              "                Syncing run <strong style=\"color:#cdcd00\">young-sweep-1</strong> to <a href=\"https://wandb.ai\" target=\"_blank\">Weights & Biases</a> <a href=\"https://docs.wandb.com/integrations/jupyter.html\" target=\"_blank\">(Documentation)</a>.<br/>\n",
              "                Project page: <a href=\"https://wandb.ai/prettycold/sweeps-densenet121\" target=\"_blank\">https://wandb.ai/prettycold/sweeps-densenet121</a><br/>\n",
              "                Sweep page: <a href=\"https://wandb.ai/prettycold/sweeps-densenet121/sweeps/w06m6wsq\" target=\"_blank\">https://wandb.ai/prettycold/sweeps-densenet121/sweeps/w06m6wsq</a><br/>\n",
              "Run page: <a href=\"https://wandb.ai/prettycold/sweeps-densenet121/runs/le0nqdtv\" target=\"_blank\">https://wandb.ai/prettycold/sweeps-densenet121/runs/le0nqdtv</a><br/>\n",
              "                Run data is saved locally in <code>/content/droughtwatch/wandb/run-20210511_042140-le0nqdtv</code><br/><br/>\n",
              "            "
            ],
            "text/plain": [
              "<IPython.core.display.HTML object>"
            ]
          },
          "metadata": {
            "tags": []
          }
        },
        {
          "output_type": "stream",
          "text": [
            "Downloading: \"https://download.pytorch.org/models/densenet121-a639ec97.pth\" to /root/.cache/torch/hub/checkpoints/densenet121-a639ec97.pth\n"
          ],
          "name": "stderr"
        },
        {
          "output_type": "display_data",
          "data": {
            "application/vnd.jupyter.widget-view+json": {
              "model_id": "065ed76ed42e45dd95818acdc7e5bf17",
              "version_minor": 0,
              "version_major": 2
            },
            "text/plain": [
              "HBox(children=(FloatProgress(value=0.0, max=32342954.0), HTML(value='')))"
            ]
          },
          "metadata": {
            "tags": []
          }
        },
        {
          "output_type": "stream",
          "text": [
            "\n",
            "num_ftrs:  1024\n",
            "Initializing Datasets and DataLoaders...\n",
            "{'train': <torch.utils.data.dataloader.DataLoader object at 0x7f1682f75410>, 'val': <torch.utils.data.dataloader.DataLoader object at 0x7f1682f75e90>}\n",
            "<class 'dict'>\n",
            "Params to learn\n",
            "Epoch - 0 / 4\n",
            "----------\n",
            "phase: train, device: cuda:0\n",
            "train Loss: 0.9802 Acc: 0.6196\n",
            "\n",
            "phase: val, device: cuda:0\n",
            "val Loss: 0.9369 Acc: 0.6392\n",
            "\n",
            "Epoch - 1 / 4\n",
            "----------\n",
            "phase: train, device: cuda:0\n",
            "train Loss: 0.9038 Acc: 0.6486\n",
            "\n",
            "phase: val, device: cuda:0\n",
            "val Loss: 0.8120 Acc: 0.6874\n",
            "\n",
            "Epoch - 2 / 4\n",
            "----------\n",
            "phase: train, device: cuda:0\n",
            "train Loss: 0.8586 Acc: 0.6684\n",
            "\n",
            "phase: val, device: cuda:0\n",
            "val Loss: 0.7846 Acc: 0.7021\n",
            "\n",
            "Epoch - 3 / 4\n",
            "----------\n",
            "phase: train, device: cuda:0\n",
            "train Loss: 0.8246 Acc: 0.6828\n",
            "\n",
            "phase: val, device: cuda:0\n",
            "val Loss: 0.7561 Acc: 0.7121\n",
            "\n",
            "Epoch - 4 / 4\n",
            "----------\n",
            "phase: train, device: cuda:0\n",
            "train Loss: 0.8020 Acc: 0.6903\n",
            "\n",
            "phase: val, device: cuda:0\n",
            "val Loss: 0.7445 Acc: 0.7191\n",
            "\n",
            "Best Val Accuracy: 0.7191\n"
          ],
          "name": "stdout"
        },
        {
          "output_type": "display_data",
          "data": {
            "text/html": [
              "<br/>Waiting for W&B process to finish, PID 703<br/>Program ended successfully."
            ],
            "text/plain": [
              "<IPython.core.display.HTML object>"
            ]
          },
          "metadata": {
            "tags": []
          }
        },
        {
          "output_type": "display_data",
          "data": {
            "application/vnd.jupyter.widget-view+json": {
              "model_id": "4d71e94b461843b2a46a7790e39130c4",
              "version_minor": 0,
              "version_major": 2
            },
            "text/plain": [
              "VBox(children=(Label(value=' 0.00MB of 0.00MB uploaded (0.00MB deduped)\\r'), FloatProgress(value=1.0, max=1.0)…"
            ]
          },
          "metadata": {
            "tags": []
          }
        },
        {
          "output_type": "display_data",
          "data": {
            "text/html": [
              "Find user logs for this run at: <code>/content/droughtwatch/wandb/run-20210511_042140-le0nqdtv/logs/debug.log</code>"
            ],
            "text/plain": [
              "<IPython.core.display.HTML object>"
            ]
          },
          "metadata": {
            "tags": []
          }
        },
        {
          "output_type": "display_data",
          "data": {
            "text/html": [
              "Find internal logs for this run at: <code>/content/droughtwatch/wandb/run-20210511_042140-le0nqdtv/logs/debug-internal.log</code>"
            ],
            "text/plain": [
              "<IPython.core.display.HTML object>"
            ]
          },
          "metadata": {
            "tags": []
          }
        },
        {
          "output_type": "display_data",
          "data": {
            "text/html": [
              "<h3>Run summary:</h3><br/><style>\n",
              "    table.wandb td:nth-child(1) { padding: 0 10px; text-align: right }\n",
              "    </style><table class=\"wandb\">\n",
              "<tr><td>epoch</td><td>4</td></tr><tr><td>train_loss</td><td>0.80201</td></tr><tr><td>train_acc</td><td>0.69027</td></tr><tr><td>_runtime</td><td>3819</td></tr><tr><td>_timestamp</td><td>1620710719</td></tr><tr><td>_step</td><td>9</td></tr><tr><td>val_loss</td><td>0.7445</td></tr><tr><td>val_acc</td><td>0.71906</td></tr></table>"
            ],
            "text/plain": [
              "<IPython.core.display.HTML object>"
            ]
          },
          "metadata": {
            "tags": []
          }
        },
        {
          "output_type": "display_data",
          "data": {
            "text/html": [
              "<h3>Run history:</h3><br/><style>\n",
              "    table.wandb td:nth-child(1) { padding: 0 10px; text-align: right }\n",
              "    </style><table class=\"wandb\">\n",
              "<tr><td>epoch</td><td>▁▁▃▃▅▅▆▆██</td></tr><tr><td>train_loss</td><td>█▅▃▂▁</td></tr><tr><td>train_acc</td><td>▁▄▆▇█</td></tr><tr><td>_runtime</td><td>▁▁▃▃▄▅▆▆██</td></tr><tr><td>_timestamp</td><td>▁▁▃▃▄▅▆▆██</td></tr><tr><td>_step</td><td>▁▂▃▃▄▅▆▆▇█</td></tr><tr><td>val_loss</td><td>█▃▂▁▁</td></tr><tr><td>val_acc</td><td>▁▅▇▇█</td></tr></table><br/>"
            ],
            "text/plain": [
              "<IPython.core.display.HTML object>"
            ]
          },
          "metadata": {
            "tags": []
          }
        },
        {
          "output_type": "display_data",
          "data": {
            "text/html": [
              "Synced 5 W&B file(s), 0 media file(s), 0 artifact file(s) and 0 other file(s)"
            ],
            "text/plain": [
              "<IPython.core.display.HTML object>"
            ]
          },
          "metadata": {
            "tags": []
          }
        },
        {
          "output_type": "display_data",
          "data": {
            "text/html": [
              "\n",
              "                    <br/>Synced <strong style=\"color:#cdcd00\">young-sweep-1</strong>: <a href=\"https://wandb.ai/prettycold/sweeps-densenet121/runs/le0nqdtv\" target=\"_blank\">https://wandb.ai/prettycold/sweeps-densenet121/runs/le0nqdtv</a><br/>\n",
              "                "
            ],
            "text/plain": [
              "<IPython.core.display.HTML object>"
            ]
          },
          "metadata": {
            "tags": []
          }
        },
        {
          "output_type": "stream",
          "text": [
            "\u001b[34m\u001b[1mwandb\u001b[0m: Agent Starting Run: kueadv8a with config:\n",
            "\u001b[34m\u001b[1mwandb\u001b[0m: \tbatch_size: 61\n",
            "\u001b[34m\u001b[1mwandb\u001b[0m: \tclasses: 5\n",
            "\u001b[34m\u001b[1mwandb\u001b[0m: \tdropout: 0.4\n",
            "\u001b[34m\u001b[1mwandb\u001b[0m: \tfc_layer_size: 512\n",
            "\u001b[34m\u001b[1mwandb\u001b[0m: \tlearning_rate: 0.00047436826604708375\n",
            "\u001b[34m\u001b[1mwandb\u001b[0m: \tnum_epochs: 5\n",
            "\u001b[34m\u001b[1mwandb\u001b[0m: \toptimizer: adam\n",
            "\u001b[34m\u001b[1mwandb\u001b[0m: \u001b[33mWARNING\u001b[0m Ignored wandb.init() arg project when running a sweep\n"
          ],
          "name": "stderr"
        },
        {
          "output_type": "display_data",
          "data": {
            "text/html": [
              "\n",
              "                Tracking run with wandb version 0.10.30<br/>\n",
              "                Syncing run <strong style=\"color:#cdcd00\">deft-sweep-2</strong> to <a href=\"https://wandb.ai\" target=\"_blank\">Weights & Biases</a> <a href=\"https://docs.wandb.com/integrations/jupyter.html\" target=\"_blank\">(Documentation)</a>.<br/>\n",
              "                Project page: <a href=\"https://wandb.ai/prettycold/sweeps-densenet121\" target=\"_blank\">https://wandb.ai/prettycold/sweeps-densenet121</a><br/>\n",
              "                Sweep page: <a href=\"https://wandb.ai/prettycold/sweeps-densenet121/sweeps/w06m6wsq\" target=\"_blank\">https://wandb.ai/prettycold/sweeps-densenet121/sweeps/w06m6wsq</a><br/>\n",
              "Run page: <a href=\"https://wandb.ai/prettycold/sweeps-densenet121/runs/kueadv8a\" target=\"_blank\">https://wandb.ai/prettycold/sweeps-densenet121/runs/kueadv8a</a><br/>\n",
              "                Run data is saved locally in <code>/content/droughtwatch/wandb/run-20210511_052525-kueadv8a</code><br/><br/>\n",
              "            "
            ],
            "text/plain": [
              "<IPython.core.display.HTML object>"
            ]
          },
          "metadata": {
            "tags": []
          }
        },
        {
          "output_type": "stream",
          "text": [
            "num_ftrs:  1024\n",
            "Initializing Datasets and DataLoaders...\n",
            "{'train': <torch.utils.data.dataloader.DataLoader object at 0x7f168380a5d0>, 'val': <torch.utils.data.dataloader.DataLoader object at 0x7f168382ad90>}\n",
            "<class 'dict'>\n",
            "Params to learn\n",
            "Epoch - 0 / 4\n",
            "----------\n",
            "phase: train, device: cuda:0\n",
            "train Loss: 0.9595 Acc: 0.6250\n",
            "\n",
            "phase: val, device: cuda:0\n",
            "val Loss: 0.9047 Acc: 0.6433\n",
            "\n",
            "Epoch - 1 / 4\n",
            "----------\n",
            "phase: train, device: cuda:0\n",
            "train Loss: 0.8959 Acc: 0.6523\n",
            "\n",
            "phase: val, device: cuda:0\n",
            "val Loss: 0.8368 Acc: 0.6797\n",
            "\n",
            "Epoch - 2 / 4\n",
            "----------\n",
            "phase: train, device: cuda:0\n",
            "train Loss: 0.8590 Acc: 0.6686\n",
            "\n",
            "phase: val, device: cuda:0\n",
            "val Loss: 0.8141 Acc: 0.6874\n",
            "\n",
            "Epoch - 3 / 4\n",
            "----------\n",
            "phase: train, device: cuda:0\n",
            "train Loss: 0.8284 Acc: 0.6790\n",
            "\n",
            "phase: val, device: cuda:0\n",
            "val Loss: 0.7936 Acc: 0.6967\n",
            "\n",
            "Epoch - 4 / 4\n",
            "----------\n",
            "phase: train, device: cuda:0\n",
            "train Loss: 0.8164 Acc: 0.6862\n",
            "\n",
            "phase: val, device: cuda:0\n",
            "val Loss: 0.7843 Acc: 0.7010\n",
            "\n",
            "Best Val Accuracy: 0.7010\n"
          ],
          "name": "stdout"
        },
        {
          "output_type": "display_data",
          "data": {
            "text/html": [
              "<br/>Waiting for W&B process to finish, PID 782<br/>Program ended successfully."
            ],
            "text/plain": [
              "<IPython.core.display.HTML object>"
            ]
          },
          "metadata": {
            "tags": []
          }
        },
        {
          "output_type": "display_data",
          "data": {
            "application/vnd.jupyter.widget-view+json": {
              "model_id": "68ce904c07564132976358ef6b62a377",
              "version_minor": 0,
              "version_major": 2
            },
            "text/plain": [
              "VBox(children=(Label(value=' 0.00MB of 0.00MB uploaded (0.00MB deduped)\\r'), FloatProgress(value=1.0, max=1.0)…"
            ]
          },
          "metadata": {
            "tags": []
          }
        },
        {
          "output_type": "display_data",
          "data": {
            "text/html": [
              "Find user logs for this run at: <code>/content/droughtwatch/wandb/run-20210511_052525-kueadv8a/logs/debug.log</code>"
            ],
            "text/plain": [
              "<IPython.core.display.HTML object>"
            ]
          },
          "metadata": {
            "tags": []
          }
        },
        {
          "output_type": "display_data",
          "data": {
            "text/html": [
              "Find internal logs for this run at: <code>/content/droughtwatch/wandb/run-20210511_052525-kueadv8a/logs/debug-internal.log</code>"
            ],
            "text/plain": [
              "<IPython.core.display.HTML object>"
            ]
          },
          "metadata": {
            "tags": []
          }
        },
        {
          "output_type": "display_data",
          "data": {
            "text/html": [
              "<h3>Run summary:</h3><br/><style>\n",
              "    table.wandb td:nth-child(1) { padding: 0 10px; text-align: right }\n",
              "    </style><table class=\"wandb\">\n",
              "<tr><td>epoch</td><td>4</td></tr><tr><td>train_loss</td><td>0.81643</td></tr><tr><td>train_acc</td><td>0.6862</td></tr><tr><td>_runtime</td><td>3756</td></tr><tr><td>_timestamp</td><td>1620714481</td></tr><tr><td>_step</td><td>9</td></tr><tr><td>val_loss</td><td>0.78431</td></tr><tr><td>val_acc</td><td>0.70096</td></tr></table>"
            ],
            "text/plain": [
              "<IPython.core.display.HTML object>"
            ]
          },
          "metadata": {
            "tags": []
          }
        },
        {
          "output_type": "display_data",
          "data": {
            "text/html": [
              "<h3>Run history:</h3><br/><style>\n",
              "    table.wandb td:nth-child(1) { padding: 0 10px; text-align: right }\n",
              "    </style><table class=\"wandb\">\n",
              "<tr><td>epoch</td><td>▁▁▃▃▅▅▆▆██</td></tr><tr><td>train_loss</td><td>█▅▃▂▁</td></tr><tr><td>train_acc</td><td>▁▄▆▇█</td></tr><tr><td>_runtime</td><td>▁▁▃▃▄▅▆▆██</td></tr><tr><td>_timestamp</td><td>▁▁▃▃▄▅▆▆██</td></tr><tr><td>_step</td><td>▁▂▃▃▄▅▆▆▇█</td></tr><tr><td>val_loss</td><td>█▄▃▂▁</td></tr><tr><td>val_acc</td><td>▁▅▆▇█</td></tr></table><br/>"
            ],
            "text/plain": [
              "<IPython.core.display.HTML object>"
            ]
          },
          "metadata": {
            "tags": []
          }
        },
        {
          "output_type": "display_data",
          "data": {
            "text/html": [
              "Synced 5 W&B file(s), 0 media file(s), 0 artifact file(s) and 0 other file(s)"
            ],
            "text/plain": [
              "<IPython.core.display.HTML object>"
            ]
          },
          "metadata": {
            "tags": []
          }
        },
        {
          "output_type": "display_data",
          "data": {
            "text/html": [
              "\n",
              "                    <br/>Synced <strong style=\"color:#cdcd00\">deft-sweep-2</strong>: <a href=\"https://wandb.ai/prettycold/sweeps-densenet121/runs/kueadv8a\" target=\"_blank\">https://wandb.ai/prettycold/sweeps-densenet121/runs/kueadv8a</a><br/>\n",
              "                "
            ],
            "text/plain": [
              "<IPython.core.display.HTML object>"
            ]
          },
          "metadata": {
            "tags": []
          }
        },
        {
          "output_type": "stream",
          "text": [
            "\u001b[34m\u001b[1mwandb\u001b[0m: Agent Starting Run: ieiikz0h with config:\n",
            "\u001b[34m\u001b[1mwandb\u001b[0m: \tbatch_size: 42\n",
            "\u001b[34m\u001b[1mwandb\u001b[0m: \tclasses: 5\n",
            "\u001b[34m\u001b[1mwandb\u001b[0m: \tdropout: 0.4\n",
            "\u001b[34m\u001b[1mwandb\u001b[0m: \tfc_layer_size: 256\n",
            "\u001b[34m\u001b[1mwandb\u001b[0m: \tlearning_rate: 0.0004037282149854742\n",
            "\u001b[34m\u001b[1mwandb\u001b[0m: \tnum_epochs: 5\n",
            "\u001b[34m\u001b[1mwandb\u001b[0m: \toptimizer: sgd\n",
            "\u001b[34m\u001b[1mwandb\u001b[0m: \u001b[33mWARNING\u001b[0m Ignored wandb.init() arg project when running a sweep\n"
          ],
          "name": "stderr"
        },
        {
          "output_type": "display_data",
          "data": {
            "text/html": [
              "\n",
              "                Tracking run with wandb version 0.10.30<br/>\n",
              "                Syncing run <strong style=\"color:#cdcd00\">sweet-sweep-3</strong> to <a href=\"https://wandb.ai\" target=\"_blank\">Weights & Biases</a> <a href=\"https://docs.wandb.com/integrations/jupyter.html\" target=\"_blank\">(Documentation)</a>.<br/>\n",
              "                Project page: <a href=\"https://wandb.ai/prettycold/sweeps-densenet121\" target=\"_blank\">https://wandb.ai/prettycold/sweeps-densenet121</a><br/>\n",
              "                Sweep page: <a href=\"https://wandb.ai/prettycold/sweeps-densenet121/sweeps/w06m6wsq\" target=\"_blank\">https://wandb.ai/prettycold/sweeps-densenet121/sweeps/w06m6wsq</a><br/>\n",
              "Run page: <a href=\"https://wandb.ai/prettycold/sweeps-densenet121/runs/ieiikz0h\" target=\"_blank\">https://wandb.ai/prettycold/sweeps-densenet121/runs/ieiikz0h</a><br/>\n",
              "                Run data is saved locally in <code>/content/droughtwatch/wandb/run-20210511_062807-ieiikz0h</code><br/><br/>\n",
              "            "
            ],
            "text/plain": [
              "<IPython.core.display.HTML object>"
            ]
          },
          "metadata": {
            "tags": []
          }
        },
        {
          "output_type": "stream",
          "text": [
            "num_ftrs:  1024\n",
            "Initializing Datasets and DataLoaders...\n",
            "{'train': <torch.utils.data.dataloader.DataLoader object at 0x7f1682f57450>, 'val': <torch.utils.data.dataloader.DataLoader object at 0x7f1682f57510>}\n",
            "<class 'dict'>\n",
            "Params to learn\n",
            "Epoch - 0 / 4\n",
            "----------\n",
            "phase: train, device: cuda:0\n",
            "train Loss: 0.9800 Acc: 0.6165\n",
            "\n",
            "phase: val, device: cuda:0\n",
            "val Loss: 0.9088 Acc: 0.6454\n",
            "\n",
            "Epoch - 1 / 4\n",
            "----------\n",
            "phase: train, device: cuda:0\n",
            "train Loss: 0.9038 Acc: 0.6483\n",
            "\n",
            "phase: val, device: cuda:0\n",
            "val Loss: 0.8342 Acc: 0.6808\n",
            "\n",
            "Epoch - 2 / 4\n",
            "----------\n",
            "phase: train, device: cuda:0\n",
            "train Loss: 0.8613 Acc: 0.6680\n",
            "\n",
            "phase: val, device: cuda:0\n",
            "val Loss: 0.7891 Acc: 0.7017\n",
            "\n",
            "Epoch - 3 / 4\n",
            "----------\n",
            "phase: train, device: cuda:0\n",
            "train Loss: 0.8275 Acc: 0.6822\n",
            "\n",
            "phase: val, device: cuda:0\n",
            "val Loss: 0.7653 Acc: 0.7062\n",
            "\n",
            "Epoch - 4 / 4\n",
            "----------\n",
            "phase: train, device: cuda:0\n",
            "train Loss: 0.8035 Acc: 0.6928\n",
            "\n",
            "phase: val, device: cuda:0\n",
            "val Loss: 0.7400 Acc: 0.7131\n",
            "\n",
            "Best Val Accuracy: 0.7131\n"
          ],
          "name": "stdout"
        },
        {
          "output_type": "display_data",
          "data": {
            "text/html": [
              "<br/>Waiting for W&B process to finish, PID 849<br/>Program ended successfully."
            ],
            "text/plain": [
              "<IPython.core.display.HTML object>"
            ]
          },
          "metadata": {
            "tags": []
          }
        },
        {
          "output_type": "display_data",
          "data": {
            "application/vnd.jupyter.widget-view+json": {
              "model_id": "3e4c8f0ec4104bfd95b5c26907f15d52",
              "version_minor": 0,
              "version_major": 2
            },
            "text/plain": [
              "VBox(children=(Label(value=' 0.00MB of 0.00MB uploaded (0.00MB deduped)\\r'), FloatProgress(value=1.0, max=1.0)…"
            ]
          },
          "metadata": {
            "tags": []
          }
        },
        {
          "output_type": "display_data",
          "data": {
            "text/html": [
              "Find user logs for this run at: <code>/content/droughtwatch/wandb/run-20210511_062807-ieiikz0h/logs/debug.log</code>"
            ],
            "text/plain": [
              "<IPython.core.display.HTML object>"
            ]
          },
          "metadata": {
            "tags": []
          }
        },
        {
          "output_type": "display_data",
          "data": {
            "text/html": [
              "Find internal logs for this run at: <code>/content/droughtwatch/wandb/run-20210511_062807-ieiikz0h/logs/debug-internal.log</code>"
            ],
            "text/plain": [
              "<IPython.core.display.HTML object>"
            ]
          },
          "metadata": {
            "tags": []
          }
        },
        {
          "output_type": "display_data",
          "data": {
            "text/html": [
              "<h3>Run summary:</h3><br/><style>\n",
              "    table.wandb td:nth-child(1) { padding: 0 10px; text-align: right }\n",
              "    </style><table class=\"wandb\">\n",
              "<tr><td>epoch</td><td>4</td></tr><tr><td>train_loss</td><td>0.80354</td></tr><tr><td>train_acc</td><td>0.69283</td></tr><tr><td>_runtime</td><td>3789</td></tr><tr><td>_timestamp</td><td>1620718276</td></tr><tr><td>_step</td><td>9</td></tr><tr><td>val_loss</td><td>0.74003</td></tr><tr><td>val_acc</td><td>0.71312</td></tr></table>"
            ],
            "text/plain": [
              "<IPython.core.display.HTML object>"
            ]
          },
          "metadata": {
            "tags": []
          }
        },
        {
          "output_type": "display_data",
          "data": {
            "text/html": [
              "<h3>Run history:</h3><br/><style>\n",
              "    table.wandb td:nth-child(1) { padding: 0 10px; text-align: right }\n",
              "    </style><table class=\"wandb\">\n",
              "<tr><td>epoch</td><td>▁▁▃▃▅▅▆▆██</td></tr><tr><td>train_loss</td><td>█▅▃▂▁</td></tr><tr><td>train_acc</td><td>▁▄▆▇█</td></tr><tr><td>_runtime</td><td>▁▁▃▃▄▅▆▆██</td></tr><tr><td>_timestamp</td><td>▁▁▃▃▄▅▆▆██</td></tr><tr><td>_step</td><td>▁▂▃▃▄▅▆▆▇█</td></tr><tr><td>val_loss</td><td>█▅▃▂▁</td></tr><tr><td>val_acc</td><td>▁▅▇▇█</td></tr></table><br/>"
            ],
            "text/plain": [
              "<IPython.core.display.HTML object>"
            ]
          },
          "metadata": {
            "tags": []
          }
        },
        {
          "output_type": "display_data",
          "data": {
            "text/html": [
              "Synced 5 W&B file(s), 0 media file(s), 0 artifact file(s) and 0 other file(s)"
            ],
            "text/plain": [
              "<IPython.core.display.HTML object>"
            ]
          },
          "metadata": {
            "tags": []
          }
        },
        {
          "output_type": "display_data",
          "data": {
            "text/html": [
              "\n",
              "                    <br/>Synced <strong style=\"color:#cdcd00\">sweet-sweep-3</strong>: <a href=\"https://wandb.ai/prettycold/sweeps-densenet121/runs/ieiikz0h\" target=\"_blank\">https://wandb.ai/prettycold/sweeps-densenet121/runs/ieiikz0h</a><br/>\n",
              "                "
            ],
            "text/plain": [
              "<IPython.core.display.HTML object>"
            ]
          },
          "metadata": {
            "tags": []
          }
        },
        {
          "output_type": "stream",
          "text": [
            "\u001b[34m\u001b[1mwandb\u001b[0m: Agent Starting Run: zrqn7pll with config:\n",
            "\u001b[34m\u001b[1mwandb\u001b[0m: \tbatch_size: 40\n",
            "\u001b[34m\u001b[1mwandb\u001b[0m: \tclasses: 5\n",
            "\u001b[34m\u001b[1mwandb\u001b[0m: \tdropout: 0.5\n",
            "\u001b[34m\u001b[1mwandb\u001b[0m: \tfc_layer_size: 512\n",
            "\u001b[34m\u001b[1mwandb\u001b[0m: \tlearning_rate: 0.00048196654728074623\n",
            "\u001b[34m\u001b[1mwandb\u001b[0m: \tnum_epochs: 5\n",
            "\u001b[34m\u001b[1mwandb\u001b[0m: \toptimizer: adam\n",
            "\u001b[34m\u001b[1mwandb\u001b[0m: \u001b[33mWARNING\u001b[0m Ignored wandb.init() arg project when running a sweep\n"
          ],
          "name": "stderr"
        },
        {
          "output_type": "display_data",
          "data": {
            "text/html": [
              "\n",
              "                Tracking run with wandb version 0.10.30<br/>\n",
              "                Syncing run <strong style=\"color:#cdcd00\">dazzling-sweep-4</strong> to <a href=\"https://wandb.ai\" target=\"_blank\">Weights & Biases</a> <a href=\"https://docs.wandb.com/integrations/jupyter.html\" target=\"_blank\">(Documentation)</a>.<br/>\n",
              "                Project page: <a href=\"https://wandb.ai/prettycold/sweeps-densenet121\" target=\"_blank\">https://wandb.ai/prettycold/sweeps-densenet121</a><br/>\n",
              "                Sweep page: <a href=\"https://wandb.ai/prettycold/sweeps-densenet121/sweeps/w06m6wsq\" target=\"_blank\">https://wandb.ai/prettycold/sweeps-densenet121/sweeps/w06m6wsq</a><br/>\n",
              "Run page: <a href=\"https://wandb.ai/prettycold/sweeps-densenet121/runs/zrqn7pll\" target=\"_blank\">https://wandb.ai/prettycold/sweeps-densenet121/runs/zrqn7pll</a><br/>\n",
              "                Run data is saved locally in <code>/content/droughtwatch/wandb/run-20210511_073122-zrqn7pll</code><br/><br/>\n",
              "            "
            ],
            "text/plain": [
              "<IPython.core.display.HTML object>"
            ]
          },
          "metadata": {
            "tags": []
          }
        },
        {
          "output_type": "stream",
          "text": [
            "num_ftrs:  1024\n",
            "Initializing Datasets and DataLoaders...\n",
            "{'train': <torch.utils.data.dataloader.DataLoader object at 0x7f1682f57450>, 'val': <torch.utils.data.dataloader.DataLoader object at 0x7f1681297190>}\n",
            "<class 'dict'>\n",
            "Params to learn\n",
            "Epoch - 0 / 4\n",
            "----------\n",
            "phase: train, device: cuda:0\n",
            "train Loss: 0.9960 Acc: 0.6121\n",
            "\n",
            "phase: val, device: cuda:0\n",
            "val Loss: 1.0459 Acc: 0.6252\n",
            "\n",
            "Epoch - 1 / 4\n",
            "----------\n",
            "phase: train, device: cuda:0\n",
            "train Loss: 0.9445 Acc: 0.6298\n",
            "\n",
            "phase: val, device: cuda:0\n",
            "val Loss: 0.9530 Acc: 0.6315\n",
            "\n",
            "Epoch - 2 / 4\n",
            "----------\n",
            "phase: train, device: cuda:0\n",
            "train Loss: 0.9106 Acc: 0.6441\n",
            "\n",
            "phase: val, device: cuda:0\n",
            "val Loss: 0.8592 Acc: 0.6681\n",
            "\n",
            "Epoch - 3 / 4\n",
            "----------\n",
            "phase: train, device: cuda:0\n",
            "train Loss: 0.8791 Acc: 0.6588\n",
            "\n",
            "phase: val, device: cuda:0\n",
            "val Loss: 0.8207 Acc: 0.6857\n",
            "\n",
            "Epoch - 4 / 4\n",
            "----------\n",
            "phase: train, device: cuda:0\n",
            "train Loss: 0.8524 Acc: 0.6708\n",
            "\n",
            "phase: val, device: cuda:0\n",
            "val Loss: 0.8044 Acc: 0.6829\n",
            "\n",
            "Best Val Accuracy: 0.6857\n"
          ],
          "name": "stdout"
        },
        {
          "output_type": "display_data",
          "data": {
            "text/html": [
              "<br/>Waiting for W&B process to finish, PID 896<br/>Program ended successfully."
            ],
            "text/plain": [
              "<IPython.core.display.HTML object>"
            ]
          },
          "metadata": {
            "tags": []
          }
        },
        {
          "output_type": "display_data",
          "data": {
            "application/vnd.jupyter.widget-view+json": {
              "model_id": "5d28f85a9d1e4c71be54b74dded38277",
              "version_minor": 0,
              "version_major": 2
            },
            "text/plain": [
              "VBox(children=(Label(value=' 0.00MB of 0.00MB uploaded (0.00MB deduped)\\r'), FloatProgress(value=1.0, max=1.0)…"
            ]
          },
          "metadata": {
            "tags": []
          }
        },
        {
          "output_type": "display_data",
          "data": {
            "text/html": [
              "Find user logs for this run at: <code>/content/droughtwatch/wandb/run-20210511_073122-zrqn7pll/logs/debug.log</code>"
            ],
            "text/plain": [
              "<IPython.core.display.HTML object>"
            ]
          },
          "metadata": {
            "tags": []
          }
        },
        {
          "output_type": "display_data",
          "data": {
            "text/html": [
              "Find internal logs for this run at: <code>/content/droughtwatch/wandb/run-20210511_073122-zrqn7pll/logs/debug-internal.log</code>"
            ],
            "text/plain": [
              "<IPython.core.display.HTML object>"
            ]
          },
          "metadata": {
            "tags": []
          }
        },
        {
          "output_type": "display_data",
          "data": {
            "text/html": [
              "<h3>Run summary:</h3><br/><style>\n",
              "    table.wandb td:nth-child(1) { padding: 0 10px; text-align: right }\n",
              "    </style><table class=\"wandb\">\n",
              "<tr><td>epoch</td><td>4</td></tr><tr><td>train_loss</td><td>0.85239</td></tr><tr><td>train_acc</td><td>0.67084</td></tr><tr><td>_runtime</td><td>4059</td></tr><tr><td>_timestamp</td><td>1620722341</td></tr><tr><td>_step</td><td>9</td></tr><tr><td>val_loss</td><td>0.80436</td></tr><tr><td>val_acc</td><td>0.68287</td></tr></table>"
            ],
            "text/plain": [
              "<IPython.core.display.HTML object>"
            ]
          },
          "metadata": {
            "tags": []
          }
        },
        {
          "output_type": "display_data",
          "data": {
            "text/html": [
              "<h3>Run history:</h3><br/><style>\n",
              "    table.wandb td:nth-child(1) { padding: 0 10px; text-align: right }\n",
              "    </style><table class=\"wandb\">\n",
              "<tr><td>epoch</td><td>▁▁▃▃▅▅▆▆██</td></tr><tr><td>train_loss</td><td>█▅▄▂▁</td></tr><tr><td>train_acc</td><td>▁▃▅▇█</td></tr><tr><td>_runtime</td><td>▁▁▃▃▄▅▆▆██</td></tr><tr><td>_timestamp</td><td>▁▁▃▃▄▅▆▆██</td></tr><tr><td>_step</td><td>▁▂▃▃▄▅▆▆▇█</td></tr><tr><td>val_loss</td><td>█▅▃▁▁</td></tr><tr><td>val_acc</td><td>▁▂▆██</td></tr></table><br/>"
            ],
            "text/plain": [
              "<IPython.core.display.HTML object>"
            ]
          },
          "metadata": {
            "tags": []
          }
        },
        {
          "output_type": "display_data",
          "data": {
            "text/html": [
              "Synced 5 W&B file(s), 0 media file(s), 0 artifact file(s) and 0 other file(s)"
            ],
            "text/plain": [
              "<IPython.core.display.HTML object>"
            ]
          },
          "metadata": {
            "tags": []
          }
        },
        {
          "output_type": "display_data",
          "data": {
            "text/html": [
              "\n",
              "                    <br/>Synced <strong style=\"color:#cdcd00\">dazzling-sweep-4</strong>: <a href=\"https://wandb.ai/prettycold/sweeps-densenet121/runs/zrqn7pll\" target=\"_blank\">https://wandb.ai/prettycold/sweeps-densenet121/runs/zrqn7pll</a><br/>\n",
              "                "
            ],
            "text/plain": [
              "<IPython.core.display.HTML object>"
            ]
          },
          "metadata": {
            "tags": []
          }
        },
        {
          "output_type": "stream",
          "text": [
            "\u001b[34m\u001b[1mwandb\u001b[0m: Agent Starting Run: o6731tde with config:\n",
            "\u001b[34m\u001b[1mwandb\u001b[0m: \tbatch_size: 67\n",
            "\u001b[34m\u001b[1mwandb\u001b[0m: \tclasses: 5\n",
            "\u001b[34m\u001b[1mwandb\u001b[0m: \tdropout: 0.4\n",
            "\u001b[34m\u001b[1mwandb\u001b[0m: \tfc_layer_size: 128\n",
            "\u001b[34m\u001b[1mwandb\u001b[0m: \tlearning_rate: 0.0004216626288121789\n",
            "\u001b[34m\u001b[1mwandb\u001b[0m: \tnum_epochs: 5\n",
            "\u001b[34m\u001b[1mwandb\u001b[0m: \toptimizer: sgd\n",
            "\u001b[34m\u001b[1mwandb\u001b[0m: \u001b[33mWARNING\u001b[0m Ignored wandb.init() arg project when running a sweep\n"
          ],
          "name": "stderr"
        },
        {
          "output_type": "display_data",
          "data": {
            "text/html": [
              "\n",
              "                Tracking run with wandb version 0.10.30<br/>\n",
              "                Syncing run <strong style=\"color:#cdcd00\">lyric-sweep-5</strong> to <a href=\"https://wandb.ai\" target=\"_blank\">Weights & Biases</a> <a href=\"https://docs.wandb.com/integrations/jupyter.html\" target=\"_blank\">(Documentation)</a>.<br/>\n",
              "                Project page: <a href=\"https://wandb.ai/prettycold/sweeps-densenet121\" target=\"_blank\">https://wandb.ai/prettycold/sweeps-densenet121</a><br/>\n",
              "                Sweep page: <a href=\"https://wandb.ai/prettycold/sweeps-densenet121/sweeps/w06m6wsq\" target=\"_blank\">https://wandb.ai/prettycold/sweeps-densenet121/sweeps/w06m6wsq</a><br/>\n",
              "Run page: <a href=\"https://wandb.ai/prettycold/sweeps-densenet121/runs/o6731tde\" target=\"_blank\">https://wandb.ai/prettycold/sweeps-densenet121/runs/o6731tde</a><br/>\n",
              "                Run data is saved locally in <code>/content/droughtwatch/wandb/run-20210511_083907-o6731tde</code><br/><br/>\n",
              "            "
            ],
            "text/plain": [
              "<IPython.core.display.HTML object>"
            ]
          },
          "metadata": {
            "tags": []
          }
        },
        {
          "output_type": "stream",
          "text": [
            "num_ftrs:  1024\n",
            "Initializing Datasets and DataLoaders...\n",
            "{'train': <torch.utils.data.dataloader.DataLoader object at 0x7f178e40b050>, 'val': <torch.utils.data.dataloader.DataLoader object at 0x7f1681f97090>}\n",
            "<class 'dict'>\n",
            "Params to learn\n",
            "Epoch - 0 / 4\n",
            "----------\n",
            "phase: train, device: cuda:0\n",
            "train Loss: 0.9902 Acc: 0.6144\n",
            "\n",
            "phase: val, device: cuda:0\n",
            "val Loss: 0.9295 Acc: 0.6308\n",
            "\n",
            "Epoch - 1 / 4\n",
            "----------\n",
            "phase: train, device: cuda:0\n",
            "train Loss: 0.9201 Acc: 0.6403\n",
            "\n",
            "phase: val, device: cuda:0\n",
            "val Loss: 0.8694 Acc: 0.6587\n",
            "\n",
            "Epoch - 2 / 4\n",
            "----------\n",
            "phase: train, device: cuda:0\n",
            "train Loss: 0.8769 Acc: 0.6614\n",
            "\n",
            "phase: val, device: cuda:0\n",
            "val Loss: 0.8193 Acc: 0.6813\n",
            "\n",
            "Epoch - 3 / 4\n",
            "----------\n",
            "phase: train, device: cuda:0\n",
            "train Loss: 0.8437 Acc: 0.6745\n",
            "\n",
            "phase: val, device: cuda:0\n",
            "val Loss: 0.7836 Acc: 0.6999\n",
            "\n",
            "Epoch - 4 / 4\n",
            "----------\n",
            "phase: train, device: cuda:0\n",
            "train Loss: 0.8175 Acc: 0.6875\n",
            "\n",
            "phase: val, device: cuda:0\n",
            "val Loss: 0.7621 Acc: 0.7078\n",
            "\n",
            "Best Val Accuracy: 0.7078\n"
          ],
          "name": "stdout"
        },
        {
          "output_type": "display_data",
          "data": {
            "text/html": [
              "<br/>Waiting for W&B process to finish, PID 953<br/>Program ended successfully."
            ],
            "text/plain": [
              "<IPython.core.display.HTML object>"
            ]
          },
          "metadata": {
            "tags": []
          }
        },
        {
          "output_type": "display_data",
          "data": {
            "application/vnd.jupyter.widget-view+json": {
              "model_id": "4ea1249790914eaca25025f7f456bd0c",
              "version_minor": 0,
              "version_major": 2
            },
            "text/plain": [
              "VBox(children=(Label(value=' 0.00MB of 0.00MB uploaded (0.00MB deduped)\\r'), FloatProgress(value=1.0, max=1.0)…"
            ]
          },
          "metadata": {
            "tags": []
          }
        },
        {
          "output_type": "display_data",
          "data": {
            "text/html": [
              "Find user logs for this run at: <code>/content/droughtwatch/wandb/run-20210511_083907-o6731tde/logs/debug.log</code>"
            ],
            "text/plain": [
              "<IPython.core.display.HTML object>"
            ]
          },
          "metadata": {
            "tags": []
          }
        },
        {
          "output_type": "display_data",
          "data": {
            "text/html": [
              "Find internal logs for this run at: <code>/content/droughtwatch/wandb/run-20210511_083907-o6731tde/logs/debug-internal.log</code>"
            ],
            "text/plain": [
              "<IPython.core.display.HTML object>"
            ]
          },
          "metadata": {
            "tags": []
          }
        },
        {
          "output_type": "display_data",
          "data": {
            "text/html": [
              "<h3>Run summary:</h3><br/><style>\n",
              "    table.wandb td:nth-child(1) { padding: 0 10px; text-align: right }\n",
              "    </style><table class=\"wandb\">\n",
              "<tr><td>epoch</td><td>4</td></tr><tr><td>train_loss</td><td>0.81755</td></tr><tr><td>train_acc</td><td>0.68747</td></tr><tr><td>_runtime</td><td>3629</td></tr><tr><td>_timestamp</td><td>1620725976</td></tr><tr><td>_step</td><td>9</td></tr><tr><td>val_loss</td><td>0.76209</td></tr><tr><td>val_acc</td><td>0.70783</td></tr></table>"
            ],
            "text/plain": [
              "<IPython.core.display.HTML object>"
            ]
          },
          "metadata": {
            "tags": []
          }
        },
        {
          "output_type": "display_data",
          "data": {
            "text/html": [
              "<h3>Run history:</h3><br/><style>\n",
              "    table.wandb td:nth-child(1) { padding: 0 10px; text-align: right }\n",
              "    </style><table class=\"wandb\">\n",
              "<tr><td>epoch</td><td>▁▁▃▃▅▅▆▆██</td></tr><tr><td>train_loss</td><td>█▅▃▂▁</td></tr><tr><td>train_acc</td><td>▁▃▆▇█</td></tr><tr><td>_runtime</td><td>▁▁▃▃▄▅▆▆██</td></tr><tr><td>_timestamp</td><td>▁▁▃▃▄▅▆▆██</td></tr><tr><td>_step</td><td>▁▂▃▃▄▅▆▆▇█</td></tr><tr><td>val_loss</td><td>█▅▃▂▁</td></tr><tr><td>val_acc</td><td>▁▄▆▇█</td></tr></table><br/>"
            ],
            "text/plain": [
              "<IPython.core.display.HTML object>"
            ]
          },
          "metadata": {
            "tags": []
          }
        },
        {
          "output_type": "display_data",
          "data": {
            "text/html": [
              "Synced 5 W&B file(s), 0 media file(s), 0 artifact file(s) and 0 other file(s)"
            ],
            "text/plain": [
              "<IPython.core.display.HTML object>"
            ]
          },
          "metadata": {
            "tags": []
          }
        },
        {
          "output_type": "display_data",
          "data": {
            "text/html": [
              "\n",
              "                    <br/>Synced <strong style=\"color:#cdcd00\">lyric-sweep-5</strong>: <a href=\"https://wandb.ai/prettycold/sweeps-densenet121/runs/o6731tde\" target=\"_blank\">https://wandb.ai/prettycold/sweeps-densenet121/runs/o6731tde</a><br/>\n",
              "                "
            ],
            "text/plain": [
              "<IPython.core.display.HTML object>"
            ]
          },
          "metadata": {
            "tags": []
          }
        },
        {
          "output_type": "stream",
          "text": [
            "\u001b[34m\u001b[1mwandb\u001b[0m: Agent Starting Run: c7jc6gt4 with config:\n",
            "\u001b[34m\u001b[1mwandb\u001b[0m: \tbatch_size: 65\n",
            "\u001b[34m\u001b[1mwandb\u001b[0m: \tclasses: 5\n",
            "\u001b[34m\u001b[1mwandb\u001b[0m: \tdropout: 0.4\n",
            "\u001b[34m\u001b[1mwandb\u001b[0m: \tfc_layer_size: 256\n",
            "\u001b[34m\u001b[1mwandb\u001b[0m: \tlearning_rate: 0.00030761691157265143\n",
            "\u001b[34m\u001b[1mwandb\u001b[0m: \tnum_epochs: 5\n",
            "\u001b[34m\u001b[1mwandb\u001b[0m: \toptimizer: sgd\n",
            "\u001b[34m\u001b[1mwandb\u001b[0m: \u001b[33mWARNING\u001b[0m Ignored wandb.init() arg project when running a sweep\n"
          ],
          "name": "stderr"
        },
        {
          "output_type": "display_data",
          "data": {
            "text/html": [
              "\n",
              "                Tracking run with wandb version 0.10.30<br/>\n",
              "                Syncing run <strong style=\"color:#cdcd00\">celestial-sweep-6</strong> to <a href=\"https://wandb.ai\" target=\"_blank\">Weights & Biases</a> <a href=\"https://docs.wandb.com/integrations/jupyter.html\" target=\"_blank\">(Documentation)</a>.<br/>\n",
              "                Project page: <a href=\"https://wandb.ai/prettycold/sweeps-densenet121\" target=\"_blank\">https://wandb.ai/prettycold/sweeps-densenet121</a><br/>\n",
              "                Sweep page: <a href=\"https://wandb.ai/prettycold/sweeps-densenet121/sweeps/w06m6wsq\" target=\"_blank\">https://wandb.ai/prettycold/sweeps-densenet121/sweeps/w06m6wsq</a><br/>\n",
              "Run page: <a href=\"https://wandb.ai/prettycold/sweeps-densenet121/runs/c7jc6gt4\" target=\"_blank\">https://wandb.ai/prettycold/sweeps-densenet121/runs/c7jc6gt4</a><br/>\n",
              "                Run data is saved locally in <code>/content/droughtwatch/wandb/run-20210511_093943-c7jc6gt4</code><br/><br/>\n",
              "            "
            ],
            "text/plain": [
              "<IPython.core.display.HTML object>"
            ]
          },
          "metadata": {
            "tags": []
          }
        },
        {
          "output_type": "stream",
          "text": [
            "num_ftrs:  1024\n",
            "Initializing Datasets and DataLoaders...\n",
            "{'train': <torch.utils.data.dataloader.DataLoader object at 0x7f168211d8d0>, 'val': <torch.utils.data.dataloader.DataLoader object at 0x7f1681df6d50>}\n",
            "<class 'dict'>\n",
            "Params to learn\n",
            "Epoch - 0 / 4\n",
            "----------\n",
            "phase: train, device: cuda:0\n",
            "train Loss: 0.9961 Acc: 0.6139\n",
            "\n",
            "phase: val, device: cuda:0\n",
            "val Loss: 0.9379 Acc: 0.6268\n",
            "\n",
            "Epoch - 1 / 4\n",
            "----------\n",
            "phase: train, device: cuda:0\n",
            "train Loss: 0.9349 Acc: 0.6337\n",
            "\n",
            "phase: val, device: cuda:0\n",
            "val Loss: 0.8871 Acc: 0.6497\n",
            "\n",
            "Epoch - 2 / 4\n",
            "----------\n",
            "phase: train, device: cuda:0\n",
            "train Loss: 0.8947 Acc: 0.6534\n",
            "\n",
            "phase: val, device: cuda:0\n",
            "val Loss: 0.8406 Acc: 0.6793\n",
            "\n",
            "Epoch - 3 / 4\n",
            "----------\n",
            "phase: train, device: cuda:0\n",
            "train Loss: 0.8656 Acc: 0.6667\n",
            "\n",
            "phase: val, device: cuda:0\n",
            "val Loss: 0.8079 Acc: 0.6898\n",
            "\n",
            "Epoch - 4 / 4\n",
            "----------\n",
            "phase: train, device: cuda:0\n",
            "train Loss: 0.8403 Acc: 0.6776\n",
            "\n",
            "phase: val, device: cuda:0\n",
            "val Loss: 0.7867 Acc: 0.7011\n",
            "\n",
            "Best Val Accuracy: 0.7011\n"
          ],
          "name": "stdout"
        },
        {
          "output_type": "display_data",
          "data": {
            "text/html": [
              "<br/>Waiting for W&B process to finish, PID 998<br/>Program ended successfully."
            ],
            "text/plain": [
              "<IPython.core.display.HTML object>"
            ]
          },
          "metadata": {
            "tags": []
          }
        },
        {
          "output_type": "display_data",
          "data": {
            "application/vnd.jupyter.widget-view+json": {
              "model_id": "820e70ebc58748dcbfb7147ed1a20ddf",
              "version_minor": 0,
              "version_major": 2
            },
            "text/plain": [
              "VBox(children=(Label(value=' 0.00MB of 0.00MB uploaded (0.00MB deduped)\\r'), FloatProgress(value=1.0, max=1.0)…"
            ]
          },
          "metadata": {
            "tags": []
          }
        },
        {
          "output_type": "display_data",
          "data": {
            "text/html": [
              "Find user logs for this run at: <code>/content/droughtwatch/wandb/run-20210511_093943-c7jc6gt4/logs/debug.log</code>"
            ],
            "text/plain": [
              "<IPython.core.display.HTML object>"
            ]
          },
          "metadata": {
            "tags": []
          }
        },
        {
          "output_type": "display_data",
          "data": {
            "text/html": [
              "Find internal logs for this run at: <code>/content/droughtwatch/wandb/run-20210511_093943-c7jc6gt4/logs/debug-internal.log</code>"
            ],
            "text/plain": [
              "<IPython.core.display.HTML object>"
            ]
          },
          "metadata": {
            "tags": []
          }
        },
        {
          "output_type": "display_data",
          "data": {
            "text/html": [
              "<h3>Run summary:</h3><br/><style>\n",
              "    table.wandb td:nth-child(1) { padding: 0 10px; text-align: right }\n",
              "    </style><table class=\"wandb\">\n",
              "<tr><td>epoch</td><td>4</td></tr><tr><td>train_loss</td><td>0.84028</td></tr><tr><td>train_acc</td><td>0.67758</td></tr><tr><td>_runtime</td><td>3630</td></tr><tr><td>_timestamp</td><td>1620729613</td></tr><tr><td>_step</td><td>9</td></tr><tr><td>val_loss</td><td>0.78668</td></tr><tr><td>val_acc</td><td>0.70106</td></tr></table>"
            ],
            "text/plain": [
              "<IPython.core.display.HTML object>"
            ]
          },
          "metadata": {
            "tags": []
          }
        },
        {
          "output_type": "display_data",
          "data": {
            "text/html": [
              "<h3>Run history:</h3><br/><style>\n",
              "    table.wandb td:nth-child(1) { padding: 0 10px; text-align: right }\n",
              "    </style><table class=\"wandb\">\n",
              "<tr><td>epoch</td><td>▁▁▃▃▅▅▆▆██</td></tr><tr><td>train_loss</td><td>█▅▃▂▁</td></tr><tr><td>train_acc</td><td>▁▃▅▇█</td></tr><tr><td>_runtime</td><td>▁▁▃▃▄▅▆▆██</td></tr><tr><td>_timestamp</td><td>▁▁▃▃▄▅▆▆██</td></tr><tr><td>_step</td><td>▁▂▃▃▄▅▆▆▇█</td></tr><tr><td>val_loss</td><td>█▆▃▂▁</td></tr><tr><td>val_acc</td><td>▁▃▆▇█</td></tr></table><br/>"
            ],
            "text/plain": [
              "<IPython.core.display.HTML object>"
            ]
          },
          "metadata": {
            "tags": []
          }
        },
        {
          "output_type": "display_data",
          "data": {
            "text/html": [
              "Synced 5 W&B file(s), 0 media file(s), 0 artifact file(s) and 0 other file(s)"
            ],
            "text/plain": [
              "<IPython.core.display.HTML object>"
            ]
          },
          "metadata": {
            "tags": []
          }
        },
        {
          "output_type": "display_data",
          "data": {
            "text/html": [
              "\n",
              "                    <br/>Synced <strong style=\"color:#cdcd00\">celestial-sweep-6</strong>: <a href=\"https://wandb.ai/prettycold/sweeps-densenet121/runs/c7jc6gt4\" target=\"_blank\">https://wandb.ai/prettycold/sweeps-densenet121/runs/c7jc6gt4</a><br/>\n",
              "                "
            ],
            "text/plain": [
              "<IPython.core.display.HTML object>"
            ]
          },
          "metadata": {
            "tags": []
          }
        },
        {
          "output_type": "stream",
          "text": [
            "\u001b[34m\u001b[1mwandb\u001b[0m: Agent Starting Run: j5c3roka with config:\n",
            "\u001b[34m\u001b[1mwandb\u001b[0m: \tbatch_size: 71\n",
            "\u001b[34m\u001b[1mwandb\u001b[0m: \tclasses: 5\n",
            "\u001b[34m\u001b[1mwandb\u001b[0m: \tdropout: 0.4\n",
            "\u001b[34m\u001b[1mwandb\u001b[0m: \tfc_layer_size: 256\n",
            "\u001b[34m\u001b[1mwandb\u001b[0m: \tlearning_rate: 0.0004350698577064618\n",
            "\u001b[34m\u001b[1mwandb\u001b[0m: \tnum_epochs: 5\n",
            "\u001b[34m\u001b[1mwandb\u001b[0m: \toptimizer: sgd\n",
            "\u001b[34m\u001b[1mwandb\u001b[0m: \u001b[33mWARNING\u001b[0m Ignored wandb.init() arg project when running a sweep\n"
          ],
          "name": "stderr"
        },
        {
          "output_type": "display_data",
          "data": {
            "text/html": [
              "\n",
              "                Tracking run with wandb version 0.10.30<br/>\n",
              "                Syncing run <strong style=\"color:#cdcd00\">desert-sweep-7</strong> to <a href=\"https://wandb.ai\" target=\"_blank\">Weights & Biases</a> <a href=\"https://docs.wandb.com/integrations/jupyter.html\" target=\"_blank\">(Documentation)</a>.<br/>\n",
              "                Project page: <a href=\"https://wandb.ai/prettycold/sweeps-densenet121\" target=\"_blank\">https://wandb.ai/prettycold/sweeps-densenet121</a><br/>\n",
              "                Sweep page: <a href=\"https://wandb.ai/prettycold/sweeps-densenet121/sweeps/w06m6wsq\" target=\"_blank\">https://wandb.ai/prettycold/sweeps-densenet121/sweeps/w06m6wsq</a><br/>\n",
              "Run page: <a href=\"https://wandb.ai/prettycold/sweeps-densenet121/runs/j5c3roka\" target=\"_blank\">https://wandb.ai/prettycold/sweeps-densenet121/runs/j5c3roka</a><br/>\n",
              "                Run data is saved locally in <code>/content/droughtwatch/wandb/run-20210511_104019-j5c3roka</code><br/><br/>\n",
              "            "
            ],
            "text/plain": [
              "<IPython.core.display.HTML object>"
            ]
          },
          "metadata": {
            "tags": []
          }
        },
        {
          "output_type": "stream",
          "text": [
            "num_ftrs:  1024\n",
            "Initializing Datasets and DataLoaders...\n",
            "{'train': <torch.utils.data.dataloader.DataLoader object at 0x7f168132ad10>, 'val': <torch.utils.data.dataloader.DataLoader object at 0x7f168132ad90>}\n",
            "<class 'dict'>\n",
            "Params to learn\n",
            "Epoch - 0 / 4\n",
            "----------\n",
            "phase: train, device: cuda:0\n",
            "train Loss: 0.9899 Acc: 0.6140\n",
            "\n",
            "phase: val, device: cuda:0\n",
            "val Loss: 0.9443 Acc: 0.6235\n",
            "\n",
            "Epoch - 1 / 4\n",
            "----------\n",
            "phase: train, device: cuda:0\n",
            "train Loss: 0.9199 Acc: 0.6408\n",
            "\n",
            "phase: val, device: cuda:0\n",
            "val Loss: 0.8651 Acc: 0.6585\n",
            "\n",
            "Epoch - 2 / 4\n",
            "----------\n",
            "phase: train, device: cuda:0\n",
            "train Loss: 0.8789 Acc: 0.6587\n",
            "\n",
            "phase: val, device: cuda:0\n",
            "val Loss: 0.8176 Acc: 0.6852\n",
            "\n",
            "Epoch - 3 / 4\n",
            "----------\n",
            "phase: train, device: cuda:0\n",
            "train Loss: 0.8443 Acc: 0.6763\n",
            "\n",
            "phase: val, device: cuda:0\n",
            "val Loss: 0.7866 Acc: 0.6927\n",
            "\n",
            "Epoch - 4 / 4\n",
            "----------\n",
            "phase: train, device: cuda:0\n",
            "train Loss: 0.8181 Acc: 0.6850\n",
            "\n",
            "phase: val, device: cuda:0\n",
            "val Loss: 0.7592 Acc: 0.7098\n",
            "\n",
            "Best Val Accuracy: 0.7098\n"
          ],
          "name": "stdout"
        },
        {
          "output_type": "display_data",
          "data": {
            "text/html": [
              "<br/>Waiting for W&B process to finish, PID 1039<br/>Program ended successfully."
            ],
            "text/plain": [
              "<IPython.core.display.HTML object>"
            ]
          },
          "metadata": {
            "tags": []
          }
        },
        {
          "output_type": "display_data",
          "data": {
            "application/vnd.jupyter.widget-view+json": {
              "model_id": "e240f0c110814e799b3d1e79537ff89c",
              "version_minor": 0,
              "version_major": 2
            },
            "text/plain": [
              "VBox(children=(Label(value=' 0.00MB of 0.00MB uploaded (0.00MB deduped)\\r'), FloatProgress(value=1.0, max=1.0)…"
            ]
          },
          "metadata": {
            "tags": []
          }
        },
        {
          "output_type": "display_data",
          "data": {
            "text/html": [
              "Find user logs for this run at: <code>/content/droughtwatch/wandb/run-20210511_104019-j5c3roka/logs/debug.log</code>"
            ],
            "text/plain": [
              "<IPython.core.display.HTML object>"
            ]
          },
          "metadata": {
            "tags": []
          }
        },
        {
          "output_type": "display_data",
          "data": {
            "text/html": [
              "Find internal logs for this run at: <code>/content/droughtwatch/wandb/run-20210511_104019-j5c3roka/logs/debug-internal.log</code>"
            ],
            "text/plain": [
              "<IPython.core.display.HTML object>"
            ]
          },
          "metadata": {
            "tags": []
          }
        },
        {
          "output_type": "display_data",
          "data": {
            "text/html": [
              "<h3>Run summary:</h3><br/><style>\n",
              "    table.wandb td:nth-child(1) { padding: 0 10px; text-align: right }\n",
              "    </style><table class=\"wandb\">\n",
              "<tr><td>epoch</td><td>4</td></tr><tr><td>train_loss</td><td>0.81809</td></tr><tr><td>train_acc</td><td>0.685</td></tr><tr><td>_runtime</td><td>3606</td></tr><tr><td>_timestamp</td><td>1620733225</td></tr><tr><td>_step</td><td>9</td></tr><tr><td>val_loss</td><td>0.75922</td></tr><tr><td>val_acc</td><td>0.70978</td></tr></table>"
            ],
            "text/plain": [
              "<IPython.core.display.HTML object>"
            ]
          },
          "metadata": {
            "tags": []
          }
        },
        {
          "output_type": "display_data",
          "data": {
            "text/html": [
              "<h3>Run history:</h3><br/><style>\n",
              "    table.wandb td:nth-child(1) { padding: 0 10px; text-align: right }\n",
              "    </style><table class=\"wandb\">\n",
              "<tr><td>epoch</td><td>▁▁▃▃▅▅▆▆██</td></tr><tr><td>train_loss</td><td>█▅▃▂▁</td></tr><tr><td>train_acc</td><td>▁▄▅▇█</td></tr><tr><td>_runtime</td><td>▁▁▃▃▄▅▆▆██</td></tr><tr><td>_timestamp</td><td>▁▁▃▃▄▅▆▆██</td></tr><tr><td>_step</td><td>▁▂▃▃▄▅▆▆▇█</td></tr><tr><td>val_loss</td><td>█▅▃▂▁</td></tr><tr><td>val_acc</td><td>▁▄▆▇█</td></tr></table><br/>"
            ],
            "text/plain": [
              "<IPython.core.display.HTML object>"
            ]
          },
          "metadata": {
            "tags": []
          }
        },
        {
          "output_type": "display_data",
          "data": {
            "text/html": [
              "Synced 5 W&B file(s), 0 media file(s), 0 artifact file(s) and 0 other file(s)"
            ],
            "text/plain": [
              "<IPython.core.display.HTML object>"
            ]
          },
          "metadata": {
            "tags": []
          }
        },
        {
          "output_type": "display_data",
          "data": {
            "text/html": [
              "\n",
              "                    <br/>Synced <strong style=\"color:#cdcd00\">desert-sweep-7</strong>: <a href=\"https://wandb.ai/prettycold/sweeps-densenet121/runs/j5c3roka\" target=\"_blank\">https://wandb.ai/prettycold/sweeps-densenet121/runs/j5c3roka</a><br/>\n",
              "                "
            ],
            "text/plain": [
              "<IPython.core.display.HTML object>"
            ]
          },
          "metadata": {
            "tags": []
          }
        },
        {
          "output_type": "stream",
          "text": [
            "\u001b[34m\u001b[1mwandb\u001b[0m: Agent Starting Run: 9q4aa5ep with config:\n",
            "\u001b[34m\u001b[1mwandb\u001b[0m: \tbatch_size: 127\n",
            "\u001b[34m\u001b[1mwandb\u001b[0m: \tclasses: 5\n",
            "\u001b[34m\u001b[1mwandb\u001b[0m: \tdropout: 0.4\n",
            "\u001b[34m\u001b[1mwandb\u001b[0m: \tfc_layer_size: 128\n",
            "\u001b[34m\u001b[1mwandb\u001b[0m: \tlearning_rate: 0.0003794995356912628\n",
            "\u001b[34m\u001b[1mwandb\u001b[0m: \tnum_epochs: 5\n",
            "\u001b[34m\u001b[1mwandb\u001b[0m: \toptimizer: adam\n",
            "\u001b[34m\u001b[1mwandb\u001b[0m: \u001b[33mWARNING\u001b[0m Ignored wandb.init() arg project when running a sweep\n"
          ],
          "name": "stderr"
        },
        {
          "output_type": "display_data",
          "data": {
            "text/html": [
              "\n",
              "                Tracking run with wandb version 0.10.30<br/>\n",
              "                Syncing run <strong style=\"color:#cdcd00\">iconic-sweep-8</strong> to <a href=\"https://wandb.ai\" target=\"_blank\">Weights & Biases</a> <a href=\"https://docs.wandb.com/integrations/jupyter.html\" target=\"_blank\">(Documentation)</a>.<br/>\n",
              "                Project page: <a href=\"https://wandb.ai/prettycold/sweeps-densenet121\" target=\"_blank\">https://wandb.ai/prettycold/sweeps-densenet121</a><br/>\n",
              "                Sweep page: <a href=\"https://wandb.ai/prettycold/sweeps-densenet121/sweeps/w06m6wsq\" target=\"_blank\">https://wandb.ai/prettycold/sweeps-densenet121/sweeps/w06m6wsq</a><br/>\n",
              "Run page: <a href=\"https://wandb.ai/prettycold/sweeps-densenet121/runs/9q4aa5ep\" target=\"_blank\">https://wandb.ai/prettycold/sweeps-densenet121/runs/9q4aa5ep</a><br/>\n",
              "                Run data is saved locally in <code>/content/droughtwatch/wandb/run-20210511_114031-9q4aa5ep</code><br/><br/>\n",
              "            "
            ],
            "text/plain": [
              "<IPython.core.display.HTML object>"
            ]
          },
          "metadata": {
            "tags": []
          }
        },
        {
          "output_type": "stream",
          "text": [
            "num_ftrs:  1024\n",
            "Initializing Datasets and DataLoaders...\n",
            "{'train': <torch.utils.data.dataloader.DataLoader object at 0x7f178e40b890>, 'val': <torch.utils.data.dataloader.DataLoader object at 0x7f1682119e10>}\n",
            "<class 'dict'>\n",
            "Params to learn\n",
            "Epoch - 0 / 4\n",
            "----------\n",
            "phase: train, device: cuda:0\n"
          ],
          "name": "stdout"
        },
        {
          "output_type": "display_data",
          "data": {
            "text/html": [
              "<br/>Waiting for W&B process to finish, PID 1080<br/>Program failed with code 1.  Press ctrl-c to abort syncing."
            ],
            "text/plain": [
              "<IPython.core.display.HTML object>"
            ]
          },
          "metadata": {
            "tags": []
          }
        },
        {
          "output_type": "display_data",
          "data": {
            "application/vnd.jupyter.widget-view+json": {
              "model_id": "3e1f35aa0f964d28bf61c897526777cb",
              "version_minor": 0,
              "version_major": 2
            },
            "text/plain": [
              "VBox(children=(Label(value=' 0.00MB of 0.00MB uploaded (0.00MB deduped)\\r'), FloatProgress(value=1.0, max=1.0)…"
            ]
          },
          "metadata": {
            "tags": []
          }
        },
        {
          "output_type": "display_data",
          "data": {
            "text/html": [
              "Find user logs for this run at: <code>/content/droughtwatch/wandb/run-20210511_114031-9q4aa5ep/logs/debug.log</code>"
            ],
            "text/plain": [
              "<IPython.core.display.HTML object>"
            ]
          },
          "metadata": {
            "tags": []
          }
        },
        {
          "output_type": "display_data",
          "data": {
            "text/html": [
              "Find internal logs for this run at: <code>/content/droughtwatch/wandb/run-20210511_114031-9q4aa5ep/logs/debug-internal.log</code>"
            ],
            "text/plain": [
              "<IPython.core.display.HTML object>"
            ]
          },
          "metadata": {
            "tags": []
          }
        },
        {
          "output_type": "display_data",
          "data": {
            "text/html": [
              "Synced 5 W&B file(s), 0 media file(s), 0 artifact file(s) and 0 other file(s)"
            ],
            "text/plain": [
              "<IPython.core.display.HTML object>"
            ]
          },
          "metadata": {
            "tags": []
          }
        },
        {
          "output_type": "display_data",
          "data": {
            "text/html": [
              "\n",
              "                    <br/>Synced <strong style=\"color:#cdcd00\">iconic-sweep-8</strong>: <a href=\"https://wandb.ai/prettycold/sweeps-densenet121/runs/9q4aa5ep\" target=\"_blank\">https://wandb.ai/prettycold/sweeps-densenet121/runs/9q4aa5ep</a><br/>\n",
              "                "
            ],
            "text/plain": [
              "<IPython.core.display.HTML object>"
            ]
          },
          "metadata": {
            "tags": []
          }
        },
        {
          "output_type": "stream",
          "text": [
            "Run 9q4aa5ep errored: RuntimeError('CUDA out of memory. Tried to allocate 14.00 MiB (GPU 0; 15.90 GiB total capacity; 14.63 GiB already allocated; 27.75 MiB free; 14.87 GiB reserved in total by PyTorch)')\n",
            "\u001b[34m\u001b[1mwandb\u001b[0m: \u001b[32m\u001b[41mERROR\u001b[0m Run 9q4aa5ep errored: RuntimeError('CUDA out of memory. Tried to allocate 14.00 MiB (GPU 0; 15.90 GiB total capacity; 14.63 GiB already allocated; 27.75 MiB free; 14.87 GiB reserved in total by PyTorch)')\n",
            "\u001b[34m\u001b[1mwandb\u001b[0m: Agent Starting Run: j1q6qxar with config:\n",
            "\u001b[34m\u001b[1mwandb\u001b[0m: \tbatch_size: 71\n",
            "\u001b[34m\u001b[1mwandb\u001b[0m: \tclasses: 5\n",
            "\u001b[34m\u001b[1mwandb\u001b[0m: \tdropout: 0.5\n",
            "\u001b[34m\u001b[1mwandb\u001b[0m: \tfc_layer_size: 512\n",
            "\u001b[34m\u001b[1mwandb\u001b[0m: \tlearning_rate: 0.0004964068805973615\n",
            "\u001b[34m\u001b[1mwandb\u001b[0m: \tnum_epochs: 5\n",
            "\u001b[34m\u001b[1mwandb\u001b[0m: \toptimizer: adam\n",
            "\u001b[34m\u001b[1mwandb\u001b[0m: \u001b[33mWARNING\u001b[0m Ignored wandb.init() arg project when running a sweep\n"
          ],
          "name": "stderr"
        },
        {
          "output_type": "display_data",
          "data": {
            "text/html": [
              "\n",
              "                Tracking run with wandb version 0.10.30<br/>\n",
              "                Syncing run <strong style=\"color:#cdcd00\">desert-sweep-9</strong> to <a href=\"https://wandb.ai\" target=\"_blank\">Weights & Biases</a> <a href=\"https://docs.wandb.com/integrations/jupyter.html\" target=\"_blank\">(Documentation)</a>.<br/>\n",
              "                Project page: <a href=\"https://wandb.ai/prettycold/sweeps-densenet121\" target=\"_blank\">https://wandb.ai/prettycold/sweeps-densenet121</a><br/>\n",
              "                Sweep page: <a href=\"https://wandb.ai/prettycold/sweeps-densenet121/sweeps/w06m6wsq\" target=\"_blank\">https://wandb.ai/prettycold/sweeps-densenet121/sweeps/w06m6wsq</a><br/>\n",
              "Run page: <a href=\"https://wandb.ai/prettycold/sweeps-densenet121/runs/j1q6qxar\" target=\"_blank\">https://wandb.ai/prettycold/sweeps-densenet121/runs/j1q6qxar</a><br/>\n",
              "                Run data is saved locally in <code>/content/droughtwatch/wandb/run-20210511_114042-j1q6qxar</code><br/><br/>\n",
              "            "
            ],
            "text/plain": [
              "<IPython.core.display.HTML object>"
            ]
          },
          "metadata": {
            "tags": []
          }
        },
        {
          "output_type": "stream",
          "text": [
            "num_ftrs:  1024\n",
            "Initializing Datasets and DataLoaders...\n",
            "{'train': <torch.utils.data.dataloader.DataLoader object at 0x7f16811c0d10>, 'val': <torch.utils.data.dataloader.DataLoader object at 0x7f16811c0e50>}\n",
            "<class 'dict'>\n"
          ],
          "name": "stdout"
        },
        {
          "output_type": "display_data",
          "data": {
            "text/html": [
              "<br/>Waiting for W&B process to finish, PID 1119<br/>Program failed with code 1.  Press ctrl-c to abort syncing."
            ],
            "text/plain": [
              "<IPython.core.display.HTML object>"
            ]
          },
          "metadata": {
            "tags": []
          }
        },
        {
          "output_type": "display_data",
          "data": {
            "application/vnd.jupyter.widget-view+json": {
              "model_id": "d0431f4d902e4956a2188cf6d958ddd4",
              "version_minor": 0,
              "version_major": 2
            },
            "text/plain": [
              "VBox(children=(Label(value=' 0.00MB of 0.00MB uploaded (0.00MB deduped)\\r'), FloatProgress(value=1.0, max=1.0)…"
            ]
          },
          "metadata": {
            "tags": []
          }
        },
        {
          "output_type": "display_data",
          "data": {
            "text/html": [
              "Find user logs for this run at: <code>/content/droughtwatch/wandb/run-20210511_114042-j1q6qxar/logs/debug.log</code>"
            ],
            "text/plain": [
              "<IPython.core.display.HTML object>"
            ]
          },
          "metadata": {
            "tags": []
          }
        },
        {
          "output_type": "display_data",
          "data": {
            "text/html": [
              "Find internal logs for this run at: <code>/content/droughtwatch/wandb/run-20210511_114042-j1q6qxar/logs/debug-internal.log</code>"
            ],
            "text/plain": [
              "<IPython.core.display.HTML object>"
            ]
          },
          "metadata": {
            "tags": []
          }
        },
        {
          "output_type": "display_data",
          "data": {
            "text/html": [
              "Synced 5 W&B file(s), 0 media file(s), 0 artifact file(s) and 0 other file(s)"
            ],
            "text/plain": [
              "<IPython.core.display.HTML object>"
            ]
          },
          "metadata": {
            "tags": []
          }
        },
        {
          "output_type": "display_data",
          "data": {
            "text/html": [
              "\n",
              "                    <br/>Synced <strong style=\"color:#cdcd00\">desert-sweep-9</strong>: <a href=\"https://wandb.ai/prettycold/sweeps-densenet121/runs/j1q6qxar\" target=\"_blank\">https://wandb.ai/prettycold/sweeps-densenet121/runs/j1q6qxar</a><br/>\n",
              "                "
            ],
            "text/plain": [
              "<IPython.core.display.HTML object>"
            ]
          },
          "metadata": {
            "tags": []
          }
        },
        {
          "output_type": "stream",
          "text": [
            "Run j1q6qxar errored: RuntimeError('CUDA out of memory. Tried to allocate 2.00 MiB (GPU 0; 15.90 GiB total capacity; 14.63 GiB already allocated; 21.75 MiB free; 14.88 GiB reserved in total by PyTorch)')\n",
            "\u001b[34m\u001b[1mwandb\u001b[0m: \u001b[32m\u001b[41mERROR\u001b[0m Run j1q6qxar errored: RuntimeError('CUDA out of memory. Tried to allocate 2.00 MiB (GPU 0; 15.90 GiB total capacity; 14.63 GiB already allocated; 21.75 MiB free; 14.88 GiB reserved in total by PyTorch)')\n",
            "\u001b[34m\u001b[1mwandb\u001b[0m: Agent Starting Run: 55snq93r with config:\n",
            "\u001b[34m\u001b[1mwandb\u001b[0m: \tbatch_size: 62\n",
            "\u001b[34m\u001b[1mwandb\u001b[0m: \tclasses: 5\n",
            "\u001b[34m\u001b[1mwandb\u001b[0m: \tdropout: 0.4\n",
            "\u001b[34m\u001b[1mwandb\u001b[0m: \tfc_layer_size: 128\n",
            "\u001b[34m\u001b[1mwandb\u001b[0m: \tlearning_rate: 0.00039302837255596814\n",
            "\u001b[34m\u001b[1mwandb\u001b[0m: \tnum_epochs: 5\n",
            "\u001b[34m\u001b[1mwandb\u001b[0m: \toptimizer: sgd\n",
            "\u001b[34m\u001b[1mwandb\u001b[0m: \u001b[33mWARNING\u001b[0m Ignored wandb.init() arg project when running a sweep\n"
          ],
          "name": "stderr"
        },
        {
          "output_type": "display_data",
          "data": {
            "text/html": [
              "\n",
              "                Tracking run with wandb version 0.10.30<br/>\n",
              "                Syncing run <strong style=\"color:#cdcd00\">sunny-sweep-10</strong> to <a href=\"https://wandb.ai\" target=\"_blank\">Weights & Biases</a> <a href=\"https://docs.wandb.com/integrations/jupyter.html\" target=\"_blank\">(Documentation)</a>.<br/>\n",
              "                Project page: <a href=\"https://wandb.ai/prettycold/sweeps-densenet121\" target=\"_blank\">https://wandb.ai/prettycold/sweeps-densenet121</a><br/>\n",
              "                Sweep page: <a href=\"https://wandb.ai/prettycold/sweeps-densenet121/sweeps/w06m6wsq\" target=\"_blank\">https://wandb.ai/prettycold/sweeps-densenet121/sweeps/w06m6wsq</a><br/>\n",
              "Run page: <a href=\"https://wandb.ai/prettycold/sweeps-densenet121/runs/55snq93r\" target=\"_blank\">https://wandb.ai/prettycold/sweeps-densenet121/runs/55snq93r</a><br/>\n",
              "                Run data is saved locally in <code>/content/droughtwatch/wandb/run-20210511_114052-55snq93r</code><br/><br/>\n",
              "            "
            ],
            "text/plain": [
              "<IPython.core.display.HTML object>"
            ]
          },
          "metadata": {
            "tags": []
          }
        },
        {
          "output_type": "stream",
          "text": [
            "num_ftrs:  1024\n",
            "Initializing Datasets and DataLoaders...\n",
            "{'train': <torch.utils.data.dataloader.DataLoader object at 0x7f169b674210>, 'val': <torch.utils.data.dataloader.DataLoader object at 0x7f169b674050>}\n",
            "<class 'dict'>\n"
          ],
          "name": "stdout"
        },
        {
          "output_type": "display_data",
          "data": {
            "text/html": [
              "<br/>Waiting for W&B process to finish, PID 1158<br/>Program failed with code 1.  Press ctrl-c to abort syncing."
            ],
            "text/plain": [
              "<IPython.core.display.HTML object>"
            ]
          },
          "metadata": {
            "tags": []
          }
        },
        {
          "output_type": "display_data",
          "data": {
            "application/vnd.jupyter.widget-view+json": {
              "model_id": "08918784e8164fdeb0bc7535a21ad6a1",
              "version_minor": 0,
              "version_major": 2
            },
            "text/plain": [
              "VBox(children=(Label(value=' 0.00MB of 0.00MB uploaded (0.00MB deduped)\\r'), FloatProgress(value=1.0, max=1.0)…"
            ]
          },
          "metadata": {
            "tags": []
          }
        },
        {
          "output_type": "display_data",
          "data": {
            "text/html": [
              "Find user logs for this run at: <code>/content/droughtwatch/wandb/run-20210511_114052-55snq93r/logs/debug.log</code>"
            ],
            "text/plain": [
              "<IPython.core.display.HTML object>"
            ]
          },
          "metadata": {
            "tags": []
          }
        },
        {
          "output_type": "display_data",
          "data": {
            "text/html": [
              "Find internal logs for this run at: <code>/content/droughtwatch/wandb/run-20210511_114052-55snq93r/logs/debug-internal.log</code>"
            ],
            "text/plain": [
              "<IPython.core.display.HTML object>"
            ]
          },
          "metadata": {
            "tags": []
          }
        },
        {
          "output_type": "display_data",
          "data": {
            "text/html": [
              "Synced 5 W&B file(s), 0 media file(s), 0 artifact file(s) and 0 other file(s)"
            ],
            "text/plain": [
              "<IPython.core.display.HTML object>"
            ]
          },
          "metadata": {
            "tags": []
          }
        },
        {
          "output_type": "display_data",
          "data": {
            "text/html": [
              "\n",
              "                    <br/>Synced <strong style=\"color:#cdcd00\">sunny-sweep-10</strong>: <a href=\"https://wandb.ai/prettycold/sweeps-densenet121/runs/55snq93r\" target=\"_blank\">https://wandb.ai/prettycold/sweeps-densenet121/runs/55snq93r</a><br/>\n",
              "                "
            ],
            "text/plain": [
              "<IPython.core.display.HTML object>"
            ]
          },
          "metadata": {
            "tags": []
          }
        },
        {
          "output_type": "stream",
          "text": [
            "Run 55snq93r errored: RuntimeError('CUDA out of memory. Tried to allocate 2.00 MiB (GPU 0; 15.90 GiB total capacity; 14.63 GiB already allocated; 21.75 MiB free; 14.88 GiB reserved in total by PyTorch)')\n",
            "\u001b[34m\u001b[1mwandb\u001b[0m: \u001b[32m\u001b[41mERROR\u001b[0m Run 55snq93r errored: RuntimeError('CUDA out of memory. Tried to allocate 2.00 MiB (GPU 0; 15.90 GiB total capacity; 14.63 GiB already allocated; 21.75 MiB free; 14.88 GiB reserved in total by PyTorch)')\n",
            "\u001b[34m\u001b[1mwandb\u001b[0m: Agent Starting Run: 7q8nr66h with config:\n",
            "\u001b[34m\u001b[1mwandb\u001b[0m: \tbatch_size: 99\n",
            "\u001b[34m\u001b[1mwandb\u001b[0m: \tclasses: 5\n",
            "\u001b[34m\u001b[1mwandb\u001b[0m: \tdropout: 0.4\n",
            "\u001b[34m\u001b[1mwandb\u001b[0m: \tfc_layer_size: 128\n",
            "\u001b[34m\u001b[1mwandb\u001b[0m: \tlearning_rate: 0.0004489242249111563\n",
            "\u001b[34m\u001b[1mwandb\u001b[0m: \tnum_epochs: 5\n",
            "\u001b[34m\u001b[1mwandb\u001b[0m: \toptimizer: adam\n",
            "\u001b[34m\u001b[1mwandb\u001b[0m: \u001b[33mWARNING\u001b[0m Ignored wandb.init() arg project when running a sweep\n"
          ],
          "name": "stderr"
        },
        {
          "output_type": "display_data",
          "data": {
            "text/html": [
              "\n",
              "                Tracking run with wandb version 0.10.30<br/>\n",
              "                Syncing run <strong style=\"color:#cdcd00\">pretty-sweep-11</strong> to <a href=\"https://wandb.ai\" target=\"_blank\">Weights & Biases</a> <a href=\"https://docs.wandb.com/integrations/jupyter.html\" target=\"_blank\">(Documentation)</a>.<br/>\n",
              "                Project page: <a href=\"https://wandb.ai/prettycold/sweeps-densenet121\" target=\"_blank\">https://wandb.ai/prettycold/sweeps-densenet121</a><br/>\n",
              "                Sweep page: <a href=\"https://wandb.ai/prettycold/sweeps-densenet121/sweeps/w06m6wsq\" target=\"_blank\">https://wandb.ai/prettycold/sweeps-densenet121/sweeps/w06m6wsq</a><br/>\n",
              "Run page: <a href=\"https://wandb.ai/prettycold/sweeps-densenet121/runs/7q8nr66h\" target=\"_blank\">https://wandb.ai/prettycold/sweeps-densenet121/runs/7q8nr66h</a><br/>\n",
              "                Run data is saved locally in <code>/content/droughtwatch/wandb/run-20210511_114106-7q8nr66h</code><br/><br/>\n",
              "            "
            ],
            "text/plain": [
              "<IPython.core.display.HTML object>"
            ]
          },
          "metadata": {
            "tags": []
          }
        },
        {
          "output_type": "stream",
          "text": [
            "num_ftrs:  1024\n",
            "Initializing Datasets and DataLoaders...\n",
            "{'train': <torch.utils.data.dataloader.DataLoader object at 0x7f16857d2f90>, 'val': <torch.utils.data.dataloader.DataLoader object at 0x7f16857d62d0>}\n",
            "<class 'dict'>\n"
          ],
          "name": "stdout"
        },
        {
          "output_type": "display_data",
          "data": {
            "text/html": [
              "<br/>Waiting for W&B process to finish, PID 1197<br/>Program failed with code 1.  Press ctrl-c to abort syncing."
            ],
            "text/plain": [
              "<IPython.core.display.HTML object>"
            ]
          },
          "metadata": {
            "tags": []
          }
        },
        {
          "output_type": "display_data",
          "data": {
            "application/vnd.jupyter.widget-view+json": {
              "model_id": "68c9348a26014a2298b5f0fe1da86edf",
              "version_minor": 0,
              "version_major": 2
            },
            "text/plain": [
              "VBox(children=(Label(value=' 0.00MB of 0.00MB uploaded (0.00MB deduped)\\r'), FloatProgress(value=1.0, max=1.0)…"
            ]
          },
          "metadata": {
            "tags": []
          }
        },
        {
          "output_type": "display_data",
          "data": {
            "text/html": [
              "Find user logs for this run at: <code>/content/droughtwatch/wandb/run-20210511_114106-7q8nr66h/logs/debug.log</code>"
            ],
            "text/plain": [
              "<IPython.core.display.HTML object>"
            ]
          },
          "metadata": {
            "tags": []
          }
        },
        {
          "output_type": "display_data",
          "data": {
            "text/html": [
              "Find internal logs for this run at: <code>/content/droughtwatch/wandb/run-20210511_114106-7q8nr66h/logs/debug-internal.log</code>"
            ],
            "text/plain": [
              "<IPython.core.display.HTML object>"
            ]
          },
          "metadata": {
            "tags": []
          }
        },
        {
          "output_type": "display_data",
          "data": {
            "text/html": [
              "Synced 5 W&B file(s), 0 media file(s), 0 artifact file(s) and 0 other file(s)"
            ],
            "text/plain": [
              "<IPython.core.display.HTML object>"
            ]
          },
          "metadata": {
            "tags": []
          }
        },
        {
          "output_type": "display_data",
          "data": {
            "text/html": [
              "\n",
              "                    <br/>Synced <strong style=\"color:#cdcd00\">pretty-sweep-11</strong>: <a href=\"https://wandb.ai/prettycold/sweeps-densenet121/runs/7q8nr66h\" target=\"_blank\">https://wandb.ai/prettycold/sweeps-densenet121/runs/7q8nr66h</a><br/>\n",
              "                "
            ],
            "text/plain": [
              "<IPython.core.display.HTML object>"
            ]
          },
          "metadata": {
            "tags": []
          }
        },
        {
          "output_type": "stream",
          "text": [
            "Run 7q8nr66h errored: RuntimeError('CUDA out of memory. Tried to allocate 2.00 MiB (GPU 0; 15.90 GiB total capacity; 14.63 GiB already allocated; 21.75 MiB free; 14.88 GiB reserved in total by PyTorch)')\n",
            "\u001b[34m\u001b[1mwandb\u001b[0m: \u001b[32m\u001b[41mERROR\u001b[0m Run 7q8nr66h errored: RuntimeError('CUDA out of memory. Tried to allocate 2.00 MiB (GPU 0; 15.90 GiB total capacity; 14.63 GiB already allocated; 21.75 MiB free; 14.88 GiB reserved in total by PyTorch)')\n",
            "\u001b[34m\u001b[1mwandb\u001b[0m: Agent Starting Run: a35mf7jp with config:\n",
            "\u001b[34m\u001b[1mwandb\u001b[0m: \tbatch_size: 103\n",
            "\u001b[34m\u001b[1mwandb\u001b[0m: \tclasses: 5\n",
            "\u001b[34m\u001b[1mwandb\u001b[0m: \tdropout: 0.5\n",
            "\u001b[34m\u001b[1mwandb\u001b[0m: \tfc_layer_size: 256\n",
            "\u001b[34m\u001b[1mwandb\u001b[0m: \tlearning_rate: 0.00042605873335707986\n",
            "\u001b[34m\u001b[1mwandb\u001b[0m: \tnum_epochs: 5\n",
            "\u001b[34m\u001b[1mwandb\u001b[0m: \toptimizer: adam\n",
            "\u001b[34m\u001b[1mwandb\u001b[0m: \u001b[33mWARNING\u001b[0m Ignored wandb.init() arg project when running a sweep\n"
          ],
          "name": "stderr"
        },
        {
          "output_type": "display_data",
          "data": {
            "text/html": [
              "\n",
              "                Tracking run with wandb version 0.10.30<br/>\n",
              "                Syncing run <strong style=\"color:#cdcd00\">lively-sweep-12</strong> to <a href=\"https://wandb.ai\" target=\"_blank\">Weights & Biases</a> <a href=\"https://docs.wandb.com/integrations/jupyter.html\" target=\"_blank\">(Documentation)</a>.<br/>\n",
              "                Project page: <a href=\"https://wandb.ai/prettycold/sweeps-densenet121\" target=\"_blank\">https://wandb.ai/prettycold/sweeps-densenet121</a><br/>\n",
              "                Sweep page: <a href=\"https://wandb.ai/prettycold/sweeps-densenet121/sweeps/w06m6wsq\" target=\"_blank\">https://wandb.ai/prettycold/sweeps-densenet121/sweeps/w06m6wsq</a><br/>\n",
              "Run page: <a href=\"https://wandb.ai/prettycold/sweeps-densenet121/runs/a35mf7jp\" target=\"_blank\">https://wandb.ai/prettycold/sweeps-densenet121/runs/a35mf7jp</a><br/>\n",
              "                Run data is saved locally in <code>/content/droughtwatch/wandb/run-20210511_114116-a35mf7jp</code><br/><br/>\n",
              "            "
            ],
            "text/plain": [
              "<IPython.core.display.HTML object>"
            ]
          },
          "metadata": {
            "tags": []
          }
        },
        {
          "output_type": "stream",
          "text": [
            "num_ftrs:  1024\n",
            "Initializing Datasets and DataLoaders...\n",
            "{'train': <torch.utils.data.dataloader.DataLoader object at 0x7f1685812850>, 'val': <torch.utils.data.dataloader.DataLoader object at 0x7f16858124d0>}\n",
            "<class 'dict'>\n"
          ],
          "name": "stdout"
        },
        {
          "output_type": "display_data",
          "data": {
            "text/html": [
              "<br/>Waiting for W&B process to finish, PID 1236<br/>Program failed with code 1.  Press ctrl-c to abort syncing."
            ],
            "text/plain": [
              "<IPython.core.display.HTML object>"
            ]
          },
          "metadata": {
            "tags": []
          }
        },
        {
          "output_type": "display_data",
          "data": {
            "application/vnd.jupyter.widget-view+json": {
              "model_id": "d44f789b3e7644dc8d624b7808a09cac",
              "version_minor": 0,
              "version_major": 2
            },
            "text/plain": [
              "VBox(children=(Label(value=' 0.00MB of 0.00MB uploaded (0.00MB deduped)\\r'), FloatProgress(value=1.0, max=1.0)…"
            ]
          },
          "metadata": {
            "tags": []
          }
        },
        {
          "output_type": "display_data",
          "data": {
            "text/html": [
              "Find user logs for this run at: <code>/content/droughtwatch/wandb/run-20210511_114116-a35mf7jp/logs/debug.log</code>"
            ],
            "text/plain": [
              "<IPython.core.display.HTML object>"
            ]
          },
          "metadata": {
            "tags": []
          }
        },
        {
          "output_type": "display_data",
          "data": {
            "text/html": [
              "Find internal logs for this run at: <code>/content/droughtwatch/wandb/run-20210511_114116-a35mf7jp/logs/debug-internal.log</code>"
            ],
            "text/plain": [
              "<IPython.core.display.HTML object>"
            ]
          },
          "metadata": {
            "tags": []
          }
        },
        {
          "output_type": "display_data",
          "data": {
            "text/html": [
              "Synced 5 W&B file(s), 0 media file(s), 0 artifact file(s) and 0 other file(s)"
            ],
            "text/plain": [
              "<IPython.core.display.HTML object>"
            ]
          },
          "metadata": {
            "tags": []
          }
        },
        {
          "output_type": "display_data",
          "data": {
            "text/html": [
              "\n",
              "                    <br/>Synced <strong style=\"color:#cdcd00\">lively-sweep-12</strong>: <a href=\"https://wandb.ai/prettycold/sweeps-densenet121/runs/a35mf7jp\" target=\"_blank\">https://wandb.ai/prettycold/sweeps-densenet121/runs/a35mf7jp</a><br/>\n",
              "                "
            ],
            "text/plain": [
              "<IPython.core.display.HTML object>"
            ]
          },
          "metadata": {
            "tags": []
          }
        },
        {
          "output_type": "stream",
          "text": [
            "Run a35mf7jp errored: RuntimeError('CUDA out of memory. Tried to allocate 2.00 MiB (GPU 0; 15.90 GiB total capacity; 14.63 GiB already allocated; 21.75 MiB free; 14.88 GiB reserved in total by PyTorch)')\n",
            "\u001b[34m\u001b[1mwandb\u001b[0m: \u001b[32m\u001b[41mERROR\u001b[0m Run a35mf7jp errored: RuntimeError('CUDA out of memory. Tried to allocate 2.00 MiB (GPU 0; 15.90 GiB total capacity; 14.63 GiB already allocated; 21.75 MiB free; 14.88 GiB reserved in total by PyTorch)')\n",
            "\u001b[34m\u001b[1mwandb\u001b[0m: Agent Starting Run: x2j9892t with config:\n",
            "\u001b[34m\u001b[1mwandb\u001b[0m: \tbatch_size: 111\n",
            "\u001b[34m\u001b[1mwandb\u001b[0m: \tclasses: 5\n",
            "\u001b[34m\u001b[1mwandb\u001b[0m: \tdropout: 0.3\n",
            "\u001b[34m\u001b[1mwandb\u001b[0m: \tfc_layer_size: 256\n",
            "\u001b[34m\u001b[1mwandb\u001b[0m: \tlearning_rate: 0.00033301637560707094\n",
            "\u001b[34m\u001b[1mwandb\u001b[0m: \tnum_epochs: 5\n",
            "\u001b[34m\u001b[1mwandb\u001b[0m: \toptimizer: sgd\n",
            "\u001b[34m\u001b[1mwandb\u001b[0m: \u001b[33mWARNING\u001b[0m Ignored wandb.init() arg project when running a sweep\n"
          ],
          "name": "stderr"
        },
        {
          "output_type": "display_data",
          "data": {
            "text/html": [
              "\n",
              "                Tracking run with wandb version 0.10.30<br/>\n",
              "                Syncing run <strong style=\"color:#cdcd00\">sweepy-sweep-13</strong> to <a href=\"https://wandb.ai\" target=\"_blank\">Weights & Biases</a> <a href=\"https://docs.wandb.com/integrations/jupyter.html\" target=\"_blank\">(Documentation)</a>.<br/>\n",
              "                Project page: <a href=\"https://wandb.ai/prettycold/sweeps-densenet121\" target=\"_blank\">https://wandb.ai/prettycold/sweeps-densenet121</a><br/>\n",
              "                Sweep page: <a href=\"https://wandb.ai/prettycold/sweeps-densenet121/sweeps/w06m6wsq\" target=\"_blank\">https://wandb.ai/prettycold/sweeps-densenet121/sweeps/w06m6wsq</a><br/>\n",
              "Run page: <a href=\"https://wandb.ai/prettycold/sweeps-densenet121/runs/x2j9892t\" target=\"_blank\">https://wandb.ai/prettycold/sweeps-densenet121/runs/x2j9892t</a><br/>\n",
              "                Run data is saved locally in <code>/content/droughtwatch/wandb/run-20210511_114127-x2j9892t</code><br/><br/>\n",
              "            "
            ],
            "text/plain": [
              "<IPython.core.display.HTML object>"
            ]
          },
          "metadata": {
            "tags": []
          }
        },
        {
          "output_type": "stream",
          "text": [
            "num_ftrs:  1024\n",
            "Initializing Datasets and DataLoaders...\n",
            "{'train': <torch.utils.data.dataloader.DataLoader object at 0x7f15a69b2a10>, 'val': <torch.utils.data.dataloader.DataLoader object at 0x7f1683627710>}\n",
            "<class 'dict'>\n"
          ],
          "name": "stdout"
        },
        {
          "output_type": "display_data",
          "data": {
            "text/html": [
              "<br/>Waiting for W&B process to finish, PID 1275<br/>Program failed with code 1.  Press ctrl-c to abort syncing."
            ],
            "text/plain": [
              "<IPython.core.display.HTML object>"
            ]
          },
          "metadata": {
            "tags": []
          }
        },
        {
          "output_type": "display_data",
          "data": {
            "application/vnd.jupyter.widget-view+json": {
              "model_id": "6f30df6b614249eaa672c1a0c31406df",
              "version_minor": 0,
              "version_major": 2
            },
            "text/plain": [
              "VBox(children=(Label(value=' 0.00MB of 0.00MB uploaded (0.00MB deduped)\\r'), FloatProgress(value=1.0, max=1.0)…"
            ]
          },
          "metadata": {
            "tags": []
          }
        },
        {
          "output_type": "display_data",
          "data": {
            "text/html": [
              "Find user logs for this run at: <code>/content/droughtwatch/wandb/run-20210511_114127-x2j9892t/logs/debug.log</code>"
            ],
            "text/plain": [
              "<IPython.core.display.HTML object>"
            ]
          },
          "metadata": {
            "tags": []
          }
        },
        {
          "output_type": "display_data",
          "data": {
            "text/html": [
              "Find internal logs for this run at: <code>/content/droughtwatch/wandb/run-20210511_114127-x2j9892t/logs/debug-internal.log</code>"
            ],
            "text/plain": [
              "<IPython.core.display.HTML object>"
            ]
          },
          "metadata": {
            "tags": []
          }
        },
        {
          "output_type": "display_data",
          "data": {
            "text/html": [
              "Synced 5 W&B file(s), 0 media file(s), 0 artifact file(s) and 0 other file(s)"
            ],
            "text/plain": [
              "<IPython.core.display.HTML object>"
            ]
          },
          "metadata": {
            "tags": []
          }
        },
        {
          "output_type": "display_data",
          "data": {
            "text/html": [
              "\n",
              "                    <br/>Synced <strong style=\"color:#cdcd00\">sweepy-sweep-13</strong>: <a href=\"https://wandb.ai/prettycold/sweeps-densenet121/runs/x2j9892t\" target=\"_blank\">https://wandb.ai/prettycold/sweeps-densenet121/runs/x2j9892t</a><br/>\n",
              "                "
            ],
            "text/plain": [
              "<IPython.core.display.HTML object>"
            ]
          },
          "metadata": {
            "tags": []
          }
        },
        {
          "output_type": "stream",
          "text": [
            "Run x2j9892t errored: RuntimeError('CUDA out of memory. Tried to allocate 2.00 MiB (GPU 0; 15.90 GiB total capacity; 14.63 GiB already allocated; 21.75 MiB free; 14.88 GiB reserved in total by PyTorch)')\n",
            "\u001b[34m\u001b[1mwandb\u001b[0m: \u001b[32m\u001b[41mERROR\u001b[0m Run x2j9892t errored: RuntimeError('CUDA out of memory. Tried to allocate 2.00 MiB (GPU 0; 15.90 GiB total capacity; 14.63 GiB already allocated; 21.75 MiB free; 14.88 GiB reserved in total by PyTorch)')\n",
            "\u001b[34m\u001b[1mwandb\u001b[0m: Sweep Agent: Waiting for job.\n",
            "\u001b[34m\u001b[1mwandb\u001b[0m: Job received.\n",
            "\u001b[34m\u001b[1mwandb\u001b[0m: Agent Starting Run: nfivpnwz with config:\n",
            "\u001b[34m\u001b[1mwandb\u001b[0m: \tbatch_size: 76\n",
            "\u001b[34m\u001b[1mwandb\u001b[0m: \tclasses: 5\n",
            "\u001b[34m\u001b[1mwandb\u001b[0m: \tdropout: 0.4\n",
            "\u001b[34m\u001b[1mwandb\u001b[0m: \tfc_layer_size: 128\n",
            "\u001b[34m\u001b[1mwandb\u001b[0m: \tlearning_rate: 0.0003146910047176632\n",
            "\u001b[34m\u001b[1mwandb\u001b[0m: \tnum_epochs: 5\n",
            "\u001b[34m\u001b[1mwandb\u001b[0m: \toptimizer: adam\n",
            "\u001b[34m\u001b[1mwandb\u001b[0m: \u001b[33mWARNING\u001b[0m Ignored wandb.init() arg project when running a sweep\n"
          ],
          "name": "stderr"
        },
        {
          "output_type": "display_data",
          "data": {
            "text/html": [
              "\n",
              "                Tracking run with wandb version 0.10.30<br/>\n",
              "                Syncing run <strong style=\"color:#cdcd00\">stoic-sweep-14</strong> to <a href=\"https://wandb.ai\" target=\"_blank\">Weights & Biases</a> <a href=\"https://docs.wandb.com/integrations/jupyter.html\" target=\"_blank\">(Documentation)</a>.<br/>\n",
              "                Project page: <a href=\"https://wandb.ai/prettycold/sweeps-densenet121\" target=\"_blank\">https://wandb.ai/prettycold/sweeps-densenet121</a><br/>\n",
              "                Sweep page: <a href=\"https://wandb.ai/prettycold/sweeps-densenet121/sweeps/w06m6wsq\" target=\"_blank\">https://wandb.ai/prettycold/sweeps-densenet121/sweeps/w06m6wsq</a><br/>\n",
              "Run page: <a href=\"https://wandb.ai/prettycold/sweeps-densenet121/runs/nfivpnwz\" target=\"_blank\">https://wandb.ai/prettycold/sweeps-densenet121/runs/nfivpnwz</a><br/>\n",
              "                Run data is saved locally in <code>/content/droughtwatch/wandb/run-20210511_114208-nfivpnwz</code><br/><br/>\n",
              "            "
            ],
            "text/plain": [
              "<IPython.core.display.HTML object>"
            ]
          },
          "metadata": {
            "tags": []
          }
        },
        {
          "output_type": "stream",
          "text": [
            "num_ftrs:  1024\n",
            "Initializing Datasets and DataLoaders...\n",
            "{'train': <torch.utils.data.dataloader.DataLoader object at 0x7f16848eeb50>, 'val': <torch.utils.data.dataloader.DataLoader object at 0x7f16848eeb10>}\n",
            "<class 'dict'>\n"
          ],
          "name": "stdout"
        },
        {
          "output_type": "display_data",
          "data": {
            "text/html": [
              "<br/>Waiting for W&B process to finish, PID 1314<br/>Program failed with code 1.  Press ctrl-c to abort syncing."
            ],
            "text/plain": [
              "<IPython.core.display.HTML object>"
            ]
          },
          "metadata": {
            "tags": []
          }
        },
        {
          "output_type": "display_data",
          "data": {
            "application/vnd.jupyter.widget-view+json": {
              "model_id": "d65910f3916545b086f2840b21b70c01",
              "version_minor": 0,
              "version_major": 2
            },
            "text/plain": [
              "VBox(children=(Label(value=' 0.00MB of 0.00MB uploaded (0.00MB deduped)\\r'), FloatProgress(value=1.0, max=1.0)…"
            ]
          },
          "metadata": {
            "tags": []
          }
        },
        {
          "output_type": "display_data",
          "data": {
            "text/html": [
              "Find user logs for this run at: <code>/content/droughtwatch/wandb/run-20210511_114208-nfivpnwz/logs/debug.log</code>"
            ],
            "text/plain": [
              "<IPython.core.display.HTML object>"
            ]
          },
          "metadata": {
            "tags": []
          }
        },
        {
          "output_type": "display_data",
          "data": {
            "text/html": [
              "Find internal logs for this run at: <code>/content/droughtwatch/wandb/run-20210511_114208-nfivpnwz/logs/debug-internal.log</code>"
            ],
            "text/plain": [
              "<IPython.core.display.HTML object>"
            ]
          },
          "metadata": {
            "tags": []
          }
        },
        {
          "output_type": "display_data",
          "data": {
            "text/html": [
              "Synced 5 W&B file(s), 0 media file(s), 0 artifact file(s) and 0 other file(s)"
            ],
            "text/plain": [
              "<IPython.core.display.HTML object>"
            ]
          },
          "metadata": {
            "tags": []
          }
        },
        {
          "output_type": "display_data",
          "data": {
            "text/html": [
              "\n",
              "                    <br/>Synced <strong style=\"color:#cdcd00\">stoic-sweep-14</strong>: <a href=\"https://wandb.ai/prettycold/sweeps-densenet121/runs/nfivpnwz\" target=\"_blank\">https://wandb.ai/prettycold/sweeps-densenet121/runs/nfivpnwz</a><br/>\n",
              "                "
            ],
            "text/plain": [
              "<IPython.core.display.HTML object>"
            ]
          },
          "metadata": {
            "tags": []
          }
        },
        {
          "output_type": "stream",
          "text": [
            "Run nfivpnwz errored: RuntimeError('CUDA out of memory. Tried to allocate 2.00 MiB (GPU 0; 15.90 GiB total capacity; 14.63 GiB already allocated; 21.75 MiB free; 14.88 GiB reserved in total by PyTorch)')\n",
            "\u001b[34m\u001b[1mwandb\u001b[0m: \u001b[32m\u001b[41mERROR\u001b[0m Run nfivpnwz errored: RuntimeError('CUDA out of memory. Tried to allocate 2.00 MiB (GPU 0; 15.90 GiB total capacity; 14.63 GiB already allocated; 21.75 MiB free; 14.88 GiB reserved in total by PyTorch)')\n",
            "\u001b[34m\u001b[1mwandb\u001b[0m: Agent Starting Run: pr3fy3c5 with config:\n",
            "\u001b[34m\u001b[1mwandb\u001b[0m: \tbatch_size: 118\n",
            "\u001b[34m\u001b[1mwandb\u001b[0m: \tclasses: 5\n",
            "\u001b[34m\u001b[1mwandb\u001b[0m: \tdropout: 0.4\n",
            "\u001b[34m\u001b[1mwandb\u001b[0m: \tfc_layer_size: 256\n",
            "\u001b[34m\u001b[1mwandb\u001b[0m: \tlearning_rate: 0.0004165085231931042\n",
            "\u001b[34m\u001b[1mwandb\u001b[0m: \tnum_epochs: 5\n",
            "\u001b[34m\u001b[1mwandb\u001b[0m: \toptimizer: adam\n",
            "\u001b[34m\u001b[1mwandb\u001b[0m: \u001b[33mWARNING\u001b[0m Ignored wandb.init() arg project when running a sweep\n"
          ],
          "name": "stderr"
        },
        {
          "output_type": "display_data",
          "data": {
            "text/html": [
              "\n",
              "                Tracking run with wandb version 0.10.30<br/>\n",
              "                Syncing run <strong style=\"color:#cdcd00\">fallen-sweep-15</strong> to <a href=\"https://wandb.ai\" target=\"_blank\">Weights & Biases</a> <a href=\"https://docs.wandb.com/integrations/jupyter.html\" target=\"_blank\">(Documentation)</a>.<br/>\n",
              "                Project page: <a href=\"https://wandb.ai/prettycold/sweeps-densenet121\" target=\"_blank\">https://wandb.ai/prettycold/sweeps-densenet121</a><br/>\n",
              "                Sweep page: <a href=\"https://wandb.ai/prettycold/sweeps-densenet121/sweeps/w06m6wsq\" target=\"_blank\">https://wandb.ai/prettycold/sweeps-densenet121/sweeps/w06m6wsq</a><br/>\n",
              "Run page: <a href=\"https://wandb.ai/prettycold/sweeps-densenet121/runs/pr3fy3c5\" target=\"_blank\">https://wandb.ai/prettycold/sweeps-densenet121/runs/pr3fy3c5</a><br/>\n",
              "                Run data is saved locally in <code>/content/droughtwatch/wandb/run-20210511_114221-pr3fy3c5</code><br/><br/>\n",
              "            "
            ],
            "text/plain": [
              "<IPython.core.display.HTML object>"
            ]
          },
          "metadata": {
            "tags": []
          }
        },
        {
          "output_type": "stream",
          "text": [
            "num_ftrs:  1024\n",
            "Initializing Datasets and DataLoaders...\n",
            "{'train': <torch.utils.data.dataloader.DataLoader object at 0x7f158c48cf50>, 'val': <torch.utils.data.dataloader.DataLoader object at 0x7f158c48ccd0>}\n",
            "<class 'dict'>\n"
          ],
          "name": "stdout"
        },
        {
          "output_type": "display_data",
          "data": {
            "text/html": [
              "<br/>Waiting for W&B process to finish, PID 1353<br/>Program failed with code 1.  Press ctrl-c to abort syncing."
            ],
            "text/plain": [
              "<IPython.core.display.HTML object>"
            ]
          },
          "metadata": {
            "tags": []
          }
        },
        {
          "output_type": "display_data",
          "data": {
            "application/vnd.jupyter.widget-view+json": {
              "model_id": "8d80544a419c40cf94f53844c02e3697",
              "version_minor": 0,
              "version_major": 2
            },
            "text/plain": [
              "VBox(children=(Label(value=' 0.00MB of 0.00MB uploaded (0.00MB deduped)\\r'), FloatProgress(value=1.0, max=1.0)…"
            ]
          },
          "metadata": {
            "tags": []
          }
        },
        {
          "output_type": "display_data",
          "data": {
            "text/html": [
              "Find user logs for this run at: <code>/content/droughtwatch/wandb/run-20210511_114221-pr3fy3c5/logs/debug.log</code>"
            ],
            "text/plain": [
              "<IPython.core.display.HTML object>"
            ]
          },
          "metadata": {
            "tags": []
          }
        },
        {
          "output_type": "display_data",
          "data": {
            "text/html": [
              "Find internal logs for this run at: <code>/content/droughtwatch/wandb/run-20210511_114221-pr3fy3c5/logs/debug-internal.log</code>"
            ],
            "text/plain": [
              "<IPython.core.display.HTML object>"
            ]
          },
          "metadata": {
            "tags": []
          }
        },
        {
          "output_type": "display_data",
          "data": {
            "text/html": [
              "Synced 5 W&B file(s), 0 media file(s), 0 artifact file(s) and 0 other file(s)"
            ],
            "text/plain": [
              "<IPython.core.display.HTML object>"
            ]
          },
          "metadata": {
            "tags": []
          }
        },
        {
          "output_type": "display_data",
          "data": {
            "text/html": [
              "\n",
              "                    <br/>Synced <strong style=\"color:#cdcd00\">fallen-sweep-15</strong>: <a href=\"https://wandb.ai/prettycold/sweeps-densenet121/runs/pr3fy3c5\" target=\"_blank\">https://wandb.ai/prettycold/sweeps-densenet121/runs/pr3fy3c5</a><br/>\n",
              "                "
            ],
            "text/plain": [
              "<IPython.core.display.HTML object>"
            ]
          },
          "metadata": {
            "tags": []
          }
        },
        {
          "output_type": "stream",
          "text": [
            "Run pr3fy3c5 errored: RuntimeError('CUDA out of memory. Tried to allocate 2.00 MiB (GPU 0; 15.90 GiB total capacity; 14.63 GiB already allocated; 21.75 MiB free; 14.88 GiB reserved in total by PyTorch)')\n",
            "\u001b[34m\u001b[1mwandb\u001b[0m: \u001b[32m\u001b[41mERROR\u001b[0m Run pr3fy3c5 errored: RuntimeError('CUDA out of memory. Tried to allocate 2.00 MiB (GPU 0; 15.90 GiB total capacity; 14.63 GiB already allocated; 21.75 MiB free; 14.88 GiB reserved in total by PyTorch)')\n",
            "\u001b[34m\u001b[1mwandb\u001b[0m: Agent Starting Run: 1hit42c5 with config:\n",
            "\u001b[34m\u001b[1mwandb\u001b[0m: \tbatch_size: 61\n",
            "\u001b[34m\u001b[1mwandb\u001b[0m: \tclasses: 5\n",
            "\u001b[34m\u001b[1mwandb\u001b[0m: \tdropout: 0.5\n",
            "\u001b[34m\u001b[1mwandb\u001b[0m: \tfc_layer_size: 512\n",
            "\u001b[34m\u001b[1mwandb\u001b[0m: \tlearning_rate: 0.00036387190019287064\n",
            "\u001b[34m\u001b[1mwandb\u001b[0m: \tnum_epochs: 5\n",
            "\u001b[34m\u001b[1mwandb\u001b[0m: \toptimizer: sgd\n",
            "\u001b[34m\u001b[1mwandb\u001b[0m: \u001b[33mWARNING\u001b[0m Ignored wandb.init() arg project when running a sweep\n"
          ],
          "name": "stderr"
        },
        {
          "output_type": "display_data",
          "data": {
            "text/html": [
              "\n",
              "                Tracking run with wandb version 0.10.30<br/>\n",
              "                Syncing run <strong style=\"color:#cdcd00\">gallant-sweep-16</strong> to <a href=\"https://wandb.ai\" target=\"_blank\">Weights & Biases</a> <a href=\"https://docs.wandb.com/integrations/jupyter.html\" target=\"_blank\">(Documentation)</a>.<br/>\n",
              "                Project page: <a href=\"https://wandb.ai/prettycold/sweeps-densenet121\" target=\"_blank\">https://wandb.ai/prettycold/sweeps-densenet121</a><br/>\n",
              "                Sweep page: <a href=\"https://wandb.ai/prettycold/sweeps-densenet121/sweeps/w06m6wsq\" target=\"_blank\">https://wandb.ai/prettycold/sweeps-densenet121/sweeps/w06m6wsq</a><br/>\n",
              "Run page: <a href=\"https://wandb.ai/prettycold/sweeps-densenet121/runs/1hit42c5\" target=\"_blank\">https://wandb.ai/prettycold/sweeps-densenet121/runs/1hit42c5</a><br/>\n",
              "                Run data is saved locally in <code>/content/droughtwatch/wandb/run-20210511_114232-1hit42c5</code><br/><br/>\n",
              "            "
            ],
            "text/plain": [
              "<IPython.core.display.HTML object>"
            ]
          },
          "metadata": {
            "tags": []
          }
        },
        {
          "output_type": "stream",
          "text": [
            "num_ftrs:  1024\n",
            "Initializing Datasets and DataLoaders...\n",
            "{'train': <torch.utils.data.dataloader.DataLoader object at 0x7f16851538d0>, 'val': <torch.utils.data.dataloader.DataLoader object at 0x7f15a9e79510>}\n",
            "<class 'dict'>\n"
          ],
          "name": "stdout"
        },
        {
          "output_type": "display_data",
          "data": {
            "text/html": [
              "<br/>Waiting for W&B process to finish, PID 1392<br/>Program failed with code 1.  Press ctrl-c to abort syncing."
            ],
            "text/plain": [
              "<IPython.core.display.HTML object>"
            ]
          },
          "metadata": {
            "tags": []
          }
        },
        {
          "output_type": "display_data",
          "data": {
            "application/vnd.jupyter.widget-view+json": {
              "model_id": "dba45c34d9c247eaa775a6fe68ec471a",
              "version_minor": 0,
              "version_major": 2
            },
            "text/plain": [
              "VBox(children=(Label(value=' 0.00MB of 0.00MB uploaded (0.00MB deduped)\\r'), FloatProgress(value=1.0, max=1.0)…"
            ]
          },
          "metadata": {
            "tags": []
          }
        },
        {
          "output_type": "display_data",
          "data": {
            "text/html": [
              "Find user logs for this run at: <code>/content/droughtwatch/wandb/run-20210511_114232-1hit42c5/logs/debug.log</code>"
            ],
            "text/plain": [
              "<IPython.core.display.HTML object>"
            ]
          },
          "metadata": {
            "tags": []
          }
        },
        {
          "output_type": "display_data",
          "data": {
            "text/html": [
              "Find internal logs for this run at: <code>/content/droughtwatch/wandb/run-20210511_114232-1hit42c5/logs/debug-internal.log</code>"
            ],
            "text/plain": [
              "<IPython.core.display.HTML object>"
            ]
          },
          "metadata": {
            "tags": []
          }
        },
        {
          "output_type": "display_data",
          "data": {
            "text/html": [
              "Synced 5 W&B file(s), 0 media file(s), 0 artifact file(s) and 0 other file(s)"
            ],
            "text/plain": [
              "<IPython.core.display.HTML object>"
            ]
          },
          "metadata": {
            "tags": []
          }
        },
        {
          "output_type": "display_data",
          "data": {
            "text/html": [
              "\n",
              "                    <br/>Synced <strong style=\"color:#cdcd00\">gallant-sweep-16</strong>: <a href=\"https://wandb.ai/prettycold/sweeps-densenet121/runs/1hit42c5\" target=\"_blank\">https://wandb.ai/prettycold/sweeps-densenet121/runs/1hit42c5</a><br/>\n",
              "                "
            ],
            "text/plain": [
              "<IPython.core.display.HTML object>"
            ]
          },
          "metadata": {
            "tags": []
          }
        },
        {
          "output_type": "stream",
          "text": [
            "Run 1hit42c5 errored: RuntimeError('CUDA out of memory. Tried to allocate 2.00 MiB (GPU 0; 15.90 GiB total capacity; 14.63 GiB already allocated; 21.75 MiB free; 14.88 GiB reserved in total by PyTorch)')\n",
            "\u001b[34m\u001b[1mwandb\u001b[0m: \u001b[32m\u001b[41mERROR\u001b[0m Run 1hit42c5 errored: RuntimeError('CUDA out of memory. Tried to allocate 2.00 MiB (GPU 0; 15.90 GiB total capacity; 14.63 GiB already allocated; 21.75 MiB free; 14.88 GiB reserved in total by PyTorch)')\n",
            "\u001b[34m\u001b[1mwandb\u001b[0m: Agent Starting Run: 9rajohnp with config:\n",
            "\u001b[34m\u001b[1mwandb\u001b[0m: \tbatch_size: 41\n",
            "\u001b[34m\u001b[1mwandb\u001b[0m: \tclasses: 5\n",
            "\u001b[34m\u001b[1mwandb\u001b[0m: \tdropout: 0.3\n",
            "\u001b[34m\u001b[1mwandb\u001b[0m: \tfc_layer_size: 128\n",
            "\u001b[34m\u001b[1mwandb\u001b[0m: \tlearning_rate: 0.0004791868395196813\n",
            "\u001b[34m\u001b[1mwandb\u001b[0m: \tnum_epochs: 5\n",
            "\u001b[34m\u001b[1mwandb\u001b[0m: \toptimizer: sgd\n",
            "\u001b[34m\u001b[1mwandb\u001b[0m: \u001b[33mWARNING\u001b[0m Ignored wandb.init() arg project when running a sweep\n"
          ],
          "name": "stderr"
        },
        {
          "output_type": "display_data",
          "data": {
            "text/html": [
              "\n",
              "                Tracking run with wandb version 0.10.30<br/>\n",
              "                Syncing run <strong style=\"color:#cdcd00\">sandy-sweep-17</strong> to <a href=\"https://wandb.ai\" target=\"_blank\">Weights & Biases</a> <a href=\"https://docs.wandb.com/integrations/jupyter.html\" target=\"_blank\">(Documentation)</a>.<br/>\n",
              "                Project page: <a href=\"https://wandb.ai/prettycold/sweeps-densenet121\" target=\"_blank\">https://wandb.ai/prettycold/sweeps-densenet121</a><br/>\n",
              "                Sweep page: <a href=\"https://wandb.ai/prettycold/sweeps-densenet121/sweeps/w06m6wsq\" target=\"_blank\">https://wandb.ai/prettycold/sweeps-densenet121/sweeps/w06m6wsq</a><br/>\n",
              "Run page: <a href=\"https://wandb.ai/prettycold/sweeps-densenet121/runs/9rajohnp\" target=\"_blank\">https://wandb.ai/prettycold/sweeps-densenet121/runs/9rajohnp</a><br/>\n",
              "                Run data is saved locally in <code>/content/droughtwatch/wandb/run-20210511_114242-9rajohnp</code><br/><br/>\n",
              "            "
            ],
            "text/plain": [
              "<IPython.core.display.HTML object>"
            ]
          },
          "metadata": {
            "tags": []
          }
        },
        {
          "output_type": "stream",
          "text": [
            "num_ftrs:  1024\n",
            "Initializing Datasets and DataLoaders...\n",
            "{'train': <torch.utils.data.dataloader.DataLoader object at 0x7f15a7a4ad90>, 'val': <torch.utils.data.dataloader.DataLoader object at 0x7f15a7a4aa50>}\n",
            "<class 'dict'>\n"
          ],
          "name": "stdout"
        },
        {
          "output_type": "display_data",
          "data": {
            "text/html": [
              "<br/>Waiting for W&B process to finish, PID 1431<br/>Program failed with code 1.  Press ctrl-c to abort syncing."
            ],
            "text/plain": [
              "<IPython.core.display.HTML object>"
            ]
          },
          "metadata": {
            "tags": []
          }
        },
        {
          "output_type": "display_data",
          "data": {
            "application/vnd.jupyter.widget-view+json": {
              "model_id": "6ab384a2062e4cafb4a13aea2bfccde2",
              "version_minor": 0,
              "version_major": 2
            },
            "text/plain": [
              "VBox(children=(Label(value=' 0.00MB of 0.00MB uploaded (0.00MB deduped)\\r'), FloatProgress(value=1.0, max=1.0)…"
            ]
          },
          "metadata": {
            "tags": []
          }
        },
        {
          "output_type": "display_data",
          "data": {
            "text/html": [
              "Find user logs for this run at: <code>/content/droughtwatch/wandb/run-20210511_114242-9rajohnp/logs/debug.log</code>"
            ],
            "text/plain": [
              "<IPython.core.display.HTML object>"
            ]
          },
          "metadata": {
            "tags": []
          }
        },
        {
          "output_type": "display_data",
          "data": {
            "text/html": [
              "Find internal logs for this run at: <code>/content/droughtwatch/wandb/run-20210511_114242-9rajohnp/logs/debug-internal.log</code>"
            ],
            "text/plain": [
              "<IPython.core.display.HTML object>"
            ]
          },
          "metadata": {
            "tags": []
          }
        },
        {
          "output_type": "display_data",
          "data": {
            "text/html": [
              "Synced 5 W&B file(s), 0 media file(s), 0 artifact file(s) and 0 other file(s)"
            ],
            "text/plain": [
              "<IPython.core.display.HTML object>"
            ]
          },
          "metadata": {
            "tags": []
          }
        },
        {
          "output_type": "display_data",
          "data": {
            "text/html": [
              "\n",
              "                    <br/>Synced <strong style=\"color:#cdcd00\">sandy-sweep-17</strong>: <a href=\"https://wandb.ai/prettycold/sweeps-densenet121/runs/9rajohnp\" target=\"_blank\">https://wandb.ai/prettycold/sweeps-densenet121/runs/9rajohnp</a><br/>\n",
              "                "
            ],
            "text/plain": [
              "<IPython.core.display.HTML object>"
            ]
          },
          "metadata": {
            "tags": []
          }
        },
        {
          "output_type": "stream",
          "text": [
            "Run 9rajohnp errored: RuntimeError('CUDA out of memory. Tried to allocate 2.00 MiB (GPU 0; 15.90 GiB total capacity; 14.63 GiB already allocated; 21.75 MiB free; 14.88 GiB reserved in total by PyTorch)')\n",
            "\u001b[34m\u001b[1mwandb\u001b[0m: \u001b[32m\u001b[41mERROR\u001b[0m Run 9rajohnp errored: RuntimeError('CUDA out of memory. Tried to allocate 2.00 MiB (GPU 0; 15.90 GiB total capacity; 14.63 GiB already allocated; 21.75 MiB free; 14.88 GiB reserved in total by PyTorch)')\n",
            "\u001b[34m\u001b[1mwandb\u001b[0m: Agent Starting Run: wyv2zobq with config:\n",
            "\u001b[34m\u001b[1mwandb\u001b[0m: \tbatch_size: 61\n",
            "\u001b[34m\u001b[1mwandb\u001b[0m: \tclasses: 5\n",
            "\u001b[34m\u001b[1mwandb\u001b[0m: \tdropout: 0.3\n",
            "\u001b[34m\u001b[1mwandb\u001b[0m: \tfc_layer_size: 256\n",
            "\u001b[34m\u001b[1mwandb\u001b[0m: \tlearning_rate: 0.000403321130223168\n",
            "\u001b[34m\u001b[1mwandb\u001b[0m: \tnum_epochs: 5\n",
            "\u001b[34m\u001b[1mwandb\u001b[0m: \toptimizer: sgd\n",
            "\u001b[34m\u001b[1mwandb\u001b[0m: \u001b[33mWARNING\u001b[0m Ignored wandb.init() arg project when running a sweep\n"
          ],
          "name": "stderr"
        },
        {
          "output_type": "display_data",
          "data": {
            "text/html": [
              "\n",
              "                Tracking run with wandb version 0.10.30<br/>\n",
              "                Syncing run <strong style=\"color:#cdcd00\">revived-sweep-18</strong> to <a href=\"https://wandb.ai\" target=\"_blank\">Weights & Biases</a> <a href=\"https://docs.wandb.com/integrations/jupyter.html\" target=\"_blank\">(Documentation)</a>.<br/>\n",
              "                Project page: <a href=\"https://wandb.ai/prettycold/sweeps-densenet121\" target=\"_blank\">https://wandb.ai/prettycold/sweeps-densenet121</a><br/>\n",
              "                Sweep page: <a href=\"https://wandb.ai/prettycold/sweeps-densenet121/sweeps/w06m6wsq\" target=\"_blank\">https://wandb.ai/prettycold/sweeps-densenet121/sweeps/w06m6wsq</a><br/>\n",
              "Run page: <a href=\"https://wandb.ai/prettycold/sweeps-densenet121/runs/wyv2zobq\" target=\"_blank\">https://wandb.ai/prettycold/sweeps-densenet121/runs/wyv2zobq</a><br/>\n",
              "                Run data is saved locally in <code>/content/droughtwatch/wandb/run-20210511_114253-wyv2zobq</code><br/><br/>\n",
              "            "
            ],
            "text/plain": [
              "<IPython.core.display.HTML object>"
            ]
          },
          "metadata": {
            "tags": []
          }
        },
        {
          "output_type": "stream",
          "text": [
            "num_ftrs:  1024\n",
            "Initializing Datasets and DataLoaders...\n",
            "{'train': <torch.utils.data.dataloader.DataLoader object at 0x7f15a67f79d0>, 'val': <torch.utils.data.dataloader.DataLoader object at 0x7f15a67f7190>}\n",
            "<class 'dict'>\n"
          ],
          "name": "stdout"
        },
        {
          "output_type": "display_data",
          "data": {
            "text/html": [
              "<br/>Waiting for W&B process to finish, PID 1470<br/>Program failed with code 1.  Press ctrl-c to abort syncing."
            ],
            "text/plain": [
              "<IPython.core.display.HTML object>"
            ]
          },
          "metadata": {
            "tags": []
          }
        },
        {
          "output_type": "display_data",
          "data": {
            "application/vnd.jupyter.widget-view+json": {
              "model_id": "dc886947aed44930bef7663a1ad60933",
              "version_minor": 0,
              "version_major": 2
            },
            "text/plain": [
              "VBox(children=(Label(value=' 0.00MB of 0.00MB uploaded (0.00MB deduped)\\r'), FloatProgress(value=1.0, max=1.0)…"
            ]
          },
          "metadata": {
            "tags": []
          }
        },
        {
          "output_type": "display_data",
          "data": {
            "text/html": [
              "Find user logs for this run at: <code>/content/droughtwatch/wandb/run-20210511_114253-wyv2zobq/logs/debug.log</code>"
            ],
            "text/plain": [
              "<IPython.core.display.HTML object>"
            ]
          },
          "metadata": {
            "tags": []
          }
        },
        {
          "output_type": "display_data",
          "data": {
            "text/html": [
              "Find internal logs for this run at: <code>/content/droughtwatch/wandb/run-20210511_114253-wyv2zobq/logs/debug-internal.log</code>"
            ],
            "text/plain": [
              "<IPython.core.display.HTML object>"
            ]
          },
          "metadata": {
            "tags": []
          }
        },
        {
          "output_type": "display_data",
          "data": {
            "text/html": [
              "Synced 5 W&B file(s), 0 media file(s), 0 artifact file(s) and 0 other file(s)"
            ],
            "text/plain": [
              "<IPython.core.display.HTML object>"
            ]
          },
          "metadata": {
            "tags": []
          }
        },
        {
          "output_type": "display_data",
          "data": {
            "text/html": [
              "\n",
              "                    <br/>Synced <strong style=\"color:#cdcd00\">revived-sweep-18</strong>: <a href=\"https://wandb.ai/prettycold/sweeps-densenet121/runs/wyv2zobq\" target=\"_blank\">https://wandb.ai/prettycold/sweeps-densenet121/runs/wyv2zobq</a><br/>\n",
              "                "
            ],
            "text/plain": [
              "<IPython.core.display.HTML object>"
            ]
          },
          "metadata": {
            "tags": []
          }
        },
        {
          "output_type": "stream",
          "text": [
            "Run wyv2zobq errored: RuntimeError('CUDA out of memory. Tried to allocate 2.00 MiB (GPU 0; 15.90 GiB total capacity; 14.63 GiB already allocated; 21.75 MiB free; 14.88 GiB reserved in total by PyTorch)')\n",
            "\u001b[34m\u001b[1mwandb\u001b[0m: \u001b[32m\u001b[41mERROR\u001b[0m Run wyv2zobq errored: RuntimeError('CUDA out of memory. Tried to allocate 2.00 MiB (GPU 0; 15.90 GiB total capacity; 14.63 GiB already allocated; 21.75 MiB free; 14.88 GiB reserved in total by PyTorch)')\n",
            "\u001b[34m\u001b[1mwandb\u001b[0m: Agent Starting Run: q6nq0dox with config:\n",
            "\u001b[34m\u001b[1mwandb\u001b[0m: \tbatch_size: 60\n",
            "\u001b[34m\u001b[1mwandb\u001b[0m: \tclasses: 5\n",
            "\u001b[34m\u001b[1mwandb\u001b[0m: \tdropout: 0.4\n",
            "\u001b[34m\u001b[1mwandb\u001b[0m: \tfc_layer_size: 256\n",
            "\u001b[34m\u001b[1mwandb\u001b[0m: \tlearning_rate: 0.00037710706007120756\n",
            "\u001b[34m\u001b[1mwandb\u001b[0m: \tnum_epochs: 5\n",
            "\u001b[34m\u001b[1mwandb\u001b[0m: \toptimizer: adam\n",
            "\u001b[34m\u001b[1mwandb\u001b[0m: \u001b[33mWARNING\u001b[0m Ignored wandb.init() arg project when running a sweep\n"
          ],
          "name": "stderr"
        },
        {
          "output_type": "display_data",
          "data": {
            "text/html": [
              "\n",
              "                Tracking run with wandb version 0.10.30<br/>\n",
              "                Syncing run <strong style=\"color:#cdcd00\">pious-sweep-19</strong> to <a href=\"https://wandb.ai\" target=\"_blank\">Weights & Biases</a> <a href=\"https://docs.wandb.com/integrations/jupyter.html\" target=\"_blank\">(Documentation)</a>.<br/>\n",
              "                Project page: <a href=\"https://wandb.ai/prettycold/sweeps-densenet121\" target=\"_blank\">https://wandb.ai/prettycold/sweeps-densenet121</a><br/>\n",
              "                Sweep page: <a href=\"https://wandb.ai/prettycold/sweeps-densenet121/sweeps/w06m6wsq\" target=\"_blank\">https://wandb.ai/prettycold/sweeps-densenet121/sweeps/w06m6wsq</a><br/>\n",
              "Run page: <a href=\"https://wandb.ai/prettycold/sweeps-densenet121/runs/q6nq0dox\" target=\"_blank\">https://wandb.ai/prettycold/sweeps-densenet121/runs/q6nq0dox</a><br/>\n",
              "                Run data is saved locally in <code>/content/droughtwatch/wandb/run-20210511_114303-q6nq0dox</code><br/><br/>\n",
              "            "
            ],
            "text/plain": [
              "<IPython.core.display.HTML object>"
            ]
          },
          "metadata": {
            "tags": []
          }
        },
        {
          "output_type": "stream",
          "text": [
            "num_ftrs:  1024\n",
            "Initializing Datasets and DataLoaders...\n",
            "{'train': <torch.utils.data.dataloader.DataLoader object at 0x7f158d5b9ed0>, 'val': <torch.utils.data.dataloader.DataLoader object at 0x7f158d5b9b50>}\n",
            "<class 'dict'>\n"
          ],
          "name": "stdout"
        },
        {
          "output_type": "display_data",
          "data": {
            "text/html": [
              "<br/>Waiting for W&B process to finish, PID 1509<br/>Program failed with code 1.  Press ctrl-c to abort syncing."
            ],
            "text/plain": [
              "<IPython.core.display.HTML object>"
            ]
          },
          "metadata": {
            "tags": []
          }
        },
        {
          "output_type": "display_data",
          "data": {
            "application/vnd.jupyter.widget-view+json": {
              "model_id": "1ad67cf80f3c43a98cb8c3b15101dba4",
              "version_minor": 0,
              "version_major": 2
            },
            "text/plain": [
              "VBox(children=(Label(value=' 0.00MB of 0.00MB uploaded (0.00MB deduped)\\r'), FloatProgress(value=1.0, max=1.0)…"
            ]
          },
          "metadata": {
            "tags": []
          }
        },
        {
          "output_type": "display_data",
          "data": {
            "text/html": [
              "Find user logs for this run at: <code>/content/droughtwatch/wandb/run-20210511_114303-q6nq0dox/logs/debug.log</code>"
            ],
            "text/plain": [
              "<IPython.core.display.HTML object>"
            ]
          },
          "metadata": {
            "tags": []
          }
        },
        {
          "output_type": "display_data",
          "data": {
            "text/html": [
              "Find internal logs for this run at: <code>/content/droughtwatch/wandb/run-20210511_114303-q6nq0dox/logs/debug-internal.log</code>"
            ],
            "text/plain": [
              "<IPython.core.display.HTML object>"
            ]
          },
          "metadata": {
            "tags": []
          }
        },
        {
          "output_type": "display_data",
          "data": {
            "text/html": [
              "Synced 5 W&B file(s), 0 media file(s), 0 artifact file(s) and 0 other file(s)"
            ],
            "text/plain": [
              "<IPython.core.display.HTML object>"
            ]
          },
          "metadata": {
            "tags": []
          }
        },
        {
          "output_type": "display_data",
          "data": {
            "text/html": [
              "\n",
              "                    <br/>Synced <strong style=\"color:#cdcd00\">pious-sweep-19</strong>: <a href=\"https://wandb.ai/prettycold/sweeps-densenet121/runs/q6nq0dox\" target=\"_blank\">https://wandb.ai/prettycold/sweeps-densenet121/runs/q6nq0dox</a><br/>\n",
              "                "
            ],
            "text/plain": [
              "<IPython.core.display.HTML object>"
            ]
          },
          "metadata": {
            "tags": []
          }
        },
        {
          "output_type": "stream",
          "text": [
            "Run q6nq0dox errored: RuntimeError('CUDA out of memory. Tried to allocate 2.00 MiB (GPU 0; 15.90 GiB total capacity; 14.63 GiB already allocated; 21.75 MiB free; 14.88 GiB reserved in total by PyTorch)')\n",
            "\u001b[34m\u001b[1mwandb\u001b[0m: \u001b[32m\u001b[41mERROR\u001b[0m Run q6nq0dox errored: RuntimeError('CUDA out of memory. Tried to allocate 2.00 MiB (GPU 0; 15.90 GiB total capacity; 14.63 GiB already allocated; 21.75 MiB free; 14.88 GiB reserved in total by PyTorch)')\n",
            "\u001b[34m\u001b[1mwandb\u001b[0m: Agent Starting Run: vrcccq3j with config:\n",
            "\u001b[34m\u001b[1mwandb\u001b[0m: \tbatch_size: 60\n",
            "\u001b[34m\u001b[1mwandb\u001b[0m: \tclasses: 5\n",
            "\u001b[34m\u001b[1mwandb\u001b[0m: \tdropout: 0.5\n",
            "\u001b[34m\u001b[1mwandb\u001b[0m: \tfc_layer_size: 256\n",
            "\u001b[34m\u001b[1mwandb\u001b[0m: \tlearning_rate: 0.0004047564174373442\n",
            "\u001b[34m\u001b[1mwandb\u001b[0m: \tnum_epochs: 5\n",
            "\u001b[34m\u001b[1mwandb\u001b[0m: \toptimizer: adam\n",
            "\u001b[34m\u001b[1mwandb\u001b[0m: \u001b[33mWARNING\u001b[0m Ignored wandb.init() arg project when running a sweep\n"
          ],
          "name": "stderr"
        },
        {
          "output_type": "display_data",
          "data": {
            "text/html": [
              "\n",
              "                Tracking run with wandb version 0.10.30<br/>\n",
              "                Syncing run <strong style=\"color:#cdcd00\">daily-sweep-20</strong> to <a href=\"https://wandb.ai\" target=\"_blank\">Weights & Biases</a> <a href=\"https://docs.wandb.com/integrations/jupyter.html\" target=\"_blank\">(Documentation)</a>.<br/>\n",
              "                Project page: <a href=\"https://wandb.ai/prettycold/sweeps-densenet121\" target=\"_blank\">https://wandb.ai/prettycold/sweeps-densenet121</a><br/>\n",
              "                Sweep page: <a href=\"https://wandb.ai/prettycold/sweeps-densenet121/sweeps/w06m6wsq\" target=\"_blank\">https://wandb.ai/prettycold/sweeps-densenet121/sweeps/w06m6wsq</a><br/>\n",
              "Run page: <a href=\"https://wandb.ai/prettycold/sweeps-densenet121/runs/vrcccq3j\" target=\"_blank\">https://wandb.ai/prettycold/sweeps-densenet121/runs/vrcccq3j</a><br/>\n",
              "                Run data is saved locally in <code>/content/droughtwatch/wandb/run-20210511_114314-vrcccq3j</code><br/><br/>\n",
              "            "
            ],
            "text/plain": [
              "<IPython.core.display.HTML object>"
            ]
          },
          "metadata": {
            "tags": []
          }
        },
        {
          "output_type": "stream",
          "text": [
            "num_ftrs:  1024\n",
            "Initializing Datasets and DataLoaders...\n",
            "{'train': <torch.utils.data.dataloader.DataLoader object at 0x7f152de9af10>, 'val': <torch.utils.data.dataloader.DataLoader object at 0x7f158d527f90>}\n",
            "<class 'dict'>\n"
          ],
          "name": "stdout"
        },
        {
          "output_type": "display_data",
          "data": {
            "text/html": [
              "<br/>Waiting for W&B process to finish, PID 1548<br/>Program failed with code 1.  Press ctrl-c to abort syncing."
            ],
            "text/plain": [
              "<IPython.core.display.HTML object>"
            ]
          },
          "metadata": {
            "tags": []
          }
        },
        {
          "output_type": "display_data",
          "data": {
            "application/vnd.jupyter.widget-view+json": {
              "model_id": "0b4cc989215c4973895c406542263bc1",
              "version_minor": 0,
              "version_major": 2
            },
            "text/plain": [
              "VBox(children=(Label(value=' 0.00MB of 0.00MB uploaded (0.00MB deduped)\\r'), FloatProgress(value=1.0, max=1.0)…"
            ]
          },
          "metadata": {
            "tags": []
          }
        },
        {
          "output_type": "display_data",
          "data": {
            "text/html": [
              "Find user logs for this run at: <code>/content/droughtwatch/wandb/run-20210511_114314-vrcccq3j/logs/debug.log</code>"
            ],
            "text/plain": [
              "<IPython.core.display.HTML object>"
            ]
          },
          "metadata": {
            "tags": []
          }
        },
        {
          "output_type": "display_data",
          "data": {
            "text/html": [
              "Find internal logs for this run at: <code>/content/droughtwatch/wandb/run-20210511_114314-vrcccq3j/logs/debug-internal.log</code>"
            ],
            "text/plain": [
              "<IPython.core.display.HTML object>"
            ]
          },
          "metadata": {
            "tags": []
          }
        },
        {
          "output_type": "display_data",
          "data": {
            "text/html": [
              "Synced 5 W&B file(s), 0 media file(s), 0 artifact file(s) and 0 other file(s)"
            ],
            "text/plain": [
              "<IPython.core.display.HTML object>"
            ]
          },
          "metadata": {
            "tags": []
          }
        },
        {
          "output_type": "display_data",
          "data": {
            "text/html": [
              "\n",
              "                    <br/>Synced <strong style=\"color:#cdcd00\">daily-sweep-20</strong>: <a href=\"https://wandb.ai/prettycold/sweeps-densenet121/runs/vrcccq3j\" target=\"_blank\">https://wandb.ai/prettycold/sweeps-densenet121/runs/vrcccq3j</a><br/>\n",
              "                "
            ],
            "text/plain": [
              "<IPython.core.display.HTML object>"
            ]
          },
          "metadata": {
            "tags": []
          }
        },
        {
          "output_type": "stream",
          "text": [
            "Run vrcccq3j errored: RuntimeError('CUDA out of memory. Tried to allocate 2.00 MiB (GPU 0; 15.90 GiB total capacity; 14.63 GiB already allocated; 21.75 MiB free; 14.88 GiB reserved in total by PyTorch)')\n",
            "\u001b[34m\u001b[1mwandb\u001b[0m: \u001b[32m\u001b[41mERROR\u001b[0m Run vrcccq3j errored: RuntimeError('CUDA out of memory. Tried to allocate 2.00 MiB (GPU 0; 15.90 GiB total capacity; 14.63 GiB already allocated; 21.75 MiB free; 14.88 GiB reserved in total by PyTorch)')\n"
          ],
          "name": "stderr"
        }
      ]
    }
  ]
}